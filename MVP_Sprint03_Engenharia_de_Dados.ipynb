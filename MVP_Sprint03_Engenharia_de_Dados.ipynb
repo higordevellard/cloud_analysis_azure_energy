{
 "cells": [
  {
   "cell_type": "markdown",
   "metadata": {
    "application/vnd.databricks.v1+cell": {
     "cellMetadata": {
      "byteLimit": 2048000,
      "rowLimit": 10000
     },
     "inputWidgets": {},
     "nuid": "1abba6b6-a679-426b-be0c-751579442844",
     "showTitle": false,
     "title": ""
    }
   },
   "source": [
    "# MVP - Sprint 03\n",
    "# Engenharia de Dados - Pipeline de Dados em Nuvem\n",
    "# Higor Morais Devellard\n"
   ]
  },
  {
   "cell_type": "markdown",
   "metadata": {
    "application/vnd.databricks.v1+cell": {
     "cellMetadata": {},
     "inputWidgets": {},
     "nuid": "eee101d1-1d57-4fdc-9d31-ff836ded7f05",
     "showTitle": false,
     "title": ""
    }
   },
   "source": [
    "##Índice"
   ]
  },
  {
   "cell_type": "markdown",
   "metadata": {
    "application/vnd.databricks.v1+cell": {
     "cellMetadata": {},
     "inputWidgets": {},
     "nuid": "16187061-7519-46e0-9db5-5f0aa2ae437e",
     "showTitle": false,
     "title": ""
    }
   },
   "source": [
    "![imagem](/files/tables/indice.jpg)"
   ]
  },
  {
   "cell_type": "markdown",
   "metadata": {
    "application/vnd.databricks.v1+cell": {
     "cellMetadata": {
      "byteLimit": 2048000,
      "rowLimit": 10000
     },
     "inputWidgets": {},
     "nuid": "5b29e994-becd-4778-b1ea-46054e23b6e2",
     "showTitle": false,
     "title": ""
    }
   },
   "source": [
    "## 1.Objetivo"
   ]
  },
  {
   "cell_type": "markdown",
   "metadata": {
    "application/vnd.databricks.v1+cell": {
     "cellMetadata": {
      "byteLimit": 2048000,
      "rowLimit": 10000
     },
     "inputWidgets": {},
     "nuid": "7439f78e-caf9-48de-a2e0-d2ea83798d52",
     "showTitle": false,
     "title": ""
    }
   },
   "source": [
    "Nesse trabalho será criado um pipeline de dados utilizando a plataforma de computação em nuvem da Microsoft Azure, utilizado dados abertos do ONS(Operador Nacional do Sistema Elétrico) para realizar a busca, coleta, modelagem, carga e análise de dados.\n",
    "\n",
    "O objetivo deste trabalho é utilizar os dados extraídos do portal do ONS e gerar visualizações que descrevam o comportamento de usinas hidrelétricas do Brasil. Os desafios propostos serão descritos no item 7.0 deste trabalho.\n",
    "\n",
    "Serão analisados atributos como geração de energia por usina hidrelétrica ou por subsistema de geração, altura do nível de água e volume de reservatórios, além de analisar a capacidade instalada de geração de energia."
   ]
  },
  {
   "cell_type": "markdown",
   "metadata": {
    "application/vnd.databricks.v1+cell": {
     "cellMetadata": {
      "byteLimit": 2048000,
      "rowLimit": 10000
     },
     "inputWidgets": {},
     "nuid": "655a9ff5-21b4-4809-922e-33e26122808f",
     "showTitle": false,
     "title": ""
    }
   },
   "source": [
    "## 2.Busca e Coleta de Dados"
   ]
  },
  {
   "cell_type": "markdown",
   "metadata": {
    "application/vnd.databricks.v1+cell": {
     "cellMetadata": {
      "byteLimit": 2048000,
      "rowLimit": 10000
     },
     "inputWidgets": {},
     "nuid": "678dce49-0841-4529-8950-c7649af86364",
     "showTitle": false,
     "title": ""
    }
   },
   "source": [
    "Foi utilizado o acervo de dados abertos do ONS para responder perguntas pertinentes sobre a geração de energia das usinas hidrelétricas que estão em operação no Brasil.\n",
    "\n",
    "Os dados estão disponíveis no site do ONS no seguinte endereço: https://www.ons.org.br/paginas/resultados-da-operacao/historico-da-operacao/dados-gerais\n",
    "\n",
    "\n",
    "**Dados de Geração de Energia**\n",
    "https://www.ons.org.br/Paginas/resultados-da-operacao/historico-da-operacao/geracao_energia.aspx\n",
    "\n",
    "**Dados de Capacidade Instalada de Geração**\n",
    "https://www.ons.org.br/Paginas/resultados-da-operacao/historico-da-operacao/capacidade_instalada.aspx\n",
    "\n",
    "**Dados Sobre o Nível de Àgua nos Reservatórios das Usinas Hidrelétricas**\n",
    "https://www.ons.org.br/Paginas/resultados-da-operacao/historico-da-operacao/dados_hidrologicos_niveis.aspx\n",
    "\n",
    "**Dados Sobre o Volume do Reservatório nas Usinas**\n",
    "https://www.ons.org.br/Paginas/resultados-da-operacao/historico-da-operacao/dados_hidrologicos_volumes.aspx\n",
    "\n",
    "\n"
   ]
  },
  {
   "cell_type": "markdown",
   "metadata": {
    "application/vnd.databricks.v1+cell": {
     "cellMetadata": {
      "byteLimit": 2048000,
      "rowLimit": 10000
     },
     "inputWidgets": {},
     "nuid": "e546eebd-e914-40af-9405-736e2e2c8741",
     "showTitle": false,
     "title": ""
    }
   },
   "source": [
    "## 3.Modelagem dos Dados"
   ]
  },
  {
   "cell_type": "markdown",
   "metadata": {
    "application/vnd.databricks.v1+cell": {
     "cellMetadata": {
      "byteLimit": 2048000,
      "rowLimit": 10000
     },
     "inputWidgets": {},
     "nuid": "c7c1a264-8816-48c0-bb16-d74a91b28e38",
     "showTitle": false,
     "title": ""
    }
   },
   "source": [
    "\n",
    "Com o intuito de fazer uma análise mais aprofundada dos dados coletados, foi selecionado os dados mais relevantes. Uma vez selecionada as tabelas, foi definido a tabela \"Fato\" e as tabelas \"Dimensões\" considerando as principais métricas.\n",
    "\n",
    "A figura abaixo exemplifica como ficou dividido as tabelas no **esquema estrela**:"
   ]
  },
  {
   "cell_type": "markdown",
   "metadata": {
    "application/vnd.databricks.v1+cell": {
     "cellMetadata": {},
     "inputWidgets": {},
     "nuid": "691cd403-8d30-4b64-a702-624db7fbecb9",
     "showTitle": false,
     "title": ""
    }
   },
   "source": [
    "![imagem](/files/tables/Fato_e_dimensoes.jpeg)"
   ]
  },
  {
   "cell_type": "markdown",
   "metadata": {
    "application/vnd.databricks.v1+cell": {
     "cellMetadata": {
      "byteLimit": 2048000,
      "rowLimit": 10000
     },
     "inputWidgets": {},
     "nuid": "47393faf-3237-4af4-bef0-1558b15ed4c3",
     "showTitle": false,
     "title": ""
    }
   },
   "source": [
    "## 4.Catalogo de Dados"
   ]
  },
  {
   "cell_type": "markdown",
   "metadata": {
    "application/vnd.databricks.v1+cell": {
     "cellMetadata": {
      "byteLimit": 2048000,
      "rowLimit": 10000
     },
     "inputWidgets": {},
     "nuid": "05ab3db0-83c5-497e-ae8c-914256f9e9b5",
     "showTitle": false,
     "title": ""
    }
   },
   "source": [
    "\n",
    "Para catagolar os dados presentes nos datasets que são necessários para responder às perguntas que serão feitas nesse projeto, inicialmente seria feito pela própria ferramenta de catalogo do databricks, conforme **imagem abaixo**, porém, devido a um problema de falta de autorização para realizar os comentários, foi optado por descrever manualmente utilizando o Markdown deste notebook.\n",
    "\n"
   ]
  },
  {
   "cell_type": "markdown",
   "metadata": {
    "application/vnd.databricks.v1+cell": {
     "cellMetadata": {},
     "inputWidgets": {},
     "nuid": "23bc6b55-6fab-42c6-922f-e83e30cb158a",
     "showTitle": false,
     "title": ""
    }
   },
   "source": [
    "![imagem](/files/tables/catalogos.jpeg)"
   ]
  },
  {
   "cell_type": "markdown",
   "metadata": {
    "application/vnd.databricks.v1+cell": {
     "cellMetadata": {},
     "inputWidgets": {},
     "nuid": "b3239d33-8166-4786-9278-8f6f7cab16f6",
     "showTitle": false,
     "title": ""
    }
   },
   "source": [
    "Descrição dos atributos presentes nos datasets utilizados:\n",
    "\n",
    "**Nom_Usina:** Retorna o nome da usina hidrelétrica.\n",
    "\n",
    "**Tipo_Reservatorio:** Retorna o tipo de reservatório podendo ser do tipo \"Fio d'agua\" ou \"Reservatório com usina\"\n",
    "\n",
    "**Codigo_Aneel:** Retorna o código de identificação da usina usado pela Agência Nacional de Energia Elétrica (ANEEL)\n",
    "\n",
    "**id_subsistema:** Retorna o id de identificação do subsistema podendo ser \"S\", \"SE\", \"N\", 'NE\"\n",
    "\n",
    "**Subsistema:** Retorna o subsistema que a usina hidrelétrica pertence, podendo ser do subsistema \"Sul\",\"Sudeste/Centro-Oeste\", \"Norte\" e \"Nordeste\".\n",
    "\n",
    "**Nom_Bacia:** Retorna o nome da bacia hidrográfica no qual o reservatório da usina hidrelétrica está localizada.\n",
    "\n",
    "**inicio_operacao:** Retorna a data em que a usina hidrelétrica iniciou as suas operações.\n",
    "\n",
    "**val_volmax(m3):** Retorna o volume máximo do reservatório em metros cúbicos.\n",
    "\n",
    "**val_volmin(m3):** Retorna o volume mínimo do reservatório em metros cúbicos.\n",
    "\n",
    "**val_latitude:** Retorna a latitude em que está localizada a usina.\n",
    "\n",
    "**val_longitude:** Retorna a longitude em que está localizada a usina.\n",
    "\n",
    "**Data:** Retorna a data em que foi registrado determinada informação, a data é registada mensalmente no formato \"dd/mm/yyyy\".\n",
    "\n",
    "**Capacidade_instalada(MW):** Retorna a capacidade instalada da usina hidrelétrica, a capacidade instalada informa o quanto a usina pode gerar em MW.\n",
    "\n",
    "**Vazão_Afluente(m³/s):** Retorna a vazão afluente do reservatório em m³/s. A vazão afliente é fluxo de água que entra em uma determinada área ou ponto em um corpo d'água, como um rio, lago ou reservatório. Essa água que entra é geralmente composta pela combinação de diferentes fontes de contribuição, é um atributo importante para se determinar o quanto de água irá entrar entrar na usina hidrelétrica.\n",
    "\n",
    "**Geração_De_Energia(Mwmedio):** Retorna o valor gerado de energia em MWmedio de cada usina ou subsistema.\n",
    "\n",
    "**Val_Volume_Útil(%):** Retorna o volume útil do reservatório podendo assumir valores negativos, que indicam que o reservatório está abaixo do que pode ser usado para gerar energia ou acima de 100%, o que indica que o excedente deverá ser usado liberado pela usina.\n",
    "\n",
    "**Val_Nivel_montante(m):** Retona o nível montante de água no reservatório, o valor será retornado em metros.\n"
   ]
  },
  {
   "cell_type": "markdown",
   "metadata": {
    "application/vnd.databricks.v1+cell": {
     "cellMetadata": {
      "byteLimit": 2048000,
      "rowLimit": 10000
     },
     "inputWidgets": {},
     "nuid": "6acd672f-c99c-4044-85f6-e58e2bbe72a5",
     "showTitle": false,
     "title": ""
    }
   },
   "source": [
    "## 6.Processamento de Dados"
   ]
  },
  {
   "cell_type": "markdown",
   "metadata": {
    "application/vnd.databricks.v1+cell": {
     "cellMetadata": {},
     "inputWidgets": {},
     "nuid": "f6a3f58f-2d3b-476b-b6aa-bf978816da77",
     "showTitle": false,
     "title": ""
    }
   },
   "source": [
    "### 6.1.Azure Blob Storage"
   ]
  },
  {
   "cell_type": "markdown",
   "metadata": {
    "application/vnd.databricks.v1+cell": {
     "cellMetadata": {
      "byteLimit": 2048000,
      "rowLimit": 10000
     },
     "inputWidgets": {},
     "nuid": "98351b51-f7ae-4654-80be-1385f9b4b72d",
     "showTitle": false,
     "title": ""
    }
   },
   "source": [
    "Nesta etapa do projeto que se segue após a catalogação onde foi explicado cada atributo presente nos datasets, seguiremos para o processamento de dados.\n",
    "Será apresentado as transformações que foram necessárias em cada tabela obtida. Para realizar as transformações foi utilizado a plataforma do Microsoft Azure. Onde inicialmente os dados foram carregados no \"Blob Storage\", conforme imagem abaixo do container criado:\n"
   ]
  },
  {
   "cell_type": "markdown",
   "metadata": {
    "application/vnd.databricks.v1+cell": {
     "cellMetadata": {},
     "inputWidgets": {},
     "nuid": "340d9998-d66c-43e4-a704-58a634958b9b",
     "showTitle": false,
     "title": ""
    }
   },
   "source": [
    "![imagem](/files/tables/blob_storage.jpg)"
   ]
  },
  {
   "cell_type": "markdown",
   "metadata": {
    "application/vnd.databricks.v1+cell": {
     "cellMetadata": {},
     "inputWidgets": {},
     "nuid": "7ad7dabf-90be-454b-9be9-2840c736a56e",
     "showTitle": false,
     "title": ""
    }
   },
   "source": [
    "### 6.2.Azure Data Factory"
   ]
  },
  {
   "cell_type": "markdown",
   "metadata": {
    "application/vnd.databricks.v1+cell": {
     "cellMetadata": {},
     "inputWidgets": {},
     "nuid": "74a4378e-1c74-49d6-b2ec-dcd8a42e4277",
     "showTitle": false,
     "title": ""
    }
   },
   "source": [
    "Em seguida foi utilizado o \"Azure Data Factory\" para realizar as transformações dos dados junto com o \"Azure SQL Database\" para a criação das tabelas do Data Warehouse e realizar as análises que serão feitas no final deste trabalho.\n",
    "Cada tabela teve os seus dados tratados para que pudessem ser usados na próxima etapa de análise, um exemplo abaixo ilustra como foi feita  essa tratativa:"
   ]
  },
  {
   "cell_type": "markdown",
   "metadata": {
    "application/vnd.databricks.v1+cell": {
     "cellMetadata": {},
     "inputWidgets": {},
     "nuid": "d0a6e700-7cb8-4c7e-b662-3735dda3a527",
     "showTitle": false,
     "title": ""
    }
   },
   "source": [
    "![imagem](/files/tables/azure.jpeg)"
   ]
  },
  {
   "cell_type": "markdown",
   "metadata": {
    "application/vnd.databricks.v1+cell": {
     "cellMetadata": {},
     "inputWidgets": {},
     "nuid": "785b73dd-26ab-40cd-a30c-3313bfe4c678",
     "showTitle": false,
     "title": ""
    }
   },
   "source": [
    "Os dados armazenados foram inseridos no Azure Data Factory, conforme imagem abaixo:"
   ]
  },
  {
   "cell_type": "markdown",
   "metadata": {
    "application/vnd.databricks.v1+cell": {
     "cellMetadata": {},
     "inputWidgets": {},
     "nuid": "42a1d6f1-307e-457a-84d4-0510928e5136",
     "showTitle": false,
     "title": ""
    }
   },
   "source": [
    "![imagem](/files/tables/dados_data_factory.jpg)"
   ]
  },
  {
   "cell_type": "markdown",
   "metadata": {
    "application/vnd.databricks.v1+cell": {
     "cellMetadata": {},
     "inputWidgets": {},
     "nuid": "a527aaf1-2e4c-4225-ad65-c8e3ee7c7b9a",
     "showTitle": false,
     "title": ""
    }
   },
   "source": [
    "Após os dados armazenados no Azure Data Factory, foi criado o fluxo de dados conforme a imagem abaixo, no exemplo ilustrado foi usado duas tabelas inicialmente, a que representa as caracteristicas das usinas, dataset \"Usinas\" e a de geração de energia \"Source1\", nessas duas tabelas foi definido inicialmente a projeção de cada atributo, classificando como \"String\", \"date\", \"integer\" ou \"float\", para facilitar as visualizações que serão feitas mais à frente. \n",
    "\n",
    "Em seguida foi selecionado os atributos necessários para visualização \"select1\" e \"select2\". Logo após, foi realizado um join que iria juntar as duas tabela em uma só tendo como coluna comum, o atributo \"Nom_usina\" e em seguida foi exportado os dados para o \"AzureSqlTable1\" "
   ]
  },
  {
   "cell_type": "markdown",
   "metadata": {
    "application/vnd.databricks.v1+cell": {
     "cellMetadata": {},
     "inputWidgets": {},
     "nuid": "3c7f88f7-18c5-4b42-a420-ce1fef5dfa3a",
     "showTitle": false,
     "title": ""
    }
   },
   "source": [
    "![imagem](/files/tables/exemplo_dataflow.jpg)"
   ]
  },
  {
   "cell_type": "markdown",
   "metadata": {
    "application/vnd.databricks.v1+cell": {
     "cellMetadata": {},
     "inputWidgets": {},
     "nuid": "82e3386a-82ed-4e1f-964f-24f4c4834e6f",
     "showTitle": false,
     "title": ""
    }
   },
   "source": [
    "Por último, foi criado os pipelines que irão fazer a orquestração de dados na plataforme do Azure. Os pipelines irão criar, agendar e orquestrar os fluxos de trabalho de processamento de dados, transformar os dados e armazenar em um destino, que no caso será o próprio container do Blob storage. O exemplo abaixo ilustra a criação de um dos pipelines usados que irão gerar uma tabela.dbo, ou seja, uma tabela de banco de dados que pertence ao esquema padrão dbo."
   ]
  },
  {
   "cell_type": "markdown",
   "metadata": {
    "application/vnd.databricks.v1+cell": {
     "cellMetadata": {},
     "inputWidgets": {},
     "nuid": "99064b1a-4976-43e6-a571-79dc4e29ba9e",
     "showTitle": false,
     "title": ""
    }
   },
   "source": [
    "![imagem](/files/tables/pipeline.jpg)"
   ]
  },
  {
   "cell_type": "markdown",
   "metadata": {
    "application/vnd.databricks.v1+cell": {
     "cellMetadata": {},
     "inputWidgets": {},
     "nuid": "2f253bd7-ded2-4370-9569-21e1ac95f609",
     "showTitle": false,
     "title": ""
    }
   },
   "source": [
    "### 6.3.Data Bricks"
   ]
  },
  {
   "cell_type": "markdown",
   "metadata": {
    "application/vnd.databricks.v1+cell": {
     "cellMetadata": {},
     "inputWidgets": {},
     "nuid": "4884a6ac-c6a6-49a6-981b-6663af9479d6",
     "showTitle": false,
     "title": ""
    }
   },
   "source": [
    "Para a última etapa deste projeto, será usado o Data Bricks, que é uma plataforma de análise de dados e processamento big data também baseada em nuvem que permite um ambiente integrado para análise de dados. O Databricks é construído em cima do Apache Spark, um framework de processamento de dados em memória e distribuído. Isso torna o Databricks ideal para tarefas como ETL (Extração, Transformação e Carga), análise de dados, processamento em lote e em tempo real, machine learning e muito mais. A imagem abaixo ilustra  como foi desenvolvido esse projeto em um notebook criado dentro do databricks para a análise de dados:"
   ]
  },
  {
   "cell_type": "markdown",
   "metadata": {
    "application/vnd.databricks.v1+cell": {
     "cellMetadata": {},
     "inputWidgets": {},
     "nuid": "6e3154e5-bd20-4f76-8d25-4ff43b6350e6",
     "showTitle": false,
     "title": ""
    }
   },
   "source": [
    "![imagem](/files/tables/databricks.jpg)"
   ]
  },
  {
   "cell_type": "markdown",
   "metadata": {
    "application/vnd.databricks.v1+cell": {
     "cellMetadata": {
      "byteLimit": 2048000,
      "rowLimit": 10000
     },
     "inputWidgets": {},
     "nuid": "c1bad8f3-b2f4-4584-b137-be36a5a9878f",
     "showTitle": false,
     "title": ""
    }
   },
   "source": [
    "## 7.Solução de Problemas"
   ]
  },
  {
   "cell_type": "markdown",
   "metadata": {
    "application/vnd.databricks.v1+cell": {
     "cellMetadata": {
      "byteLimit": 2048000,
      "rowLimit": 10000
     },
     "inputWidgets": {},
     "nuid": "d79c1188-e295-4298-b4d3-49048cff8cb6",
     "showTitle": false,
     "title": ""
    }
   },
   "source": [
    "### 7.1.Perguntas"
   ]
  },
  {
   "cell_type": "markdown",
   "metadata": {
    "application/vnd.databricks.v1+cell": {
     "cellMetadata": {
      "byteLimit": 2048000,
      "rowLimit": 10000
     },
     "inputWidgets": {},
     "nuid": "2e8e6f13-0cea-48c3-ae27-80da26a17057",
     "showTitle": false,
     "title": ""
    }
   },
   "source": [
    "**Pergunta 01** - Quais Usinas hidreletricas já estavam em operação no Brasil antes de 1980 e pertencem ao subistema Sul e informe qual bacia hidrográfica que fornece água para a usina?\n",
    "\n",
    "**Pergunta 02** - Utilize algum componente gráfico para descrever o comportamento geração de energia por subsistema ao longo dos anos e comente.\n",
    "\n",
    "**Pergunta 03** - Como está relacionada a capacidade instalada com a geração de energia em MW para o subsistema Sudeste/Centro-Oeste?\n",
    "\n",
    "**Pergunta 04** - Considerando a Usina de \"Ilha Solteira\" e a Usina \"Água Vermelha\", Construa um gráfico que correlacione as duas usinas quanto ao volume útil do reservatório e a vazão afluente dos reservatórios.\n",
    "\n",
    "**Pergunta 05** - Considerando a usina de Tucurui mostre como se relaciona os dados de volume útil do reservatório e a altura do nível de água do reservatório. Mostre a densidade dos registros."
   ]
  },
  {
   "cell_type": "markdown",
   "metadata": {
    "application/vnd.databricks.v1+cell": {
     "cellMetadata": {
      "byteLimit": 2048000,
      "rowLimit": 10000
     },
     "inputWidgets": {},
     "nuid": "7d691f7a-ed72-44fd-ac06-b6738740c961",
     "showTitle": false,
     "title": ""
    }
   },
   "source": [
    "### 7.2.Soluções"
   ]
  },
  {
   "cell_type": "markdown",
   "metadata": {
    "application/vnd.databricks.v1+cell": {
     "cellMetadata": {
      "byteLimit": 2048000,
      "rowLimit": 10000
     },
     "inputWidgets": {},
     "nuid": "8a57004d-06ce-4885-a3be-b2c9fb9f8702",
     "showTitle": false,
     "title": ""
    }
   },
   "source": [
    "#### 7.2.1.Solução Pergunta 01"
   ]
  },
  {
   "cell_type": "markdown",
   "metadata": {
    "application/vnd.databricks.v1+cell": {
     "cellMetadata": {
      "byteLimit": 2048000,
      "rowLimit": 10000
     },
     "inputWidgets": {},
     "nuid": "2a8d0690-9ebe-42a5-ad2f-c7713b159874",
     "showTitle": false,
     "title": ""
    }
   },
   "source": [
    "**Preparação do Dataset**"
   ]
  },
  {
   "cell_type": "code",
   "execution_count": 0,
   "metadata": {
    "application/vnd.databricks.v1+cell": {
     "cellMetadata": {
      "byteLimit": 2048000,
      "rowLimit": 10000
     },
     "inputWidgets": {},
     "nuid": "0ac885a3-fd52-4224-97d5-329f7dcf40ff",
     "showTitle": false,
     "title": ""
    }
   },
   "outputs": [],
   "source": [
    "#Bibliotecas Usadas\n",
    "import pandas as pd\n",
    "import numpy as np\n",
    "import seaborn as sns\n",
    "import matplotlib.pyplot as plt"
   ]
  },
  {
   "cell_type": "code",
   "execution_count": 0,
   "metadata": {
    "application/vnd.databricks.v1+cell": {
     "cellMetadata": {
      "byteLimit": 2048000,
      "rowLimit": 10000
     },
     "inputWidgets": {},
     "nuid": "879e4984-db3e-4d5c-882b-ae58925ebcf4",
     "showTitle": false,
     "title": ""
    }
   },
   "outputs": [],
   "source": [
    "#Realizando a conexão com o Blob Storage para poder acessar os dados.\n",
    "storage_account_name = \"hdevellardstorage\"\n",
    "storage_account_access_key = \"pLK0+956XdjHhKmXqq64S8HMfIQ8/zjiaMKRKVCgr50jmfuZ49oy4LpjAYhwkA62gTkD1WgWJse1+AStdFEmJw==\""
   ]
  },
  {
   "cell_type": "code",
   "execution_count": 0,
   "metadata": {
    "application/vnd.databricks.v1+cell": {
     "cellMetadata": {
      "byteLimit": 2048000,
      "rowLimit": 10000
     },
     "inputWidgets": {},
     "nuid": "0acbabcf-4bbb-4e64-816c-77437c8c074e",
     "showTitle": false,
     "title": ""
    }
   },
   "outputs": [],
   "source": [
    "#Definindo a localização da pasta e tipo de extensão.\n",
    "file_location = \"wasbs://hdevellard@hdevellardstorage.blob.core.windows.net/Usinas.csv\"\n",
    "file_type = \"csv\""
   ]
  },
  {
   "cell_type": "code",
   "execution_count": 0,
   "metadata": {
    "application/vnd.databricks.v1+cell": {
     "cellMetadata": {
      "byteLimit": 2048000,
      "rowLimit": 10000
     },
     "inputWidgets": {},
     "nuid": "88d85c77-7f89-4419-b5b0-5116976b282e",
     "showTitle": false,
     "title": ""
    }
   },
   "outputs": [],
   "source": [
    "#configurando propriedades no ambiente de execução do Apache Spark para interagir com o serviço de armazenamento do Microsoft Azure Blob Storage.\n",
    "spark.conf.set(\n",
    "  \"fs.azure.account.key.\"+storage_account_name+\".blob.core.windows.net\",\n",
    "  storage_account_access_key)"
   ]
  },
  {
   "cell_type": "code",
   "execution_count": 0,
   "metadata": {
    "application/vnd.databricks.v1+cell": {
     "cellMetadata": {
      "byteLimit": 2048000,
      "rowLimit": 10000
     },
     "inputWidgets": {},
     "nuid": "bdccd3bd-4ea6-4c5c-941c-fb5af07d8858",
     "showTitle": false,
     "title": ""
    }
   },
   "outputs": [],
   "source": [
    "  #Criação do dataset\n",
    "  df_pergunta_01 = spark.read.format(file_type).option(\"inferSchema\", \"true\").option(\"delimiter\", \";\").option(\"header\", \"true\").load(file_location)"
   ]
  },
  {
   "cell_type": "code",
   "execution_count": 0,
   "metadata": {
    "application/vnd.databricks.v1+cell": {
     "cellMetadata": {
      "byteLimit": 2048000,
      "rowLimit": 10000
     },
     "inputWidgets": {},
     "nuid": "840b01ba-052d-4b3f-b1e5-cba9f4f09ecb",
     "showTitle": false,
     "title": ""
    }
   },
   "outputs": [],
   "source": [
    "# Converte o DataFrame do PySpark em um DataFrame do Pandas\n",
    "df_pergunta_01 = df_pergunta_01.toPandas()"
   ]
  },
  {
   "cell_type": "code",
   "execution_count": 0,
   "metadata": {
    "application/vnd.databricks.v1+cell": {
     "cellMetadata": {
      "byteLimit": 2048000,
      "rowLimit": 10000
     },
     "inputWidgets": {},
     "nuid": "fd272ad2-f594-4155-96d1-fef01e0ab750",
     "showTitle": false,
     "title": ""
    }
   },
   "outputs": [
    {
     "output_type": "display_data",
     "data": {
      "text/html": [
       "<style scoped>\n",
       "  .table-result-container {\n",
       "    max-height: 300px;\n",
       "    overflow: auto;\n",
       "  }\n",
       "  table, th, td {\n",
       "    border: 1px solid black;\n",
       "    border-collapse: collapse;\n",
       "  }\n",
       "  th, td {\n",
       "    padding: 5px;\n",
       "  }\n",
       "  th {\n",
       "    text-align: left;\n",
       "  }\n",
       "</style><div class='table-result-container'><table class='table-result'><thead style='background-color: white'><tr><th>Nom_Usina</th><th>Tipo_Reservatorio</th><th>Codigo_Aneel</th><th>id_subsistema</th><th>Subsistema</th><th>Nom_Bacia</th><th>Inicio_operacao</th><th>val_volmax(m3)</th><th>val_volmin(m3)</th><th>val_latitude</th><th>val_longitude</th></tr></thead><tbody><tr><td>14 DE JULHO</td><td>Fio d'agua</td><td>UHE.PH.RS.000012-4.01</td><td>S</td><td>SUL</td><td>JACUI</td><td>2008-12-25</td><td>55.180</td><td>50.470</td><td>-2.906.944.444</td><td>-5.167.527.778</td></tr><tr><td>A. VERMELHA</td><td>Reservatorio com usina</td><td>UHE.PH.MG.000041-8.01</td><td>SE</td><td>SUDESTE/CENTRO-OESTE</td><td>GRANDE</td><td>1978-03-01</td><td>11.025.000</td><td>5.856.000</td><td>-1.986.805.556</td><td>-5.034.277.778</td></tr><tr><td>AIMORES</td><td>Fio d'agua</td><td>UHE.PH.MG.000042-6.01</td><td>SE</td><td>SUDESTE/CENTRO-OESTE</td><td>DOCE</td><td>2005-07-30</td><td>185.520</td><td>156.550</td><td>-1.945.333.333</td><td>-4.109.666.667</td></tr><tr><td>B. BONITA</td><td>Reservatorio com usina</td><td>UHE.PH.SP.000208-9.01</td><td>SE</td><td>SUDESTE/CENTRO-OESTE</td><td>TIETE</td><td>1963-02-01</td><td>3.135.000</td><td>569.000</td><td>-2.251.944.444</td><td>-4.853.416.667</td></tr><tr><td>B.COQUEIROS</td><td>Fio d'agua</td><td>UHE.PH.GO.028757-1.01</td><td>SE</td><td>SUDESTE/CENTRO-OESTE</td><td>PARANAIBA</td><td>2010-06-19</td><td>347.800</td><td>300.000</td><td>-1.872.111.111</td><td>-5.100.444.444</td></tr><tr><td>BAGUARI</td><td>Fio d'agua</td><td>UHE.PH.MG.029453-5.01</td><td>SE</td><td>SUDESTE/CENTRO-OESTE</td><td>DOCE</td><td>2009-09-09</td><td>38.070</td><td>31.420</td><td>-1.902.916.667</td><td>-4.212.972.222</td></tr><tr><td>BAIXO IGUACU</td><td>Fio d'agua</td><td>UHE.PH.PR.030923-0.01</td><td>S</td><td>SUL</td><td>IGUACU</td><td>2019-02-08</td><td>211.920</td><td>178.700</td><td>-2.550.305.556</td><td>-5.367.805.556</td></tr><tr><td>BALBINA</td><td>Reservatorio com usina</td><td>UHE.PH.AM.000190-2.01</td><td>N</td><td>NORTE</td><td>AMAZONAS</td><td>1989-02-13</td><td>20.006.220</td><td>9.711.900</td><td>-1.913.611.111</td><td>-5.947.388.889</td></tr><tr><td>BARIRI</td><td>Fio d'agua</td><td>UHE.PH.SP.000203-8.01</td><td>SE</td><td>SUDESTE/CENTRO-OESTE</td><td>TIETE</td><td>1967-01-01</td><td>544.000</td><td>544.000</td><td>-2.215.388.889</td><td>-4.875.388.889</td></tr><tr><td>BARRA BRAUNA</td><td>Fio d'agua</td><td>UHE.PH.MG.000215-1.01</td><td>SE</td><td>SUDESTE/CENTRO-OESTE</td><td>PARAIBA DO SUL</td><td>2009-12-25</td><td>92.550</td><td>75.170</td><td>-21.45</td><td>-42.4</td></tr><tr><td>BARRA GRANDE</td><td>Reservatorio com usina</td><td>UHE.PH.RS.027556-5.01</td><td>S</td><td>SUL</td><td>URUGUAI</td><td>2005-11-01</td><td>4.904.450</td><td>2.711.790</td><td>-2.777.722.222</td><td>-5.118.861.111</td></tr><tr><td>BATALHA</td><td>Reservatorio com usina</td><td>UHE.PH.MG.029454-3.01</td><td>SE</td><td>SUDESTE/CENTRO-OESTE</td><td>PARANAIBA</td><td>2014-05-17</td><td>1.781.610</td><td>430.050</td><td>-1.734.555.556</td><td>-4.748.944.444</td></tr><tr><td>BELO MONTE</td><td>Fio d'agua</td><td>UHE.PH.PA.030354-2.01</td><td>N</td><td>NORTE</td><td>AMAZONAS</td><td>2016-04-20</td><td>2.276.290</td><td>2.169.660</td><td>-3.126.388.889</td><td>-51.775</td></tr><tr><td>BOA ESPERAN�A</td><td>Reservatorio com usina</td><td>UHE.PH.PI.000267-4.01</td><td>NE</td><td>NORDESTE</td><td>PARNAIBA</td><td>1970-01-31</td><td>5.085.000</td><td>3.173.000</td><td>-6.751.388.889</td><td>-435.675</td></tr><tr><td>C. DOURADA</td><td>Fio d'agua</td><td>UHE.PH.GO.000528-2.01</td><td>SE</td><td>SUDESTE/CENTRO-OESTE</td><td>PARANAIBA</td><td>1959-01-31</td><td>460.000</td><td>460.000</td><td>-1.850.361.111</td><td>-494.925</td></tr><tr><td>C.BRANCO-1</td><td>Reservatorio com usina</td><td>UHE.PH.MG.027483-6.01</td><td>SE</td><td>SUDESTE/CENTRO-OESTE</td><td>PARANAIBA</td><td>2006-02-21</td><td>241.130</td><td>228.270</td><td>-1.878.833.333</td><td>-4.814.611.111</td></tr><tr><td>C.BRANCO-2</td><td>Fio d'agua</td><td>UHE.PH.MG.027484-4.01</td><td>SE</td><td>SUDESTE/CENTRO-OESTE</td><td>PARANAIBA</td><td>2007-03-09</td><td>879.000</td><td>878.000</td><td>-1.865.888.889</td><td>-4.843.583.333</td></tr><tr><td>CACHOEIRA CALDEIRAO</td><td>Fio d'agua</td><td>UHE.PH.AP.031186-3.01</td><td>N</td><td>NORTE</td><td>ARAGUARI</td><td>2016-05-05</td><td>231.210</td><td>231.210</td><td>0.852777778</td><td>-5.129.666.667</td></tr><tr><td>CACONDE</td><td>Reservatorio com usina</td><td>UHE.PH.SP.000588-6.01</td><td>SE</td><td>SUDESTE/CENTRO-OESTE</td><td>GRANDE</td><td>1952-04-01</td><td>555.000</td><td>51.000</td><td>-2.157.777.778</td><td>-4.662.333.333</td></tr><tr><td>CACU</td><td>Reservatorio com usina</td><td>UHE.PH.GO.028756-3.01</td><td>SE</td><td>SUDESTE/CENTRO-OESTE</td><td>PARANAIBA</td><td>2010-07-24</td><td>227.450</td><td>195.760</td><td>-1.853.222.222</td><td>-5.114.944.444</td></tr><tr><td>CAMARGOS</td><td>Reservatorio com usina</td><td>UHE.PH.MG.000608-4.01</td><td>SE</td><td>SUDESTE/CENTRO-OESTE</td><td>GRANDE</td><td>1960-03-01</td><td>792.000</td><td>120.000</td><td>-2.132.555.556</td><td>-4.461.666.667</td></tr><tr><td>CAMPOS NOVOS</td><td>Reservatorio com usina</td><td>UHE.PH.SC.027401-1.01</td><td>S</td><td>SUL</td><td>URUGUAI</td><td>2007-02-03</td><td>1.477.000</td><td>1.320.000</td><td>-2.760.305.556</td><td>-5.132.361.111</td></tr><tr><td>CANA BRAVA</td><td>Fio d'agua</td><td>UHE.PH.GO.000630-0.01</td><td>SE</td><td>SUDESTE/CENTRO-OESTE</td><td>TOCANTINS</td><td>2002-05-22</td><td>2.300.000</td><td>2.300.000</td><td>-1.340.416.667</td><td>-481.425</td></tr><tr><td>CANASTRA</td><td>Fio d'agua</td><td>UHE.PH.RS.000635-1.01</td><td>S</td><td>SUL</td><td>JACUI</td><td>1956-04-01</td><td>0.425</td><td>0.183</td><td>null</td><td>null</td></tr><tr><td>CANDONGA</td><td>Fio d'agua</td><td>UHE.PH.MG.000641-6.01</td><td>SE</td><td>SUDESTE/CENTRO-OESTE</td><td>DOCE</td><td>2023-04-28</td><td>29.750</td><td>27.120</td><td>-2.020.694.444</td><td>-4.285.527.778</td></tr><tr><td>CANOAS I</td><td>Fio d'agua</td><td>UHE.PH.SP.000647-5.01</td><td>SE</td><td>SUDESTE/CENTRO-OESTE</td><td>PARANAPANEMA</td><td>1999-05-09</td><td>212.000</td><td>212.000</td><td>-2.294.222.222</td><td>-5.051.638.889</td></tr><tr><td>CANOAS II</td><td>Fio d'agua</td><td>UHE.PH.SP.027092-0.01</td><td>SE</td><td>SUDESTE/CENTRO-OESTE</td><td>PARANAPANEMA</td><td>1999-05-15</td><td>151.000</td><td>151.000</td><td>-2.293.777.778</td><td>-5.024.888.889</td></tr><tr><td>CAPIVARA</td><td>Reservatorio com usina</td><td>UHE.PH.SP.000657-2.01</td><td>SE</td><td>SUDESTE/CENTRO-OESTE</td><td>PARANAPANEMA</td><td>1977-03-10</td><td>10.540.000</td><td>4.816.000</td><td>-2.266.111.111</td><td>-5.135.388.889</td></tr><tr><td>CASTRO ALVES</td><td>Fio d'agua</td><td>UHE.PH.RS.000718-8.01</td><td>S</td><td>SUL</td><td>JACUI</td><td>2008-03-04</td><td>92.000</td><td>87.000</td><td>-2.900.444.444</td><td>-5.138.416.667</td></tr><tr><td>CHAVANTES</td><td>Reservatorio com usina</td><td>UHE.PH.SP.000764-1.01</td><td>SE</td><td>SUDESTE/CENTRO-OESTE</td><td>PARANAPANEMA</td><td>1970-02-06</td><td>8.795.000</td><td>5.754.000</td><td>-2.313.055.556</td><td>-4.973.333.333</td></tr><tr><td>COARACY NUNES</td><td>Fio d'agua</td><td>UHE.PH.AP.000783-8.01</td><td>N</td><td>NORTE</td><td>ARAGUARI</td><td>1990-12-31</td><td>138.500</td><td>25.000</td><td>0.915277778</td><td>-5.125.944.444</td></tr><tr><td>COLIDER</td><td>Fio d'agua</td><td>UHE.PH.MT.030422-0.01</td><td>SE</td><td>SUDESTE/CENTRO-OESTE</td><td>AMAZONAS</td><td>2019-03-09</td><td>1.524.500</td><td>1.427.480</td><td>-1.097.555.556</td><td>-5.576.333.333</td></tr><tr><td>CORUMBA</td><td>Reservatorio com usina</td><td>UHE.PH.GO.000866-4.01</td><td>SE</td><td>SUDESTE/CENTRO-OESTE</td><td>PARANAIBA</td><td>1997-04-30</td><td>1.500.000</td><td>470.000</td><td>-1.798.694.444</td><td>-4.853.111.111</td></tr><tr><td>CORUMBA-3</td><td>Reservatorio com usina</td><td>UHE.PH.GO.028352-5.01</td><td>SE</td><td>SUDESTE/CENTRO-OESTE</td><td>PARANAIBA</td><td>2009-10-24</td><td>972.000</td><td>709.000</td><td>-1.678.611.111</td><td>-4.794.194.444</td></tr><tr><td>CORUMBA-4</td><td>Reservatorio com usina</td><td>UHE.PH.GO.027795-9.01</td><td>SE</td><td>SUDESTE/CENTRO-OESTE</td><td>PARANAIBA</td><td>2006-04-01</td><td>3.708.000</td><td>2.936.600</td><td>-1.632.277.778</td><td>-481.875</td></tr><tr><td>CURUA-UNA</td><td>Reservatorio com usina</td><td>UHE.PH.PA.027130-6.01</td><td>N</td><td>NORTE</td><td>AMAZONAS</td><td>1977-07-27</td><td>602.000</td><td>133.000</td><td>-2.816.111.111</td><td>-5.430.055.556</td></tr><tr><td>D. FRANCISCA</td><td>Fio d'agua</td><td>UHE.PH.RS.027012-1.01</td><td>S</td><td>SUL</td><td>JACUI</td><td>2001-02-05</td><td>330.000</td><td>330.000</td><td>-2.944.944.444</td><td>-5.328.333.333</td></tr><tr><td>DARDANELOS</td><td>Fio d'agua</td><td>UHE.PH.MT.029597-3.01</td><td>SE</td><td>SUDESTE/CENTRO-OESTE</td><td>AMAZONAS</td><td>2011-08-09</td><td>0.910</td><td>0.870</td><td>-1.016.305.556</td><td>-5.946.361.111</td></tr><tr><td>E. DA CUNHA</td><td>Fio d'agua</td><td>UHE.PH.SP.000923-7.01</td><td>SE</td><td>SUDESTE/CENTRO-OESTE</td><td>GRANDE</td><td>1980-01-01</td><td>14.000</td><td>14.000</td><td>-2.160.277.778</td><td>-4.694.777.778</td></tr><tr><td>EMBORCA��ÃO</td><td>Reservatorio com usina</td><td>UHE.PH.MG.027115-2.01</td><td>SE</td><td>SUDESTE/CENTRO-OESTE</td><td>PARANAIBA</td><td>1982-04-01</td><td>17.725.000</td><td>4.669.000</td><td>-1.845.111.111</td><td>-4.798.194.444</td></tr><tr><td>ESPORA</td><td>Reservatorio com usina</td><td>UHE.PH.GO.000908-3.01</td><td>SE</td><td>SUDESTE/CENTRO-OESTE</td><td>PARANAIBA</td><td>2006-09-07</td><td>209.000</td><td>71.000</td><td>-1.867.805.556</td><td>-5.186.888.889</td></tr><tr><td>ESTREITO</td><td>Fio d'agua</td><td>UHE.PH.MA.028863-2.01</td><td>N</td><td>NORTE</td><td>TOCANTINS</td><td>2011-04-29</td><td>5.298.540</td><td>2.907.660</td><td>-6.588.611.111</td><td>-4.746.388.889</td></tr><tr><td>FERREIRA GOMES</td><td>Fio d'agua</td><td>UHE.PH.AP.030385-2.01</td><td>N</td><td>NORTE</td><td>ARAGUARI</td><td>2014-11-04</td><td>137.130</td><td>120.400</td><td>0.855666667</td><td>-5.119.683.333</td></tr><tr><td>FONTES</td><td>Fio d'agua</td><td>UHE.PH.RJ.000973-3.01</td><td>SE</td><td>SUDESTE/CENTRO-OESTE</td><td>PARAIBA DO SUL</td><td>1940-01-01</td><td>445.350</td><td>445.350</td><td>-2.269.111.111</td><td>-4.386.277.778</td></tr><tr><td>FOZ CHAPECO</td><td>Fio d'agua</td><td>UHE.PH.RS.028354-1.01</td><td>S</td><td>SUL</td><td>URUGUAI</td><td>2010-10-14</td><td>1.513.000</td><td>1.512.000</td><td>-2.713.972.222</td><td>-530.475</td></tr><tr><td>FOZ DO RIO CLARO</td><td>Fio d'agua</td><td>UHE.PH.GO.029455-1.01</td><td>SE</td><td>SUDESTE/CENTRO-OESTE</td><td>PARANAIBA</td><td>2010-08-05</td><td>99.130</td><td>83.810</td><td>-1.911.916.667</td><td>-5.064.305.556</td></tr><tr><td>FUNDÃO</td><td>Fio d'agua</td><td>UHE.PH.PR.028360-6.01</td><td>S</td><td>SUL</td><td>IGUACU</td><td>2006-06-23</td><td>34.590</td><td>33.450</td><td>-2.570.083.333</td><td>-5.200.361.111</td></tr><tr><td>FUNIL</td><td>Reservatorio com usina</td><td>UHE.PH.RJ.027118-7.01</td><td>SE</td><td>SUDESTE/CENTRO-OESTE</td><td>PARAIBA DO SUL</td><td>1969-04-01</td><td>888.000</td><td>283.000</td><td>-2.252.861.111</td><td>-4.456.694.444</td></tr><tr><td>FUNIL-MG</td><td>Fio d'agua</td><td>UHE.PH.MG.001006-5.01</td><td>SE</td><td>SUDESTE/CENTRO-OESTE</td><td>GRANDE</td><td>2003-01-23</td><td>304.000</td><td>304.000</td><td>-211.425</td><td>-4.503.472.222</td></tr><tr><td>FURNAS</td><td>Reservatorio com usina</td><td>UHE.PH.MG.001007-3.01</td><td>SE</td><td>SUDESTE/CENTRO-OESTE</td><td>GRANDE</td><td>1963-03-01</td><td>22.950.000</td><td>5.733.000</td><td>-2.066.944.444</td><td>-4.631.388.889</td></tr><tr><td>G. B. MUNHOZ</td><td>Reservatorio com usina</td><td>UHE.PH.PR.000984-9.01</td><td>S</td><td>SUL</td><td>IGUACU</td><td>1980-10-01</td><td>5.779.000</td><td>1.974.000</td><td>-2.600.944.444</td><td>-5.166.472.222</td></tr><tr><td>G. P. SOUZA</td><td>Reservatorio com usina</td><td>UHE.PH.PR.001042-1.01</td><td>S</td><td>SUL</td><td>CAPIVARI</td><td>1970-10-25</td><td>179.000</td><td>23.000</td><td>-2.513.944.444</td><td>-4.887.388.889</td></tr><tr><td>GARIBALDI</td><td>Reservatorio com usina</td><td>UHE.PH.SC.030415-8.01</td><td>S</td><td>SUL</td><td>URUGUAI</td><td>2013-09-24</td><td>296.000</td><td>232.000</td><td>-2.762.472.222</td><td>-5.098.388.889</td></tr><tr><td>GUAPORE</td><td>Fio d'agua</td><td>UHE.PH.MT.001066-9.01</td><td>SE</td><td>SUDESTE/CENTRO-OESTE</td><td>AMAZONAS</td><td>2003-04-08</td><td>21.000</td><td>21.000</td><td>-1.512.166.667</td><td>-5.896.416.667</td></tr><tr><td>GUILM. AMORIM</td><td>Fio d'agua</td><td>UHE.PH.MG.001079-0.01</td><td>SE</td><td>SUDESTE/CENTRO-OESTE</td><td>DOCE</td><td>1997-11-02</td><td>12.000</td><td>12.000</td><td>-197.075</td><td>-4.296.111.111</td></tr><tr><td>HENRY BORDEN</td><td>Fio d'agua</td><td>UHE.PH.SP.001084-7.01</td><td>SE</td><td>SUDESTE/CENTRO-OESTE</td><td>TIETE</td><td>1926-04-01</td><td>1.000</td><td>1.000</td><td>-2.387.444.444</td><td>-464.525</td></tr><tr><td>HENRY BORDEN</td><td>Fio d'agua</td><td>UHE.PH.SP.001084-7.01</td><td>SE</td><td>SUDESTE/CENTRO-OESTE</td><td>TIETE</td><td>1956-01-01</td><td>1.000</td><td>1.000</td><td>-2.387.444.444</td><td>-464.525</td></tr><tr><td>I. SOLTEIRA</td><td>Reservatorio com usina</td><td>UHE.PH.SP.001120-7.01</td><td>SE</td><td>SUDESTE/CENTRO-OESTE</td><td>PARANA</td><td>1973-03-01</td><td>21.060.000</td><td>15.543.800</td><td>-2.037.972.222</td><td>-5.135.805.556</td></tr><tr><td>IBITINGA</td><td>Fio d'agua</td><td>UHE.PH.SP.001097-9.01</td><td>SE</td><td>SUDESTE/CENTRO-OESTE</td><td>TIETE</td><td>1969-02-01</td><td>985.000</td><td>985.000</td><td>-2.175.775</td><td>-4.899.183.333</td></tr><tr><td>IGARAPAVA</td><td>Fio d'agua</td><td>UHE.PH.SP.001098-7.01</td><td>SE</td><td>SUDESTE/CENTRO-OESTE</td><td>GRANDE</td><td>1999-01-01</td><td>480.000</td><td>480.000</td><td>-1.999.027.778</td><td>-4.775.416.667</td></tr><tr><td>ILHA POMBOS</td><td>Fio d'agua</td><td>UHE.PH.RJ.001113-4.01</td><td>SE</td><td>SUDESTE/CENTRO-OESTE</td><td>PARAIBA DO SUL</td><td>1924-03-01</td><td>8.000</td><td>8.000</td><td>-2.184.472.222</td><td>-4.257.916.667</td></tr><tr><td>IRAPE</td><td>Reservatorio com usina</td><td>UHE.PH.MG.001146-0.01</td><td>SE</td><td>SUDESTE/CENTRO-OESTE</td><td>JEQUITINHONHA</td><td>2006-07-20</td><td>5.963.920</td><td>2.267.940</td><td>-1.673.583.333</td><td>-4.257.555.556</td></tr><tr><td>ITÁ</td><td>Fio d'agua</td><td>UHE.PH.RS.001152-5.01</td><td>S</td><td>SUL</td><td>URUGUAI</td><td>2000-07-01</td><td>5.100.000</td><td>5.100.000</td><td>-2.728.222.222</td><td>-5.238.555.556</td></tr><tr><td>ITAIPU</td><td>Fio d'agua</td><td>UHE.PH.PR.001161-4.01</td><td>SE</td><td>SUDESTE/CENTRO-OESTE</td><td>PARANA</td><td>1984-02-01</td><td>29.403.910</td><td>27.695.190</td><td>-2.540.472.222</td><td>-5.458.833.333</td></tr><tr><td>ITAPARICA</td><td>Reservatorio com usina</td><td>UHE.PH.PE.001174-6.01</td><td>NE</td><td>NORDESTE</td><td>SAO FRANCISCO</td><td>1988-02-28</td><td>10.782.000</td><td>7.234.000</td><td>-9.140.833.333</td><td>-3.831.361.111</td></tr><tr><td>ITAPEBI</td><td>Fio d'agua</td><td>UHE.PH.BA.001175-4.01</td><td>NE</td><td>NORDESTE</td><td>JEQUITINHONHA</td><td>2003-02-05</td><td>1.633.560</td><td>1.565.270</td><td>-1.596.972.222</td><td>-3.959.333.333</td></tr><tr><td>ITAUBA</td><td>Fio d'agua</td><td>UHE.PH.RS.027019-9.01</td><td>S</td><td>SUL</td><td>JACUI</td><td>1978-02-01</td><td>620.000</td><td>620.000</td><td>-2.925.888.889</td><td>-5.323.611.111</td></tr><tr><td>ITIQUIRA I</td><td>Fio d'agua</td><td>UHE.PH.MT.027244-2.01</td><td>SE</td><td>SUDESTE/CENTRO-OESTE</td><td>PARAGUAI</td><td>2002-10-24</td><td>5.000</td><td>5.000</td><td>-1.708.361.111</td><td>-5.487.555.556</td></tr><tr><td>ITIQUIRA II</td><td>Fio d'agua</td><td>UHE.PH.MT.027244-2.01</td><td>SE</td><td>SUDESTE/CENTRO-OESTE</td><td>PARAGUAI</td><td>2002-12-22</td><td>1.000</td><td>1.000</td><td>-1.708.166.667</td><td>-549.025</td></tr><tr><td>ITUMBIARA</td><td>Reservatorio com usina</td><td>UHE.PH.MG.001194-0.01</td><td>SE</td><td>SUDESTE/CENTRO-OESTE</td><td>PARANAIBA</td><td>1980-02-01</td><td>17.027.000</td><td>4.573.000</td><td>-1.840.944.444</td><td>-4.909.694.444</td></tr><tr><td>ITUTINGA</td><td>Fio d'agua</td><td>UHE.PH.MG.001197-5.01</td><td>SE</td><td>SUDESTE/CENTRO-OESTE</td><td>GRANDE</td><td>1955-02-01</td><td>11.000</td><td>11.000</td><td>-2.129.277.778</td><td>-4.462.277.778</td></tr><tr><td>JACUI</td><td>Fio d'agua</td><td>UHE.PH.RS.001217-3.01</td><td>S</td><td>SUL</td><td>JACUI</td><td>1962-03-01</td><td>29.000</td><td>29.000</td><td>-2.907.916.667</td><td>-53.225</td></tr><tr><td>JAGUARA</td><td>Fio d'agua</td><td>UHE.PH.SP.001225-4.01</td><td>SE</td><td>SUDESTE/CENTRO-OESTE</td><td>GRANDE</td><td>1971-01-01</td><td>450.000</td><td>450.000</td><td>-20.025</td><td>-4.743.555.556</td></tr><tr><td>JAGUARI</td><td>Reservatorio com usina</td><td>UHE.PH.SP.027131-4.01</td><td>SE</td><td>SUDESTE/CENTRO-OESTE</td><td>PARAIBA DO SUL</td><td>1972-01-02</td><td>1.236.000</td><td>443.000</td><td>-231.925</td><td>-4.602.138.889</td></tr><tr><td>JAURU</td><td>Fio d'agua</td><td>UHE.PH.MT.001245-9.01</td><td>SE</td><td>SUDESTE/CENTRO-OESTE</td><td>PARAGUAI</td><td>2003-06-06</td><td>17.150</td><td>16.250</td><td>-1.524.083.333</td><td>-5.873.111.111</td></tr><tr><td>JIRAU</td><td>Fio d'agua</td><td>UHE.PH.RO.029736-4.01</td><td>SE</td><td>SUDESTE/CENTRO-OESTE</td><td>AMAZONAS</td><td>2013-09-06</td><td>2.746.730</td><td>1.235.590</td><td>-9.268.333.333</td><td>-6.464.861.111</td></tr><tr><td>JUPIA</td><td>Fio d'agua</td><td>UHE.PH.SP.001282-3.01</td><td>SE</td><td>SUDESTE/CENTRO-OESTE</td><td>PARANA</td><td>1969-02-01</td><td>3.354.000</td><td>3.354.000</td><td>-2.077.694.444</td><td>-5.163.305.556</td></tr><tr><td>JURUMIRIM</td><td>Reservatorio com usina</td><td>UHE.PH.SP.001285-8.01</td><td>SE</td><td>SUDESTE/CENTRO-OESTE</td><td>PARANAPANEMA</td><td>1962-09-21</td><td>7.008.000</td><td>3.843.000</td><td>-2.321.083.333</td><td>-4.922.916.667</td></tr><tr><td>L. C. BARRETO</td><td>Fio d'agua</td><td>UHE.PH.SP.000917-2.01</td><td>SE</td><td>SUDESTE/CENTRO-OESTE</td><td>GRANDE</td><td>1969-01-01</td><td>1.423.000</td><td>1.423.000</td><td>-2.015.361.111</td><td>-4.727.777.778</td></tr><tr><td>LAJEADO</td><td>Fio d'agua</td><td>UHE.PH.TO.001304-8.01</td><td>SE</td><td>SUDESTE/CENTRO-OESTE</td><td>TOCANTINS</td><td>2001-12-01</td><td>4.940.000</td><td>4.940.000</td><td>-9.756.388.889</td><td>-4.837.416.667</td></tr><tr><td>LIMOEIRO</td><td>Fio d'agua</td><td>UHE.PH.SP.001328-5.01</td><td>SE</td><td>SUDESTE/CENTRO-OESTE</td><td>GRANDE</td><td>1980-01-01</td><td>25.000</td><td>25.000</td><td>-2.162.472.222</td><td>-4.701.055.556</td></tr><tr><td>M. MORAES</td><td>Reservatorio com usina</td><td>UHE.PH.MG.002038-9.01</td><td>SE</td><td>SUDESTE/CENTRO-OESTE</td><td>GRANDE</td><td>1956-04-01</td><td>4.040.000</td><td>1.540.000</td><td>-20.285</td><td>-470.625</td></tr><tr><td>MACHADINHO</td><td>Reservatorio com usina</td><td>UHE.PH.SC.001356-0.01</td><td>S</td><td>SUL</td><td>URUGUAI</td><td>2002-02-16</td><td>3.340.000</td><td>2.283.000</td><td>-2.752.444.444</td><td>-5.178.888.889</td></tr><tr><td>MANSO</td><td>Reservatorio com usina</td><td>UHE.PH.MT.001401-0.01</td><td>SE</td><td>SUDESTE/CENTRO-OESTE</td><td>PARAGUAI</td><td>2001-02-02</td><td>7.337.000</td><td>4.386.000</td><td>-1.487.138.889</td><td>-5.578.361.111</td></tr><tr><td>MARIMBONDO</td><td>Reservatorio com usina</td><td>UHE.PH.MG.001417-6.01</td><td>SE</td><td>SUDESTE/CENTRO-OESTE</td><td>GRANDE</td><td>1975-04-01</td><td>6.150.000</td><td>890.000</td><td>-2.030.388.889</td><td>-4.919.277.778</td></tr><tr><td>MASCARENHAS</td><td>Fio d'agua</td><td>UHE.PH.ES.001432-0.01</td><td>SE</td><td>SUDESTE/CENTRO-OESTE</td><td>DOCE</td><td>1973-09-21</td><td>21.850</td><td>17.810</td><td>-19.5</td><td>-40.92</td></tr><tr><td>MAUA</td><td>Reservatorio com usina</td><td>UHE.PH.PR.029598-1.01</td><td>S</td><td>SUL</td><td>PARANAPANEMA</td><td>2012-11-23</td><td>2.137.000</td><td>1.473.000</td><td>-240.625</td><td>-5.070.805.556</td></tr><tr><td>MIRANDA</td><td>Reservatorio com usina</td><td>UHE.PH.MG.001469-9.01</td><td>SE</td><td>SUDESTE/CENTRO-OESTE</td><td>PARANAIBA</td><td>1998-05-29</td><td>1.120.000</td><td>974.000</td><td>-1.891.166.667</td><td>-4.803.916.667</td></tr><tr><td>MONJOLINHO</td><td>Fio d'agua</td><td>UHE.PH.RS.028562-5.01</td><td>S</td><td>SUL</td><td>URUGUAI</td><td>2009-09-01</td><td>150.480</td><td>150.480</td><td>-2.734.416.667</td><td>-5.273.111.111</td></tr><tr><td>MONTE CLARO</td><td>Fio d'agua</td><td>UHE.PH.RS.027968-4.01</td><td>S</td><td>SUL</td><td>JACUI</td><td>2004-12-29</td><td>11.280</td><td>10.100</td><td>-2.902.361.111</td><td>-5.153.222.222</td></tr><tr><td>MOXOTO</td><td>Fio d'agua</td><td>UHE.PH.AL.001510-5.01</td><td>NE</td><td>NORDESTE</td><td>SAO FRANCISCO</td><td>1977-02-28</td><td>1.226.000</td><td>1.226.000</td><td>-9.356.111.111</td><td>-3.821.027.778</td></tr><tr><td>N. AVANHANDAVA</td><td>Fio d'agua</td><td>UHE.PH.SP.001552-0.01</td><td>SE</td><td>SUDESTE/CENTRO-OESTE</td><td>TIETE</td><td>1982-04-01</td><td>2.720.000</td><td>2.720.000</td><td>-2.111.694.444</td><td>-5.020.175</td></tr><tr><td>NILO PE�ANHA</td><td>Fio d'agua</td><td>UHE.PH.RJ.001536-9.01</td><td>SE</td><td>SUDESTE/CENTRO-OESTE</td><td>PARAIBA DO SUL</td><td>1953-04-01</td><td>38.000</td><td>38.000</td><td>-2.268.305.556</td><td>-4.387.333.333</td></tr><tr><td>NOVA PONTE</td><td>Reservatorio com usina</td><td>UHE.PH.MG.001574-1.01</td><td>SE</td><td>SUDESTE/CENTRO-OESTE</td><td>PARANAIBA</td><td>1994-12-07</td><td>12.792.000</td><td>2.412.000</td><td>-1.913.111.111</td><td>-4.769.361.111</td></tr><tr><td>OURINHOS</td><td>Fio d'agua</td><td>UHE.PH.SP.027872-6.01</td><td>SE</td><td>SUDESTE/CENTRO-OESTE</td><td>PARANAPANEMA</td><td>2005-04-16</td><td>20.820</td><td>18.680</td><td>-2.306.777.778</td><td>-498.375</td></tr><tr><td>P. AFONSO 1,2,3</td><td>Fio d'agua</td><td>UHE.PH.BA.027048-2.01</td><td>NE</td><td>NORDESTE</td><td>SAO FRANCISCO</td><td>1961-04-30</td><td>26.000</td><td>26.000</td><td>-9.395.833.333</td><td>-3.820.361.111</td></tr><tr><td>P. AFONSO 1,2,3</td><td>Fio d'agua</td><td>UHE.PH.BA.027049-0.01</td><td>NE</td><td>NORDESTE</td><td>SAO FRANCISCO</td><td>1971-04-30</td><td>26.000</td><td>26.000</td><td>-9.395.833.333</td><td>-3.820.361.111</td></tr><tr><td>P. AFONSO 1,2,3</td><td>Fio d'agua</td><td>UHE.PH.BA.002012-5.01</td><td>NE</td><td>NORDESTE</td><td>SAO FRANCISCO</td><td>1955-01-31</td><td>26.000</td><td>26.000</td><td>-9.395.833.333</td><td>-3.820.361.111</td></tr><tr><td>P. AFONSO 4</td><td>Fio d'agua</td><td>UHE.PH.BA.027050-4.01</td><td>NE</td><td>NORDESTE</td><td>SAO FRANCISCO</td><td>1969-04-30</td><td>1.277.000</td><td>1.068.000</td><td>-9.415.833.333</td><td>-3.821.055.556</td></tr><tr><td>P. COLOMBIA</td><td>Fio d'agua</td><td>UHE.PH.MG.002117-2.01</td><td>SE</td><td>SUDESTE/CENTRO-OESTE</td><td>GRANDE</td><td>1973-03-01</td><td>1.524.000</td><td>1.524.000</td><td>-2.012.694.444</td><td>-4.856.583.333</td></tr><tr><td>PARAIBUNA</td><td>Reservatorio com usina</td><td>UHE.PH.SP.027122-5.01</td><td>SE</td><td>SUDESTE/CENTRO-OESTE</td><td>PARAIBA DO SUL</td><td>1978-01-02</td><td>4.732.000</td><td>2.096.000</td><td>-23.41</td><td>-4.560.055.556</td></tr><tr><td>PASSO FUNDO</td><td>Reservatorio com usina</td><td>UHE.PH.RS.002001-0.01</td><td>S</td><td>SUL</td><td>URUGUAI</td><td>1973-03-21</td><td>1.589.000</td><td>185.000</td><td>-2.755.388.889</td><td>-5.274.083.333</td></tr><tr><td>PASSO REAL</td><td>Reservatorio com usina</td><td>UHE.PH.RS.002003-6.01</td><td>S</td><td>SUL</td><td>JACUI</td><td>1973-01-01</td><td>3.646.000</td><td>289.000</td><td>-2.901.527.778</td><td>-5.318.722.222</td></tr><tr><td>PASSO SAO JOAO</td><td>Fio d'agua</td><td>UHE.PH.RS.029456-0.01</td><td>S</td><td>SUL</td><td>URUGUAI</td><td>2012-03-24</td><td>102.400</td><td>83.905</td><td>-2.814.083.333</td><td>-5.505.194.444</td></tr><tr><td>PEDRA DO CAVALO</td><td>Reservatorio com usina</td><td>UHE.PH.BA.028565-0.01</td><td>NE</td><td>NORDESTE</td><td>PARAGUACU</td><td>2004-12-16</td><td>3.134.000</td><td>2.192.000</td><td>-125.825</td><td>-3.900.194.444</td></tr><tr><td>PEIXE ANGICAL</td><td>Reservatorio com usina</td><td>UHE.PH.TO.028353-3.01</td><td>SE</td><td>SUDESTE/CENTRO-OESTE</td><td>TOCANTINS</td><td>2006-06-27</td><td>2.741.000</td><td>2.212.700</td><td>-122.375</td><td>-4.838.305.556</td></tr><tr><td>PEREIRA PASSOS</td><td>Fio d'agua</td><td>UHE.PH.RJ.002043-5.01</td><td>SE</td><td>SUDESTE/CENTRO-OESTE</td><td>PARAIBA DO SUL</td><td>1962-04-01</td><td>17.000</td><td>17.000</td><td>-2.268.666.667</td><td>-4.382.527.778</td></tr><tr><td>PICADA</td><td>Fio d'agua</td><td>UHE.PH.MG.002053-2.01</td><td>SE</td><td>SUDESTE/CENTRO-OESTE</td><td>PARAIBA DO SUL</td><td>2006-07-01</td><td>7.000</td><td>6.000</td><td>-2.188.416.667</td><td>-4.354.055.556</td></tr><tr><td>PIMENTAL</td><td>Fio d'agua</td><td>UHE.PH.PA.030354-2.01</td><td>N</td><td>NORTE</td><td>AMAZONAS</td><td>2016-04-28</td><td>2.276.290</td><td>2.169.660</td><td>-34.375</td><td>-5.194.722.222</td></tr><tr><td>PIRAJU</td><td>Fio d'agua</td><td>UHE.PH.SP.002077-0.01</td><td>SE</td><td>SUDESTE/CENTRO-OESTE</td><td>PARANAPANEMA</td><td>2002-09-12</td><td>84.000</td><td>84.000</td><td>-2.315.333.333</td><td>-4.938.083.333</td></tr><tr><td>PONTE DE PEDRA</td><td>Fio d'agua</td><td>UHE.PH.MT.002103-2.01</td><td>SE</td><td>SUDESTE/CENTRO-OESTE</td><td>PARAGUAI</td><td>2005-07-19</td><td>199.000</td><td>199.000</td><td>-1.758.638.889</td><td>-5.490.722.222</td></tr><tr><td>PORTO ESTRELA</td><td>Reservatorio com usina</td><td>UHE.PH.MG.027196-9.01</td><td>SE</td><td>SUDESTE/CENTRO-OESTE</td><td>DOCE</td><td>2001-09-04</td><td>89.000</td><td>56.000</td><td>-1.911.472.222</td><td>-4.266.305.556</td></tr><tr><td>PORTO PRIMAVERA</td><td>Fio d'agua</td><td>UHE.PH.SP.002127-0.01</td><td>SE</td><td>SUDESTE/CENTRO-OESTE</td><td>PARANA</td><td>1999-01-23</td><td>20.001.000</td><td>15.707.000</td><td>-2.247.472.222</td><td>-5.295.222.222</td></tr><tr><td>PROMISS�O</td><td>Reservatorio com usina</td><td>UHE.PH.SP.002158-0.01</td><td>SE</td><td>SUDESTE/CENTRO-OESTE</td><td>TIETE</td><td>1975-03-01</td><td>7.408.000</td><td>5.280.000</td><td>-2.129.680.556</td><td>-4.978.341.667</td></tr><tr><td>QUEBRA QUEIXO</td><td>Reservatorio com usina</td><td>UHE.PH.SC.002167-9.01</td><td>S</td><td>SUL</td><td>URUGUAI</td><td>2003-12-23</td><td>137.000</td><td>111.000</td><td>-2.666.777.778</td><td>-5.255.472.222</td></tr><tr><td>QUEIMADO</td><td>Reservatorio com usina</td><td>UHE.PH.MG.002176-8.01</td><td>SE</td><td>SUDESTE/CENTRO-OESTE</td><td>SAO FRANCISCO</td><td>2004-04-09</td><td>557.000</td><td>95.250</td><td>-1.621.138.889</td><td>-4.732.527.778</td></tr><tr><td>RETIRO BAIXO</td><td>Reservatorio com usina</td><td>UHE.PH.MG.029457-8.01</td><td>SE</td><td>SUDESTE/CENTRO-OESTE</td><td>SAO FRANCISCO</td><td>2010-03-03</td><td>241.590</td><td>200.720</td><td>-1.889.444.444</td><td>-4.478.166.667</td></tr><tr><td>RONDON II</td><td>Reservatorio com usina</td><td>UHE.PH.RO.027448-8.01</td><td>SE</td><td>SUDESTE/CENTRO-OESTE</td><td>AMAZONAS</td><td>2011-03-31</td><td>478.290</td><td>192.170</td><td>-1.199.722.222</td><td>-6.069.722.222</td></tr><tr><td>ROSAL</td><td>Fio d'agua</td><td>UHE.PH.ES.002553-4.01</td><td>SE</td><td>SUDESTE/CENTRO-OESTE</td><td>ITABAPOANA</td><td>2000-01-17</td><td>11.000</td><td>11.000</td><td>-2.091.666.667</td><td>-4.172.166.667</td></tr><tr><td>ROSANA</td><td>Fio d'agua</td><td>UHE.PH.SP.002555-0.01</td><td>SE</td><td>SUDESTE/CENTRO-OESTE</td><td>PARANAPANEMA</td><td>1987-06-11</td><td>1.918.000</td><td>1.918.000</td><td>-2.260.222.222</td><td>-5.286.861.111</td></tr><tr><td>S.DO FACÃO</td><td>Reservatorio com usina</td><td>UHE.PH.GO.028355-0.01</td><td>SE</td><td>SUDESTE/CENTRO-OESTE</td><td>PARANAIBA</td><td>2010-07-13</td><td>5.199.000</td><td>1.752.000</td><td>-1.804.555.556</td><td>-4.767.555.556</td></tr><tr><td>S.R.VERDINHO</td><td>Fio d'agua</td><td>UHE.PH.GO.028760-1.01</td><td>SE</td><td>SUDESTE/CENTRO-OESTE</td><td>PARANAIBA</td><td>2010-07-06</td><td>394.340</td><td>352.480</td><td>-1.914.555.556</td><td>-5.076.722.222</td></tr><tr><td>SA CARVALHO</td><td>Fio d'agua</td><td>UHE.PH.MG.002563-1.01</td><td>SE</td><td>SUDESTE/CENTRO-OESTE</td><td>DOCE</td><td>2001-04-01</td><td>1.000</td><td>1.000</td><td>-1.964.583.333</td><td>-42.85</td></tr><tr><td>SALTO</td><td>Fio d'agua</td><td>UHE.PH.GO.028758-0.01</td><td>SE</td><td>SUDESTE/CENTRO-OESTE</td><td>PARANAIBA</td><td>2010-05-25</td><td>826.060</td><td>767.660</td><td>-188.075</td><td>-5.117.111.111</td></tr><tr><td>SALTO APIACAS</td><td>Fio d'agua</td><td>UHE.PH.MT.031401-3.01</td><td>SE</td><td>SUDESTE/CENTRO-OESTE</td><td>AMAZONAS</td><td>2016-09-17</td><td>2.080</td><td>0.060</td><td>null</td><td>null</td></tr><tr><td>SALTO CAXIAS</td><td>Fio d'agua</td><td>UHE.PH.PR.002591-7.01</td><td>S</td><td>SUL</td><td>IGUACU</td><td>1999-02-18</td><td>3.573.000</td><td>3.573.000</td><td>-2.554.083.333</td><td>-5.349.444.444</td></tr><tr><td>SALTO GRANDE CM</td><td>Fio d'agua</td><td>UHE.PH.MG.027210-8.01</td><td>SE</td><td>SUDESTE/CENTRO-OESTE</td><td>DOCE</td><td>1956-02-28</td><td>78.000</td><td>78.000</td><td>-1.911.555.556</td><td>-42.72</td></tr><tr><td>SALTO GRANDE CS</td><td>Fio d'agua</td><td>UHE.PH.SP.002648-4.01</td><td>SE</td><td>SUDESTE/CENTRO-OESTE</td><td>PARANAPANEMA</td><td>1958-05-31</td><td>45.000</td><td>45.000</td><td>-2.290.194.444</td><td>-4.999.888.889</td></tr><tr><td>SALTO OSORIO</td><td>Fio d'agua</td><td>UHE.PH.PR.002659-0.01</td><td>S</td><td>SUL</td><td>IGUACU</td><td>1975-10-17</td><td>1.124.000</td><td>1.124.000</td><td>-2.553.694.444</td><td>-5.300.777.778</td></tr><tr><td>SALTO PILAO</td><td>Fio d'agua</td><td>UHE.PH.SC.028564-1.01</td><td>S</td><td>SUL</td><td>ITAJAI</td><td>2009-12-11</td><td>0.020</td><td>0.010</td><td>-2.713.611.111</td><td>-4.952.027.778</td></tr><tr><td>SALTO SANTIAGO</td><td>Reservatorio com usina</td><td>UHE.PH.PR.002672-7.01</td><td>S</td><td>SUL</td><td>IGUACU</td><td>1980-12-31</td><td>6.775.000</td><td>2.662.000</td><td>-2.562.777.778</td><td>-5.260.805.556</td></tr><tr><td>SAMUEL</td><td>Reservatorio com usina</td><td>UHE.PH.RO.002687-5.01</td><td>SE</td><td>SUDESTE/CENTRO-OESTE</td><td>AMAZONAS</td><td>1990-12-31</td><td>3.493.440</td><td>943.230</td><td>-8.751.944.444</td><td>-6.345.416.667</td></tr><tr><td>SANTA BRANCA</td><td>Reservatorio com usina</td><td>UHE.PH.SP.002696-4.01</td><td>SE</td><td>SUDESTE/CENTRO-OESTE</td><td>PARAIBA DO SUL</td><td>1999-06-06</td><td>439.000</td><td>131.000</td><td>-2.337.416.667</td><td>-45.87</td></tr><tr><td>SANTA CECILIA</td><td>Reservatorio com usina DE BOMBEAMENTO</td><td>UHE.PH.RJ.027217-5.01</td><td>SE</td><td>SUDESTE/CENTRO-OESTE</td><td>PARAIBA DO SUL</td><td>2000-06-02</td><td>6.000</td><td>6.000</td><td>-2.248.222.222</td><td>-4.383.888.889</td></tr><tr><td>SANTA CLARA-PR</td><td>Reservatorio com usina</td><td>UHE.PH.PR.028361-4.01</td><td>S</td><td>SUL</td><td>IGUACU</td><td>2005-07-31</td><td>431.000</td><td>169.000</td><td>-2.564.611.111</td><td>-5.195.611.111</td></tr><tr><td>SANTO ANTONIO</td><td>Fio d'agua</td><td>UHE.PH.RO.029707-0.01</td><td>SE</td><td>SUDESTE/CENTRO-OESTE</td><td>AMAZONAS</td><td>2012-03-30</td><td>2.282.800</td><td>2.077.300</td><td>-8.801.111.111</td><td>-6.394.972.222</td></tr><tr><td>SAO DOMINGOS</td><td>Fio d'agua</td><td>UHE.PH.MS.028761-0.01</td><td>SE</td><td>SUDESTE/CENTRO-OESTE</td><td>PARANA</td><td>2013-06-14</td><td>131.430</td><td>112.310</td><td>-2.008.361.111</td><td>-5.317.472.222</td></tr><tr><td>SAO JOSE</td><td>Fio d'agua</td><td>UHE.PH.RS.029459-4.01</td><td>S</td><td>SUL</td><td>URUGUAI</td><td>2011-03-29</td><td>188.110</td><td>165.530</td><td>-2.817.694.444</td><td>-5.481.333.333</td></tr><tr><td>SAO MANOEL</td><td>Fio d'agua</td><td>UHE.PH.PA.031444-7.01</td><td>SE</td><td>SUDESTE/CENTRO-OESTE</td><td>AMAZONAS</td><td>2017-12-28</td><td>570.080</td><td>490.270</td><td>-9.189.444.444</td><td>-5.705.277.778</td></tr><tr><td>SAO ROQUE</td><td>Reservatorio com usina</td><td>UHE.PH.SC.030938-9.01</td><td>S</td><td>SUL</td><td>URUGUAI</td><td>2022-07-21</td><td>795.670</td><td>336.720</td><td>-2.749.777.777.777</td><td>-5.080.463.888.888</td></tr><tr><td>SAO SALVADOR</td><td>Fio d'agua</td><td>UHE.PH.TO.028567-6.01</td><td>SE</td><td>SUDESTE/CENTRO-OESTE</td><td>TOCANTINS</td><td>2009-08-06</td><td>952.000</td><td>952.000</td><td>-1.283.472.222</td><td>-4.822.472.222</td></tr><tr><td>SÃO SIMÃO</td><td>Reservatorio com usina</td><td>UHE.PH.GO.002704-9.01</td><td>SE</td><td>SUDESTE/CENTRO-OESTE</td><td>PARANAIBA</td><td>1978-02-01</td><td>12.540.000</td><td>7.000.000</td><td>-1.901.666.667</td><td>-50.5</td></tr><tr><td>SEGREDO</td><td>Reservatorio com usina</td><td>UHE.PH.PR.002715-4.01</td><td>S</td><td>SUL</td><td>IGUACU</td><td>1992-09-26</td><td>2.950.000</td><td>2.562.000</td><td>-2.579.222.222</td><td>-5.211.638.889</td></tr><tr><td>SERRA DA MESA</td><td>Reservatorio com usina</td><td>UHE.PH.GO.002731-6.01</td><td>SE</td><td>SUDESTE/CENTRO-OESTE</td><td>TOCANTINS</td><td>1998-04-17</td><td>54.400.000</td><td>11.150.000</td><td>-1.383.416.667</td><td>-4.830.583.333</td></tr><tr><td>SIMPLICIO</td><td>Fio d'agua</td><td>UHE.PH.MG.029458-6.01</td><td>SE</td><td>SUDESTE/CENTRO-OESTE</td><td>PARAIBA DO SUL</td><td>2013-06-05</td><td>14.620</td><td>10.580</td><td>-2.192.138.889</td><td>-4.278.972.222</td></tr><tr><td>SINOP</td><td>Reservatorio com usina</td><td>UHE.PH.MT.031428-5.01</td><td>SE</td><td>SUDESTE/CENTRO-OESTE</td><td>AMAZONAS</td><td>2019-09-17</td><td>3.071.180</td><td>1.045.210</td><td>-1.126.294.444</td><td>-5.545.180.556</td></tr><tr><td>SOBRADINHO</td><td>Reservatorio com usina</td><td>UHE.PH.BA.002755-3.01</td><td>NE</td><td>NORDESTE</td><td>SAO FRANCISCO</td><td>1979-04-30</td><td>34.116.000</td><td>5.447.000</td><td>-9.429.722.222</td><td>-40.83</td></tr><tr><td>SOBRAGI</td><td>Fio d'agua</td><td>UHE.PH.MG.002757-0.01</td><td>SE</td><td>SUDESTE/CENTRO-OESTE</td><td>PARAIBA DO SUL</td><td>1998-09-15</td><td>0.090</td><td>0.060</td><td>-2.198.166.667</td><td>-4.335.055.556</td></tr><tr><td>STA.CLARA-MG</td><td>Fio d'agua</td><td>UHE.PH.MG.002699-9.01</td><td>SE</td><td>SUDESTE/CENTRO-OESTE</td><td>MUCURI</td><td>2002-02-20</td><td>150.440</td><td>115.990</td><td>-1.789.583.333</td><td>-4.020.333.333</td></tr><tr><td>STO ANTONIO DO JARI</td><td>Fio d'agua</td><td>UHE.PH.AP.026792-9.01</td><td>N</td><td>NORTE</td><td>AMAZONAS</td><td>2014-09-17</td><td>133.390</td><td>107.320</td><td>-0.8675</td><td>-5.240.555.556</td></tr><tr><td>SUI�A</td><td>Fio d'agua</td><td>UHE.PH.ES.002781-2.01</td><td>SE</td><td>SUDESTE/CENTRO-OESTE</td><td>OUTRAS- SUDESTE</td><td>1990-12-31</td><td>0.352</td><td>0.094</td><td>null</td><td>null</td></tr><tr><td>TAQUARU�U</td><td>Fio d'agua</td><td>UHE.PH.SP.002821-5.01</td><td>SE</td><td>SUDESTE/CENTRO-OESTE</td><td>PARANAPANEMA</td><td>1992-12-11</td><td>677.000</td><td>677.000</td><td>-2.254.472.222</td><td>-5.199.583.333</td></tr><tr><td>TELES PIRES</td><td>Fio d'agua</td><td>UHE.PH.PA.030557-0.01</td><td>SE</td><td>SUDESTE/CENTRO-OESTE</td><td>AMAZONAS</td><td>2015-11-07</td><td>961.110</td><td>890.330</td><td>-9.351.111.111</td><td>-567.775</td></tr><tr><td>TR�S IRM�OS</td><td>Reservatorio com usina</td><td>UHE.PH.SP.002873-8.01</td><td>SE</td><td>SUDESTE/CENTRO-OESTE</td><td>TIETE</td><td>1993-04-01</td><td>13.372.000</td><td>9.923.000</td><td>-2.066.861.111</td><td>-5.129.694.444</td></tr><tr><td>TR�S MARIAS</td><td>Reservatorio com usina</td><td>UHE.PH.MG.027113-6.01</td><td>SE</td><td>SUDESTE/CENTRO-OESTE</td><td>SAO FRANCISCO</td><td>1962-02-01</td><td>19.528.000</td><td>4.250.000</td><td>-182.175</td><td>-4.526.194.444</td></tr><tr><td>TUCURUI</td><td>Reservatorio com usina</td><td>UHE.PH.PA.002889-4.01</td><td>N</td><td>NORTE</td><td>TOCANTINS</td><td>1984-04-30</td><td>50.275.000</td><td>11.293.000</td><td>-3.834.166.667</td><td>-4.964.527.778</td></tr><tr><td>VOLTA GRANDE</td><td>Fio d'agua</td><td>UHE.PH.SP.003045-7.01</td><td>SE</td><td>SUDESTE/CENTRO-OESTE</td><td>GRANDE</td><td>1985-01-01</td><td>2.244.000</td><td>2.244.000</td><td>-2.003.277.778</td><td>-4.821.722.222</td></tr><tr><td>XINGO</td><td>Fio d'agua</td><td>UHE.PH.SE.027053-9.01</td><td>NE</td><td>NORDESTE</td><td>SAO FRANCISCO</td><td>1994-04-30</td><td>3.800.000</td><td>3.800.000</td><td>-9.617.777.778</td><td>-3.779.694.444</td></tr></tbody></table></div>"
      ]
     },
     "metadata": {
      "application/vnd.databricks.v1+output": {
       "addedWidgets": {},
       "aggData": [],
       "aggError": "",
       "aggOverflow": false,
       "aggSchema": [],
       "aggSeriesLimitReached": false,
       "aggType": "",
       "arguments": {},
       "columnCustomDisplayInfos": {},
       "data": [
        [
         "14 DE JULHO",
         "Fio d'agua",
         "UHE.PH.RS.000012-4.01",
         "S",
         "SUL",
         "JACUI",
         "2008-12-25",
         "55.180",
         "50.470",
         "-2.906.944.444",
         "-5.167.527.778"
        ],
        [
         "A. VERMELHA",
         "Reservatorio com usina",
         "UHE.PH.MG.000041-8.01",
         "SE",
         "SUDESTE/CENTRO-OESTE",
         "GRANDE",
         "1978-03-01",
         "11.025.000",
         "5.856.000",
         "-1.986.805.556",
         "-5.034.277.778"
        ],
        [
         "AIMORES",
         "Fio d'agua",
         "UHE.PH.MG.000042-6.01",
         "SE",
         "SUDESTE/CENTRO-OESTE",
         "DOCE",
         "2005-07-30",
         "185.520",
         "156.550",
         "-1.945.333.333",
         "-4.109.666.667"
        ],
        [
         "B. BONITA",
         "Reservatorio com usina",
         "UHE.PH.SP.000208-9.01",
         "SE",
         "SUDESTE/CENTRO-OESTE",
         "TIETE",
         "1963-02-01",
         "3.135.000",
         "569.000",
         "-2.251.944.444",
         "-4.853.416.667"
        ],
        [
         "B.COQUEIROS",
         "Fio d'agua",
         "UHE.PH.GO.028757-1.01",
         "SE",
         "SUDESTE/CENTRO-OESTE",
         "PARANAIBA",
         "2010-06-19",
         "347.800",
         "300.000",
         "-1.872.111.111",
         "-5.100.444.444"
        ],
        [
         "BAGUARI",
         "Fio d'agua",
         "UHE.PH.MG.029453-5.01",
         "SE",
         "SUDESTE/CENTRO-OESTE",
         "DOCE",
         "2009-09-09",
         "38.070",
         "31.420",
         "-1.902.916.667",
         "-4.212.972.222"
        ],
        [
         "BAIXO IGUACU",
         "Fio d'agua",
         "UHE.PH.PR.030923-0.01",
         "S",
         "SUL",
         "IGUACU",
         "2019-02-08",
         "211.920",
         "178.700",
         "-2.550.305.556",
         "-5.367.805.556"
        ],
        [
         "BALBINA",
         "Reservatorio com usina",
         "UHE.PH.AM.000190-2.01",
         "N",
         "NORTE",
         "AMAZONAS",
         "1989-02-13",
         "20.006.220",
         "9.711.900",
         "-1.913.611.111",
         "-5.947.388.889"
        ],
        [
         "BARIRI",
         "Fio d'agua",
         "UHE.PH.SP.000203-8.01",
         "SE",
         "SUDESTE/CENTRO-OESTE",
         "TIETE",
         "1967-01-01",
         "544.000",
         "544.000",
         "-2.215.388.889",
         "-4.875.388.889"
        ],
        [
         "BARRA BRAUNA",
         "Fio d'agua",
         "UHE.PH.MG.000215-1.01",
         "SE",
         "SUDESTE/CENTRO-OESTE",
         "PARAIBA DO SUL",
         "2009-12-25",
         "92.550",
         "75.170",
         "-21.45",
         "-42.4"
        ],
        [
         "BARRA GRANDE",
         "Reservatorio com usina",
         "UHE.PH.RS.027556-5.01",
         "S",
         "SUL",
         "URUGUAI",
         "2005-11-01",
         "4.904.450",
         "2.711.790",
         "-2.777.722.222",
         "-5.118.861.111"
        ],
        [
         "BATALHA",
         "Reservatorio com usina",
         "UHE.PH.MG.029454-3.01",
         "SE",
         "SUDESTE/CENTRO-OESTE",
         "PARANAIBA",
         "2014-05-17",
         "1.781.610",
         "430.050",
         "-1.734.555.556",
         "-4.748.944.444"
        ],
        [
         "BELO MONTE",
         "Fio d'agua",
         "UHE.PH.PA.030354-2.01",
         "N",
         "NORTE",
         "AMAZONAS",
         "2016-04-20",
         "2.276.290",
         "2.169.660",
         "-3.126.388.889",
         "-51.775"
        ],
        [
         "BOA ESPERAN�A",
         "Reservatorio com usina",
         "UHE.PH.PI.000267-4.01",
         "NE",
         "NORDESTE",
         "PARNAIBA",
         "1970-01-31",
         "5.085.000",
         "3.173.000",
         "-6.751.388.889",
         "-435.675"
        ],
        [
         "C. DOURADA",
         "Fio d'agua",
         "UHE.PH.GO.000528-2.01",
         "SE",
         "SUDESTE/CENTRO-OESTE",
         "PARANAIBA",
         "1959-01-31",
         "460.000",
         "460.000",
         "-1.850.361.111",
         "-494.925"
        ],
        [
         "C.BRANCO-1",
         "Reservatorio com usina",
         "UHE.PH.MG.027483-6.01",
         "SE",
         "SUDESTE/CENTRO-OESTE",
         "PARANAIBA",
         "2006-02-21",
         "241.130",
         "228.270",
         "-1.878.833.333",
         "-4.814.611.111"
        ],
        [
         "C.BRANCO-2",
         "Fio d'agua",
         "UHE.PH.MG.027484-4.01",
         "SE",
         "SUDESTE/CENTRO-OESTE",
         "PARANAIBA",
         "2007-03-09",
         "879.000",
         "878.000",
         "-1.865.888.889",
         "-4.843.583.333"
        ],
        [
         "CACHOEIRA CALDEIRAO",
         "Fio d'agua",
         "UHE.PH.AP.031186-3.01",
         "N",
         "NORTE",
         "ARAGUARI",
         "2016-05-05",
         "231.210",
         "231.210",
         "0.852777778",
         "-5.129.666.667"
        ],
        [
         "CACONDE",
         "Reservatorio com usina",
         "UHE.PH.SP.000588-6.01",
         "SE",
         "SUDESTE/CENTRO-OESTE",
         "GRANDE",
         "1952-04-01",
         "555.000",
         "51.000",
         "-2.157.777.778",
         "-4.662.333.333"
        ],
        [
         "CACU",
         "Reservatorio com usina",
         "UHE.PH.GO.028756-3.01",
         "SE",
         "SUDESTE/CENTRO-OESTE",
         "PARANAIBA",
         "2010-07-24",
         "227.450",
         "195.760",
         "-1.853.222.222",
         "-5.114.944.444"
        ],
        [
         "CAMARGOS",
         "Reservatorio com usina",
         "UHE.PH.MG.000608-4.01",
         "SE",
         "SUDESTE/CENTRO-OESTE",
         "GRANDE",
         "1960-03-01",
         "792.000",
         "120.000",
         "-2.132.555.556",
         "-4.461.666.667"
        ],
        [
         "CAMPOS NOVOS",
         "Reservatorio com usina",
         "UHE.PH.SC.027401-1.01",
         "S",
         "SUL",
         "URUGUAI",
         "2007-02-03",
         "1.477.000",
         "1.320.000",
         "-2.760.305.556",
         "-5.132.361.111"
        ],
        [
         "CANA BRAVA",
         "Fio d'agua",
         "UHE.PH.GO.000630-0.01",
         "SE",
         "SUDESTE/CENTRO-OESTE",
         "TOCANTINS",
         "2002-05-22",
         "2.300.000",
         "2.300.000",
         "-1.340.416.667",
         "-481.425"
        ],
        [
         "CANASTRA",
         "Fio d'agua",
         "UHE.PH.RS.000635-1.01",
         "S",
         "SUL",
         "JACUI",
         "1956-04-01",
         "0.425",
         "0.183",
         null,
         null
        ],
        [
         "CANDONGA",
         "Fio d'agua",
         "UHE.PH.MG.000641-6.01",
         "SE",
         "SUDESTE/CENTRO-OESTE",
         "DOCE",
         "2023-04-28",
         "29.750",
         "27.120",
         "-2.020.694.444",
         "-4.285.527.778"
        ],
        [
         "CANOAS I",
         "Fio d'agua",
         "UHE.PH.SP.000647-5.01",
         "SE",
         "SUDESTE/CENTRO-OESTE",
         "PARANAPANEMA",
         "1999-05-09",
         "212.000",
         "212.000",
         "-2.294.222.222",
         "-5.051.638.889"
        ],
        [
         "CANOAS II",
         "Fio d'agua",
         "UHE.PH.SP.027092-0.01",
         "SE",
         "SUDESTE/CENTRO-OESTE",
         "PARANAPANEMA",
         "1999-05-15",
         "151.000",
         "151.000",
         "-2.293.777.778",
         "-5.024.888.889"
        ],
        [
         "CAPIVARA",
         "Reservatorio com usina",
         "UHE.PH.SP.000657-2.01",
         "SE",
         "SUDESTE/CENTRO-OESTE",
         "PARANAPANEMA",
         "1977-03-10",
         "10.540.000",
         "4.816.000",
         "-2.266.111.111",
         "-5.135.388.889"
        ],
        [
         "CASTRO ALVES",
         "Fio d'agua",
         "UHE.PH.RS.000718-8.01",
         "S",
         "SUL",
         "JACUI",
         "2008-03-04",
         "92.000",
         "87.000",
         "-2.900.444.444",
         "-5.138.416.667"
        ],
        [
         "CHAVANTES",
         "Reservatorio com usina",
         "UHE.PH.SP.000764-1.01",
         "SE",
         "SUDESTE/CENTRO-OESTE",
         "PARANAPANEMA",
         "1970-02-06",
         "8.795.000",
         "5.754.000",
         "-2.313.055.556",
         "-4.973.333.333"
        ],
        [
         "COARACY NUNES",
         "Fio d'agua",
         "UHE.PH.AP.000783-8.01",
         "N",
         "NORTE",
         "ARAGUARI",
         "1990-12-31",
         "138.500",
         "25.000",
         "0.915277778",
         "-5.125.944.444"
        ],
        [
         "COLIDER",
         "Fio d'agua",
         "UHE.PH.MT.030422-0.01",
         "SE",
         "SUDESTE/CENTRO-OESTE",
         "AMAZONAS",
         "2019-03-09",
         "1.524.500",
         "1.427.480",
         "-1.097.555.556",
         "-5.576.333.333"
        ],
        [
         "CORUMBA",
         "Reservatorio com usina",
         "UHE.PH.GO.000866-4.01",
         "SE",
         "SUDESTE/CENTRO-OESTE",
         "PARANAIBA",
         "1997-04-30",
         "1.500.000",
         "470.000",
         "-1.798.694.444",
         "-4.853.111.111"
        ],
        [
         "CORUMBA-3",
         "Reservatorio com usina",
         "UHE.PH.GO.028352-5.01",
         "SE",
         "SUDESTE/CENTRO-OESTE",
         "PARANAIBA",
         "2009-10-24",
         "972.000",
         "709.000",
         "-1.678.611.111",
         "-4.794.194.444"
        ],
        [
         "CORUMBA-4",
         "Reservatorio com usina",
         "UHE.PH.GO.027795-9.01",
         "SE",
         "SUDESTE/CENTRO-OESTE",
         "PARANAIBA",
         "2006-04-01",
         "3.708.000",
         "2.936.600",
         "-1.632.277.778",
         "-481.875"
        ],
        [
         "CURUA-UNA",
         "Reservatorio com usina",
         "UHE.PH.PA.027130-6.01",
         "N",
         "NORTE",
         "AMAZONAS",
         "1977-07-27",
         "602.000",
         "133.000",
         "-2.816.111.111",
         "-5.430.055.556"
        ],
        [
         "D. FRANCISCA",
         "Fio d'agua",
         "UHE.PH.RS.027012-1.01",
         "S",
         "SUL",
         "JACUI",
         "2001-02-05",
         "330.000",
         "330.000",
         "-2.944.944.444",
         "-5.328.333.333"
        ],
        [
         "DARDANELOS",
         "Fio d'agua",
         "UHE.PH.MT.029597-3.01",
         "SE",
         "SUDESTE/CENTRO-OESTE",
         "AMAZONAS",
         "2011-08-09",
         "0.910",
         "0.870",
         "-1.016.305.556",
         "-5.946.361.111"
        ],
        [
         "E. DA CUNHA",
         "Fio d'agua",
         "UHE.PH.SP.000923-7.01",
         "SE",
         "SUDESTE/CENTRO-OESTE",
         "GRANDE",
         "1980-01-01",
         "14.000",
         "14.000",
         "-2.160.277.778",
         "-4.694.777.778"
        ],
        [
         "EMBORCA��ÃO",
         "Reservatorio com usina",
         "UHE.PH.MG.027115-2.01",
         "SE",
         "SUDESTE/CENTRO-OESTE",
         "PARANAIBA",
         "1982-04-01",
         "17.725.000",
         "4.669.000",
         "-1.845.111.111",
         "-4.798.194.444"
        ],
        [
         "ESPORA",
         "Reservatorio com usina",
         "UHE.PH.GO.000908-3.01",
         "SE",
         "SUDESTE/CENTRO-OESTE",
         "PARANAIBA",
         "2006-09-07",
         "209.000",
         "71.000",
         "-1.867.805.556",
         "-5.186.888.889"
        ],
        [
         "ESTREITO",
         "Fio d'agua",
         "UHE.PH.MA.028863-2.01",
         "N",
         "NORTE",
         "TOCANTINS",
         "2011-04-29",
         "5.298.540",
         "2.907.660",
         "-6.588.611.111",
         "-4.746.388.889"
        ],
        [
         "FERREIRA GOMES",
         "Fio d'agua",
         "UHE.PH.AP.030385-2.01",
         "N",
         "NORTE",
         "ARAGUARI",
         "2014-11-04",
         "137.130",
         "120.400",
         "0.855666667",
         "-5.119.683.333"
        ],
        [
         "FONTES",
         "Fio d'agua",
         "UHE.PH.RJ.000973-3.01",
         "SE",
         "SUDESTE/CENTRO-OESTE",
         "PARAIBA DO SUL",
         "1940-01-01",
         "445.350",
         "445.350",
         "-2.269.111.111",
         "-4.386.277.778"
        ],
        [
         "FOZ CHAPECO",
         "Fio d'agua",
         "UHE.PH.RS.028354-1.01",
         "S",
         "SUL",
         "URUGUAI",
         "2010-10-14",
         "1.513.000",
         "1.512.000",
         "-2.713.972.222",
         "-530.475"
        ],
        [
         "FOZ DO RIO CLARO",
         "Fio d'agua",
         "UHE.PH.GO.029455-1.01",
         "SE",
         "SUDESTE/CENTRO-OESTE",
         "PARANAIBA",
         "2010-08-05",
         "99.130",
         "83.810",
         "-1.911.916.667",
         "-5.064.305.556"
        ],
        [
         "FUNDÃO",
         "Fio d'agua",
         "UHE.PH.PR.028360-6.01",
         "S",
         "SUL",
         "IGUACU",
         "2006-06-23",
         "34.590",
         "33.450",
         "-2.570.083.333",
         "-5.200.361.111"
        ],
        [
         "FUNIL",
         "Reservatorio com usina",
         "UHE.PH.RJ.027118-7.01",
         "SE",
         "SUDESTE/CENTRO-OESTE",
         "PARAIBA DO SUL",
         "1969-04-01",
         "888.000",
         "283.000",
         "-2.252.861.111",
         "-4.456.694.444"
        ],
        [
         "FUNIL-MG",
         "Fio d'agua",
         "UHE.PH.MG.001006-5.01",
         "SE",
         "SUDESTE/CENTRO-OESTE",
         "GRANDE",
         "2003-01-23",
         "304.000",
         "304.000",
         "-211.425",
         "-4.503.472.222"
        ],
        [
         "FURNAS",
         "Reservatorio com usina",
         "UHE.PH.MG.001007-3.01",
         "SE",
         "SUDESTE/CENTRO-OESTE",
         "GRANDE",
         "1963-03-01",
         "22.950.000",
         "5.733.000",
         "-2.066.944.444",
         "-4.631.388.889"
        ],
        [
         "G. B. MUNHOZ",
         "Reservatorio com usina",
         "UHE.PH.PR.000984-9.01",
         "S",
         "SUL",
         "IGUACU",
         "1980-10-01",
         "5.779.000",
         "1.974.000",
         "-2.600.944.444",
         "-5.166.472.222"
        ],
        [
         "G. P. SOUZA",
         "Reservatorio com usina",
         "UHE.PH.PR.001042-1.01",
         "S",
         "SUL",
         "CAPIVARI",
         "1970-10-25",
         "179.000",
         "23.000",
         "-2.513.944.444",
         "-4.887.388.889"
        ],
        [
         "GARIBALDI",
         "Reservatorio com usina",
         "UHE.PH.SC.030415-8.01",
         "S",
         "SUL",
         "URUGUAI",
         "2013-09-24",
         "296.000",
         "232.000",
         "-2.762.472.222",
         "-5.098.388.889"
        ],
        [
         "GUAPORE",
         "Fio d'agua",
         "UHE.PH.MT.001066-9.01",
         "SE",
         "SUDESTE/CENTRO-OESTE",
         "AMAZONAS",
         "2003-04-08",
         "21.000",
         "21.000",
         "-1.512.166.667",
         "-5.896.416.667"
        ],
        [
         "GUILM. AMORIM",
         "Fio d'agua",
         "UHE.PH.MG.001079-0.01",
         "SE",
         "SUDESTE/CENTRO-OESTE",
         "DOCE",
         "1997-11-02",
         "12.000",
         "12.000",
         "-197.075",
         "-4.296.111.111"
        ],
        [
         "HENRY BORDEN",
         "Fio d'agua",
         "UHE.PH.SP.001084-7.01",
         "SE",
         "SUDESTE/CENTRO-OESTE",
         "TIETE",
         "1926-04-01",
         "1.000",
         "1.000",
         "-2.387.444.444",
         "-464.525"
        ],
        [
         "HENRY BORDEN",
         "Fio d'agua",
         "UHE.PH.SP.001084-7.01",
         "SE",
         "SUDESTE/CENTRO-OESTE",
         "TIETE",
         "1956-01-01",
         "1.000",
         "1.000",
         "-2.387.444.444",
         "-464.525"
        ],
        [
         "I. SOLTEIRA",
         "Reservatorio com usina",
         "UHE.PH.SP.001120-7.01",
         "SE",
         "SUDESTE/CENTRO-OESTE",
         "PARANA",
         "1973-03-01",
         "21.060.000",
         "15.543.800",
         "-2.037.972.222",
         "-5.135.805.556"
        ],
        [
         "IBITINGA",
         "Fio d'agua",
         "UHE.PH.SP.001097-9.01",
         "SE",
         "SUDESTE/CENTRO-OESTE",
         "TIETE",
         "1969-02-01",
         "985.000",
         "985.000",
         "-2.175.775",
         "-4.899.183.333"
        ],
        [
         "IGARAPAVA",
         "Fio d'agua",
         "UHE.PH.SP.001098-7.01",
         "SE",
         "SUDESTE/CENTRO-OESTE",
         "GRANDE",
         "1999-01-01",
         "480.000",
         "480.000",
         "-1.999.027.778",
         "-4.775.416.667"
        ],
        [
         "ILHA POMBOS",
         "Fio d'agua",
         "UHE.PH.RJ.001113-4.01",
         "SE",
         "SUDESTE/CENTRO-OESTE",
         "PARAIBA DO SUL",
         "1924-03-01",
         "8.000",
         "8.000",
         "-2.184.472.222",
         "-4.257.916.667"
        ],
        [
         "IRAPE",
         "Reservatorio com usina",
         "UHE.PH.MG.001146-0.01",
         "SE",
         "SUDESTE/CENTRO-OESTE",
         "JEQUITINHONHA",
         "2006-07-20",
         "5.963.920",
         "2.267.940",
         "-1.673.583.333",
         "-4.257.555.556"
        ],
        [
         "ITÁ",
         "Fio d'agua",
         "UHE.PH.RS.001152-5.01",
         "S",
         "SUL",
         "URUGUAI",
         "2000-07-01",
         "5.100.000",
         "5.100.000",
         "-2.728.222.222",
         "-5.238.555.556"
        ],
        [
         "ITAIPU",
         "Fio d'agua",
         "UHE.PH.PR.001161-4.01",
         "SE",
         "SUDESTE/CENTRO-OESTE",
         "PARANA",
         "1984-02-01",
         "29.403.910",
         "27.695.190",
         "-2.540.472.222",
         "-5.458.833.333"
        ],
        [
         "ITAPARICA",
         "Reservatorio com usina",
         "UHE.PH.PE.001174-6.01",
         "NE",
         "NORDESTE",
         "SAO FRANCISCO",
         "1988-02-28",
         "10.782.000",
         "7.234.000",
         "-9.140.833.333",
         "-3.831.361.111"
        ],
        [
         "ITAPEBI",
         "Fio d'agua",
         "UHE.PH.BA.001175-4.01",
         "NE",
         "NORDESTE",
         "JEQUITINHONHA",
         "2003-02-05",
         "1.633.560",
         "1.565.270",
         "-1.596.972.222",
         "-3.959.333.333"
        ],
        [
         "ITAUBA",
         "Fio d'agua",
         "UHE.PH.RS.027019-9.01",
         "S",
         "SUL",
         "JACUI",
         "1978-02-01",
         "620.000",
         "620.000",
         "-2.925.888.889",
         "-5.323.611.111"
        ],
        [
         "ITIQUIRA I",
         "Fio d'agua",
         "UHE.PH.MT.027244-2.01",
         "SE",
         "SUDESTE/CENTRO-OESTE",
         "PARAGUAI",
         "2002-10-24",
         "5.000",
         "5.000",
         "-1.708.361.111",
         "-5.487.555.556"
        ],
        [
         "ITIQUIRA II",
         "Fio d'agua",
         "UHE.PH.MT.027244-2.01",
         "SE",
         "SUDESTE/CENTRO-OESTE",
         "PARAGUAI",
         "2002-12-22",
         "1.000",
         "1.000",
         "-1.708.166.667",
         "-549.025"
        ],
        [
         "ITUMBIARA",
         "Reservatorio com usina",
         "UHE.PH.MG.001194-0.01",
         "SE",
         "SUDESTE/CENTRO-OESTE",
         "PARANAIBA",
         "1980-02-01",
         "17.027.000",
         "4.573.000",
         "-1.840.944.444",
         "-4.909.694.444"
        ],
        [
         "ITUTINGA",
         "Fio d'agua",
         "UHE.PH.MG.001197-5.01",
         "SE",
         "SUDESTE/CENTRO-OESTE",
         "GRANDE",
         "1955-02-01",
         "11.000",
         "11.000",
         "-2.129.277.778",
         "-4.462.277.778"
        ],
        [
         "JACUI",
         "Fio d'agua",
         "UHE.PH.RS.001217-3.01",
         "S",
         "SUL",
         "JACUI",
         "1962-03-01",
         "29.000",
         "29.000",
         "-2.907.916.667",
         "-53.225"
        ],
        [
         "JAGUARA",
         "Fio d'agua",
         "UHE.PH.SP.001225-4.01",
         "SE",
         "SUDESTE/CENTRO-OESTE",
         "GRANDE",
         "1971-01-01",
         "450.000",
         "450.000",
         "-20.025",
         "-4.743.555.556"
        ],
        [
         "JAGUARI",
         "Reservatorio com usina",
         "UHE.PH.SP.027131-4.01",
         "SE",
         "SUDESTE/CENTRO-OESTE",
         "PARAIBA DO SUL",
         "1972-01-02",
         "1.236.000",
         "443.000",
         "-231.925",
         "-4.602.138.889"
        ],
        [
         "JAURU",
         "Fio d'agua",
         "UHE.PH.MT.001245-9.01",
         "SE",
         "SUDESTE/CENTRO-OESTE",
         "PARAGUAI",
         "2003-06-06",
         "17.150",
         "16.250",
         "-1.524.083.333",
         "-5.873.111.111"
        ],
        [
         "JIRAU",
         "Fio d'agua",
         "UHE.PH.RO.029736-4.01",
         "SE",
         "SUDESTE/CENTRO-OESTE",
         "AMAZONAS",
         "2013-09-06",
         "2.746.730",
         "1.235.590",
         "-9.268.333.333",
         "-6.464.861.111"
        ],
        [
         "JUPIA",
         "Fio d'agua",
         "UHE.PH.SP.001282-3.01",
         "SE",
         "SUDESTE/CENTRO-OESTE",
         "PARANA",
         "1969-02-01",
         "3.354.000",
         "3.354.000",
         "-2.077.694.444",
         "-5.163.305.556"
        ],
        [
         "JURUMIRIM",
         "Reservatorio com usina",
         "UHE.PH.SP.001285-8.01",
         "SE",
         "SUDESTE/CENTRO-OESTE",
         "PARANAPANEMA",
         "1962-09-21",
         "7.008.000",
         "3.843.000",
         "-2.321.083.333",
         "-4.922.916.667"
        ],
        [
         "L. C. BARRETO",
         "Fio d'agua",
         "UHE.PH.SP.000917-2.01",
         "SE",
         "SUDESTE/CENTRO-OESTE",
         "GRANDE",
         "1969-01-01",
         "1.423.000",
         "1.423.000",
         "-2.015.361.111",
         "-4.727.777.778"
        ],
        [
         "LAJEADO",
         "Fio d'agua",
         "UHE.PH.TO.001304-8.01",
         "SE",
         "SUDESTE/CENTRO-OESTE",
         "TOCANTINS",
         "2001-12-01",
         "4.940.000",
         "4.940.000",
         "-9.756.388.889",
         "-4.837.416.667"
        ],
        [
         "LIMOEIRO",
         "Fio d'agua",
         "UHE.PH.SP.001328-5.01",
         "SE",
         "SUDESTE/CENTRO-OESTE",
         "GRANDE",
         "1980-01-01",
         "25.000",
         "25.000",
         "-2.162.472.222",
         "-4.701.055.556"
        ],
        [
         "M. MORAES",
         "Reservatorio com usina",
         "UHE.PH.MG.002038-9.01",
         "SE",
         "SUDESTE/CENTRO-OESTE",
         "GRANDE",
         "1956-04-01",
         "4.040.000",
         "1.540.000",
         "-20.285",
         "-470.625"
        ],
        [
         "MACHADINHO",
         "Reservatorio com usina",
         "UHE.PH.SC.001356-0.01",
         "S",
         "SUL",
         "URUGUAI",
         "2002-02-16",
         "3.340.000",
         "2.283.000",
         "-2.752.444.444",
         "-5.178.888.889"
        ],
        [
         "MANSO",
         "Reservatorio com usina",
         "UHE.PH.MT.001401-0.01",
         "SE",
         "SUDESTE/CENTRO-OESTE",
         "PARAGUAI",
         "2001-02-02",
         "7.337.000",
         "4.386.000",
         "-1.487.138.889",
         "-5.578.361.111"
        ],
        [
         "MARIMBONDO",
         "Reservatorio com usina",
         "UHE.PH.MG.001417-6.01",
         "SE",
         "SUDESTE/CENTRO-OESTE",
         "GRANDE",
         "1975-04-01",
         "6.150.000",
         "890.000",
         "-2.030.388.889",
         "-4.919.277.778"
        ],
        [
         "MASCARENHAS",
         "Fio d'agua",
         "UHE.PH.ES.001432-0.01",
         "SE",
         "SUDESTE/CENTRO-OESTE",
         "DOCE",
         "1973-09-21",
         "21.850",
         "17.810",
         "-19.5",
         "-40.92"
        ],
        [
         "MAUA",
         "Reservatorio com usina",
         "UHE.PH.PR.029598-1.01",
         "S",
         "SUL",
         "PARANAPANEMA",
         "2012-11-23",
         "2.137.000",
         "1.473.000",
         "-240.625",
         "-5.070.805.556"
        ],
        [
         "MIRANDA",
         "Reservatorio com usina",
         "UHE.PH.MG.001469-9.01",
         "SE",
         "SUDESTE/CENTRO-OESTE",
         "PARANAIBA",
         "1998-05-29",
         "1.120.000",
         "974.000",
         "-1.891.166.667",
         "-4.803.916.667"
        ],
        [
         "MONJOLINHO",
         "Fio d'agua",
         "UHE.PH.RS.028562-5.01",
         "S",
         "SUL",
         "URUGUAI",
         "2009-09-01",
         "150.480",
         "150.480",
         "-2.734.416.667",
         "-5.273.111.111"
        ],
        [
         "MONTE CLARO",
         "Fio d'agua",
         "UHE.PH.RS.027968-4.01",
         "S",
         "SUL",
         "JACUI",
         "2004-12-29",
         "11.280",
         "10.100",
         "-2.902.361.111",
         "-5.153.222.222"
        ],
        [
         "MOXOTO",
         "Fio d'agua",
         "UHE.PH.AL.001510-5.01",
         "NE",
         "NORDESTE",
         "SAO FRANCISCO",
         "1977-02-28",
         "1.226.000",
         "1.226.000",
         "-9.356.111.111",
         "-3.821.027.778"
        ],
        [
         "N. AVANHANDAVA",
         "Fio d'agua",
         "UHE.PH.SP.001552-0.01",
         "SE",
         "SUDESTE/CENTRO-OESTE",
         "TIETE",
         "1982-04-01",
         "2.720.000",
         "2.720.000",
         "-2.111.694.444",
         "-5.020.175"
        ],
        [
         "NILO PE�ANHA",
         "Fio d'agua",
         "UHE.PH.RJ.001536-9.01",
         "SE",
         "SUDESTE/CENTRO-OESTE",
         "PARAIBA DO SUL",
         "1953-04-01",
         "38.000",
         "38.000",
         "-2.268.305.556",
         "-4.387.333.333"
        ],
        [
         "NOVA PONTE",
         "Reservatorio com usina",
         "UHE.PH.MG.001574-1.01",
         "SE",
         "SUDESTE/CENTRO-OESTE",
         "PARANAIBA",
         "1994-12-07",
         "12.792.000",
         "2.412.000",
         "-1.913.111.111",
         "-4.769.361.111"
        ],
        [
         "OURINHOS",
         "Fio d'agua",
         "UHE.PH.SP.027872-6.01",
         "SE",
         "SUDESTE/CENTRO-OESTE",
         "PARANAPANEMA",
         "2005-04-16",
         "20.820",
         "18.680",
         "-2.306.777.778",
         "-498.375"
        ],
        [
         "P. AFONSO 1,2,3",
         "Fio d'agua",
         "UHE.PH.BA.027048-2.01",
         "NE",
         "NORDESTE",
         "SAO FRANCISCO",
         "1961-04-30",
         "26.000",
         "26.000",
         "-9.395.833.333",
         "-3.820.361.111"
        ],
        [
         "P. AFONSO 1,2,3",
         "Fio d'agua",
         "UHE.PH.BA.027049-0.01",
         "NE",
         "NORDESTE",
         "SAO FRANCISCO",
         "1971-04-30",
         "26.000",
         "26.000",
         "-9.395.833.333",
         "-3.820.361.111"
        ],
        [
         "P. AFONSO 1,2,3",
         "Fio d'agua",
         "UHE.PH.BA.002012-5.01",
         "NE",
         "NORDESTE",
         "SAO FRANCISCO",
         "1955-01-31",
         "26.000",
         "26.000",
         "-9.395.833.333",
         "-3.820.361.111"
        ],
        [
         "P. AFONSO 4",
         "Fio d'agua",
         "UHE.PH.BA.027050-4.01",
         "NE",
         "NORDESTE",
         "SAO FRANCISCO",
         "1969-04-30",
         "1.277.000",
         "1.068.000",
         "-9.415.833.333",
         "-3.821.055.556"
        ],
        [
         "P. COLOMBIA",
         "Fio d'agua",
         "UHE.PH.MG.002117-2.01",
         "SE",
         "SUDESTE/CENTRO-OESTE",
         "GRANDE",
         "1973-03-01",
         "1.524.000",
         "1.524.000",
         "-2.012.694.444",
         "-4.856.583.333"
        ],
        [
         "PARAIBUNA",
         "Reservatorio com usina",
         "UHE.PH.SP.027122-5.01",
         "SE",
         "SUDESTE/CENTRO-OESTE",
         "PARAIBA DO SUL",
         "1978-01-02",
         "4.732.000",
         "2.096.000",
         "-23.41",
         "-4.560.055.556"
        ],
        [
         "PASSO FUNDO",
         "Reservatorio com usina",
         "UHE.PH.RS.002001-0.01",
         "S",
         "SUL",
         "URUGUAI",
         "1973-03-21",
         "1.589.000",
         "185.000",
         "-2.755.388.889",
         "-5.274.083.333"
        ],
        [
         "PASSO REAL",
         "Reservatorio com usina",
         "UHE.PH.RS.002003-6.01",
         "S",
         "SUL",
         "JACUI",
         "1973-01-01",
         "3.646.000",
         "289.000",
         "-2.901.527.778",
         "-5.318.722.222"
        ],
        [
         "PASSO SAO JOAO",
         "Fio d'agua",
         "UHE.PH.RS.029456-0.01",
         "S",
         "SUL",
         "URUGUAI",
         "2012-03-24",
         "102.400",
         "83.905",
         "-2.814.083.333",
         "-5.505.194.444"
        ],
        [
         "PEDRA DO CAVALO",
         "Reservatorio com usina",
         "UHE.PH.BA.028565-0.01",
         "NE",
         "NORDESTE",
         "PARAGUACU",
         "2004-12-16",
         "3.134.000",
         "2.192.000",
         "-125.825",
         "-3.900.194.444"
        ],
        [
         "PEIXE ANGICAL",
         "Reservatorio com usina",
         "UHE.PH.TO.028353-3.01",
         "SE",
         "SUDESTE/CENTRO-OESTE",
         "TOCANTINS",
         "2006-06-27",
         "2.741.000",
         "2.212.700",
         "-122.375",
         "-4.838.305.556"
        ],
        [
         "PEREIRA PASSOS",
         "Fio d'agua",
         "UHE.PH.RJ.002043-5.01",
         "SE",
         "SUDESTE/CENTRO-OESTE",
         "PARAIBA DO SUL",
         "1962-04-01",
         "17.000",
         "17.000",
         "-2.268.666.667",
         "-4.382.527.778"
        ],
        [
         "PICADA",
         "Fio d'agua",
         "UHE.PH.MG.002053-2.01",
         "SE",
         "SUDESTE/CENTRO-OESTE",
         "PARAIBA DO SUL",
         "2006-07-01",
         "7.000",
         "6.000",
         "-2.188.416.667",
         "-4.354.055.556"
        ],
        [
         "PIMENTAL",
         "Fio d'agua",
         "UHE.PH.PA.030354-2.01",
         "N",
         "NORTE",
         "AMAZONAS",
         "2016-04-28",
         "2.276.290",
         "2.169.660",
         "-34.375",
         "-5.194.722.222"
        ],
        [
         "PIRAJU",
         "Fio d'agua",
         "UHE.PH.SP.002077-0.01",
         "SE",
         "SUDESTE/CENTRO-OESTE",
         "PARANAPANEMA",
         "2002-09-12",
         "84.000",
         "84.000",
         "-2.315.333.333",
         "-4.938.083.333"
        ],
        [
         "PONTE DE PEDRA",
         "Fio d'agua",
         "UHE.PH.MT.002103-2.01",
         "SE",
         "SUDESTE/CENTRO-OESTE",
         "PARAGUAI",
         "2005-07-19",
         "199.000",
         "199.000",
         "-1.758.638.889",
         "-5.490.722.222"
        ],
        [
         "PORTO ESTRELA",
         "Reservatorio com usina",
         "UHE.PH.MG.027196-9.01",
         "SE",
         "SUDESTE/CENTRO-OESTE",
         "DOCE",
         "2001-09-04",
         "89.000",
         "56.000",
         "-1.911.472.222",
         "-4.266.305.556"
        ],
        [
         "PORTO PRIMAVERA",
         "Fio d'agua",
         "UHE.PH.SP.002127-0.01",
         "SE",
         "SUDESTE/CENTRO-OESTE",
         "PARANA",
         "1999-01-23",
         "20.001.000",
         "15.707.000",
         "-2.247.472.222",
         "-5.295.222.222"
        ],
        [
         "PROMISS�O",
         "Reservatorio com usina",
         "UHE.PH.SP.002158-0.01",
         "SE",
         "SUDESTE/CENTRO-OESTE",
         "TIETE",
         "1975-03-01",
         "7.408.000",
         "5.280.000",
         "-2.129.680.556",
         "-4.978.341.667"
        ],
        [
         "QUEBRA QUEIXO",
         "Reservatorio com usina",
         "UHE.PH.SC.002167-9.01",
         "S",
         "SUL",
         "URUGUAI",
         "2003-12-23",
         "137.000",
         "111.000",
         "-2.666.777.778",
         "-5.255.472.222"
        ],
        [
         "QUEIMADO",
         "Reservatorio com usina",
         "UHE.PH.MG.002176-8.01",
         "SE",
         "SUDESTE/CENTRO-OESTE",
         "SAO FRANCISCO",
         "2004-04-09",
         "557.000",
         "95.250",
         "-1.621.138.889",
         "-4.732.527.778"
        ],
        [
         "RETIRO BAIXO",
         "Reservatorio com usina",
         "UHE.PH.MG.029457-8.01",
         "SE",
         "SUDESTE/CENTRO-OESTE",
         "SAO FRANCISCO",
         "2010-03-03",
         "241.590",
         "200.720",
         "-1.889.444.444",
         "-4.478.166.667"
        ],
        [
         "RONDON II",
         "Reservatorio com usina",
         "UHE.PH.RO.027448-8.01",
         "SE",
         "SUDESTE/CENTRO-OESTE",
         "AMAZONAS",
         "2011-03-31",
         "478.290",
         "192.170",
         "-1.199.722.222",
         "-6.069.722.222"
        ],
        [
         "ROSAL",
         "Fio d'agua",
         "UHE.PH.ES.002553-4.01",
         "SE",
         "SUDESTE/CENTRO-OESTE",
         "ITABAPOANA",
         "2000-01-17",
         "11.000",
         "11.000",
         "-2.091.666.667",
         "-4.172.166.667"
        ],
        [
         "ROSANA",
         "Fio d'agua",
         "UHE.PH.SP.002555-0.01",
         "SE",
         "SUDESTE/CENTRO-OESTE",
         "PARANAPANEMA",
         "1987-06-11",
         "1.918.000",
         "1.918.000",
         "-2.260.222.222",
         "-5.286.861.111"
        ],
        [
         "S.DO FACÃO",
         "Reservatorio com usina",
         "UHE.PH.GO.028355-0.01",
         "SE",
         "SUDESTE/CENTRO-OESTE",
         "PARANAIBA",
         "2010-07-13",
         "5.199.000",
         "1.752.000",
         "-1.804.555.556",
         "-4.767.555.556"
        ],
        [
         "S.R.VERDINHO",
         "Fio d'agua",
         "UHE.PH.GO.028760-1.01",
         "SE",
         "SUDESTE/CENTRO-OESTE",
         "PARANAIBA",
         "2010-07-06",
         "394.340",
         "352.480",
         "-1.914.555.556",
         "-5.076.722.222"
        ],
        [
         "SA CARVALHO",
         "Fio d'agua",
         "UHE.PH.MG.002563-1.01",
         "SE",
         "SUDESTE/CENTRO-OESTE",
         "DOCE",
         "2001-04-01",
         "1.000",
         "1.000",
         "-1.964.583.333",
         "-42.85"
        ],
        [
         "SALTO",
         "Fio d'agua",
         "UHE.PH.GO.028758-0.01",
         "SE",
         "SUDESTE/CENTRO-OESTE",
         "PARANAIBA",
         "2010-05-25",
         "826.060",
         "767.660",
         "-188.075",
         "-5.117.111.111"
        ],
        [
         "SALTO APIACAS",
         "Fio d'agua",
         "UHE.PH.MT.031401-3.01",
         "SE",
         "SUDESTE/CENTRO-OESTE",
         "AMAZONAS",
         "2016-09-17",
         "2.080",
         "0.060",
         null,
         null
        ],
        [
         "SALTO CAXIAS",
         "Fio d'agua",
         "UHE.PH.PR.002591-7.01",
         "S",
         "SUL",
         "IGUACU",
         "1999-02-18",
         "3.573.000",
         "3.573.000",
         "-2.554.083.333",
         "-5.349.444.444"
        ],
        [
         "SALTO GRANDE CM",
         "Fio d'agua",
         "UHE.PH.MG.027210-8.01",
         "SE",
         "SUDESTE/CENTRO-OESTE",
         "DOCE",
         "1956-02-28",
         "78.000",
         "78.000",
         "-1.911.555.556",
         "-42.72"
        ],
        [
         "SALTO GRANDE CS",
         "Fio d'agua",
         "UHE.PH.SP.002648-4.01",
         "SE",
         "SUDESTE/CENTRO-OESTE",
         "PARANAPANEMA",
         "1958-05-31",
         "45.000",
         "45.000",
         "-2.290.194.444",
         "-4.999.888.889"
        ],
        [
         "SALTO OSORIO",
         "Fio d'agua",
         "UHE.PH.PR.002659-0.01",
         "S",
         "SUL",
         "IGUACU",
         "1975-10-17",
         "1.124.000",
         "1.124.000",
         "-2.553.694.444",
         "-5.300.777.778"
        ],
        [
         "SALTO PILAO",
         "Fio d'agua",
         "UHE.PH.SC.028564-1.01",
         "S",
         "SUL",
         "ITAJAI",
         "2009-12-11",
         "0.020",
         "0.010",
         "-2.713.611.111",
         "-4.952.027.778"
        ],
        [
         "SALTO SANTIAGO",
         "Reservatorio com usina",
         "UHE.PH.PR.002672-7.01",
         "S",
         "SUL",
         "IGUACU",
         "1980-12-31",
         "6.775.000",
         "2.662.000",
         "-2.562.777.778",
         "-5.260.805.556"
        ],
        [
         "SAMUEL",
         "Reservatorio com usina",
         "UHE.PH.RO.002687-5.01",
         "SE",
         "SUDESTE/CENTRO-OESTE",
         "AMAZONAS",
         "1990-12-31",
         "3.493.440",
         "943.230",
         "-8.751.944.444",
         "-6.345.416.667"
        ],
        [
         "SANTA BRANCA",
         "Reservatorio com usina",
         "UHE.PH.SP.002696-4.01",
         "SE",
         "SUDESTE/CENTRO-OESTE",
         "PARAIBA DO SUL",
         "1999-06-06",
         "439.000",
         "131.000",
         "-2.337.416.667",
         "-45.87"
        ],
        [
         "SANTA CECILIA",
         "Reservatorio com usina DE BOMBEAMENTO",
         "UHE.PH.RJ.027217-5.01",
         "SE",
         "SUDESTE/CENTRO-OESTE",
         "PARAIBA DO SUL",
         "2000-06-02",
         "6.000",
         "6.000",
         "-2.248.222.222",
         "-4.383.888.889"
        ],
        [
         "SANTA CLARA-PR",
         "Reservatorio com usina",
         "UHE.PH.PR.028361-4.01",
         "S",
         "SUL",
         "IGUACU",
         "2005-07-31",
         "431.000",
         "169.000",
         "-2.564.611.111",
         "-5.195.611.111"
        ],
        [
         "SANTO ANTONIO",
         "Fio d'agua",
         "UHE.PH.RO.029707-0.01",
         "SE",
         "SUDESTE/CENTRO-OESTE",
         "AMAZONAS",
         "2012-03-30",
         "2.282.800",
         "2.077.300",
         "-8.801.111.111",
         "-6.394.972.222"
        ],
        [
         "SAO DOMINGOS",
         "Fio d'agua",
         "UHE.PH.MS.028761-0.01",
         "SE",
         "SUDESTE/CENTRO-OESTE",
         "PARANA",
         "2013-06-14",
         "131.430",
         "112.310",
         "-2.008.361.111",
         "-5.317.472.222"
        ],
        [
         "SAO JOSE",
         "Fio d'agua",
         "UHE.PH.RS.029459-4.01",
         "S",
         "SUL",
         "URUGUAI",
         "2011-03-29",
         "188.110",
         "165.530",
         "-2.817.694.444",
         "-5.481.333.333"
        ],
        [
         "SAO MANOEL",
         "Fio d'agua",
         "UHE.PH.PA.031444-7.01",
         "SE",
         "SUDESTE/CENTRO-OESTE",
         "AMAZONAS",
         "2017-12-28",
         "570.080",
         "490.270",
         "-9.189.444.444",
         "-5.705.277.778"
        ],
        [
         "SAO ROQUE",
         "Reservatorio com usina",
         "UHE.PH.SC.030938-9.01",
         "S",
         "SUL",
         "URUGUAI",
         "2022-07-21",
         "795.670",
         "336.720",
         "-2.749.777.777.777",
         "-5.080.463.888.888"
        ],
        [
         "SAO SALVADOR",
         "Fio d'agua",
         "UHE.PH.TO.028567-6.01",
         "SE",
         "SUDESTE/CENTRO-OESTE",
         "TOCANTINS",
         "2009-08-06",
         "952.000",
         "952.000",
         "-1.283.472.222",
         "-4.822.472.222"
        ],
        [
         "SÃO SIMÃO",
         "Reservatorio com usina",
         "UHE.PH.GO.002704-9.01",
         "SE",
         "SUDESTE/CENTRO-OESTE",
         "PARANAIBA",
         "1978-02-01",
         "12.540.000",
         "7.000.000",
         "-1.901.666.667",
         "-50.5"
        ],
        [
         "SEGREDO",
         "Reservatorio com usina",
         "UHE.PH.PR.002715-4.01",
         "S",
         "SUL",
         "IGUACU",
         "1992-09-26",
         "2.950.000",
         "2.562.000",
         "-2.579.222.222",
         "-5.211.638.889"
        ],
        [
         "SERRA DA MESA",
         "Reservatorio com usina",
         "UHE.PH.GO.002731-6.01",
         "SE",
         "SUDESTE/CENTRO-OESTE",
         "TOCANTINS",
         "1998-04-17",
         "54.400.000",
         "11.150.000",
         "-1.383.416.667",
         "-4.830.583.333"
        ],
        [
         "SIMPLICIO",
         "Fio d'agua",
         "UHE.PH.MG.029458-6.01",
         "SE",
         "SUDESTE/CENTRO-OESTE",
         "PARAIBA DO SUL",
         "2013-06-05",
         "14.620",
         "10.580",
         "-2.192.138.889",
         "-4.278.972.222"
        ],
        [
         "SINOP",
         "Reservatorio com usina",
         "UHE.PH.MT.031428-5.01",
         "SE",
         "SUDESTE/CENTRO-OESTE",
         "AMAZONAS",
         "2019-09-17",
         "3.071.180",
         "1.045.210",
         "-1.126.294.444",
         "-5.545.180.556"
        ],
        [
         "SOBRADINHO",
         "Reservatorio com usina",
         "UHE.PH.BA.002755-3.01",
         "NE",
         "NORDESTE",
         "SAO FRANCISCO",
         "1979-04-30",
         "34.116.000",
         "5.447.000",
         "-9.429.722.222",
         "-40.83"
        ],
        [
         "SOBRAGI",
         "Fio d'agua",
         "UHE.PH.MG.002757-0.01",
         "SE",
         "SUDESTE/CENTRO-OESTE",
         "PARAIBA DO SUL",
         "1998-09-15",
         "0.090",
         "0.060",
         "-2.198.166.667",
         "-4.335.055.556"
        ],
        [
         "STA.CLARA-MG",
         "Fio d'agua",
         "UHE.PH.MG.002699-9.01",
         "SE",
         "SUDESTE/CENTRO-OESTE",
         "MUCURI",
         "2002-02-20",
         "150.440",
         "115.990",
         "-1.789.583.333",
         "-4.020.333.333"
        ],
        [
         "STO ANTONIO DO JARI",
         "Fio d'agua",
         "UHE.PH.AP.026792-9.01",
         "N",
         "NORTE",
         "AMAZONAS",
         "2014-09-17",
         "133.390",
         "107.320",
         "-0.8675",
         "-5.240.555.556"
        ],
        [
         "SUI�A",
         "Fio d'agua",
         "UHE.PH.ES.002781-2.01",
         "SE",
         "SUDESTE/CENTRO-OESTE",
         "OUTRAS- SUDESTE",
         "1990-12-31",
         "0.352",
         "0.094",
         null,
         null
        ],
        [
         "TAQUARU�U",
         "Fio d'agua",
         "UHE.PH.SP.002821-5.01",
         "SE",
         "SUDESTE/CENTRO-OESTE",
         "PARANAPANEMA",
         "1992-12-11",
         "677.000",
         "677.000",
         "-2.254.472.222",
         "-5.199.583.333"
        ],
        [
         "TELES PIRES",
         "Fio d'agua",
         "UHE.PH.PA.030557-0.01",
         "SE",
         "SUDESTE/CENTRO-OESTE",
         "AMAZONAS",
         "2015-11-07",
         "961.110",
         "890.330",
         "-9.351.111.111",
         "-567.775"
        ],
        [
         "TR�S IRM�OS",
         "Reservatorio com usina",
         "UHE.PH.SP.002873-8.01",
         "SE",
         "SUDESTE/CENTRO-OESTE",
         "TIETE",
         "1993-04-01",
         "13.372.000",
         "9.923.000",
         "-2.066.861.111",
         "-5.129.694.444"
        ],
        [
         "TR�S MARIAS",
         "Reservatorio com usina",
         "UHE.PH.MG.027113-6.01",
         "SE",
         "SUDESTE/CENTRO-OESTE",
         "SAO FRANCISCO",
         "1962-02-01",
         "19.528.000",
         "4.250.000",
         "-182.175",
         "-4.526.194.444"
        ],
        [
         "TUCURUI",
         "Reservatorio com usina",
         "UHE.PH.PA.002889-4.01",
         "N",
         "NORTE",
         "TOCANTINS",
         "1984-04-30",
         "50.275.000",
         "11.293.000",
         "-3.834.166.667",
         "-4.964.527.778"
        ],
        [
         "VOLTA GRANDE",
         "Fio d'agua",
         "UHE.PH.SP.003045-7.01",
         "SE",
         "SUDESTE/CENTRO-OESTE",
         "GRANDE",
         "1985-01-01",
         "2.244.000",
         "2.244.000",
         "-2.003.277.778",
         "-4.821.722.222"
        ],
        [
         "XINGO",
         "Fio d'agua",
         "UHE.PH.SE.027053-9.01",
         "NE",
         "NORDESTE",
         "SAO FRANCISCO",
         "1994-04-30",
         "3.800.000",
         "3.800.000",
         "-9.617.777.778",
         "-3.779.694.444"
        ]
       ],
       "datasetInfos": [],
       "dbfsResultPath": null,
       "isJsonSchema": true,
       "metadata": {},
       "overflow": false,
       "plotOptions": {
        "customPlotOptions": {},
        "displayType": "table",
        "pivotAggregation": null,
        "pivotColumns": null,
        "xColumns": null,
        "yColumns": null
       },
       "removedWidgets": [],
       "schema": [
        {
         "metadata": "{}",
         "name": "Nom_Usina",
         "type": "\"string\""
        },
        {
         "metadata": "{}",
         "name": "Tipo_Reservatorio",
         "type": "\"string\""
        },
        {
         "metadata": "{}",
         "name": "Codigo_Aneel",
         "type": "\"string\""
        },
        {
         "metadata": "{}",
         "name": "id_subsistema",
         "type": "\"string\""
        },
        {
         "metadata": "{}",
         "name": "Subsistema",
         "type": "\"string\""
        },
        {
         "metadata": "{}",
         "name": "Nom_Bacia",
         "type": "\"string\""
        },
        {
         "metadata": "{}",
         "name": "Inicio_operacao",
         "type": "\"date\""
        },
        {
         "metadata": "{}",
         "name": "val_volmax(m3)",
         "type": "\"string\""
        },
        {
         "metadata": "{}",
         "name": "val_volmin(m3)",
         "type": "\"string\""
        },
        {
         "metadata": "{}",
         "name": "val_latitude",
         "type": "\"string\""
        },
        {
         "metadata": "{}",
         "name": "val_longitude",
         "type": "\"string\""
        }
       ],
       "type": "table"
      }
     },
     "output_type": "display_data"
    }
   ],
   "source": [
    "display(df_pergunta_01)"
   ]
  },
  {
   "cell_type": "code",
   "execution_count": 0,
   "metadata": {
    "application/vnd.databricks.v1+cell": {
     "cellMetadata": {
      "byteLimit": 2048000,
      "rowLimit": 10000
     },
     "inputWidgets": {},
     "nuid": "97f5d271-dbf6-4af3-8af0-0b17112d897a",
     "showTitle": false,
     "title": ""
    }
   },
   "outputs": [
    {
     "output_type": "stream",
     "name": "stdout",
     "output_type": "stream",
     "text": [
      "<class 'pandas.core.frame.DataFrame'>\nRangeIndex: 158 entries, 0 to 157\nData columns (total 11 columns):\n #   Column             Non-Null Count  Dtype \n---  ------             --------------  ----- \n 0   Nom_Usina          158 non-null    object\n 1   Tipo_Reservatorio  158 non-null    object\n 2   Codigo_Aneel       158 non-null    object\n 3   id_subsistema      158 non-null    object\n 4   Subsistema         158 non-null    object\n 5   Nom_Bacia          158 non-null    object\n 6   Inicio_operacao    158 non-null    object\n 7   val_volmax(m3)     158 non-null    object\n 8   val_volmin(m3)     158 non-null    object\n 9   val_latitude       155 non-null    object\n 10  val_longitude      155 non-null    object\ndtypes: object(11)\nmemory usage: 13.7+ KB\n"
     ]
    }
   ],
   "source": [
    "#Verificando a quantidade de linhas e Colunas.\n",
    "df_pergunta_01.info()"
   ]
  },
  {
   "cell_type": "markdown",
   "metadata": {
    "application/vnd.databricks.v1+cell": {
     "cellMetadata": {
      "byteLimit": 2048000,
      "rowLimit": 10000
     },
     "inputWidgets": {},
     "nuid": "dd0ecb3f-ee5c-4235-9228-491fb2095f70",
     "showTitle": false,
     "title": ""
    }
   },
   "source": [
    "**Solução Pergunta 01 - Quais Usinas hidreletricas já estavam em operação no Brasil antes de 1980 e pertencem ao subistema Sul e informe qual bacia hidrográfica que fornece água para a usina?**"
   ]
  },
  {
   "cell_type": "code",
   "execution_count": 0,
   "metadata": {
    "application/vnd.databricks.v1+cell": {
     "cellMetadata": {
      "byteLimit": 2048000,
      "implicitDf": true,
      "rowLimit": 10000
     },
     "inputWidgets": {},
     "nuid": "0adbe3d1-31f3-4a08-a40f-619bd2276e2b",
     "showTitle": false,
     "title": ""
    }
   },
   "outputs": [
    {
     "output_type": "display_data",
     "data": {
      "text/html": [
       "<style scoped>\n",
       "  .table-result-container {\n",
       "    max-height: 300px;\n",
       "    overflow: auto;\n",
       "  }\n",
       "  table, th, td {\n",
       "    border: 1px solid black;\n",
       "    border-collapse: collapse;\n",
       "  }\n",
       "  th, td {\n",
       "    padding: 5px;\n",
       "  }\n",
       "  th {\n",
       "    text-align: left;\n",
       "  }\n",
       "</style><div class='table-result-container'><table class='table-result'><thead style='background-color: white'><tr><th>Nom_Usina</th><th>Subsistema</th><th>Inicio_operacao</th><th>Nom_Bacia</th></tr></thead><tbody><tr><td>PASSO FUNDO</td><td>SUL</td><td>1973-03-21</td><td>URUGUAI</td></tr><tr><td>PASSO REAL</td><td>SUL</td><td>1973-01-01</td><td>JACUI</td></tr><tr><td>SALTO OSORIO</td><td>SUL</td><td>1975-10-17</td><td>IGUACU</td></tr><tr><td>G. P. SOUZA</td><td>SUL</td><td>1970-10-25</td><td>CAPIVARI</td></tr><tr><td>ITAUBA</td><td>SUL</td><td>1978-02-01</td><td>JACUI</td></tr><tr><td>JACUI</td><td>SUL</td><td>1962-03-01</td><td>JACUI</td></tr><tr><td>CANASTRA</td><td>SUL</td><td>1956-04-01</td><td>JACUI</td></tr></tbody></table></div>"
      ]
     },
     "metadata": {
      "application/vnd.databricks.v1+output": {
       "addedWidgets": {},
       "aggData": [],
       "aggError": "",
       "aggOverflow": false,
       "aggSchema": [],
       "aggSeriesLimitReached": false,
       "aggType": "",
       "arguments": {},
       "columnCustomDisplayInfos": {},
       "data": [
        [
         "PASSO FUNDO",
         "SUL",
         "1973-03-21",
         "URUGUAI"
        ],
        [
         "PASSO REAL",
         "SUL",
         "1973-01-01",
         "JACUI"
        ],
        [
         "SALTO OSORIO",
         "SUL",
         "1975-10-17",
         "IGUACU"
        ],
        [
         "G. P. SOUZA",
         "SUL",
         "1970-10-25",
         "CAPIVARI"
        ],
        [
         "ITAUBA",
         "SUL",
         "1978-02-01",
         "JACUI"
        ],
        [
         "JACUI",
         "SUL",
         "1962-03-01",
         "JACUI"
        ],
        [
         "CANASTRA",
         "SUL",
         "1956-04-01",
         "JACUI"
        ]
       ],
       "datasetInfos": [],
       "dbfsResultPath": null,
       "isJsonSchema": true,
       "metadata": {
        "dataframeName": "_sqldf",
        "executionCount": 128
       },
       "overflow": false,
       "plotOptions": {
        "customPlotOptions": {},
        "displayType": "table",
        "pivotAggregation": null,
        "pivotColumns": null,
        "xColumns": null,
        "yColumns": null
       },
       "removedWidgets": [],
       "schema": [
        {
         "metadata": "{}",
         "name": "Nom_Usina",
         "type": "\"string\""
        },
        {
         "metadata": "{}",
         "name": "Subsistema",
         "type": "\"string\""
        },
        {
         "metadata": "{}",
         "name": "Inicio_operacao",
         "type": "\"date\""
        },
        {
         "metadata": "{}",
         "name": "Nom_Bacia",
         "type": "\"string\""
        }
       ],
       "type": "table"
      }
     },
     "output_type": "display_data"
    }
   ],
   "source": [
    "%sql\n",
    "SELECT Nom_Usina, Subsistema, Inicio_operacao, Nom_Bacia\n",
    "FROM dataset_pergunta_1\n",
    "WHERE Inicio_operacao < '1980-01-01' AND Subsistema = 'SUL';"
   ]
  },
  {
   "cell_type": "markdown",
   "metadata": {
    "application/vnd.databricks.v1+cell": {
     "cellMetadata": {
      "byteLimit": 2048000,
      "rowLimit": 10000
     },
     "inputWidgets": {},
     "nuid": "8284c4bc-dd12-4dd7-b0eb-9464e7992c7b",
     "showTitle": false,
     "title": ""
    }
   },
   "source": [
    "**Comentários:** A query retornou apenas as sete usinas que já estavam em operação antes dos anos 80 e que eram pertencentes ao subsistema Sul, também foi informado qual é a bacia hidrográfica que fornece água às usinas."
   ]
  },
  {
   "cell_type": "markdown",
   "metadata": {
    "application/vnd.databricks.v1+cell": {
     "cellMetadata": {
      "byteLimit": 2048000,
      "rowLimit": 10000
     },
     "inputWidgets": {},
     "nuid": "9daf6219-a8ff-4d98-a3bd-37cd0fb51ab3",
     "showTitle": false,
     "title": ""
    }
   },
   "source": [
    "#### 7.2.2.Solução Pergunta 02"
   ]
  },
  {
   "cell_type": "markdown",
   "metadata": {
    "application/vnd.databricks.v1+cell": {
     "cellMetadata": {
      "byteLimit": 2048000,
      "rowLimit": 10000
     },
     "inputWidgets": {},
     "nuid": "656e7a4d-4551-4707-968e-c9fc94971d4a",
     "showTitle": false,
     "title": ""
    }
   },
   "source": [
    "**Preparação do Dataset**"
   ]
  },
  {
   "cell_type": "code",
   "execution_count": 0,
   "metadata": {
    "application/vnd.databricks.v1+cell": {
     "cellMetadata": {
      "byteLimit": 2048000,
      "rowLimit": 10000
     },
     "inputWidgets": {},
     "nuid": "2a69c871-3529-472c-9652-3867f79e01e0",
     "showTitle": false,
     "title": ""
    }
   },
   "outputs": [],
   "source": [
    "#Localização do dataset no container\n",
    "file_location_pergunta_2 = \"wasbs://hdevellard@hdevellardstorage.blob.core.windows.net/dbo.pergunta_2.csv\""
   ]
  },
  {
   "cell_type": "code",
   "execution_count": 0,
   "metadata": {
    "application/vnd.databricks.v1+cell": {
     "cellMetadata": {
      "byteLimit": 2048000,
      "rowLimit": 10000
     },
     "inputWidgets": {},
     "nuid": "e1dbb2e1-6806-4342-9a03-434db67d72b4",
     "showTitle": false,
     "title": ""
    }
   },
   "outputs": [],
   "source": [
    "#Configurações Apache Spark\n",
    "df_pergunta_2_spark = spark.read.format(file_type).option(\"inferSchema\", \"true\").option(\"delimiter\", \";\").option(\"header\", \"true\").load(file_location_pergunta_2)"
   ]
  },
  {
   "cell_type": "code",
   "execution_count": 0,
   "metadata": {
    "application/vnd.databricks.v1+cell": {
     "cellMetadata": {
      "byteLimit": 2048000,
      "rowLimit": 10000
     },
     "inputWidgets": {},
     "nuid": "9092f949-29f6-4510-a9c8-f5c104e2cfa7",
     "showTitle": false,
     "title": ""
    }
   },
   "outputs": [
    {
     "output_type": "display_data",
     "data": {
      "text/html": [
       "<style scoped>\n",
       "  .table-result-container {\n",
       "    max-height: 300px;\n",
       "    overflow: auto;\n",
       "  }\n",
       "  table, th, td {\n",
       "    border: 1px solid black;\n",
       "    border-collapse: collapse;\n",
       "  }\n",
       "  th, td {\n",
       "    padding: 5px;\n",
       "  }\n",
       "  th {\n",
       "    text-align: left;\n",
       "  }\n",
       "</style><div class='table-result-container'><table class='table-result'><thead style='background-color: white'><tr><th>Data</th><th>Subsistema</th><th>Geração_De_Energia(Mwmedio)</th></tr></thead><tbody><tr><td>null</td><td>Sul</td><td>750476</td></tr><tr><td>2010-01-01T00:00:00.000+0000</td><td>Sul</td><td>8337</td></tr><tr><td>2010-02-01T00:00:00.000+0000</td><td>Sul</td><td>9238</td></tr><tr><td>2010-03-01T00:00:00.000+0000</td><td>Sul</td><td>8834</td></tr><tr><td>2010-04-01T00:00:00.000+0000</td><td>Sul</td><td>8337</td></tr><tr><td>2010-05-01T00:00:00.000+0000</td><td>Sul</td><td>9017</td></tr><tr><td>2010-06-01T00:00:00.000+0000</td><td>Sul</td><td>9623</td></tr><tr><td>2010-07-01T00:00:00.000+0000</td><td>Sul</td><td>9699</td></tr><tr><td>2010-08-01T00:00:00.000+0000</td><td>Sul</td><td>9390</td></tr><tr><td>2010-09-01T00:00:00.000+0000</td><td>Sul</td><td>7862</td></tr><tr><td>2010-10-01T00:00:00.000+0000</td><td>Sul</td><td>8207</td></tr><tr><td>2010-11-01T00:00:00.000+0000</td><td>Sul</td><td>6971</td></tr><tr><td>2010-12-01T00:00:00.000+0000</td><td>Sul</td><td>8432</td></tr><tr><td>2011-01-01T00:00:00.000+0000</td><td>Sul</td><td>8904</td></tr><tr><td>2011-02-01T00:00:00.000+0000</td><td>Sul</td><td>11415</td></tr><tr><td>2011-03-01T00:00:00.000+0000</td><td>Sul</td><td>10031</td></tr><tr><td>2011-04-01T00:00:00.000+0000</td><td>Sul</td><td>9225</td></tr><tr><td>2011-05-01T00:00:00.000+0000</td><td>Sul</td><td>8754</td></tr><tr><td>2011-06-01T00:00:00.000+0000</td><td>Sul</td><td>8053</td></tr><tr><td>2011-07-01T00:00:00.000+0000</td><td>Sul</td><td>11006</td></tr><tr><td>2011-08-01T00:00:00.000+0000</td><td>Sul</td><td>11882</td></tr><tr><td>2011-09-01T00:00:00.000+0000</td><td>Sul</td><td>11327</td></tr><tr><td>2011-10-01T00:00:00.000+0000</td><td>Sul</td><td>10810</td></tr><tr><td>2011-11-01T00:00:00.000+0000</td><td>Sul</td><td>10054</td></tr><tr><td>2011-12-01T00:00:00.000+0000</td><td>Sul</td><td>6590</td></tr><tr><td>2012-01-01T00:00:00.000+0000</td><td>Sul</td><td>5028</td></tr><tr><td>2012-02-01T00:00:00.000+0000</td><td>Sul</td><td>7464</td></tr><tr><td>2012-03-01T00:00:00.000+0000</td><td>Sul</td><td>6704</td></tr><tr><td>2012-04-01T00:00:00.000+0000</td><td>Sul</td><td>2997</td></tr><tr><td>2012-05-01T00:00:00.000+0000</td><td>Sul</td><td>2482</td></tr><tr><td>2012-06-01T00:00:00.000+0000</td><td>Sul</td><td>6447</td></tr><tr><td>2012-07-01T00:00:00.000+0000</td><td>Sul</td><td>7671</td></tr><tr><td>2012-08-01T00:00:00.000+0000</td><td>Sul</td><td>8783</td></tr><tr><td>2012-09-01T00:00:00.000+0000</td><td>Sul</td><td>7656</td></tr><tr><td>2012-10-01T00:00:00.000+0000</td><td>Sul</td><td>7469</td></tr><tr><td>2012-11-01T00:00:00.000+0000</td><td>Sul</td><td>5178</td></tr><tr><td>2012-12-01T00:00:00.000+0000</td><td>Sul</td><td>4437</td></tr><tr><td>2013-01-01T00:00:00.000+0000</td><td>Sul</td><td>6742</td></tr><tr><td>2013-02-01T00:00:00.000+0000</td><td>Sul</td><td>6835</td></tr><tr><td>2013-03-01T00:00:00.000+0000</td><td>Sul</td><td>7629</td></tr><tr><td>2013-04-01T00:00:00.000+0000</td><td>Sul</td><td>7642</td></tr><tr><td>2013-05-01T00:00:00.000+0000</td><td>Sul</td><td>5913</td></tr><tr><td>2013-06-01T00:00:00.000+0000</td><td>Sul</td><td>7493</td></tr><tr><td>2013-07-01T00:00:00.000+0000</td><td>Sul</td><td>9453</td></tr><tr><td>2013-08-01T00:00:00.000+0000</td><td>Sul</td><td>11354</td></tr><tr><td>2013-09-01T00:00:00.000+0000</td><td>Sul</td><td>11470</td></tr><tr><td>2013-10-01T00:00:00.000+0000</td><td>Sul</td><td>11848</td></tr><tr><td>2013-11-01T00:00:00.000+0000</td><td>Sul</td><td>10741</td></tr><tr><td>2013-12-01T00:00:00.000+0000</td><td>Sul</td><td>9138</td></tr><tr><td>2014-01-01T00:00:00.000+0000</td><td>Sul</td><td>10004</td></tr><tr><td>2014-02-01T00:00:00.000+0000</td><td>Sul</td><td>8828</td></tr><tr><td>2014-03-01T00:00:00.000+0000</td><td>Sul</td><td>8733</td></tr><tr><td>2014-04-01T00:00:00.000+0000</td><td>Sul</td><td>8421</td></tr><tr><td>2014-05-01T00:00:00.000+0000</td><td>Sul</td><td>8558</td></tr><tr><td>2014-06-01T00:00:00.000+0000</td><td>Sul</td><td>11410</td></tr><tr><td>2014-07-01T00:00:00.000+0000</td><td>Sul</td><td>11875</td></tr><tr><td>2014-08-01T00:00:00.000+0000</td><td>Sul</td><td>9573</td></tr><tr><td>2014-09-01T00:00:00.000+0000</td><td>Sul</td><td>10975</td></tr><tr><td>2014-10-01T00:00:00.000+0000</td><td>Sul</td><td>11358</td></tr><tr><td>2014-11-01T00:00:00.000+0000</td><td>Sul</td><td>11389</td></tr><tr><td>2014-12-01T00:00:00.000+0000</td><td>Sul</td><td>8479</td></tr><tr><td>2015-01-01T00:00:00.000+0000</td><td>Sul</td><td>13251</td></tr><tr><td>2015-02-01T00:00:00.000+0000</td><td>Sul</td><td>12494</td></tr><tr><td>2015-03-01T00:00:00.000+0000</td><td>Sul</td><td>9875</td></tr><tr><td>2015-04-01T00:00:00.000+0000</td><td>Sul</td><td>7773</td></tr><tr><td>2015-05-01T00:00:00.000+0000</td><td>Sul</td><td>5925</td></tr><tr><td>2015-06-01T00:00:00.000+0000</td><td>Sul</td><td>8088</td></tr><tr><td>2015-07-01T00:00:00.000+0000</td><td>Sul</td><td>11480</td></tr><tr><td>2015-08-01T00:00:00.000+0000</td><td>Sul</td><td>11474</td></tr><tr><td>2015-09-01T00:00:00.000+0000</td><td>Sul</td><td>11100</td></tr><tr><td>2015-10-01T00:00:00.000+0000</td><td>Sul</td><td>12263</td></tr><tr><td>2015-11-01T00:00:00.000+0000</td><td>Sul</td><td>12308</td></tr><tr><td>2015-12-01T00:00:00.000+0000</td><td>Sul</td><td>13195</td></tr><tr><td>2016-01-01T00:00:00.000+0000</td><td>Sul</td><td>11458</td></tr><tr><td>2016-02-01T00:00:00.000+0000</td><td>Sul</td><td>12133</td></tr><tr><td>2016-03-01T00:00:00.000+0000</td><td>Sul</td><td>11865</td></tr><tr><td>2016-04-01T00:00:00.000+0000</td><td>Sul</td><td>10896</td></tr><tr><td>2016-05-01T00:00:00.000+0000</td><td>Sul</td><td>9991</td></tr><tr><td>2016-06-01T00:00:00.000+0000</td><td>Sul</td><td>9720</td></tr><tr><td>2016-07-01T00:00:00.000+0000</td><td>Sul</td><td>10271</td></tr><tr><td>2016-08-01T00:00:00.000+0000</td><td>Sul</td><td>10569</td></tr><tr><td>2016-09-01T00:00:00.000+0000</td><td>Sul</td><td>10617</td></tr><tr><td>2016-10-01T00:00:00.000+0000</td><td>Sul</td><td>10006</td></tr><tr><td>2016-11-01T00:00:00.000+0000</td><td>Sul</td><td>9775</td></tr><tr><td>2016-12-01T00:00:00.000+0000</td><td>Sul</td><td>9442</td></tr><tr><td>2017-01-01T00:00:00.000+0000</td><td>Sul</td><td>11229</td></tr><tr><td>2017-02-01T00:00:00.000+0000</td><td>Sul</td><td>10079</td></tr><tr><td>2017-03-01T00:00:00.000+0000</td><td>Sul</td><td>7593</td></tr><tr><td>2017-04-01T00:00:00.000+0000</td><td>Sul</td><td>5467</td></tr><tr><td>2017-05-01T00:00:00.000+0000</td><td>Sul</td><td>5820</td></tr><tr><td>2017-06-01T00:00:00.000+0000</td><td>Sul</td><td>10570</td></tr><tr><td>2017-07-01T00:00:00.000+0000</td><td>Sul</td><td>8771</td></tr><tr><td>2017-08-01T00:00:00.000+0000</td><td>Sul</td><td>7958</td></tr><tr><td>2017-09-01T00:00:00.000+0000</td><td>Sul</td><td>6679</td></tr><tr><td>2017-10-01T00:00:00.000+0000</td><td>Sul</td><td>8199</td></tr><tr><td>2017-11-01T00:00:00.000+0000</td><td>Sul</td><td>9414</td></tr><tr><td>2017-12-01T00:00:00.000+0000</td><td>Sul</td><td>7286</td></tr><tr><td>2018-01-01T00:00:00.000+0000</td><td>Sul</td><td>8954</td></tr><tr><td>2018-02-01T00:00:00.000+0000</td><td>Sul</td><td>9128</td></tr><tr><td>2018-03-01T00:00:00.000+0000</td><td>Sul</td><td>8067</td></tr><tr><td>2018-04-01T00:00:00.000+0000</td><td>Sul</td><td>7268</td></tr><tr><td>2018-05-01T00:00:00.000+0000</td><td>Sul</td><td>5550</td></tr><tr><td>2018-06-01T00:00:00.000+0000</td><td>Sul</td><td>5249</td></tr><tr><td>2018-07-01T00:00:00.000+0000</td><td>Sul</td><td>7003</td></tr><tr><td>2018-08-01T00:00:00.000+0000</td><td>Sul</td><td>6518</td></tr><tr><td>2018-09-01T00:00:00.000+0000</td><td>Sul</td><td>9243</td></tr><tr><td>2018-10-01T00:00:00.000+0000</td><td>Sul</td><td>10546</td></tr><tr><td>2018-11-01T00:00:00.000+0000</td><td>Sul</td><td>11233</td></tr><tr><td>2018-12-01T00:00:00.000+0000</td><td>Sul</td><td>8491</td></tr><tr><td>2019-01-01T00:00:00.000+0000</td><td>Sul</td><td>10502</td></tr><tr><td>2019-02-01T00:00:00.000+0000</td><td>Sul</td><td>8014</td></tr><tr><td>2019-03-01T00:00:00.000+0000</td><td>Sul</td><td>8524</td></tr><tr><td>2019-04-01T00:00:00.000+0000</td><td>Sul</td><td>7667</td></tr><tr><td>2019-05-01T00:00:00.000+0000</td><td>Sul</td><td>8135</td></tr><tr><td>2019-06-01T00:00:00.000+0000</td><td>Sul</td><td>8979</td></tr><tr><td>2019-07-01T00:00:00.000+0000</td><td>Sul</td><td>9406</td></tr><tr><td>2019-08-01T00:00:00.000+0000</td><td>Sul</td><td>7353</td></tr><tr><td>2019-09-01T00:00:00.000+0000</td><td>Sul</td><td>5864</td></tr><tr><td>2019-10-01T00:00:00.000+0000</td><td>Sul</td><td>6125</td></tr><tr><td>2019-11-01T00:00:00.000+0000</td><td>Sul</td><td>9407</td></tr><tr><td>2019-12-01T00:00:00.000+0000</td><td>Sul</td><td>5904</td></tr><tr><td>2020-01-01T00:00:00.000+0000</td><td>Sul</td><td>4775</td></tr><tr><td>2020-02-01T00:00:00.000+0000</td><td>Sul</td><td>3590</td></tr><tr><td>2020-03-01T00:00:00.000+0000</td><td>Sul</td><td>2182</td></tr><tr><td>2020-04-01T00:00:00.000+0000</td><td>Sul</td><td>1211</td></tr><tr><td>2020-05-01T00:00:00.000+0000</td><td>Sul</td><td>832</td></tr><tr><td>2020-06-01T00:00:00.000+0000</td><td>Sul</td><td>2771</td></tr><tr><td>2020-07-01T00:00:00.000+0000</td><td>Sul</td><td>8332</td></tr><tr><td>2020-08-01T00:00:00.000+0000</td><td>Sul</td><td>9185</td></tr><tr><td>2020-09-01T00:00:00.000+0000</td><td>Sul</td><td>9703</td></tr><tr><td>2020-10-01T00:00:00.000+0000</td><td>Sul</td><td>6127</td></tr><tr><td>2020-11-01T00:00:00.000+0000</td><td>Sul</td><td>3094</td></tr><tr><td>2020-12-01T00:00:00.000+0000</td><td>Sul</td><td>5199</td></tr><tr><td>2021-01-01T00:00:00.000+0000</td><td>Sul</td><td>7182</td></tr><tr><td>2021-02-01T00:00:00.000+0000</td><td>Sul</td><td>7662</td></tr><tr><td>2021-03-01T00:00:00.000+0000</td><td>Sul</td><td>6104</td></tr><tr><td>2021-04-01T00:00:00.000+0000</td><td>Sul</td><td>3246</td></tr><tr><td>2021-05-01T00:00:00.000+0000</td><td>Sul</td><td>2227</td></tr><tr><td>2021-06-01T00:00:00.000+0000</td><td>Sul</td><td>4985</td></tr><tr><td>2021-07-01T00:00:00.000+0000</td><td>Sul</td><td>8203</td></tr><tr><td>2021-08-01T00:00:00.000+0000</td><td>Sul</td><td>7311</td></tr><tr><td>2021-09-01T00:00:00.000+0000</td><td>Sul</td><td>7591</td></tr><tr><td>2021-10-01T00:00:00.000+0000</td><td>Sul</td><td>8248</td></tr><tr><td>2021-11-01T00:00:00.000+0000</td><td>Sul</td><td>5332</td></tr><tr><td>2021-12-01T00:00:00.000+0000</td><td>Sul</td><td>4395</td></tr><tr><td>2022-01-01T00:00:00.000+0000</td><td>Sul</td><td>4544</td></tr><tr><td>2022-02-01T00:00:00.000+0000</td><td>Sul</td><td>4186</td></tr><tr><td>2022-03-01T00:00:00.000+0000</td><td>Sul</td><td>3803</td></tr><tr><td>2022-04-01T00:00:00.000+0000</td><td>Sul</td><td>6453</td></tr><tr><td>2022-05-01T00:00:00.000+0000</td><td>Sul</td><td>9181</td></tr><tr><td>2022-06-01T00:00:00.000+0000</td><td>Sul</td><td>13542</td></tr><tr><td>2022-07-01T00:00:00.000+0000</td><td>Sul</td><td>12323</td></tr><tr><td>2022-08-01T00:00:00.000+0000</td><td>Sul</td><td>10965</td></tr><tr><td>2022-09-01T00:00:00.000+0000</td><td>Sul</td><td>11514</td></tr><tr><td>2022-10-01T00:00:00.000+0000</td><td>Sul</td><td>11720</td></tr><tr><td>2022-11-01T00:00:00.000+0000</td><td>Sul</td><td>10693</td></tr><tr><td>2022-12-01T00:00:00.000+0000</td><td>Sul</td><td>7925</td></tr><tr><td>null</td><td>Sudeste/Centro-Oeste</td><td>3798224</td></tr><tr><td>2010-01-01T00:00:00.000+0000</td><td>Sudeste/Centro-Oeste</td><td>32153</td></tr><tr><td>2010-02-01T00:00:00.000+0000</td><td>Sudeste/Centro-Oeste</td><td>31832</td></tr><tr><td>2010-03-01T00:00:00.000+0000</td><td>Sudeste/Centro-Oeste</td><td>31912</td></tr><tr><td>2010-04-01T00:00:00.000+0000</td><td>Sudeste/Centro-Oeste</td><td>30699</td></tr><tr><td>2010-05-01T00:00:00.000+0000</td><td>Sudeste/Centro-Oeste</td><td>29070</td></tr><tr><td>2010-06-01T00:00:00.000+0000</td><td>Sudeste/Centro-Oeste</td><td>28705</td></tr><tr><td>2010-07-01T00:00:00.000+0000</td><td>Sudeste/Centro-Oeste</td><td>30252</td></tr><tr><td>2010-08-01T00:00:00.000+0000</td><td>Sudeste/Centro-Oeste</td><td>29279</td></tr><tr><td>2010-09-01T00:00:00.000+0000</td><td>Sudeste/Centro-Oeste</td><td>30409</td></tr><tr><td>2010-10-01T00:00:00.000+0000</td><td>Sudeste/Centro-Oeste</td><td>30767</td></tr><tr><td>2010-11-01T00:00:00.000+0000</td><td>Sudeste/Centro-Oeste</td><td>33236</td></tr><tr><td>2010-12-01T00:00:00.000+0000</td><td>Sudeste/Centro-Oeste</td><td>32967</td></tr><tr><td>2011-01-01T00:00:00.000+0000</td><td>Sudeste/Centro-Oeste</td><td>33293</td></tr><tr><td>2011-02-01T00:00:00.000+0000</td><td>Sudeste/Centro-Oeste</td><td>31723</td></tr><tr><td>2011-03-01T00:00:00.000+0000</td><td>Sudeste/Centro-Oeste</td><td>31566</td></tr><tr><td>2011-04-01T00:00:00.000+0000</td><td>Sudeste/Centro-Oeste</td><td>31474</td></tr><tr><td>2011-05-01T00:00:00.000+0000</td><td>Sudeste/Centro-Oeste</td><td>30076</td></tr><tr><td>2011-06-01T00:00:00.000+0000</td><td>Sudeste/Centro-Oeste</td><td>31222</td></tr><tr><td>2011-07-01T00:00:00.000+0000</td><td>Sudeste/Centro-Oeste</td><td>30684</td></tr><tr><td>2011-08-01T00:00:00.000+0000</td><td>Sudeste/Centro-Oeste</td><td>31327</td></tr><tr><td>2011-09-01T00:00:00.000+0000</td><td>Sudeste/Centro-Oeste</td><td>31080</td></tr><tr><td>2011-10-01T00:00:00.000+0000</td><td>Sudeste/Centro-Oeste</td><td>30910</td></tr><tr><td>2011-11-01T00:00:00.000+0000</td><td>Sudeste/Centro-Oeste</td><td>32825</td></tr><tr><td>2011-12-01T00:00:00.000+0000</td><td>Sudeste/Centro-Oeste</td><td>34490</td></tr><tr><td>2012-01-01T00:00:00.000+0000</td><td>Sudeste/Centro-Oeste</td><td>35792</td></tr><tr><td>2012-02-01T00:00:00.000+0000</td><td>Sudeste/Centro-Oeste</td><td>36463</td></tr><tr><td>2012-03-01T00:00:00.000+0000</td><td>Sudeste/Centro-Oeste</td><td>37169</td></tr><tr><td>2012-04-01T00:00:00.000+0000</td><td>Sudeste/Centro-Oeste</td><td>34893</td></tr><tr><td>2012-05-01T00:00:00.000+0000</td><td>Sudeste/Centro-Oeste</td><td>35159</td></tr><tr><td>2012-06-01T00:00:00.000+0000</td><td>Sudeste/Centro-Oeste</td><td>33470</td></tr><tr><td>2012-07-01T00:00:00.000+0000</td><td>Sudeste/Centro-Oeste</td><td>33801</td></tr><tr><td>2012-08-01T00:00:00.000+0000</td><td>Sudeste/Centro-Oeste</td><td>33430</td></tr><tr><td>2012-09-01T00:00:00.000+0000</td><td>Sudeste/Centro-Oeste</td><td>32501</td></tr><tr><td>2012-10-01T00:00:00.000+0000</td><td>Sudeste/Centro-Oeste</td><td>33366</td></tr><tr><td>2012-11-01T00:00:00.000+0000</td><td>Sudeste/Centro-Oeste</td><td>32919</td></tr><tr><td>2012-12-01T00:00:00.000+0000</td><td>Sudeste/Centro-Oeste</td><td>33247</td></tr><tr><td>2013-01-01T00:00:00.000+0000</td><td>Sudeste/Centro-Oeste</td><td>30082</td></tr><tr><td>2013-02-01T00:00:00.000+0000</td><td>Sudeste/Centro-Oeste</td><td>31597</td></tr><tr><td>2013-03-01T00:00:00.000+0000</td><td>Sudeste/Centro-Oeste</td><td>29925</td></tr><tr><td>2013-04-01T00:00:00.000+0000</td><td>Sudeste/Centro-Oeste</td><td>28708</td></tr><tr><td>2013-05-01T00:00:00.000+0000</td><td>Sudeste/Centro-Oeste</td><td>28012</td></tr><tr><td>2013-06-01T00:00:00.000+0000</td><td>Sudeste/Centro-Oeste</td><td>29091</td></tr><tr><td>2013-07-01T00:00:00.000+0000</td><td>Sudeste/Centro-Oeste</td><td>29552</td></tr><tr><td>2013-08-01T00:00:00.000+0000</td><td>Sudeste/Centro-Oeste</td><td>29073</td></tr><tr><td>2013-09-01T00:00:00.000+0000</td><td>Sudeste/Centro-Oeste</td><td>29156</td></tr><tr><td>2013-10-01T00:00:00.000+0000</td><td>Sudeste/Centro-Oeste</td><td>30060</td></tr><tr><td>2013-11-01T00:00:00.000+0000</td><td>Sudeste/Centro-Oeste</td><td>31465</td></tr><tr><td>2013-12-01T00:00:00.000+0000</td><td>Sudeste/Centro-Oeste</td><td>33302</td></tr><tr><td>2014-01-01T00:00:00.000+0000</td><td>Sudeste/Centro-Oeste</td><td>32701</td></tr><tr><td>2014-02-01T00:00:00.000+0000</td><td>Sudeste/Centro-Oeste</td><td>32808</td></tr><tr><td>2014-03-01T00:00:00.000+0000</td><td>Sudeste/Centro-Oeste</td><td>28700</td></tr><tr><td>2014-04-01T00:00:00.000+0000</td><td>Sudeste/Centro-Oeste</td><td>27223</td></tr><tr><td>2014-05-01T00:00:00.000+0000</td><td>Sudeste/Centro-Oeste</td><td>23767</td></tr><tr><td>2014-06-01T00:00:00.000+0000</td><td>Sudeste/Centro-Oeste</td><td>22794</td></tr><tr><td>2014-07-01T00:00:00.000+0000</td><td>Sudeste/Centro-Oeste</td><td>23394</td></tr><tr><td>2014-08-01T00:00:00.000+0000</td><td>Sudeste/Centro-Oeste</td><td>23780</td></tr><tr><td>2014-09-01T00:00:00.000+0000</td><td>Sudeste/Centro-Oeste</td><td>24897</td></tr><tr><td>2014-10-01T00:00:00.000+0000</td><td>Sudeste/Centro-Oeste</td><td>26714</td></tr><tr><td>2014-11-01T00:00:00.000+0000</td><td>Sudeste/Centro-Oeste</td><td>26130</td></tr><tr><td>2014-12-01T00:00:00.000+0000</td><td>Sudeste/Centro-Oeste</td><td>27418</td></tr><tr><td>2015-01-01T00:00:00.000+0000</td><td>Sudeste/Centro-Oeste</td><td>27963</td></tr><tr><td>2015-02-01T00:00:00.000+0000</td><td>Sudeste/Centro-Oeste</td><td>26648</td></tr><tr><td>2015-03-01T00:00:00.000+0000</td><td>Sudeste/Centro-Oeste</td><td>27383</td></tr><tr><td>2015-04-01T00:00:00.000+0000</td><td>Sudeste/Centro-Oeste</td><td>25738</td></tr><tr><td>2015-05-01T00:00:00.000+0000</td><td>Sudeste/Centro-Oeste</td><td>24820</td></tr><tr><td>2015-06-01T00:00:00.000+0000</td><td>Sudeste/Centro-Oeste</td><td>23446</td></tr><tr><td>2015-07-01T00:00:00.000+0000</td><td>Sudeste/Centro-Oeste</td><td>23447</td></tr><tr><td>2015-08-01T00:00:00.000+0000</td><td>Sudeste/Centro-Oeste</td><td>22792</td></tr><tr><td>2015-09-01T00:00:00.000+0000</td><td>Sudeste/Centro-Oeste</td><td>23845</td></tr><tr><td>2015-10-01T00:00:00.000+0000</td><td>Sudeste/Centro-Oeste</td><td>27167</td></tr><tr><td>2015-11-01T00:00:00.000+0000</td><td>Sudeste/Centro-Oeste</td><td>27812</td></tr><tr><td>2015-12-01T00:00:00.000+0000</td><td>Sudeste/Centro-Oeste</td><td>28094</td></tr><tr><td>2016-01-01T00:00:00.000+0000</td><td>Sudeste/Centro-Oeste</td><td>31307</td></tr><tr><td>2016-02-01T00:00:00.000+0000</td><td>Sudeste/Centro-Oeste</td><td>32191</td></tr><tr><td>2016-03-01T00:00:00.000+0000</td><td>Sudeste/Centro-Oeste</td><td>32396</td></tr><tr><td>2016-04-01T00:00:00.000+0000</td><td>Sudeste/Centro-Oeste</td><td>30481</td></tr><tr><td>2016-05-01T00:00:00.000+0000</td><td>Sudeste/Centro-Oeste</td><td>29463</td></tr><tr><td>2016-06-01T00:00:00.000+0000</td><td>Sudeste/Centro-Oeste</td><td>29854</td></tr><tr><td>2016-07-01T00:00:00.000+0000</td><td>Sudeste/Centro-Oeste</td><td>28942</td></tr><tr><td>2016-08-01T00:00:00.000+0000</td><td>Sudeste/Centro-Oeste</td><td>28484</td></tr><tr><td>2016-09-01T00:00:00.000+0000</td><td>Sudeste/Centro-Oeste</td><td>27763</td></tr><tr><td>2016-10-01T00:00:00.000+0000</td><td>Sudeste/Centro-Oeste</td><td>28567</td></tr><tr><td>2016-11-01T00:00:00.000+0000</td><td>Sudeste/Centro-Oeste</td><td>29713</td></tr><tr><td>2016-12-01T00:00:00.000+0000</td><td>Sudeste/Centro-Oeste</td><td>33699</td></tr><tr><td>2017-01-01T00:00:00.000+0000</td><td>Sudeste/Centro-Oeste</td><td>35488</td></tr><tr><td>2017-02-01T00:00:00.000+0000</td><td>Sudeste/Centro-Oeste</td><td>36464</td></tr><tr><td>2017-03-01T00:00:00.000+0000</td><td>Sudeste/Centro-Oeste</td><td>35256</td></tr><tr><td>2017-04-01T00:00:00.000+0000</td><td>Sudeste/Centro-Oeste</td><td>30848</td></tr><tr><td>2017-05-01T00:00:00.000+0000</td><td>Sudeste/Centro-Oeste</td><td>29452</td></tr><tr><td>2017-06-01T00:00:00.000+0000</td><td>Sudeste/Centro-Oeste</td><td>26952</td></tr><tr><td>2017-07-01T00:00:00.000+0000</td><td>Sudeste/Centro-Oeste</td><td>25441</td></tr><tr><td>2017-08-01T00:00:00.000+0000</td><td>Sudeste/Centro-Oeste</td><td>25556</td></tr><tr><td>2017-09-01T00:00:00.000+0000</td><td>Sudeste/Centro-Oeste</td><td>26533</td></tr><tr><td>2017-10-01T00:00:00.000+0000</td><td>Sudeste/Centro-Oeste</td><td>27372</td></tr><tr><td>2017-11-01T00:00:00.000+0000</td><td>Sudeste/Centro-Oeste</td><td>28529</td></tr><tr><td>2017-12-01T00:00:00.000+0000</td><td>Sudeste/Centro-Oeste</td><td>33748</td></tr><tr><td>2018-01-01T00:00:00.000+0000</td><td>Sudeste/Centro-Oeste</td><td>35232</td></tr><tr><td>2018-02-01T00:00:00.000+0000</td><td>Sudeste/Centro-Oeste</td><td>35339</td></tr><tr><td>2018-03-01T00:00:00.000+0000</td><td>Sudeste/Centro-Oeste</td><td>37409</td></tr><tr><td>2018-04-01T00:00:00.000+0000</td><td>Sudeste/Centro-Oeste</td><td>32542</td></tr><tr><td>2018-05-01T00:00:00.000+0000</td><td>Sudeste/Centro-Oeste</td><td>28529</td></tr><tr><td>2018-06-01T00:00:00.000+0000</td><td>Sudeste/Centro-Oeste</td><td>27288</td></tr><tr><td>2018-07-01T00:00:00.000+0000</td><td>Sudeste/Centro-Oeste</td><td>26243</td></tr><tr><td>2018-08-01T00:00:00.000+0000</td><td>Sudeste/Centro-Oeste</td><td>27001</td></tr><tr><td>2018-09-01T00:00:00.000+0000</td><td>Sudeste/Centro-Oeste</td><td>24043</td></tr><tr><td>2018-10-01T00:00:00.000+0000</td><td>Sudeste/Centro-Oeste</td><td>29546</td></tr><tr><td>2018-11-01T00:00:00.000+0000</td><td>Sudeste/Centro-Oeste</td><td>33374</td></tr><tr><td>2018-12-01T00:00:00.000+0000</td><td>Sudeste/Centro-Oeste</td><td>33798</td></tr><tr><td>2019-01-01T00:00:00.000+0000</td><td>Sudeste/Centro-Oeste</td><td>35640</td></tr><tr><td>2019-02-01T00:00:00.000+0000</td><td>Sudeste/Centro-Oeste</td><td>33635</td></tr><tr><td>2019-03-01T00:00:00.000+0000</td><td>Sudeste/Centro-Oeste</td><td>32553</td></tr><tr><td>2019-04-01T00:00:00.000+0000</td><td>Sudeste/Centro-Oeste</td><td>32511</td></tr><tr><td>2019-05-01T00:00:00.000+0000</td><td>Sudeste/Centro-Oeste</td><td>28797</td></tr><tr><td>2019-06-01T00:00:00.000+0000</td><td>Sudeste/Centro-Oeste</td><td>25904</td></tr><tr><td>2019-07-01T00:00:00.000+0000</td><td>Sudeste/Centro-Oeste</td><td>24486</td></tr><tr><td>2019-08-01T00:00:00.000+0000</td><td>Sudeste/Centro-Oeste</td><td>24562</td></tr><tr><td>2019-09-01T00:00:00.000+0000</td><td>Sudeste/Centro-Oeste</td><td>28383</td></tr><tr><td>2019-10-01T00:00:00.000+0000</td><td>Sudeste/Centro-Oeste</td><td>29734</td></tr><tr><td>2019-11-01T00:00:00.000+0000</td><td>Sudeste/Centro-Oeste</td><td>27772</td></tr><tr><td>2019-12-01T00:00:00.000+0000</td><td>Sudeste/Centro-Oeste</td><td>33235</td></tr><tr><td>2020-01-01T00:00:00.000+0000</td><td>Sudeste/Centro-Oeste</td><td>36691</td></tr><tr><td>2020-02-01T00:00:00.000+0000</td><td>Sudeste/Centro-Oeste</td><td>37605</td></tr><tr><td>2020-03-01T00:00:00.000+0000</td><td>Sudeste/Centro-Oeste</td><td>35709</td></tr><tr><td>2020-04-01T00:00:00.000+0000</td><td>Sudeste/Centro-Oeste</td><td>30220</td></tr><tr><td>2020-05-01T00:00:00.000+0000</td><td>Sudeste/Centro-Oeste</td><td>28533</td></tr><tr><td>2020-06-01T00:00:00.000+0000</td><td>Sudeste/Centro-Oeste</td><td>26967</td></tr><tr><td>2020-07-01T00:00:00.000+0000</td><td>Sudeste/Centro-Oeste</td><td>27236</td></tr><tr><td>2020-08-01T00:00:00.000+0000</td><td>Sudeste/Centro-Oeste</td><td>26690</td></tr><tr><td>2020-09-01T00:00:00.000+0000</td><td>Sudeste/Centro-Oeste</td><td>28789</td></tr><tr><td>2020-10-01T00:00:00.000+0000</td><td>Sudeste/Centro-Oeste</td><td>29070</td></tr><tr><td>2020-11-01T00:00:00.000+0000</td><td>Sudeste/Centro-Oeste</td><td>29077</td></tr><tr><td>2020-12-01T00:00:00.000+0000</td><td>Sudeste/Centro-Oeste</td><td>29452</td></tr><tr><td>2021-01-01T00:00:00.000+0000</td><td>Sudeste/Centro-Oeste</td><td>31355</td></tr><tr><td>2021-02-01T00:00:00.000+0000</td><td>Sudeste/Centro-Oeste</td><td>32804</td></tr><tr><td>2021-03-01T00:00:00.000+0000</td><td>Sudeste/Centro-Oeste</td><td>29727</td></tr><tr><td>2021-04-01T00:00:00.000+0000</td><td>Sudeste/Centro-Oeste</td><td>26514</td></tr><tr><td>2021-05-01T00:00:00.000+0000</td><td>Sudeste/Centro-Oeste</td><td>26462</td></tr><tr><td>2021-06-01T00:00:00.000+0000</td><td>Sudeste/Centro-Oeste</td><td>24438</td></tr><tr><td>2021-07-01T00:00:00.000+0000</td><td>Sudeste/Centro-Oeste</td><td>19380</td></tr><tr><td>2021-08-01T00:00:00.000+0000</td><td>Sudeste/Centro-Oeste</td><td>19085</td></tr><tr><td>2021-09-01T00:00:00.000+0000</td><td>Sudeste/Centro-Oeste</td><td>20358</td></tr><tr><td>2021-10-01T00:00:00.000+0000</td><td>Sudeste/Centro-Oeste</td><td>20181</td></tr><tr><td>2021-11-01T00:00:00.000+0000</td><td>Sudeste/Centro-Oeste</td><td>25063</td></tr><tr><td>2021-12-01T00:00:00.000+0000</td><td>Sudeste/Centro-Oeste</td><td>27511</td></tr><tr><td>2022-01-01T00:00:00.000+0000</td><td>Sudeste/Centro-Oeste</td><td>28364</td></tr><tr><td>2022-02-01T00:00:00.000+0000</td><td>Sudeste/Centro-Oeste</td><td>31337</td></tr><tr><td>2022-03-01T00:00:00.000+0000</td><td>Sudeste/Centro-Oeste</td><td>34023</td></tr><tr><td>2022-04-01T00:00:00.000+0000</td><td>Sudeste/Centro-Oeste</td><td>28466</td></tr><tr><td>2022-05-01T00:00:00.000+0000</td><td>Sudeste/Centro-Oeste</td><td>24243</td></tr><tr><td>2022-06-01T00:00:00.000+0000</td><td>Sudeste/Centro-Oeste</td><td>23495</td></tr><tr><td>2022-07-01T00:00:00.000+0000</td><td>Sudeste/Centro-Oeste</td><td>22708</td></tr><tr><td>2022-08-01T00:00:00.000+0000</td><td>Sudeste/Centro-Oeste</td><td>23983</td></tr><tr><td>2022-09-01T00:00:00.000+0000</td><td>Sudeste/Centro-Oeste</td><td>25057</td></tr><tr><td>2022-10-01T00:00:00.000+0000</td><td>Sudeste/Centro-Oeste</td><td>25236</td></tr><tr><td>2022-11-01T00:00:00.000+0000</td><td>Sudeste/Centro-Oeste</td><td>30607</td></tr><tr><td>2022-12-01T00:00:00.000+0000</td><td>Sudeste/Centro-Oeste</td><td>30662</td></tr><tr><td>null</td><td>Norte</td><td>537059</td></tr><tr><td>2010-01-01T00:00:00.000+0000</td><td>Norte</td><td>5328</td></tr><tr><td>2010-02-01T00:00:00.000+0000</td><td>Norte</td><td>6488</td></tr><tr><td>2010-03-01T00:00:00.000+0000</td><td>Norte</td><td>7258</td></tr><tr><td>2010-04-01T00:00:00.000+0000</td><td>Norte</td><td>6991</td></tr><tr><td>2010-05-01T00:00:00.000+0000</td><td>Norte</td><td>6033</td></tr><tr><td>2010-06-01T00:00:00.000+0000</td><td>Norte</td><td>4116</td></tr><tr><td>2010-07-01T00:00:00.000+0000</td><td>Norte</td><td>3600</td></tr><tr><td>2010-08-01T00:00:00.000+0000</td><td>Norte</td><td>3169</td></tr><tr><td>2010-09-01T00:00:00.000+0000</td><td>Norte</td><td>2652</td></tr><tr><td>2010-10-01T00:00:00.000+0000</td><td>Norte</td><td>2028</td></tr><tr><td>2010-11-01T00:00:00.000+0000</td><td>Norte</td><td>2217</td></tr><tr><td>2010-12-01T00:00:00.000+0000</td><td>Norte</td><td>2423</td></tr><tr><td>2011-01-01T00:00:00.000+0000</td><td>Norte</td><td>5020</td></tr><tr><td>2011-02-01T00:00:00.000+0000</td><td>Norte</td><td>6311</td></tr><tr><td>2011-03-01T00:00:00.000+0000</td><td>Norte</td><td>6262</td></tr><tr><td>2011-04-01T00:00:00.000+0000</td><td>Norte</td><td>6926</td></tr><tr><td>2011-05-01T00:00:00.000+0000</td><td>Norte</td><td>7171</td></tr><tr><td>2011-06-01T00:00:00.000+0000</td><td>Norte</td><td>5137</td></tr><tr><td>2011-07-01T00:00:00.000+0000</td><td>Norte</td><td>3204</td></tr><tr><td>2011-08-01T00:00:00.000+0000</td><td>Norte</td><td>3786</td></tr><tr><td>2011-09-01T00:00:00.000+0000</td><td>Norte</td><td>3962</td></tr><tr><td>2011-10-01T00:00:00.000+0000</td><td>Norte</td><td>3031</td></tr><tr><td>2011-11-01T00:00:00.000+0000</td><td>Norte</td><td>2618</td></tr><tr><td>2011-12-01T00:00:00.000+0000</td><td>Norte</td><td>5164</td></tr><tr><td>2012-01-01T00:00:00.000+0000</td><td>Norte</td><td>6272</td></tr><tr><td>2012-02-01T00:00:00.000+0000</td><td>Norte</td><td>6892</td></tr><tr><td>2012-03-01T00:00:00.000+0000</td><td>Norte</td><td>7530</td></tr><tr><td>2012-04-01T00:00:00.000+0000</td><td>Norte</td><td>7821</td></tr><tr><td>2012-05-01T00:00:00.000+0000</td><td>Norte</td><td>6187</td></tr><tr><td>2012-06-01T00:00:00.000+0000</td><td>Norte</td><td>4215</td></tr><tr><td>2012-07-01T00:00:00.000+0000</td><td>Norte</td><td>4273</td></tr><tr><td>2012-08-01T00:00:00.000+0000</td><td>Norte</td><td>3819</td></tr><tr><td>2012-09-01T00:00:00.000+0000</td><td>Norte</td><td>3210</td></tr><tr><td>2012-10-01T00:00:00.000+0000</td><td>Norte</td><td>2520</td></tr><tr><td>2012-11-01T00:00:00.000+0000</td><td>Norte</td><td>2531</td></tr><tr><td>2012-12-01T00:00:00.000+0000</td><td>Norte</td><td>4131</td></tr><tr><td>2013-01-01T00:00:00.000+0000</td><td>Norte</td><td>4985</td></tr><tr><td>2013-02-01T00:00:00.000+0000</td><td>Norte</td><td>7219</td></tr><tr><td>2013-03-01T00:00:00.000+0000</td><td>Norte</td><td>7899</td></tr><tr><td>2013-04-01T00:00:00.000+0000</td><td>Norte</td><td>8009</td></tr><tr><td>2013-05-01T00:00:00.000+0000</td><td>Norte</td><td>7895</td></tr><tr><td>2013-06-01T00:00:00.000+0000</td><td>Norte</td><td>4333</td></tr><tr><td>2013-07-01T00:00:00.000+0000</td><td>Norte</td><td>3773</td></tr><tr><td>2013-08-01T00:00:00.000+0000</td><td>Norte</td><td>3583</td></tr><tr><td>2013-09-01T00:00:00.000+0000</td><td>Norte</td><td>4008</td></tr><tr><td>2013-10-01T00:00:00.000+0000</td><td>Norte</td><td>3522</td></tr><tr><td>2013-11-01T00:00:00.000+0000</td><td>Norte</td><td>2836</td></tr><tr><td>2013-12-01T00:00:00.000+0000</td><td>Norte</td><td>3645</td></tr><tr><td>2014-01-01T00:00:00.000+0000</td><td>Norte</td><td>7266</td></tr><tr><td>2014-02-01T00:00:00.000+0000</td><td>Norte</td><td>7759</td></tr><tr><td>2014-03-01T00:00:00.000+0000</td><td>Norte</td><td>7613</td></tr><tr><td>2014-04-01T00:00:00.000+0000</td><td>Norte</td><td>7846</td></tr><tr><td>2014-05-01T00:00:00.000+0000</td><td>Norte</td><td>7768</td></tr><tr><td>2014-06-01T00:00:00.000+0000</td><td>Norte</td><td>4439</td></tr><tr><td>2014-07-01T00:00:00.000+0000</td><td>Norte</td><td>3459</td></tr><tr><td>2014-08-01T00:00:00.000+0000</td><td>Norte</td><td>4335</td></tr><tr><td>2014-09-01T00:00:00.000+0000</td><td>Norte</td><td>4580</td></tr><tr><td>2014-10-01T00:00:00.000+0000</td><td>Norte</td><td>2884</td></tr><tr><td>2014-11-01T00:00:00.000+0000</td><td>Norte</td><td>2963</td></tr><tr><td>2014-12-01T00:00:00.000+0000</td><td>Norte</td><td>3625</td></tr><tr><td>2015-01-01T00:00:00.000+0000</td><td>Norte</td><td>5247</td></tr><tr><td>2015-02-01T00:00:00.000+0000</td><td>Norte</td><td>6108</td></tr><tr><td>2015-03-01T00:00:00.000+0000</td><td>Norte</td><td>7094</td></tr><tr><td>2015-04-01T00:00:00.000+0000</td><td>Norte</td><td>8238</td></tr><tr><td>2015-05-01T00:00:00.000+0000</td><td>Norte</td><td>8334</td></tr><tr><td>2015-06-01T00:00:00.000+0000</td><td>Norte</td><td>5759</td></tr><tr><td>2015-07-01T00:00:00.000+0000</td><td>Norte</td><td>3679</td></tr><tr><td>2015-08-01T00:00:00.000+0000</td><td>Norte</td><td>3814</td></tr><tr><td>2015-09-01T00:00:00.000+0000</td><td>Norte</td><td>4884</td></tr><tr><td>2015-10-01T00:00:00.000+0000</td><td>Norte</td><td>3031</td></tr><tr><td>2015-11-01T00:00:00.000+0000</td><td>Norte</td><td>2270</td></tr><tr><td>2015-12-01T00:00:00.000+0000</td><td>Norte</td><td>2055</td></tr><tr><td>2016-01-01T00:00:00.000+0000</td><td>Norte</td><td>2988</td></tr><tr><td>2016-02-01T00:00:00.000+0000</td><td>Norte</td><td>6152</td></tr><tr><td>2016-03-01T00:00:00.000+0000</td><td>Norte</td><td>6292</td></tr><tr><td>2016-04-01T00:00:00.000+0000</td><td>Norte</td><td>7246</td></tr><tr><td>2016-05-01T00:00:00.000+0000</td><td>Norte</td><td>4975</td></tr><tr><td>2016-06-01T00:00:00.000+0000</td><td>Norte</td><td>3473</td></tr><tr><td>2016-07-01T00:00:00.000+0000</td><td>Norte</td><td>2948</td></tr><tr><td>2016-08-01T00:00:00.000+0000</td><td>Norte</td><td>2601</td></tr><tr><td>2016-09-01T00:00:00.000+0000</td><td>Norte</td><td>2388</td></tr><tr><td>2016-10-01T00:00:00.000+0000</td><td>Norte</td><td>2692</td></tr><tr><td>2016-11-01T00:00:00.000+0000</td><td>Norte</td><td>3452</td></tr><tr><td>2016-12-01T00:00:00.000+0000</td><td>Norte</td><td>4639</td></tr><tr><td>2017-01-01T00:00:00.000+0000</td><td>Norte</td><td>5396</td></tr><tr><td>2017-02-01T00:00:00.000+0000</td><td>Norte</td><td>8368</td></tr><tr><td>2017-03-01T00:00:00.000+0000</td><td>Norte</td><td>9659</td></tr><tr><td>2017-04-01T00:00:00.000+0000</td><td>Norte</td><td>8683</td></tr><tr><td>2017-05-01T00:00:00.000+0000</td><td>Norte</td><td>8350</td></tr><tr><td>2017-06-01T00:00:00.000+0000</td><td>Norte</td><td>6050</td></tr><tr><td>2017-07-01T00:00:00.000+0000</td><td>Norte</td><td>3703</td></tr><tr><td>2017-08-01T00:00:00.000+0000</td><td>Norte</td><td>2976</td></tr><tr><td>2017-09-01T00:00:00.000+0000</td><td>Norte</td><td>4217</td></tr><tr><td>2017-10-01T00:00:00.000+0000</td><td>Norte</td><td>2797</td></tr><tr><td>2017-11-01T00:00:00.000+0000</td><td>Norte</td><td>2625</td></tr><tr><td>2017-12-01T00:00:00.000+0000</td><td>Norte</td><td>4553</td></tr><tr><td>2018-01-01T00:00:00.000+0000</td><td>Norte</td><td>7095</td></tr><tr><td>2018-02-01T00:00:00.000+0000</td><td>Norte</td><td>8949</td></tr><tr><td>2018-03-01T00:00:00.000+0000</td><td>Norte</td><td>9522</td></tr><tr><td>2018-04-01T00:00:00.000+0000</td><td>Norte</td><td>10605</td></tr><tr><td>2018-05-01T00:00:00.000+0000</td><td>Norte</td><td>10125</td></tr><tr><td>2018-06-01T00:00:00.000+0000</td><td>Norte</td><td>6985</td></tr><tr><td>2018-07-01T00:00:00.000+0000</td><td>Norte</td><td>4181</td></tr><tr><td>2018-08-01T00:00:00.000+0000</td><td>Norte</td><td>4153</td></tr><tr><td>2018-09-01T00:00:00.000+0000</td><td>Norte</td><td>3800</td></tr><tr><td>2018-10-01T00:00:00.000+0000</td><td>Norte</td><td>3935</td></tr><tr><td>2018-11-01T00:00:00.000+0000</td><td>Norte</td><td>4104</td></tr><tr><td>2018-12-01T00:00:00.000+0000</td><td>Norte</td><td>9687</td></tr><tr><td>2019-01-01T00:00:00.000+0000</td><td>Norte</td><td>10063</td></tr><tr><td>2019-02-01T00:00:00.000+0000</td><td>Norte</td><td>12357</td></tr><tr><td>2019-03-01T00:00:00.000+0000</td><td>Norte</td><td>11806</td></tr><tr><td>2019-04-01T00:00:00.000+0000</td><td>Norte</td><td>11581</td></tr><tr><td>2019-05-01T00:00:00.000+0000</td><td>Norte</td><td>11211</td></tr><tr><td>2019-06-01T00:00:00.000+0000</td><td>Norte</td><td>7831</td></tr><tr><td>2019-07-01T00:00:00.000+0000</td><td>Norte</td><td>4608</td></tr><tr><td>2019-08-01T00:00:00.000+0000</td><td>Norte</td><td>3522</td></tr><tr><td>2019-09-01T00:00:00.000+0000</td><td>Norte</td><td>4179</td></tr><tr><td>2019-10-01T00:00:00.000+0000</td><td>Norte</td><td>4480</td></tr><tr><td>2019-11-01T00:00:00.000+0000</td><td>Norte</td><td>3857</td></tr><tr><td>2019-12-01T00:00:00.000+0000</td><td>Norte</td><td>5216</td></tr><tr><td>2020-01-01T00:00:00.000+0000</td><td>Norte</td><td>8269</td></tr><tr><td>2020-02-01T00:00:00.000+0000</td><td>Norte</td><td>12713</td></tr><tr><td>2020-03-01T00:00:00.000+0000</td><td>Norte</td><td>15327</td></tr><tr><td>2020-04-01T00:00:00.000+0000</td><td>Norte</td><td>10977</td></tr><tr><td>2020-05-01T00:00:00.000+0000</td><td>Norte</td><td>10725</td></tr><tr><td>2020-06-01T00:00:00.000+0000</td><td>Norte</td><td>9575</td></tr><tr><td>2020-07-01T00:00:00.000+0000</td><td>Norte</td><td>4948</td></tr><tr><td>2020-08-01T00:00:00.000+0000</td><td>Norte</td><td>4236</td></tr><tr><td>2020-09-01T00:00:00.000+0000</td><td>Norte</td><td>4384</td></tr><tr><td>2020-10-01T00:00:00.000+0000</td><td>Norte</td><td>4444</td></tr><tr><td>2020-11-01T00:00:00.000+0000</td><td>Norte</td><td>3523</td></tr><tr><td>2020-12-01T00:00:00.000+0000</td><td>Norte</td><td>3926</td></tr><tr><td>2021-01-01T00:00:00.000+0000</td><td>Norte</td><td>6125</td></tr><tr><td>2021-02-01T00:00:00.000+0000</td><td>Norte</td><td>10608</td></tr><tr><td>2021-03-01T00:00:00.000+0000</td><td>Norte</td><td>16673</td></tr><tr><td>2021-04-01T00:00:00.000+0000</td><td>Norte</td><td>15971</td></tr><tr><td>2021-05-01T00:00:00.000+0000</td><td>Norte</td><td>13441</td></tr><tr><td>2021-06-01T00:00:00.000+0000</td><td>Norte</td><td>6666</td></tr><tr><td>2021-07-01T00:00:00.000+0000</td><td>Norte</td><td>4209</td></tr><tr><td>2021-08-01T00:00:00.000+0000</td><td>Norte</td><td>3717</td></tr><tr><td>2021-09-01T00:00:00.000+0000</td><td>Norte</td><td>3601</td></tr><tr><td>2021-10-01T00:00:00.000+0000</td><td>Norte</td><td>4286</td></tr><tr><td>2021-11-01T00:00:00.000+0000</td><td>Norte</td><td>7741</td></tr><tr><td>2021-12-01T00:00:00.000+0000</td><td>Norte</td><td>11935</td></tr><tr><td>2022-01-01T00:00:00.000+0000</td><td>Norte</td><td>15406</td></tr><tr><td>2022-02-01T00:00:00.000+0000</td><td>Norte</td><td>15408</td></tr><tr><td>2022-03-01T00:00:00.000+0000</td><td>Norte</td><td>14929</td></tr><tr><td>2022-04-01T00:00:00.000+0000</td><td>Norte</td><td>15347</td></tr><tr><td>2022-05-01T00:00:00.000+0000</td><td>Norte</td><td>13222</td></tr><tr><td>2022-06-01T00:00:00.000+0000</td><td>Norte</td><td>7809</td></tr><tr><td>2022-07-01T00:00:00.000+0000</td><td>Norte</td><td>5286</td></tr><tr><td>2022-08-01T00:00:00.000+0000</td><td>Norte</td><td>3445</td></tr><tr><td>2022-09-01T00:00:00.000+0000</td><td>Norte</td><td>3854</td></tr><tr><td>2022-10-01T00:00:00.000+0000</td><td>Norte</td><td>4495</td></tr><tr><td>2022-11-01T00:00:00.000+0000</td><td>Norte</td><td>4411</td></tr><tr><td>2022-12-01T00:00:00.000+0000</td><td>Norte</td><td>8311</td></tr><tr><td>null</td><td>Nordeste</td><td>736220</td></tr><tr><td>2010-01-01T00:00:00.000+0000</td><td>Nordeste</td><td>5721</td></tr><tr><td>2010-02-01T00:00:00.000+0000</td><td>Nordeste</td><td>5997</td></tr><tr><td>2010-03-01T00:00:00.000+0000</td><td>Nordeste</td><td>5722</td></tr><tr><td>2010-04-01T00:00:00.000+0000</td><td>Nordeste</td><td>4868</td></tr><tr><td>2010-05-01T00:00:00.000+0000</td><td>Nordeste</td><td>4712</td></tr><tr><td>2010-06-01T00:00:00.000+0000</td><td>Nordeste</td><td>4292</td></tr><tr><td>2010-07-01T00:00:00.000+0000</td><td>Nordeste</td><td>4679</td></tr><tr><td>2010-08-01T00:00:00.000+0000</td><td>Nordeste</td><td>4522</td></tr><tr><td>2010-09-01T00:00:00.000+0000</td><td>Nordeste</td><td>5030</td></tr><tr><td>2010-10-01T00:00:00.000+0000</td><td>Nordeste</td><td>5720</td></tr><tr><td>2010-11-01T00:00:00.000+0000</td><td>Nordeste</td><td>5251</td></tr><tr><td>2010-12-01T00:00:00.000+0000</td><td>Nordeste</td><td>6055</td></tr><tr><td>2011-01-01T00:00:00.000+0000</td><td>Nordeste</td><td>5707</td></tr><tr><td>2011-02-01T00:00:00.000+0000</td><td>Nordeste</td><td>5851</td></tr><tr><td>2011-03-01T00:00:00.000+0000</td><td>Nordeste</td><td>5751</td></tr><tr><td>2011-04-01T00:00:00.000+0000</td><td>Nordeste</td><td>5605</td></tr><tr><td>2011-05-01T00:00:00.000+0000</td><td>Nordeste</td><td>4645</td></tr><tr><td>2011-06-01T00:00:00.000+0000</td><td>Nordeste</td><td>5074</td></tr><tr><td>2011-07-01T00:00:00.000+0000</td><td>Nordeste</td><td>5329</td></tr><tr><td>2011-08-01T00:00:00.000+0000</td><td>Nordeste</td><td>5731</td></tr><tr><td>2011-09-01T00:00:00.000+0000</td><td>Nordeste</td><td>6242</td></tr><tr><td>2011-10-01T00:00:00.000+0000</td><td>Nordeste</td><td>6782</td></tr><tr><td>2011-11-01T00:00:00.000+0000</td><td>Nordeste</td><td>6194</td></tr><tr><td>2011-12-01T00:00:00.000+0000</td><td>Nordeste</td><td>6311</td></tr><tr><td>2012-01-01T00:00:00.000+0000</td><td>Nordeste</td><td>6987</td></tr><tr><td>2012-02-01T00:00:00.000+0000</td><td>Nordeste</td><td>6495</td></tr><tr><td>2012-03-01T00:00:00.000+0000</td><td>Nordeste</td><td>6941</td></tr><tr><td>2012-04-01T00:00:00.000+0000</td><td>Nordeste</td><td>6508</td></tr><tr><td>2012-05-01T00:00:00.000+0000</td><td>Nordeste</td><td>6062</td></tr><tr><td>2012-06-01T00:00:00.000+0000</td><td>Nordeste</td><td>5984</td></tr><tr><td>2012-07-01T00:00:00.000+0000</td><td>Nordeste</td><td>4941</td></tr><tr><td>2012-08-01T00:00:00.000+0000</td><td>Nordeste</td><td>5452</td></tr><tr><td>2012-09-01T00:00:00.000+0000</td><td>Nordeste</td><td>5511</td></tr><tr><td>2012-10-01T00:00:00.000+0000</td><td>Nordeste</td><td>5106</td></tr><tr><td>2012-11-01T00:00:00.000+0000</td><td>Nordeste</td><td>4570</td></tr><tr><td>2012-12-01T00:00:00.000+0000</td><td>Nordeste</td><td>6162</td></tr><tr><td>2013-01-01T00:00:00.000+0000</td><td>Nordeste</td><td>5149</td></tr><tr><td>2013-02-01T00:00:00.000+0000</td><td>Nordeste</td><td>3964</td></tr><tr><td>2013-03-01T00:00:00.000+0000</td><td>Nordeste</td><td>3865</td></tr><tr><td>2013-04-01T00:00:00.000+0000</td><td>Nordeste</td><td>3934</td></tr><tr><td>2013-05-01T00:00:00.000+0000</td><td>Nordeste</td><td>3487</td></tr><tr><td>2013-06-01T00:00:00.000+0000</td><td>Nordeste</td><td>3467</td></tr><tr><td>2013-07-01T00:00:00.000+0000</td><td>Nordeste</td><td>4019</td></tr><tr><td>2013-08-01T00:00:00.000+0000</td><td>Nordeste</td><td>3646</td></tr><tr><td>2013-09-01T00:00:00.000+0000</td><td>Nordeste</td><td>3739</td></tr><tr><td>2013-10-01T00:00:00.000+0000</td><td>Nordeste</td><td>3881</td></tr><tr><td>2013-11-01T00:00:00.000+0000</td><td>Nordeste</td><td>3661</td></tr><tr><td>2013-12-01T00:00:00.000+0000</td><td>Nordeste</td><td>3720</td></tr><tr><td>2014-01-01T00:00:00.000+0000</td><td>Nordeste</td><td>3701</td></tr><tr><td>2014-02-01T00:00:00.000+0000</td><td>Nordeste</td><td>3455</td></tr><tr><td>2014-03-01T00:00:00.000+0000</td><td>Nordeste</td><td>3502</td></tr><tr><td>2014-04-01T00:00:00.000+0000</td><td>Nordeste</td><td>3478</td></tr><tr><td>2014-05-01T00:00:00.000+0000</td><td>Nordeste</td><td>3367</td></tr><tr><td>2014-06-01T00:00:00.000+0000</td><td>Nordeste</td><td>3422</td></tr><tr><td>2014-07-01T00:00:00.000+0000</td><td>Nordeste</td><td>3307</td></tr><tr><td>2014-08-01T00:00:00.000+0000</td><td>Nordeste</td><td>3278</td></tr><tr><td>2014-09-01T00:00:00.000+0000</td><td>Nordeste</td><td>3299</td></tr><tr><td>2014-10-01T00:00:00.000+0000</td><td>Nordeste</td><td>3358</td></tr><tr><td>2014-11-01T00:00:00.000+0000</td><td>Nordeste</td><td>3375</td></tr><tr><td>2014-12-01T00:00:00.000+0000</td><td>Nordeste</td><td>3527</td></tr><tr><td>2015-01-01T00:00:00.000+0000</td><td>Nordeste</td><td>3372</td></tr><tr><td>2015-02-01T00:00:00.000+0000</td><td>Nordeste</td><td>3315</td></tr><tr><td>2015-03-01T00:00:00.000+0000</td><td>Nordeste</td><td>3422</td></tr><tr><td>2015-04-01T00:00:00.000+0000</td><td>Nordeste</td><td>3253</td></tr><tr><td>2015-05-01T00:00:00.000+0000</td><td>Nordeste</td><td>3413</td></tr><tr><td>2015-06-01T00:00:00.000+0000</td><td>Nordeste</td><td>2822</td></tr><tr><td>2015-07-01T00:00:00.000+0000</td><td>Nordeste</td><td>2801</td></tr><tr><td>2015-08-01T00:00:00.000+0000</td><td>Nordeste</td><td>2877</td></tr><tr><td>2015-09-01T00:00:00.000+0000</td><td>Nordeste</td><td>2846</td></tr><tr><td>2015-10-01T00:00:00.000+0000</td><td>Nordeste</td><td>2794</td></tr><tr><td>2015-11-01T00:00:00.000+0000</td><td>Nordeste</td><td>2691</td></tr><tr><td>2015-12-01T00:00:00.000+0000</td><td>Nordeste</td><td>2635</td></tr><tr><td>2016-01-01T00:00:00.000+0000</td><td>Nordeste</td><td>2922</td></tr><tr><td>2016-02-01T00:00:00.000+0000</td><td>Nordeste</td><td>2758</td></tr><tr><td>2016-03-01T00:00:00.000+0000</td><td>Nordeste</td><td>2635</td></tr><tr><td>2016-04-01T00:00:00.000+0000</td><td>Nordeste</td><td>2433</td></tr><tr><td>2016-05-01T00:00:00.000+0000</td><td>Nordeste</td><td>2491</td></tr><tr><td>2016-06-01T00:00:00.000+0000</td><td>Nordeste</td><td>2430</td></tr><tr><td>2016-07-01T00:00:00.000+0000</td><td>Nordeste</td><td>2440</td></tr><tr><td>2016-08-01T00:00:00.000+0000</td><td>Nordeste</td><td>2447</td></tr><tr><td>2016-09-01T00:00:00.000+0000</td><td>Nordeste</td><td>2471</td></tr><tr><td>2016-10-01T00:00:00.000+0000</td><td>Nordeste</td><td>2507</td></tr><tr><td>2016-11-01T00:00:00.000+0000</td><td>Nordeste</td><td>2506</td></tr><tr><td>2016-12-01T00:00:00.000+0000</td><td>Nordeste</td><td>2388</td></tr><tr><td>2017-01-01T00:00:00.000+0000</td><td>Nordeste</td><td>2319</td></tr><tr><td>2017-02-01T00:00:00.000+0000</td><td>Nordeste</td><td>2310</td></tr><tr><td>2017-03-01T00:00:00.000+0000</td><td>Nordeste</td><td>2266</td></tr><tr><td>2017-04-01T00:00:00.000+0000</td><td>Nordeste</td><td>2167</td></tr><tr><td>2017-05-01T00:00:00.000+0000</td><td>Nordeste</td><td>2022</td></tr><tr><td>2017-06-01T00:00:00.000+0000</td><td>Nordeste</td><td>1653</td></tr><tr><td>2017-07-01T00:00:00.000+0000</td><td>Nordeste</td><td>1668</td></tr><tr><td>2017-08-01T00:00:00.000+0000</td><td>Nordeste</td><td>1664</td></tr><tr><td>2017-09-01T00:00:00.000+0000</td><td>Nordeste</td><td>1590</td></tr><tr><td>2017-10-01T00:00:00.000+0000</td><td>Nordeste</td><td>1548</td></tr><tr><td>2017-11-01T00:00:00.000+0000</td><td>Nordeste</td><td>1605</td></tr><tr><td>2017-12-01T00:00:00.000+0000</td><td>Nordeste</td><td>1766</td></tr><tr><td>2018-01-01T00:00:00.000+0000</td><td>Nordeste</td><td>1637</td></tr><tr><td>2018-02-01T00:00:00.000+0000</td><td>Nordeste</td><td>1882</td></tr><tr><td>2018-03-01T00:00:00.000+0000</td><td>Nordeste</td><td>2013</td></tr><tr><td>2018-04-01T00:00:00.000+0000</td><td>Nordeste</td><td>1820</td></tr><tr><td>2018-05-01T00:00:00.000+0000</td><td>Nordeste</td><td>1858</td></tr><tr><td>2018-06-01T00:00:00.000+0000</td><td>Nordeste</td><td>1863</td></tr><tr><td>2018-07-01T00:00:00.000+0000</td><td>Nordeste</td><td>1818</td></tr><tr><td>2018-08-01T00:00:00.000+0000</td><td>Nordeste</td><td>1790</td></tr><tr><td>2018-09-01T00:00:00.000+0000</td><td>Nordeste</td><td>1768</td></tr><tr><td>2018-10-01T00:00:00.000+0000</td><td>Nordeste</td><td>1955</td></tr><tr><td>2018-11-01T00:00:00.000+0000</td><td>Nordeste</td><td>2005</td></tr><tr><td>2018-12-01T00:00:00.000+0000</td><td>Nordeste</td><td>2258</td></tr><tr><td>2019-01-01T00:00:00.000+0000</td><td>Nordeste</td><td>2408</td></tr><tr><td>2019-02-01T00:00:00.000+0000</td><td>Nordeste</td><td>2208</td></tr><tr><td>2019-03-01T00:00:00.000+0000</td><td>Nordeste</td><td>2198</td></tr><tr><td>2019-04-01T00:00:00.000+0000</td><td>Nordeste</td><td>2499</td></tr><tr><td>2019-05-01T00:00:00.000+0000</td><td>Nordeste</td><td>2551</td></tr><tr><td>2019-06-01T00:00:00.000+0000</td><td>Nordeste</td><td>2432</td></tr><tr><td>2019-07-01T00:00:00.000+0000</td><td>Nordeste</td><td>2416</td></tr><tr><td>2019-08-01T00:00:00.000+0000</td><td>Nordeste</td><td>2446</td></tr><tr><td>2019-09-01T00:00:00.000+0000</td><td>Nordeste</td><td>2479</td></tr><tr><td>2019-10-01T00:00:00.000+0000</td><td>Nordeste</td><td>2769</td></tr><tr><td>2019-11-01T00:00:00.000+0000</td><td>Nordeste</td><td>3071</td></tr><tr><td>2019-12-01T00:00:00.000+0000</td><td>Nordeste</td><td>2553</td></tr><tr><td>2020-01-01T00:00:00.000+0000</td><td>Nordeste</td><td>2980</td></tr><tr><td>2020-02-01T00:00:00.000+0000</td><td>Nordeste</td><td>2966</td></tr><tr><td>2020-03-01T00:00:00.000+0000</td><td>Nordeste</td><td>3081</td></tr><tr><td>2020-04-01T00:00:00.000+0000</td><td>Nordeste</td><td>3924</td></tr><tr><td>2020-05-01T00:00:00.000+0000</td><td>Nordeste</td><td>3560</td></tr><tr><td>2020-06-01T00:00:00.000+0000</td><td>Nordeste</td><td>3767</td></tr><tr><td>2020-07-01T00:00:00.000+0000</td><td>Nordeste</td><td>4600</td></tr><tr><td>2020-08-01T00:00:00.000+0000</td><td>Nordeste</td><td>4089</td></tr><tr><td>2020-09-01T00:00:00.000+0000</td><td>Nordeste</td><td>5023</td></tr><tr><td>2020-10-01T00:00:00.000+0000</td><td>Nordeste</td><td>5561</td></tr><tr><td>2020-11-01T00:00:00.000+0000</td><td>Nordeste</td><td>5994</td></tr><tr><td>2020-12-01T00:00:00.000+0000</td><td>Nordeste</td><td>6609</td></tr><tr><td>2021-01-01T00:00:00.000+0000</td><td>Nordeste</td><td>3224</td></tr><tr><td>2021-02-01T00:00:00.000+0000</td><td>Nordeste</td><td>2933</td></tr><tr><td>2021-03-01T00:00:00.000+0000</td><td>Nordeste</td><td>2836</td></tr><tr><td>2021-04-01T00:00:00.000+0000</td><td>Nordeste</td><td>3439</td></tr><tr><td>2021-05-01T00:00:00.000+0000</td><td>Nordeste</td><td>3324</td></tr><tr><td>2021-06-01T00:00:00.000+0000</td><td>Nordeste</td><td>3016</td></tr><tr><td>2021-07-01T00:00:00.000+0000</td><td>Nordeste</td><td>2734</td></tr><tr><td>2021-08-01T00:00:00.000+0000</td><td>Nordeste</td><td>2877</td></tr><tr><td>2021-09-01T00:00:00.000+0000</td><td>Nordeste</td><td>4128</td></tr><tr><td>2021-10-01T00:00:00.000+0000</td><td>Nordeste</td><td>3209</td></tr><tr><td>2021-11-01T00:00:00.000+0000</td><td>Nordeste</td><td>3427</td></tr><tr><td>2021-12-01T00:00:00.000+0000</td><td>Nordeste</td><td>3164</td></tr><tr><td>2022-01-01T00:00:00.000+0000</td><td>Nordeste</td><td>4748</td></tr><tr><td>2022-02-01T00:00:00.000+0000</td><td>Nordeste</td><td>6173</td></tr><tr><td>2022-03-01T00:00:00.000+0000</td><td>Nordeste</td><td>5674</td></tr><tr><td>2022-04-01T00:00:00.000+0000</td><td>Nordeste</td><td>4762</td></tr><tr><td>2022-05-01T00:00:00.000+0000</td><td>Nordeste</td><td>3719</td></tr><tr><td>2022-06-01T00:00:00.000+0000</td><td>Nordeste</td><td>3613</td></tr><tr><td>2022-07-01T00:00:00.000+0000</td><td>Nordeste</td><td>5235</td></tr><tr><td>2022-08-01T00:00:00.000+0000</td><td>Nordeste</td><td>5736</td></tr><tr><td>2022-09-01T00:00:00.000+0000</td><td>Nordeste</td><td>3900</td></tr><tr><td>2022-10-01T00:00:00.000+0000</td><td>Nordeste</td><td>3625</td></tr><tr><td>2022-11-01T00:00:00.000+0000</td><td>Nordeste</td><td>5041</td></tr><tr><td>2022-12-01T00:00:00.000+0000</td><td>Nordeste</td><td>5763</td></tr></tbody></table></div>"
      ]
     },
     "metadata": {
      "application/vnd.databricks.v1+output": {
       "addedWidgets": {},
       "aggData": [],
       "aggError": "",
       "aggOverflow": false,
       "aggSchema": [],
       "aggSeriesLimitReached": false,
       "aggType": "",
       "arguments": {},
       "columnCustomDisplayInfos": {},
       "data": [
        [
         null,
         "Sul",
         750476
        ],
        [
         "2010-01-01T00:00:00.000+0000",
         "Sul",
         8337
        ],
        [
         "2010-02-01T00:00:00.000+0000",
         "Sul",
         9238
        ],
        [
         "2010-03-01T00:00:00.000+0000",
         "Sul",
         8834
        ],
        [
         "2010-04-01T00:00:00.000+0000",
         "Sul",
         8337
        ],
        [
         "2010-05-01T00:00:00.000+0000",
         "Sul",
         9017
        ],
        [
         "2010-06-01T00:00:00.000+0000",
         "Sul",
         9623
        ],
        [
         "2010-07-01T00:00:00.000+0000",
         "Sul",
         9699
        ],
        [
         "2010-08-01T00:00:00.000+0000",
         "Sul",
         9390
        ],
        [
         "2010-09-01T00:00:00.000+0000",
         "Sul",
         7862
        ],
        [
         "2010-10-01T00:00:00.000+0000",
         "Sul",
         8207
        ],
        [
         "2010-11-01T00:00:00.000+0000",
         "Sul",
         6971
        ],
        [
         "2010-12-01T00:00:00.000+0000",
         "Sul",
         8432
        ],
        [
         "2011-01-01T00:00:00.000+0000",
         "Sul",
         8904
        ],
        [
         "2011-02-01T00:00:00.000+0000",
         "Sul",
         11415
        ],
        [
         "2011-03-01T00:00:00.000+0000",
         "Sul",
         10031
        ],
        [
         "2011-04-01T00:00:00.000+0000",
         "Sul",
         9225
        ],
        [
         "2011-05-01T00:00:00.000+0000",
         "Sul",
         8754
        ],
        [
         "2011-06-01T00:00:00.000+0000",
         "Sul",
         8053
        ],
        [
         "2011-07-01T00:00:00.000+0000",
         "Sul",
         11006
        ],
        [
         "2011-08-01T00:00:00.000+0000",
         "Sul",
         11882
        ],
        [
         "2011-09-01T00:00:00.000+0000",
         "Sul",
         11327
        ],
        [
         "2011-10-01T00:00:00.000+0000",
         "Sul",
         10810
        ],
        [
         "2011-11-01T00:00:00.000+0000",
         "Sul",
         10054
        ],
        [
         "2011-12-01T00:00:00.000+0000",
         "Sul",
         6590
        ],
        [
         "2012-01-01T00:00:00.000+0000",
         "Sul",
         5028
        ],
        [
         "2012-02-01T00:00:00.000+0000",
         "Sul",
         7464
        ],
        [
         "2012-03-01T00:00:00.000+0000",
         "Sul",
         6704
        ],
        [
         "2012-04-01T00:00:00.000+0000",
         "Sul",
         2997
        ],
        [
         "2012-05-01T00:00:00.000+0000",
         "Sul",
         2482
        ],
        [
         "2012-06-01T00:00:00.000+0000",
         "Sul",
         6447
        ],
        [
         "2012-07-01T00:00:00.000+0000",
         "Sul",
         7671
        ],
        [
         "2012-08-01T00:00:00.000+0000",
         "Sul",
         8783
        ],
        [
         "2012-09-01T00:00:00.000+0000",
         "Sul",
         7656
        ],
        [
         "2012-10-01T00:00:00.000+0000",
         "Sul",
         7469
        ],
        [
         "2012-11-01T00:00:00.000+0000",
         "Sul",
         5178
        ],
        [
         "2012-12-01T00:00:00.000+0000",
         "Sul",
         4437
        ],
        [
         "2013-01-01T00:00:00.000+0000",
         "Sul",
         6742
        ],
        [
         "2013-02-01T00:00:00.000+0000",
         "Sul",
         6835
        ],
        [
         "2013-03-01T00:00:00.000+0000",
         "Sul",
         7629
        ],
        [
         "2013-04-01T00:00:00.000+0000",
         "Sul",
         7642
        ],
        [
         "2013-05-01T00:00:00.000+0000",
         "Sul",
         5913
        ],
        [
         "2013-06-01T00:00:00.000+0000",
         "Sul",
         7493
        ],
        [
         "2013-07-01T00:00:00.000+0000",
         "Sul",
         9453
        ],
        [
         "2013-08-01T00:00:00.000+0000",
         "Sul",
         11354
        ],
        [
         "2013-09-01T00:00:00.000+0000",
         "Sul",
         11470
        ],
        [
         "2013-10-01T00:00:00.000+0000",
         "Sul",
         11848
        ],
        [
         "2013-11-01T00:00:00.000+0000",
         "Sul",
         10741
        ],
        [
         "2013-12-01T00:00:00.000+0000",
         "Sul",
         9138
        ],
        [
         "2014-01-01T00:00:00.000+0000",
         "Sul",
         10004
        ],
        [
         "2014-02-01T00:00:00.000+0000",
         "Sul",
         8828
        ],
        [
         "2014-03-01T00:00:00.000+0000",
         "Sul",
         8733
        ],
        [
         "2014-04-01T00:00:00.000+0000",
         "Sul",
         8421
        ],
        [
         "2014-05-01T00:00:00.000+0000",
         "Sul",
         8558
        ],
        [
         "2014-06-01T00:00:00.000+0000",
         "Sul",
         11410
        ],
        [
         "2014-07-01T00:00:00.000+0000",
         "Sul",
         11875
        ],
        [
         "2014-08-01T00:00:00.000+0000",
         "Sul",
         9573
        ],
        [
         "2014-09-01T00:00:00.000+0000",
         "Sul",
         10975
        ],
        [
         "2014-10-01T00:00:00.000+0000",
         "Sul",
         11358
        ],
        [
         "2014-11-01T00:00:00.000+0000",
         "Sul",
         11389
        ],
        [
         "2014-12-01T00:00:00.000+0000",
         "Sul",
         8479
        ],
        [
         "2015-01-01T00:00:00.000+0000",
         "Sul",
         13251
        ],
        [
         "2015-02-01T00:00:00.000+0000",
         "Sul",
         12494
        ],
        [
         "2015-03-01T00:00:00.000+0000",
         "Sul",
         9875
        ],
        [
         "2015-04-01T00:00:00.000+0000",
         "Sul",
         7773
        ],
        [
         "2015-05-01T00:00:00.000+0000",
         "Sul",
         5925
        ],
        [
         "2015-06-01T00:00:00.000+0000",
         "Sul",
         8088
        ],
        [
         "2015-07-01T00:00:00.000+0000",
         "Sul",
         11480
        ],
        [
         "2015-08-01T00:00:00.000+0000",
         "Sul",
         11474
        ],
        [
         "2015-09-01T00:00:00.000+0000",
         "Sul",
         11100
        ],
        [
         "2015-10-01T00:00:00.000+0000",
         "Sul",
         12263
        ],
        [
         "2015-11-01T00:00:00.000+0000",
         "Sul",
         12308
        ],
        [
         "2015-12-01T00:00:00.000+0000",
         "Sul",
         13195
        ],
        [
         "2016-01-01T00:00:00.000+0000",
         "Sul",
         11458
        ],
        [
         "2016-02-01T00:00:00.000+0000",
         "Sul",
         12133
        ],
        [
         "2016-03-01T00:00:00.000+0000",
         "Sul",
         11865
        ],
        [
         "2016-04-01T00:00:00.000+0000",
         "Sul",
         10896
        ],
        [
         "2016-05-01T00:00:00.000+0000",
         "Sul",
         9991
        ],
        [
         "2016-06-01T00:00:00.000+0000",
         "Sul",
         9720
        ],
        [
         "2016-07-01T00:00:00.000+0000",
         "Sul",
         10271
        ],
        [
         "2016-08-01T00:00:00.000+0000",
         "Sul",
         10569
        ],
        [
         "2016-09-01T00:00:00.000+0000",
         "Sul",
         10617
        ],
        [
         "2016-10-01T00:00:00.000+0000",
         "Sul",
         10006
        ],
        [
         "2016-11-01T00:00:00.000+0000",
         "Sul",
         9775
        ],
        [
         "2016-12-01T00:00:00.000+0000",
         "Sul",
         9442
        ],
        [
         "2017-01-01T00:00:00.000+0000",
         "Sul",
         11229
        ],
        [
         "2017-02-01T00:00:00.000+0000",
         "Sul",
         10079
        ],
        [
         "2017-03-01T00:00:00.000+0000",
         "Sul",
         7593
        ],
        [
         "2017-04-01T00:00:00.000+0000",
         "Sul",
         5467
        ],
        [
         "2017-05-01T00:00:00.000+0000",
         "Sul",
         5820
        ],
        [
         "2017-06-01T00:00:00.000+0000",
         "Sul",
         10570
        ],
        [
         "2017-07-01T00:00:00.000+0000",
         "Sul",
         8771
        ],
        [
         "2017-08-01T00:00:00.000+0000",
         "Sul",
         7958
        ],
        [
         "2017-09-01T00:00:00.000+0000",
         "Sul",
         6679
        ],
        [
         "2017-10-01T00:00:00.000+0000",
         "Sul",
         8199
        ],
        [
         "2017-11-01T00:00:00.000+0000",
         "Sul",
         9414
        ],
        [
         "2017-12-01T00:00:00.000+0000",
         "Sul",
         7286
        ],
        [
         "2018-01-01T00:00:00.000+0000",
         "Sul",
         8954
        ],
        [
         "2018-02-01T00:00:00.000+0000",
         "Sul",
         9128
        ],
        [
         "2018-03-01T00:00:00.000+0000",
         "Sul",
         8067
        ],
        [
         "2018-04-01T00:00:00.000+0000",
         "Sul",
         7268
        ],
        [
         "2018-05-01T00:00:00.000+0000",
         "Sul",
         5550
        ],
        [
         "2018-06-01T00:00:00.000+0000",
         "Sul",
         5249
        ],
        [
         "2018-07-01T00:00:00.000+0000",
         "Sul",
         7003
        ],
        [
         "2018-08-01T00:00:00.000+0000",
         "Sul",
         6518
        ],
        [
         "2018-09-01T00:00:00.000+0000",
         "Sul",
         9243
        ],
        [
         "2018-10-01T00:00:00.000+0000",
         "Sul",
         10546
        ],
        [
         "2018-11-01T00:00:00.000+0000",
         "Sul",
         11233
        ],
        [
         "2018-12-01T00:00:00.000+0000",
         "Sul",
         8491
        ],
        [
         "2019-01-01T00:00:00.000+0000",
         "Sul",
         10502
        ],
        [
         "2019-02-01T00:00:00.000+0000",
         "Sul",
         8014
        ],
        [
         "2019-03-01T00:00:00.000+0000",
         "Sul",
         8524
        ],
        [
         "2019-04-01T00:00:00.000+0000",
         "Sul",
         7667
        ],
        [
         "2019-05-01T00:00:00.000+0000",
         "Sul",
         8135
        ],
        [
         "2019-06-01T00:00:00.000+0000",
         "Sul",
         8979
        ],
        [
         "2019-07-01T00:00:00.000+0000",
         "Sul",
         9406
        ],
        [
         "2019-08-01T00:00:00.000+0000",
         "Sul",
         7353
        ],
        [
         "2019-09-01T00:00:00.000+0000",
         "Sul",
         5864
        ],
        [
         "2019-10-01T00:00:00.000+0000",
         "Sul",
         6125
        ],
        [
         "2019-11-01T00:00:00.000+0000",
         "Sul",
         9407
        ],
        [
         "2019-12-01T00:00:00.000+0000",
         "Sul",
         5904
        ],
        [
         "2020-01-01T00:00:00.000+0000",
         "Sul",
         4775
        ],
        [
         "2020-02-01T00:00:00.000+0000",
         "Sul",
         3590
        ],
        [
         "2020-03-01T00:00:00.000+0000",
         "Sul",
         2182
        ],
        [
         "2020-04-01T00:00:00.000+0000",
         "Sul",
         1211
        ],
        [
         "2020-05-01T00:00:00.000+0000",
         "Sul",
         832
        ],
        [
         "2020-06-01T00:00:00.000+0000",
         "Sul",
         2771
        ],
        [
         "2020-07-01T00:00:00.000+0000",
         "Sul",
         8332
        ],
        [
         "2020-08-01T00:00:00.000+0000",
         "Sul",
         9185
        ],
        [
         "2020-09-01T00:00:00.000+0000",
         "Sul",
         9703
        ],
        [
         "2020-10-01T00:00:00.000+0000",
         "Sul",
         6127
        ],
        [
         "2020-11-01T00:00:00.000+0000",
         "Sul",
         3094
        ],
        [
         "2020-12-01T00:00:00.000+0000",
         "Sul",
         5199
        ],
        [
         "2021-01-01T00:00:00.000+0000",
         "Sul",
         7182
        ],
        [
         "2021-02-01T00:00:00.000+0000",
         "Sul",
         7662
        ],
        [
         "2021-03-01T00:00:00.000+0000",
         "Sul",
         6104
        ],
        [
         "2021-04-01T00:00:00.000+0000",
         "Sul",
         3246
        ],
        [
         "2021-05-01T00:00:00.000+0000",
         "Sul",
         2227
        ],
        [
         "2021-06-01T00:00:00.000+0000",
         "Sul",
         4985
        ],
        [
         "2021-07-01T00:00:00.000+0000",
         "Sul",
         8203
        ],
        [
         "2021-08-01T00:00:00.000+0000",
         "Sul",
         7311
        ],
        [
         "2021-09-01T00:00:00.000+0000",
         "Sul",
         7591
        ],
        [
         "2021-10-01T00:00:00.000+0000",
         "Sul",
         8248
        ],
        [
         "2021-11-01T00:00:00.000+0000",
         "Sul",
         5332
        ],
        [
         "2021-12-01T00:00:00.000+0000",
         "Sul",
         4395
        ],
        [
         "2022-01-01T00:00:00.000+0000",
         "Sul",
         4544
        ],
        [
         "2022-02-01T00:00:00.000+0000",
         "Sul",
         4186
        ],
        [
         "2022-03-01T00:00:00.000+0000",
         "Sul",
         3803
        ],
        [
         "2022-04-01T00:00:00.000+0000",
         "Sul",
         6453
        ],
        [
         "2022-05-01T00:00:00.000+0000",
         "Sul",
         9181
        ],
        [
         "2022-06-01T00:00:00.000+0000",
         "Sul",
         13542
        ],
        [
         "2022-07-01T00:00:00.000+0000",
         "Sul",
         12323
        ],
        [
         "2022-08-01T00:00:00.000+0000",
         "Sul",
         10965
        ],
        [
         "2022-09-01T00:00:00.000+0000",
         "Sul",
         11514
        ],
        [
         "2022-10-01T00:00:00.000+0000",
         "Sul",
         11720
        ],
        [
         "2022-11-01T00:00:00.000+0000",
         "Sul",
         10693
        ],
        [
         "2022-12-01T00:00:00.000+0000",
         "Sul",
         7925
        ],
        [
         null,
         "Sudeste/Centro-Oeste",
         3798224
        ],
        [
         "2010-01-01T00:00:00.000+0000",
         "Sudeste/Centro-Oeste",
         32153
        ],
        [
         "2010-02-01T00:00:00.000+0000",
         "Sudeste/Centro-Oeste",
         31832
        ],
        [
         "2010-03-01T00:00:00.000+0000",
         "Sudeste/Centro-Oeste",
         31912
        ],
        [
         "2010-04-01T00:00:00.000+0000",
         "Sudeste/Centro-Oeste",
         30699
        ],
        [
         "2010-05-01T00:00:00.000+0000",
         "Sudeste/Centro-Oeste",
         29070
        ],
        [
         "2010-06-01T00:00:00.000+0000",
         "Sudeste/Centro-Oeste",
         28705
        ],
        [
         "2010-07-01T00:00:00.000+0000",
         "Sudeste/Centro-Oeste",
         30252
        ],
        [
         "2010-08-01T00:00:00.000+0000",
         "Sudeste/Centro-Oeste",
         29279
        ],
        [
         "2010-09-01T00:00:00.000+0000",
         "Sudeste/Centro-Oeste",
         30409
        ],
        [
         "2010-10-01T00:00:00.000+0000",
         "Sudeste/Centro-Oeste",
         30767
        ],
        [
         "2010-11-01T00:00:00.000+0000",
         "Sudeste/Centro-Oeste",
         33236
        ],
        [
         "2010-12-01T00:00:00.000+0000",
         "Sudeste/Centro-Oeste",
         32967
        ],
        [
         "2011-01-01T00:00:00.000+0000",
         "Sudeste/Centro-Oeste",
         33293
        ],
        [
         "2011-02-01T00:00:00.000+0000",
         "Sudeste/Centro-Oeste",
         31723
        ],
        [
         "2011-03-01T00:00:00.000+0000",
         "Sudeste/Centro-Oeste",
         31566
        ],
        [
         "2011-04-01T00:00:00.000+0000",
         "Sudeste/Centro-Oeste",
         31474
        ],
        [
         "2011-05-01T00:00:00.000+0000",
         "Sudeste/Centro-Oeste",
         30076
        ],
        [
         "2011-06-01T00:00:00.000+0000",
         "Sudeste/Centro-Oeste",
         31222
        ],
        [
         "2011-07-01T00:00:00.000+0000",
         "Sudeste/Centro-Oeste",
         30684
        ],
        [
         "2011-08-01T00:00:00.000+0000",
         "Sudeste/Centro-Oeste",
         31327
        ],
        [
         "2011-09-01T00:00:00.000+0000",
         "Sudeste/Centro-Oeste",
         31080
        ],
        [
         "2011-10-01T00:00:00.000+0000",
         "Sudeste/Centro-Oeste",
         30910
        ],
        [
         "2011-11-01T00:00:00.000+0000",
         "Sudeste/Centro-Oeste",
         32825
        ],
        [
         "2011-12-01T00:00:00.000+0000",
         "Sudeste/Centro-Oeste",
         34490
        ],
        [
         "2012-01-01T00:00:00.000+0000",
         "Sudeste/Centro-Oeste",
         35792
        ],
        [
         "2012-02-01T00:00:00.000+0000",
         "Sudeste/Centro-Oeste",
         36463
        ],
        [
         "2012-03-01T00:00:00.000+0000",
         "Sudeste/Centro-Oeste",
         37169
        ],
        [
         "2012-04-01T00:00:00.000+0000",
         "Sudeste/Centro-Oeste",
         34893
        ],
        [
         "2012-05-01T00:00:00.000+0000",
         "Sudeste/Centro-Oeste",
         35159
        ],
        [
         "2012-06-01T00:00:00.000+0000",
         "Sudeste/Centro-Oeste",
         33470
        ],
        [
         "2012-07-01T00:00:00.000+0000",
         "Sudeste/Centro-Oeste",
         33801
        ],
        [
         "2012-08-01T00:00:00.000+0000",
         "Sudeste/Centro-Oeste",
         33430
        ],
        [
         "2012-09-01T00:00:00.000+0000",
         "Sudeste/Centro-Oeste",
         32501
        ],
        [
         "2012-10-01T00:00:00.000+0000",
         "Sudeste/Centro-Oeste",
         33366
        ],
        [
         "2012-11-01T00:00:00.000+0000",
         "Sudeste/Centro-Oeste",
         32919
        ],
        [
         "2012-12-01T00:00:00.000+0000",
         "Sudeste/Centro-Oeste",
         33247
        ],
        [
         "2013-01-01T00:00:00.000+0000",
         "Sudeste/Centro-Oeste",
         30082
        ],
        [
         "2013-02-01T00:00:00.000+0000",
         "Sudeste/Centro-Oeste",
         31597
        ],
        [
         "2013-03-01T00:00:00.000+0000",
         "Sudeste/Centro-Oeste",
         29925
        ],
        [
         "2013-04-01T00:00:00.000+0000",
         "Sudeste/Centro-Oeste",
         28708
        ],
        [
         "2013-05-01T00:00:00.000+0000",
         "Sudeste/Centro-Oeste",
         28012
        ],
        [
         "2013-06-01T00:00:00.000+0000",
         "Sudeste/Centro-Oeste",
         29091
        ],
        [
         "2013-07-01T00:00:00.000+0000",
         "Sudeste/Centro-Oeste",
         29552
        ],
        [
         "2013-08-01T00:00:00.000+0000",
         "Sudeste/Centro-Oeste",
         29073
        ],
        [
         "2013-09-01T00:00:00.000+0000",
         "Sudeste/Centro-Oeste",
         29156
        ],
        [
         "2013-10-01T00:00:00.000+0000",
         "Sudeste/Centro-Oeste",
         30060
        ],
        [
         "2013-11-01T00:00:00.000+0000",
         "Sudeste/Centro-Oeste",
         31465
        ],
        [
         "2013-12-01T00:00:00.000+0000",
         "Sudeste/Centro-Oeste",
         33302
        ],
        [
         "2014-01-01T00:00:00.000+0000",
         "Sudeste/Centro-Oeste",
         32701
        ],
        [
         "2014-02-01T00:00:00.000+0000",
         "Sudeste/Centro-Oeste",
         32808
        ],
        [
         "2014-03-01T00:00:00.000+0000",
         "Sudeste/Centro-Oeste",
         28700
        ],
        [
         "2014-04-01T00:00:00.000+0000",
         "Sudeste/Centro-Oeste",
         27223
        ],
        [
         "2014-05-01T00:00:00.000+0000",
         "Sudeste/Centro-Oeste",
         23767
        ],
        [
         "2014-06-01T00:00:00.000+0000",
         "Sudeste/Centro-Oeste",
         22794
        ],
        [
         "2014-07-01T00:00:00.000+0000",
         "Sudeste/Centro-Oeste",
         23394
        ],
        [
         "2014-08-01T00:00:00.000+0000",
         "Sudeste/Centro-Oeste",
         23780
        ],
        [
         "2014-09-01T00:00:00.000+0000",
         "Sudeste/Centro-Oeste",
         24897
        ],
        [
         "2014-10-01T00:00:00.000+0000",
         "Sudeste/Centro-Oeste",
         26714
        ],
        [
         "2014-11-01T00:00:00.000+0000",
         "Sudeste/Centro-Oeste",
         26130
        ],
        [
         "2014-12-01T00:00:00.000+0000",
         "Sudeste/Centro-Oeste",
         27418
        ],
        [
         "2015-01-01T00:00:00.000+0000",
         "Sudeste/Centro-Oeste",
         27963
        ],
        [
         "2015-02-01T00:00:00.000+0000",
         "Sudeste/Centro-Oeste",
         26648
        ],
        [
         "2015-03-01T00:00:00.000+0000",
         "Sudeste/Centro-Oeste",
         27383
        ],
        [
         "2015-04-01T00:00:00.000+0000",
         "Sudeste/Centro-Oeste",
         25738
        ],
        [
         "2015-05-01T00:00:00.000+0000",
         "Sudeste/Centro-Oeste",
         24820
        ],
        [
         "2015-06-01T00:00:00.000+0000",
         "Sudeste/Centro-Oeste",
         23446
        ],
        [
         "2015-07-01T00:00:00.000+0000",
         "Sudeste/Centro-Oeste",
         23447
        ],
        [
         "2015-08-01T00:00:00.000+0000",
         "Sudeste/Centro-Oeste",
         22792
        ],
        [
         "2015-09-01T00:00:00.000+0000",
         "Sudeste/Centro-Oeste",
         23845
        ],
        [
         "2015-10-01T00:00:00.000+0000",
         "Sudeste/Centro-Oeste",
         27167
        ],
        [
         "2015-11-01T00:00:00.000+0000",
         "Sudeste/Centro-Oeste",
         27812
        ],
        [
         "2015-12-01T00:00:00.000+0000",
         "Sudeste/Centro-Oeste",
         28094
        ],
        [
         "2016-01-01T00:00:00.000+0000",
         "Sudeste/Centro-Oeste",
         31307
        ],
        [
         "2016-02-01T00:00:00.000+0000",
         "Sudeste/Centro-Oeste",
         32191
        ],
        [
         "2016-03-01T00:00:00.000+0000",
         "Sudeste/Centro-Oeste",
         32396
        ],
        [
         "2016-04-01T00:00:00.000+0000",
         "Sudeste/Centro-Oeste",
         30481
        ],
        [
         "2016-05-01T00:00:00.000+0000",
         "Sudeste/Centro-Oeste",
         29463
        ],
        [
         "2016-06-01T00:00:00.000+0000",
         "Sudeste/Centro-Oeste",
         29854
        ],
        [
         "2016-07-01T00:00:00.000+0000",
         "Sudeste/Centro-Oeste",
         28942
        ],
        [
         "2016-08-01T00:00:00.000+0000",
         "Sudeste/Centro-Oeste",
         28484
        ],
        [
         "2016-09-01T00:00:00.000+0000",
         "Sudeste/Centro-Oeste",
         27763
        ],
        [
         "2016-10-01T00:00:00.000+0000",
         "Sudeste/Centro-Oeste",
         28567
        ],
        [
         "2016-11-01T00:00:00.000+0000",
         "Sudeste/Centro-Oeste",
         29713
        ],
        [
         "2016-12-01T00:00:00.000+0000",
         "Sudeste/Centro-Oeste",
         33699
        ],
        [
         "2017-01-01T00:00:00.000+0000",
         "Sudeste/Centro-Oeste",
         35488
        ],
        [
         "2017-02-01T00:00:00.000+0000",
         "Sudeste/Centro-Oeste",
         36464
        ],
        [
         "2017-03-01T00:00:00.000+0000",
         "Sudeste/Centro-Oeste",
         35256
        ],
        [
         "2017-04-01T00:00:00.000+0000",
         "Sudeste/Centro-Oeste",
         30848
        ],
        [
         "2017-05-01T00:00:00.000+0000",
         "Sudeste/Centro-Oeste",
         29452
        ],
        [
         "2017-06-01T00:00:00.000+0000",
         "Sudeste/Centro-Oeste",
         26952
        ],
        [
         "2017-07-01T00:00:00.000+0000",
         "Sudeste/Centro-Oeste",
         25441
        ],
        [
         "2017-08-01T00:00:00.000+0000",
         "Sudeste/Centro-Oeste",
         25556
        ],
        [
         "2017-09-01T00:00:00.000+0000",
         "Sudeste/Centro-Oeste",
         26533
        ],
        [
         "2017-10-01T00:00:00.000+0000",
         "Sudeste/Centro-Oeste",
         27372
        ],
        [
         "2017-11-01T00:00:00.000+0000",
         "Sudeste/Centro-Oeste",
         28529
        ],
        [
         "2017-12-01T00:00:00.000+0000",
         "Sudeste/Centro-Oeste",
         33748
        ],
        [
         "2018-01-01T00:00:00.000+0000",
         "Sudeste/Centro-Oeste",
         35232
        ],
        [
         "2018-02-01T00:00:00.000+0000",
         "Sudeste/Centro-Oeste",
         35339
        ],
        [
         "2018-03-01T00:00:00.000+0000",
         "Sudeste/Centro-Oeste",
         37409
        ],
        [
         "2018-04-01T00:00:00.000+0000",
         "Sudeste/Centro-Oeste",
         32542
        ],
        [
         "2018-05-01T00:00:00.000+0000",
         "Sudeste/Centro-Oeste",
         28529
        ],
        [
         "2018-06-01T00:00:00.000+0000",
         "Sudeste/Centro-Oeste",
         27288
        ],
        [
         "2018-07-01T00:00:00.000+0000",
         "Sudeste/Centro-Oeste",
         26243
        ],
        [
         "2018-08-01T00:00:00.000+0000",
         "Sudeste/Centro-Oeste",
         27001
        ],
        [
         "2018-09-01T00:00:00.000+0000",
         "Sudeste/Centro-Oeste",
         24043
        ],
        [
         "2018-10-01T00:00:00.000+0000",
         "Sudeste/Centro-Oeste",
         29546
        ],
        [
         "2018-11-01T00:00:00.000+0000",
         "Sudeste/Centro-Oeste",
         33374
        ],
        [
         "2018-12-01T00:00:00.000+0000",
         "Sudeste/Centro-Oeste",
         33798
        ],
        [
         "2019-01-01T00:00:00.000+0000",
         "Sudeste/Centro-Oeste",
         35640
        ],
        [
         "2019-02-01T00:00:00.000+0000",
         "Sudeste/Centro-Oeste",
         33635
        ],
        [
         "2019-03-01T00:00:00.000+0000",
         "Sudeste/Centro-Oeste",
         32553
        ],
        [
         "2019-04-01T00:00:00.000+0000",
         "Sudeste/Centro-Oeste",
         32511
        ],
        [
         "2019-05-01T00:00:00.000+0000",
         "Sudeste/Centro-Oeste",
         28797
        ],
        [
         "2019-06-01T00:00:00.000+0000",
         "Sudeste/Centro-Oeste",
         25904
        ],
        [
         "2019-07-01T00:00:00.000+0000",
         "Sudeste/Centro-Oeste",
         24486
        ],
        [
         "2019-08-01T00:00:00.000+0000",
         "Sudeste/Centro-Oeste",
         24562
        ],
        [
         "2019-09-01T00:00:00.000+0000",
         "Sudeste/Centro-Oeste",
         28383
        ],
        [
         "2019-10-01T00:00:00.000+0000",
         "Sudeste/Centro-Oeste",
         29734
        ],
        [
         "2019-11-01T00:00:00.000+0000",
         "Sudeste/Centro-Oeste",
         27772
        ],
        [
         "2019-12-01T00:00:00.000+0000",
         "Sudeste/Centro-Oeste",
         33235
        ],
        [
         "2020-01-01T00:00:00.000+0000",
         "Sudeste/Centro-Oeste",
         36691
        ],
        [
         "2020-02-01T00:00:00.000+0000",
         "Sudeste/Centro-Oeste",
         37605
        ],
        [
         "2020-03-01T00:00:00.000+0000",
         "Sudeste/Centro-Oeste",
         35709
        ],
        [
         "2020-04-01T00:00:00.000+0000",
         "Sudeste/Centro-Oeste",
         30220
        ],
        [
         "2020-05-01T00:00:00.000+0000",
         "Sudeste/Centro-Oeste",
         28533
        ],
        [
         "2020-06-01T00:00:00.000+0000",
         "Sudeste/Centro-Oeste",
         26967
        ],
        [
         "2020-07-01T00:00:00.000+0000",
         "Sudeste/Centro-Oeste",
         27236
        ],
        [
         "2020-08-01T00:00:00.000+0000",
         "Sudeste/Centro-Oeste",
         26690
        ],
        [
         "2020-09-01T00:00:00.000+0000",
         "Sudeste/Centro-Oeste",
         28789
        ],
        [
         "2020-10-01T00:00:00.000+0000",
         "Sudeste/Centro-Oeste",
         29070
        ],
        [
         "2020-11-01T00:00:00.000+0000",
         "Sudeste/Centro-Oeste",
         29077
        ],
        [
         "2020-12-01T00:00:00.000+0000",
         "Sudeste/Centro-Oeste",
         29452
        ],
        [
         "2021-01-01T00:00:00.000+0000",
         "Sudeste/Centro-Oeste",
         31355
        ],
        [
         "2021-02-01T00:00:00.000+0000",
         "Sudeste/Centro-Oeste",
         32804
        ],
        [
         "2021-03-01T00:00:00.000+0000",
         "Sudeste/Centro-Oeste",
         29727
        ],
        [
         "2021-04-01T00:00:00.000+0000",
         "Sudeste/Centro-Oeste",
         26514
        ],
        [
         "2021-05-01T00:00:00.000+0000",
         "Sudeste/Centro-Oeste",
         26462
        ],
        [
         "2021-06-01T00:00:00.000+0000",
         "Sudeste/Centro-Oeste",
         24438
        ],
        [
         "2021-07-01T00:00:00.000+0000",
         "Sudeste/Centro-Oeste",
         19380
        ],
        [
         "2021-08-01T00:00:00.000+0000",
         "Sudeste/Centro-Oeste",
         19085
        ],
        [
         "2021-09-01T00:00:00.000+0000",
         "Sudeste/Centro-Oeste",
         20358
        ],
        [
         "2021-10-01T00:00:00.000+0000",
         "Sudeste/Centro-Oeste",
         20181
        ],
        [
         "2021-11-01T00:00:00.000+0000",
         "Sudeste/Centro-Oeste",
         25063
        ],
        [
         "2021-12-01T00:00:00.000+0000",
         "Sudeste/Centro-Oeste",
         27511
        ],
        [
         "2022-01-01T00:00:00.000+0000",
         "Sudeste/Centro-Oeste",
         28364
        ],
        [
         "2022-02-01T00:00:00.000+0000",
         "Sudeste/Centro-Oeste",
         31337
        ],
        [
         "2022-03-01T00:00:00.000+0000",
         "Sudeste/Centro-Oeste",
         34023
        ],
        [
         "2022-04-01T00:00:00.000+0000",
         "Sudeste/Centro-Oeste",
         28466
        ],
        [
         "2022-05-01T00:00:00.000+0000",
         "Sudeste/Centro-Oeste",
         24243
        ],
        [
         "2022-06-01T00:00:00.000+0000",
         "Sudeste/Centro-Oeste",
         23495
        ],
        [
         "2022-07-01T00:00:00.000+0000",
         "Sudeste/Centro-Oeste",
         22708
        ],
        [
         "2022-08-01T00:00:00.000+0000",
         "Sudeste/Centro-Oeste",
         23983
        ],
        [
         "2022-09-01T00:00:00.000+0000",
         "Sudeste/Centro-Oeste",
         25057
        ],
        [
         "2022-10-01T00:00:00.000+0000",
         "Sudeste/Centro-Oeste",
         25236
        ],
        [
         "2022-11-01T00:00:00.000+0000",
         "Sudeste/Centro-Oeste",
         30607
        ],
        [
         "2022-12-01T00:00:00.000+0000",
         "Sudeste/Centro-Oeste",
         30662
        ],
        [
         null,
         "Norte",
         537059
        ],
        [
         "2010-01-01T00:00:00.000+0000",
         "Norte",
         5328
        ],
        [
         "2010-02-01T00:00:00.000+0000",
         "Norte",
         6488
        ],
        [
         "2010-03-01T00:00:00.000+0000",
         "Norte",
         7258
        ],
        [
         "2010-04-01T00:00:00.000+0000",
         "Norte",
         6991
        ],
        [
         "2010-05-01T00:00:00.000+0000",
         "Norte",
         6033
        ],
        [
         "2010-06-01T00:00:00.000+0000",
         "Norte",
         4116
        ],
        [
         "2010-07-01T00:00:00.000+0000",
         "Norte",
         3600
        ],
        [
         "2010-08-01T00:00:00.000+0000",
         "Norte",
         3169
        ],
        [
         "2010-09-01T00:00:00.000+0000",
         "Norte",
         2652
        ],
        [
         "2010-10-01T00:00:00.000+0000",
         "Norte",
         2028
        ],
        [
         "2010-11-01T00:00:00.000+0000",
         "Norte",
         2217
        ],
        [
         "2010-12-01T00:00:00.000+0000",
         "Norte",
         2423
        ],
        [
         "2011-01-01T00:00:00.000+0000",
         "Norte",
         5020
        ],
        [
         "2011-02-01T00:00:00.000+0000",
         "Norte",
         6311
        ],
        [
         "2011-03-01T00:00:00.000+0000",
         "Norte",
         6262
        ],
        [
         "2011-04-01T00:00:00.000+0000",
         "Norte",
         6926
        ],
        [
         "2011-05-01T00:00:00.000+0000",
         "Norte",
         7171
        ],
        [
         "2011-06-01T00:00:00.000+0000",
         "Norte",
         5137
        ],
        [
         "2011-07-01T00:00:00.000+0000",
         "Norte",
         3204
        ],
        [
         "2011-08-01T00:00:00.000+0000",
         "Norte",
         3786
        ],
        [
         "2011-09-01T00:00:00.000+0000",
         "Norte",
         3962
        ],
        [
         "2011-10-01T00:00:00.000+0000",
         "Norte",
         3031
        ],
        [
         "2011-11-01T00:00:00.000+0000",
         "Norte",
         2618
        ],
        [
         "2011-12-01T00:00:00.000+0000",
         "Norte",
         5164
        ],
        [
         "2012-01-01T00:00:00.000+0000",
         "Norte",
         6272
        ],
        [
         "2012-02-01T00:00:00.000+0000",
         "Norte",
         6892
        ],
        [
         "2012-03-01T00:00:00.000+0000",
         "Norte",
         7530
        ],
        [
         "2012-04-01T00:00:00.000+0000",
         "Norte",
         7821
        ],
        [
         "2012-05-01T00:00:00.000+0000",
         "Norte",
         6187
        ],
        [
         "2012-06-01T00:00:00.000+0000",
         "Norte",
         4215
        ],
        [
         "2012-07-01T00:00:00.000+0000",
         "Norte",
         4273
        ],
        [
         "2012-08-01T00:00:00.000+0000",
         "Norte",
         3819
        ],
        [
         "2012-09-01T00:00:00.000+0000",
         "Norte",
         3210
        ],
        [
         "2012-10-01T00:00:00.000+0000",
         "Norte",
         2520
        ],
        [
         "2012-11-01T00:00:00.000+0000",
         "Norte",
         2531
        ],
        [
         "2012-12-01T00:00:00.000+0000",
         "Norte",
         4131
        ],
        [
         "2013-01-01T00:00:00.000+0000",
         "Norte",
         4985
        ],
        [
         "2013-02-01T00:00:00.000+0000",
         "Norte",
         7219
        ],
        [
         "2013-03-01T00:00:00.000+0000",
         "Norte",
         7899
        ],
        [
         "2013-04-01T00:00:00.000+0000",
         "Norte",
         8009
        ],
        [
         "2013-05-01T00:00:00.000+0000",
         "Norte",
         7895
        ],
        [
         "2013-06-01T00:00:00.000+0000",
         "Norte",
         4333
        ],
        [
         "2013-07-01T00:00:00.000+0000",
         "Norte",
         3773
        ],
        [
         "2013-08-01T00:00:00.000+0000",
         "Norte",
         3583
        ],
        [
         "2013-09-01T00:00:00.000+0000",
         "Norte",
         4008
        ],
        [
         "2013-10-01T00:00:00.000+0000",
         "Norte",
         3522
        ],
        [
         "2013-11-01T00:00:00.000+0000",
         "Norte",
         2836
        ],
        [
         "2013-12-01T00:00:00.000+0000",
         "Norte",
         3645
        ],
        [
         "2014-01-01T00:00:00.000+0000",
         "Norte",
         7266
        ],
        [
         "2014-02-01T00:00:00.000+0000",
         "Norte",
         7759
        ],
        [
         "2014-03-01T00:00:00.000+0000",
         "Norte",
         7613
        ],
        [
         "2014-04-01T00:00:00.000+0000",
         "Norte",
         7846
        ],
        [
         "2014-05-01T00:00:00.000+0000",
         "Norte",
         7768
        ],
        [
         "2014-06-01T00:00:00.000+0000",
         "Norte",
         4439
        ],
        [
         "2014-07-01T00:00:00.000+0000",
         "Norte",
         3459
        ],
        [
         "2014-08-01T00:00:00.000+0000",
         "Norte",
         4335
        ],
        [
         "2014-09-01T00:00:00.000+0000",
         "Norte",
         4580
        ],
        [
         "2014-10-01T00:00:00.000+0000",
         "Norte",
         2884
        ],
        [
         "2014-11-01T00:00:00.000+0000",
         "Norte",
         2963
        ],
        [
         "2014-12-01T00:00:00.000+0000",
         "Norte",
         3625
        ],
        [
         "2015-01-01T00:00:00.000+0000",
         "Norte",
         5247
        ],
        [
         "2015-02-01T00:00:00.000+0000",
         "Norte",
         6108
        ],
        [
         "2015-03-01T00:00:00.000+0000",
         "Norte",
         7094
        ],
        [
         "2015-04-01T00:00:00.000+0000",
         "Norte",
         8238
        ],
        [
         "2015-05-01T00:00:00.000+0000",
         "Norte",
         8334
        ],
        [
         "2015-06-01T00:00:00.000+0000",
         "Norte",
         5759
        ],
        [
         "2015-07-01T00:00:00.000+0000",
         "Norte",
         3679
        ],
        [
         "2015-08-01T00:00:00.000+0000",
         "Norte",
         3814
        ],
        [
         "2015-09-01T00:00:00.000+0000",
         "Norte",
         4884
        ],
        [
         "2015-10-01T00:00:00.000+0000",
         "Norte",
         3031
        ],
        [
         "2015-11-01T00:00:00.000+0000",
         "Norte",
         2270
        ],
        [
         "2015-12-01T00:00:00.000+0000",
         "Norte",
         2055
        ],
        [
         "2016-01-01T00:00:00.000+0000",
         "Norte",
         2988
        ],
        [
         "2016-02-01T00:00:00.000+0000",
         "Norte",
         6152
        ],
        [
         "2016-03-01T00:00:00.000+0000",
         "Norte",
         6292
        ],
        [
         "2016-04-01T00:00:00.000+0000",
         "Norte",
         7246
        ],
        [
         "2016-05-01T00:00:00.000+0000",
         "Norte",
         4975
        ],
        [
         "2016-06-01T00:00:00.000+0000",
         "Norte",
         3473
        ],
        [
         "2016-07-01T00:00:00.000+0000",
         "Norte",
         2948
        ],
        [
         "2016-08-01T00:00:00.000+0000",
         "Norte",
         2601
        ],
        [
         "2016-09-01T00:00:00.000+0000",
         "Norte",
         2388
        ],
        [
         "2016-10-01T00:00:00.000+0000",
         "Norte",
         2692
        ],
        [
         "2016-11-01T00:00:00.000+0000",
         "Norte",
         3452
        ],
        [
         "2016-12-01T00:00:00.000+0000",
         "Norte",
         4639
        ],
        [
         "2017-01-01T00:00:00.000+0000",
         "Norte",
         5396
        ],
        [
         "2017-02-01T00:00:00.000+0000",
         "Norte",
         8368
        ],
        [
         "2017-03-01T00:00:00.000+0000",
         "Norte",
         9659
        ],
        [
         "2017-04-01T00:00:00.000+0000",
         "Norte",
         8683
        ],
        [
         "2017-05-01T00:00:00.000+0000",
         "Norte",
         8350
        ],
        [
         "2017-06-01T00:00:00.000+0000",
         "Norte",
         6050
        ],
        [
         "2017-07-01T00:00:00.000+0000",
         "Norte",
         3703
        ],
        [
         "2017-08-01T00:00:00.000+0000",
         "Norte",
         2976
        ],
        [
         "2017-09-01T00:00:00.000+0000",
         "Norte",
         4217
        ],
        [
         "2017-10-01T00:00:00.000+0000",
         "Norte",
         2797
        ],
        [
         "2017-11-01T00:00:00.000+0000",
         "Norte",
         2625
        ],
        [
         "2017-12-01T00:00:00.000+0000",
         "Norte",
         4553
        ],
        [
         "2018-01-01T00:00:00.000+0000",
         "Norte",
         7095
        ],
        [
         "2018-02-01T00:00:00.000+0000",
         "Norte",
         8949
        ],
        [
         "2018-03-01T00:00:00.000+0000",
         "Norte",
         9522
        ],
        [
         "2018-04-01T00:00:00.000+0000",
         "Norte",
         10605
        ],
        [
         "2018-05-01T00:00:00.000+0000",
         "Norte",
         10125
        ],
        [
         "2018-06-01T00:00:00.000+0000",
         "Norte",
         6985
        ],
        [
         "2018-07-01T00:00:00.000+0000",
         "Norte",
         4181
        ],
        [
         "2018-08-01T00:00:00.000+0000",
         "Norte",
         4153
        ],
        [
         "2018-09-01T00:00:00.000+0000",
         "Norte",
         3800
        ],
        [
         "2018-10-01T00:00:00.000+0000",
         "Norte",
         3935
        ],
        [
         "2018-11-01T00:00:00.000+0000",
         "Norte",
         4104
        ],
        [
         "2018-12-01T00:00:00.000+0000",
         "Norte",
         9687
        ],
        [
         "2019-01-01T00:00:00.000+0000",
         "Norte",
         10063
        ],
        [
         "2019-02-01T00:00:00.000+0000",
         "Norte",
         12357
        ],
        [
         "2019-03-01T00:00:00.000+0000",
         "Norte",
         11806
        ],
        [
         "2019-04-01T00:00:00.000+0000",
         "Norte",
         11581
        ],
        [
         "2019-05-01T00:00:00.000+0000",
         "Norte",
         11211
        ],
        [
         "2019-06-01T00:00:00.000+0000",
         "Norte",
         7831
        ],
        [
         "2019-07-01T00:00:00.000+0000",
         "Norte",
         4608
        ],
        [
         "2019-08-01T00:00:00.000+0000",
         "Norte",
         3522
        ],
        [
         "2019-09-01T00:00:00.000+0000",
         "Norte",
         4179
        ],
        [
         "2019-10-01T00:00:00.000+0000",
         "Norte",
         4480
        ],
        [
         "2019-11-01T00:00:00.000+0000",
         "Norte",
         3857
        ],
        [
         "2019-12-01T00:00:00.000+0000",
         "Norte",
         5216
        ],
        [
         "2020-01-01T00:00:00.000+0000",
         "Norte",
         8269
        ],
        [
         "2020-02-01T00:00:00.000+0000",
         "Norte",
         12713
        ],
        [
         "2020-03-01T00:00:00.000+0000",
         "Norte",
         15327
        ],
        [
         "2020-04-01T00:00:00.000+0000",
         "Norte",
         10977
        ],
        [
         "2020-05-01T00:00:00.000+0000",
         "Norte",
         10725
        ],
        [
         "2020-06-01T00:00:00.000+0000",
         "Norte",
         9575
        ],
        [
         "2020-07-01T00:00:00.000+0000",
         "Norte",
         4948
        ],
        [
         "2020-08-01T00:00:00.000+0000",
         "Norte",
         4236
        ],
        [
         "2020-09-01T00:00:00.000+0000",
         "Norte",
         4384
        ],
        [
         "2020-10-01T00:00:00.000+0000",
         "Norte",
         4444
        ],
        [
         "2020-11-01T00:00:00.000+0000",
         "Norte",
         3523
        ],
        [
         "2020-12-01T00:00:00.000+0000",
         "Norte",
         3926
        ],
        [
         "2021-01-01T00:00:00.000+0000",
         "Norte",
         6125
        ],
        [
         "2021-02-01T00:00:00.000+0000",
         "Norte",
         10608
        ],
        [
         "2021-03-01T00:00:00.000+0000",
         "Norte",
         16673
        ],
        [
         "2021-04-01T00:00:00.000+0000",
         "Norte",
         15971
        ],
        [
         "2021-05-01T00:00:00.000+0000",
         "Norte",
         13441
        ],
        [
         "2021-06-01T00:00:00.000+0000",
         "Norte",
         6666
        ],
        [
         "2021-07-01T00:00:00.000+0000",
         "Norte",
         4209
        ],
        [
         "2021-08-01T00:00:00.000+0000",
         "Norte",
         3717
        ],
        [
         "2021-09-01T00:00:00.000+0000",
         "Norte",
         3601
        ],
        [
         "2021-10-01T00:00:00.000+0000",
         "Norte",
         4286
        ],
        [
         "2021-11-01T00:00:00.000+0000",
         "Norte",
         7741
        ],
        [
         "2021-12-01T00:00:00.000+0000",
         "Norte",
         11935
        ],
        [
         "2022-01-01T00:00:00.000+0000",
         "Norte",
         15406
        ],
        [
         "2022-02-01T00:00:00.000+0000",
         "Norte",
         15408
        ],
        [
         "2022-03-01T00:00:00.000+0000",
         "Norte",
         14929
        ],
        [
         "2022-04-01T00:00:00.000+0000",
         "Norte",
         15347
        ],
        [
         "2022-05-01T00:00:00.000+0000",
         "Norte",
         13222
        ],
        [
         "2022-06-01T00:00:00.000+0000",
         "Norte",
         7809
        ],
        [
         "2022-07-01T00:00:00.000+0000",
         "Norte",
         5286
        ],
        [
         "2022-08-01T00:00:00.000+0000",
         "Norte",
         3445
        ],
        [
         "2022-09-01T00:00:00.000+0000",
         "Norte",
         3854
        ],
        [
         "2022-10-01T00:00:00.000+0000",
         "Norte",
         4495
        ],
        [
         "2022-11-01T00:00:00.000+0000",
         "Norte",
         4411
        ],
        [
         "2022-12-01T00:00:00.000+0000",
         "Norte",
         8311
        ],
        [
         null,
         "Nordeste",
         736220
        ],
        [
         "2010-01-01T00:00:00.000+0000",
         "Nordeste",
         5721
        ],
        [
         "2010-02-01T00:00:00.000+0000",
         "Nordeste",
         5997
        ],
        [
         "2010-03-01T00:00:00.000+0000",
         "Nordeste",
         5722
        ],
        [
         "2010-04-01T00:00:00.000+0000",
         "Nordeste",
         4868
        ],
        [
         "2010-05-01T00:00:00.000+0000",
         "Nordeste",
         4712
        ],
        [
         "2010-06-01T00:00:00.000+0000",
         "Nordeste",
         4292
        ],
        [
         "2010-07-01T00:00:00.000+0000",
         "Nordeste",
         4679
        ],
        [
         "2010-08-01T00:00:00.000+0000",
         "Nordeste",
         4522
        ],
        [
         "2010-09-01T00:00:00.000+0000",
         "Nordeste",
         5030
        ],
        [
         "2010-10-01T00:00:00.000+0000",
         "Nordeste",
         5720
        ],
        [
         "2010-11-01T00:00:00.000+0000",
         "Nordeste",
         5251
        ],
        [
         "2010-12-01T00:00:00.000+0000",
         "Nordeste",
         6055
        ],
        [
         "2011-01-01T00:00:00.000+0000",
         "Nordeste",
         5707
        ],
        [
         "2011-02-01T00:00:00.000+0000",
         "Nordeste",
         5851
        ],
        [
         "2011-03-01T00:00:00.000+0000",
         "Nordeste",
         5751
        ],
        [
         "2011-04-01T00:00:00.000+0000",
         "Nordeste",
         5605
        ],
        [
         "2011-05-01T00:00:00.000+0000",
         "Nordeste",
         4645
        ],
        [
         "2011-06-01T00:00:00.000+0000",
         "Nordeste",
         5074
        ],
        [
         "2011-07-01T00:00:00.000+0000",
         "Nordeste",
         5329
        ],
        [
         "2011-08-01T00:00:00.000+0000",
         "Nordeste",
         5731
        ],
        [
         "2011-09-01T00:00:00.000+0000",
         "Nordeste",
         6242
        ],
        [
         "2011-10-01T00:00:00.000+0000",
         "Nordeste",
         6782
        ],
        [
         "2011-11-01T00:00:00.000+0000",
         "Nordeste",
         6194
        ],
        [
         "2011-12-01T00:00:00.000+0000",
         "Nordeste",
         6311
        ],
        [
         "2012-01-01T00:00:00.000+0000",
         "Nordeste",
         6987
        ],
        [
         "2012-02-01T00:00:00.000+0000",
         "Nordeste",
         6495
        ],
        [
         "2012-03-01T00:00:00.000+0000",
         "Nordeste",
         6941
        ],
        [
         "2012-04-01T00:00:00.000+0000",
         "Nordeste",
         6508
        ],
        [
         "2012-05-01T00:00:00.000+0000",
         "Nordeste",
         6062
        ],
        [
         "2012-06-01T00:00:00.000+0000",
         "Nordeste",
         5984
        ],
        [
         "2012-07-01T00:00:00.000+0000",
         "Nordeste",
         4941
        ],
        [
         "2012-08-01T00:00:00.000+0000",
         "Nordeste",
         5452
        ],
        [
         "2012-09-01T00:00:00.000+0000",
         "Nordeste",
         5511
        ],
        [
         "2012-10-01T00:00:00.000+0000",
         "Nordeste",
         5106
        ],
        [
         "2012-11-01T00:00:00.000+0000",
         "Nordeste",
         4570
        ],
        [
         "2012-12-01T00:00:00.000+0000",
         "Nordeste",
         6162
        ],
        [
         "2013-01-01T00:00:00.000+0000",
         "Nordeste",
         5149
        ],
        [
         "2013-02-01T00:00:00.000+0000",
         "Nordeste",
         3964
        ],
        [
         "2013-03-01T00:00:00.000+0000",
         "Nordeste",
         3865
        ],
        [
         "2013-04-01T00:00:00.000+0000",
         "Nordeste",
         3934
        ],
        [
         "2013-05-01T00:00:00.000+0000",
         "Nordeste",
         3487
        ],
        [
         "2013-06-01T00:00:00.000+0000",
         "Nordeste",
         3467
        ],
        [
         "2013-07-01T00:00:00.000+0000",
         "Nordeste",
         4019
        ],
        [
         "2013-08-01T00:00:00.000+0000",
         "Nordeste",
         3646
        ],
        [
         "2013-09-01T00:00:00.000+0000",
         "Nordeste",
         3739
        ],
        [
         "2013-10-01T00:00:00.000+0000",
         "Nordeste",
         3881
        ],
        [
         "2013-11-01T00:00:00.000+0000",
         "Nordeste",
         3661
        ],
        [
         "2013-12-01T00:00:00.000+0000",
         "Nordeste",
         3720
        ],
        [
         "2014-01-01T00:00:00.000+0000",
         "Nordeste",
         3701
        ],
        [
         "2014-02-01T00:00:00.000+0000",
         "Nordeste",
         3455
        ],
        [
         "2014-03-01T00:00:00.000+0000",
         "Nordeste",
         3502
        ],
        [
         "2014-04-01T00:00:00.000+0000",
         "Nordeste",
         3478
        ],
        [
         "2014-05-01T00:00:00.000+0000",
         "Nordeste",
         3367
        ],
        [
         "2014-06-01T00:00:00.000+0000",
         "Nordeste",
         3422
        ],
        [
         "2014-07-01T00:00:00.000+0000",
         "Nordeste",
         3307
        ],
        [
         "2014-08-01T00:00:00.000+0000",
         "Nordeste",
         3278
        ],
        [
         "2014-09-01T00:00:00.000+0000",
         "Nordeste",
         3299
        ],
        [
         "2014-10-01T00:00:00.000+0000",
         "Nordeste",
         3358
        ],
        [
         "2014-11-01T00:00:00.000+0000",
         "Nordeste",
         3375
        ],
        [
         "2014-12-01T00:00:00.000+0000",
         "Nordeste",
         3527
        ],
        [
         "2015-01-01T00:00:00.000+0000",
         "Nordeste",
         3372
        ],
        [
         "2015-02-01T00:00:00.000+0000",
         "Nordeste",
         3315
        ],
        [
         "2015-03-01T00:00:00.000+0000",
         "Nordeste",
         3422
        ],
        [
         "2015-04-01T00:00:00.000+0000",
         "Nordeste",
         3253
        ],
        [
         "2015-05-01T00:00:00.000+0000",
         "Nordeste",
         3413
        ],
        [
         "2015-06-01T00:00:00.000+0000",
         "Nordeste",
         2822
        ],
        [
         "2015-07-01T00:00:00.000+0000",
         "Nordeste",
         2801
        ],
        [
         "2015-08-01T00:00:00.000+0000",
         "Nordeste",
         2877
        ],
        [
         "2015-09-01T00:00:00.000+0000",
         "Nordeste",
         2846
        ],
        [
         "2015-10-01T00:00:00.000+0000",
         "Nordeste",
         2794
        ],
        [
         "2015-11-01T00:00:00.000+0000",
         "Nordeste",
         2691
        ],
        [
         "2015-12-01T00:00:00.000+0000",
         "Nordeste",
         2635
        ],
        [
         "2016-01-01T00:00:00.000+0000",
         "Nordeste",
         2922
        ],
        [
         "2016-02-01T00:00:00.000+0000",
         "Nordeste",
         2758
        ],
        [
         "2016-03-01T00:00:00.000+0000",
         "Nordeste",
         2635
        ],
        [
         "2016-04-01T00:00:00.000+0000",
         "Nordeste",
         2433
        ],
        [
         "2016-05-01T00:00:00.000+0000",
         "Nordeste",
         2491
        ],
        [
         "2016-06-01T00:00:00.000+0000",
         "Nordeste",
         2430
        ],
        [
         "2016-07-01T00:00:00.000+0000",
         "Nordeste",
         2440
        ],
        [
         "2016-08-01T00:00:00.000+0000",
         "Nordeste",
         2447
        ],
        [
         "2016-09-01T00:00:00.000+0000",
         "Nordeste",
         2471
        ],
        [
         "2016-10-01T00:00:00.000+0000",
         "Nordeste",
         2507
        ],
        [
         "2016-11-01T00:00:00.000+0000",
         "Nordeste",
         2506
        ],
        [
         "2016-12-01T00:00:00.000+0000",
         "Nordeste",
         2388
        ],
        [
         "2017-01-01T00:00:00.000+0000",
         "Nordeste",
         2319
        ],
        [
         "2017-02-01T00:00:00.000+0000",
         "Nordeste",
         2310
        ],
        [
         "2017-03-01T00:00:00.000+0000",
         "Nordeste",
         2266
        ],
        [
         "2017-04-01T00:00:00.000+0000",
         "Nordeste",
         2167
        ],
        [
         "2017-05-01T00:00:00.000+0000",
         "Nordeste",
         2022
        ],
        [
         "2017-06-01T00:00:00.000+0000",
         "Nordeste",
         1653
        ],
        [
         "2017-07-01T00:00:00.000+0000",
         "Nordeste",
         1668
        ],
        [
         "2017-08-01T00:00:00.000+0000",
         "Nordeste",
         1664
        ],
        [
         "2017-09-01T00:00:00.000+0000",
         "Nordeste",
         1590
        ],
        [
         "2017-10-01T00:00:00.000+0000",
         "Nordeste",
         1548
        ],
        [
         "2017-11-01T00:00:00.000+0000",
         "Nordeste",
         1605
        ],
        [
         "2017-12-01T00:00:00.000+0000",
         "Nordeste",
         1766
        ],
        [
         "2018-01-01T00:00:00.000+0000",
         "Nordeste",
         1637
        ],
        [
         "2018-02-01T00:00:00.000+0000",
         "Nordeste",
         1882
        ],
        [
         "2018-03-01T00:00:00.000+0000",
         "Nordeste",
         2013
        ],
        [
         "2018-04-01T00:00:00.000+0000",
         "Nordeste",
         1820
        ],
        [
         "2018-05-01T00:00:00.000+0000",
         "Nordeste",
         1858
        ],
        [
         "2018-06-01T00:00:00.000+0000",
         "Nordeste",
         1863
        ],
        [
         "2018-07-01T00:00:00.000+0000",
         "Nordeste",
         1818
        ],
        [
         "2018-08-01T00:00:00.000+0000",
         "Nordeste",
         1790
        ],
        [
         "2018-09-01T00:00:00.000+0000",
         "Nordeste",
         1768
        ],
        [
         "2018-10-01T00:00:00.000+0000",
         "Nordeste",
         1955
        ],
        [
         "2018-11-01T00:00:00.000+0000",
         "Nordeste",
         2005
        ],
        [
         "2018-12-01T00:00:00.000+0000",
         "Nordeste",
         2258
        ],
        [
         "2019-01-01T00:00:00.000+0000",
         "Nordeste",
         2408
        ],
        [
         "2019-02-01T00:00:00.000+0000",
         "Nordeste",
         2208
        ],
        [
         "2019-03-01T00:00:00.000+0000",
         "Nordeste",
         2198
        ],
        [
         "2019-04-01T00:00:00.000+0000",
         "Nordeste",
         2499
        ],
        [
         "2019-05-01T00:00:00.000+0000",
         "Nordeste",
         2551
        ],
        [
         "2019-06-01T00:00:00.000+0000",
         "Nordeste",
         2432
        ],
        [
         "2019-07-01T00:00:00.000+0000",
         "Nordeste",
         2416
        ],
        [
         "2019-08-01T00:00:00.000+0000",
         "Nordeste",
         2446
        ],
        [
         "2019-09-01T00:00:00.000+0000",
         "Nordeste",
         2479
        ],
        [
         "2019-10-01T00:00:00.000+0000",
         "Nordeste",
         2769
        ],
        [
         "2019-11-01T00:00:00.000+0000",
         "Nordeste",
         3071
        ],
        [
         "2019-12-01T00:00:00.000+0000",
         "Nordeste",
         2553
        ],
        [
         "2020-01-01T00:00:00.000+0000",
         "Nordeste",
         2980
        ],
        [
         "2020-02-01T00:00:00.000+0000",
         "Nordeste",
         2966
        ],
        [
         "2020-03-01T00:00:00.000+0000",
         "Nordeste",
         3081
        ],
        [
         "2020-04-01T00:00:00.000+0000",
         "Nordeste",
         3924
        ],
        [
         "2020-05-01T00:00:00.000+0000",
         "Nordeste",
         3560
        ],
        [
         "2020-06-01T00:00:00.000+0000",
         "Nordeste",
         3767
        ],
        [
         "2020-07-01T00:00:00.000+0000",
         "Nordeste",
         4600
        ],
        [
         "2020-08-01T00:00:00.000+0000",
         "Nordeste",
         4089
        ],
        [
         "2020-09-01T00:00:00.000+0000",
         "Nordeste",
         5023
        ],
        [
         "2020-10-01T00:00:00.000+0000",
         "Nordeste",
         5561
        ],
        [
         "2020-11-01T00:00:00.000+0000",
         "Nordeste",
         5994
        ],
        [
         "2020-12-01T00:00:00.000+0000",
         "Nordeste",
         6609
        ],
        [
         "2021-01-01T00:00:00.000+0000",
         "Nordeste",
         3224
        ],
        [
         "2021-02-01T00:00:00.000+0000",
         "Nordeste",
         2933
        ],
        [
         "2021-03-01T00:00:00.000+0000",
         "Nordeste",
         2836
        ],
        [
         "2021-04-01T00:00:00.000+0000",
         "Nordeste",
         3439
        ],
        [
         "2021-05-01T00:00:00.000+0000",
         "Nordeste",
         3324
        ],
        [
         "2021-06-01T00:00:00.000+0000",
         "Nordeste",
         3016
        ],
        [
         "2021-07-01T00:00:00.000+0000",
         "Nordeste",
         2734
        ],
        [
         "2021-08-01T00:00:00.000+0000",
         "Nordeste",
         2877
        ],
        [
         "2021-09-01T00:00:00.000+0000",
         "Nordeste",
         4128
        ],
        [
         "2021-10-01T00:00:00.000+0000",
         "Nordeste",
         3209
        ],
        [
         "2021-11-01T00:00:00.000+0000",
         "Nordeste",
         3427
        ],
        [
         "2021-12-01T00:00:00.000+0000",
         "Nordeste",
         3164
        ],
        [
         "2022-01-01T00:00:00.000+0000",
         "Nordeste",
         4748
        ],
        [
         "2022-02-01T00:00:00.000+0000",
         "Nordeste",
         6173
        ],
        [
         "2022-03-01T00:00:00.000+0000",
         "Nordeste",
         5674
        ],
        [
         "2022-04-01T00:00:00.000+0000",
         "Nordeste",
         4762
        ],
        [
         "2022-05-01T00:00:00.000+0000",
         "Nordeste",
         3719
        ],
        [
         "2022-06-01T00:00:00.000+0000",
         "Nordeste",
         3613
        ],
        [
         "2022-07-01T00:00:00.000+0000",
         "Nordeste",
         5235
        ],
        [
         "2022-08-01T00:00:00.000+0000",
         "Nordeste",
         5736
        ],
        [
         "2022-09-01T00:00:00.000+0000",
         "Nordeste",
         3900
        ],
        [
         "2022-10-01T00:00:00.000+0000",
         "Nordeste",
         3625
        ],
        [
         "2022-11-01T00:00:00.000+0000",
         "Nordeste",
         5041
        ],
        [
         "2022-12-01T00:00:00.000+0000",
         "Nordeste",
         5763
        ]
       ],
       "datasetInfos": [],
       "dbfsResultPath": null,
       "isJsonSchema": true,
       "metadata": {},
       "overflow": false,
       "plotOptions": {
        "customPlotOptions": {},
        "displayType": "table",
        "pivotAggregation": null,
        "pivotColumns": null,
        "xColumns": null,
        "yColumns": null
       },
       "removedWidgets": [],
       "schema": [
        {
         "metadata": "{}",
         "name": "Data",
         "type": "\"timestamp\""
        },
        {
         "metadata": "{}",
         "name": "Subsistema",
         "type": "\"string\""
        },
        {
         "metadata": "{}",
         "name": "Geração_De_Energia(Mwmedio)",
         "type": "\"integer\""
        }
       ],
       "type": "table"
      }
     },
     "output_type": "display_data"
    }
   ],
   "source": [
    "#Verificar o dataset\n",
    "display(df_pergunta_2_spark)"
   ]
  },
  {
   "cell_type": "code",
   "execution_count": 0,
   "metadata": {
    "application/vnd.databricks.v1+cell": {
     "cellMetadata": {
      "byteLimit": 2048000,
      "rowLimit": 10000
     },
     "inputWidgets": {},
     "nuid": "6ecad67f-d9e3-4210-946c-fd15e0de8f70",
     "showTitle": false,
     "title": ""
    }
   },
   "outputs": [],
   "source": [
    "from pyspark.sql.functions import col, to_date"
   ]
  },
  {
   "cell_type": "code",
   "execution_count": 0,
   "metadata": {
    "application/vnd.databricks.v1+cell": {
     "cellMetadata": {
      "byteLimit": 2048000,
      "rowLimit": 10000
     },
     "inputWidgets": {},
     "nuid": "29489dd7-2ac2-4e9a-adfb-9ba97ab8aeea",
     "showTitle": false,
     "title": ""
    }
   },
   "outputs": [],
   "source": [
    "# Converter o atributo \"Data\" para tipo de data\n",
    "df_pergunta_2_spark = df_pergunta_2_spark.withColumn(\"Data\", to_date(col(\"Data\"), \"dd/MM/yyyy\"))"
   ]
  },
  {
   "cell_type": "code",
   "execution_count": 0,
   "metadata": {
    "application/vnd.databricks.v1+cell": {
     "cellMetadata": {
      "byteLimit": 2048000,
      "rowLimit": 10000
     },
     "inputWidgets": {},
     "nuid": "5ea2b81a-949b-4492-9ba5-f96980cbe864",
     "showTitle": false,
     "title": ""
    }
   },
   "outputs": [
    {
     "output_type": "display_data",
     "data": {
      "text/html": [
       "<style scoped>\n",
       "  .table-result-container {\n",
       "    max-height: 300px;\n",
       "    overflow: auto;\n",
       "  }\n",
       "  table, th, td {\n",
       "    border: 1px solid black;\n",
       "    border-collapse: collapse;\n",
       "  }\n",
       "  th, td {\n",
       "    padding: 5px;\n",
       "  }\n",
       "  th {\n",
       "    text-align: left;\n",
       "  }\n",
       "</style><div class='table-result-container'><table class='table-result'><thead style='background-color: white'><tr><th>Data</th><th>Subsistema</th><th>Geração_De_Energia(Mwmedio)</th></tr></thead><tbody><tr><td>null</td><td>Sul</td><td>750476</td></tr><tr><td>2010-01-01</td><td>Sul</td><td>8337</td></tr><tr><td>2010-02-01</td><td>Sul</td><td>9238</td></tr><tr><td>2010-03-01</td><td>Sul</td><td>8834</td></tr><tr><td>2010-04-01</td><td>Sul</td><td>8337</td></tr><tr><td>2010-05-01</td><td>Sul</td><td>9017</td></tr><tr><td>2010-06-01</td><td>Sul</td><td>9623</td></tr><tr><td>2010-07-01</td><td>Sul</td><td>9699</td></tr><tr><td>2010-08-01</td><td>Sul</td><td>9390</td></tr><tr><td>2010-09-01</td><td>Sul</td><td>7862</td></tr><tr><td>2010-10-01</td><td>Sul</td><td>8207</td></tr><tr><td>2010-11-01</td><td>Sul</td><td>6971</td></tr><tr><td>2010-12-01</td><td>Sul</td><td>8432</td></tr><tr><td>2011-01-01</td><td>Sul</td><td>8904</td></tr><tr><td>2011-02-01</td><td>Sul</td><td>11415</td></tr><tr><td>2011-03-01</td><td>Sul</td><td>10031</td></tr><tr><td>2011-04-01</td><td>Sul</td><td>9225</td></tr><tr><td>2011-05-01</td><td>Sul</td><td>8754</td></tr><tr><td>2011-06-01</td><td>Sul</td><td>8053</td></tr><tr><td>2011-07-01</td><td>Sul</td><td>11006</td></tr><tr><td>2011-08-01</td><td>Sul</td><td>11882</td></tr><tr><td>2011-09-01</td><td>Sul</td><td>11327</td></tr><tr><td>2011-10-01</td><td>Sul</td><td>10810</td></tr><tr><td>2011-11-01</td><td>Sul</td><td>10054</td></tr><tr><td>2011-12-01</td><td>Sul</td><td>6590</td></tr><tr><td>2012-01-01</td><td>Sul</td><td>5028</td></tr><tr><td>2012-02-01</td><td>Sul</td><td>7464</td></tr><tr><td>2012-03-01</td><td>Sul</td><td>6704</td></tr><tr><td>2012-04-01</td><td>Sul</td><td>2997</td></tr><tr><td>2012-05-01</td><td>Sul</td><td>2482</td></tr><tr><td>2012-06-01</td><td>Sul</td><td>6447</td></tr><tr><td>2012-07-01</td><td>Sul</td><td>7671</td></tr><tr><td>2012-08-01</td><td>Sul</td><td>8783</td></tr><tr><td>2012-09-01</td><td>Sul</td><td>7656</td></tr><tr><td>2012-10-01</td><td>Sul</td><td>7469</td></tr><tr><td>2012-11-01</td><td>Sul</td><td>5178</td></tr><tr><td>2012-12-01</td><td>Sul</td><td>4437</td></tr><tr><td>2013-01-01</td><td>Sul</td><td>6742</td></tr><tr><td>2013-02-01</td><td>Sul</td><td>6835</td></tr><tr><td>2013-03-01</td><td>Sul</td><td>7629</td></tr><tr><td>2013-04-01</td><td>Sul</td><td>7642</td></tr><tr><td>2013-05-01</td><td>Sul</td><td>5913</td></tr><tr><td>2013-06-01</td><td>Sul</td><td>7493</td></tr><tr><td>2013-07-01</td><td>Sul</td><td>9453</td></tr><tr><td>2013-08-01</td><td>Sul</td><td>11354</td></tr><tr><td>2013-09-01</td><td>Sul</td><td>11470</td></tr><tr><td>2013-10-01</td><td>Sul</td><td>11848</td></tr><tr><td>2013-11-01</td><td>Sul</td><td>10741</td></tr><tr><td>2013-12-01</td><td>Sul</td><td>9138</td></tr><tr><td>2014-01-01</td><td>Sul</td><td>10004</td></tr><tr><td>2014-02-01</td><td>Sul</td><td>8828</td></tr><tr><td>2014-03-01</td><td>Sul</td><td>8733</td></tr><tr><td>2014-04-01</td><td>Sul</td><td>8421</td></tr><tr><td>2014-05-01</td><td>Sul</td><td>8558</td></tr><tr><td>2014-06-01</td><td>Sul</td><td>11410</td></tr><tr><td>2014-07-01</td><td>Sul</td><td>11875</td></tr><tr><td>2014-08-01</td><td>Sul</td><td>9573</td></tr><tr><td>2014-09-01</td><td>Sul</td><td>10975</td></tr><tr><td>2014-10-01</td><td>Sul</td><td>11358</td></tr><tr><td>2014-11-01</td><td>Sul</td><td>11389</td></tr><tr><td>2014-12-01</td><td>Sul</td><td>8479</td></tr><tr><td>2015-01-01</td><td>Sul</td><td>13251</td></tr><tr><td>2015-02-01</td><td>Sul</td><td>12494</td></tr><tr><td>2015-03-01</td><td>Sul</td><td>9875</td></tr><tr><td>2015-04-01</td><td>Sul</td><td>7773</td></tr><tr><td>2015-05-01</td><td>Sul</td><td>5925</td></tr><tr><td>2015-06-01</td><td>Sul</td><td>8088</td></tr><tr><td>2015-07-01</td><td>Sul</td><td>11480</td></tr><tr><td>2015-08-01</td><td>Sul</td><td>11474</td></tr><tr><td>2015-09-01</td><td>Sul</td><td>11100</td></tr><tr><td>2015-10-01</td><td>Sul</td><td>12263</td></tr><tr><td>2015-11-01</td><td>Sul</td><td>12308</td></tr><tr><td>2015-12-01</td><td>Sul</td><td>13195</td></tr><tr><td>2016-01-01</td><td>Sul</td><td>11458</td></tr><tr><td>2016-02-01</td><td>Sul</td><td>12133</td></tr><tr><td>2016-03-01</td><td>Sul</td><td>11865</td></tr><tr><td>2016-04-01</td><td>Sul</td><td>10896</td></tr><tr><td>2016-05-01</td><td>Sul</td><td>9991</td></tr><tr><td>2016-06-01</td><td>Sul</td><td>9720</td></tr><tr><td>2016-07-01</td><td>Sul</td><td>10271</td></tr><tr><td>2016-08-01</td><td>Sul</td><td>10569</td></tr><tr><td>2016-09-01</td><td>Sul</td><td>10617</td></tr><tr><td>2016-10-01</td><td>Sul</td><td>10006</td></tr><tr><td>2016-11-01</td><td>Sul</td><td>9775</td></tr><tr><td>2016-12-01</td><td>Sul</td><td>9442</td></tr><tr><td>2017-01-01</td><td>Sul</td><td>11229</td></tr><tr><td>2017-02-01</td><td>Sul</td><td>10079</td></tr><tr><td>2017-03-01</td><td>Sul</td><td>7593</td></tr><tr><td>2017-04-01</td><td>Sul</td><td>5467</td></tr><tr><td>2017-05-01</td><td>Sul</td><td>5820</td></tr><tr><td>2017-06-01</td><td>Sul</td><td>10570</td></tr><tr><td>2017-07-01</td><td>Sul</td><td>8771</td></tr><tr><td>2017-08-01</td><td>Sul</td><td>7958</td></tr><tr><td>2017-09-01</td><td>Sul</td><td>6679</td></tr><tr><td>2017-10-01</td><td>Sul</td><td>8199</td></tr><tr><td>2017-11-01</td><td>Sul</td><td>9414</td></tr><tr><td>2017-12-01</td><td>Sul</td><td>7286</td></tr><tr><td>2018-01-01</td><td>Sul</td><td>8954</td></tr><tr><td>2018-02-01</td><td>Sul</td><td>9128</td></tr><tr><td>2018-03-01</td><td>Sul</td><td>8067</td></tr><tr><td>2018-04-01</td><td>Sul</td><td>7268</td></tr><tr><td>2018-05-01</td><td>Sul</td><td>5550</td></tr><tr><td>2018-06-01</td><td>Sul</td><td>5249</td></tr><tr><td>2018-07-01</td><td>Sul</td><td>7003</td></tr><tr><td>2018-08-01</td><td>Sul</td><td>6518</td></tr><tr><td>2018-09-01</td><td>Sul</td><td>9243</td></tr><tr><td>2018-10-01</td><td>Sul</td><td>10546</td></tr><tr><td>2018-11-01</td><td>Sul</td><td>11233</td></tr><tr><td>2018-12-01</td><td>Sul</td><td>8491</td></tr><tr><td>2019-01-01</td><td>Sul</td><td>10502</td></tr><tr><td>2019-02-01</td><td>Sul</td><td>8014</td></tr><tr><td>2019-03-01</td><td>Sul</td><td>8524</td></tr><tr><td>2019-04-01</td><td>Sul</td><td>7667</td></tr><tr><td>2019-05-01</td><td>Sul</td><td>8135</td></tr><tr><td>2019-06-01</td><td>Sul</td><td>8979</td></tr><tr><td>2019-07-01</td><td>Sul</td><td>9406</td></tr><tr><td>2019-08-01</td><td>Sul</td><td>7353</td></tr><tr><td>2019-09-01</td><td>Sul</td><td>5864</td></tr><tr><td>2019-10-01</td><td>Sul</td><td>6125</td></tr><tr><td>2019-11-01</td><td>Sul</td><td>9407</td></tr><tr><td>2019-12-01</td><td>Sul</td><td>5904</td></tr><tr><td>2020-01-01</td><td>Sul</td><td>4775</td></tr><tr><td>2020-02-01</td><td>Sul</td><td>3590</td></tr><tr><td>2020-03-01</td><td>Sul</td><td>2182</td></tr><tr><td>2020-04-01</td><td>Sul</td><td>1211</td></tr><tr><td>2020-05-01</td><td>Sul</td><td>832</td></tr><tr><td>2020-06-01</td><td>Sul</td><td>2771</td></tr><tr><td>2020-07-01</td><td>Sul</td><td>8332</td></tr><tr><td>2020-08-01</td><td>Sul</td><td>9185</td></tr><tr><td>2020-09-01</td><td>Sul</td><td>9703</td></tr><tr><td>2020-10-01</td><td>Sul</td><td>6127</td></tr><tr><td>2020-11-01</td><td>Sul</td><td>3094</td></tr><tr><td>2020-12-01</td><td>Sul</td><td>5199</td></tr><tr><td>2021-01-01</td><td>Sul</td><td>7182</td></tr><tr><td>2021-02-01</td><td>Sul</td><td>7662</td></tr><tr><td>2021-03-01</td><td>Sul</td><td>6104</td></tr><tr><td>2021-04-01</td><td>Sul</td><td>3246</td></tr><tr><td>2021-05-01</td><td>Sul</td><td>2227</td></tr><tr><td>2021-06-01</td><td>Sul</td><td>4985</td></tr><tr><td>2021-07-01</td><td>Sul</td><td>8203</td></tr><tr><td>2021-08-01</td><td>Sul</td><td>7311</td></tr><tr><td>2021-09-01</td><td>Sul</td><td>7591</td></tr><tr><td>2021-10-01</td><td>Sul</td><td>8248</td></tr><tr><td>2021-11-01</td><td>Sul</td><td>5332</td></tr><tr><td>2021-12-01</td><td>Sul</td><td>4395</td></tr><tr><td>2022-01-01</td><td>Sul</td><td>4544</td></tr><tr><td>2022-02-01</td><td>Sul</td><td>4186</td></tr><tr><td>2022-03-01</td><td>Sul</td><td>3803</td></tr><tr><td>2022-04-01</td><td>Sul</td><td>6453</td></tr><tr><td>2022-05-01</td><td>Sul</td><td>9181</td></tr><tr><td>2022-06-01</td><td>Sul</td><td>13542</td></tr><tr><td>2022-07-01</td><td>Sul</td><td>12323</td></tr><tr><td>2022-08-01</td><td>Sul</td><td>10965</td></tr><tr><td>2022-09-01</td><td>Sul</td><td>11514</td></tr><tr><td>2022-10-01</td><td>Sul</td><td>11720</td></tr><tr><td>2022-11-01</td><td>Sul</td><td>10693</td></tr><tr><td>2022-12-01</td><td>Sul</td><td>7925</td></tr><tr><td>null</td><td>Sudeste/Centro-Oeste</td><td>3798224</td></tr><tr><td>2010-01-01</td><td>Sudeste/Centro-Oeste</td><td>32153</td></tr><tr><td>2010-02-01</td><td>Sudeste/Centro-Oeste</td><td>31832</td></tr><tr><td>2010-03-01</td><td>Sudeste/Centro-Oeste</td><td>31912</td></tr><tr><td>2010-04-01</td><td>Sudeste/Centro-Oeste</td><td>30699</td></tr><tr><td>2010-05-01</td><td>Sudeste/Centro-Oeste</td><td>29070</td></tr><tr><td>2010-06-01</td><td>Sudeste/Centro-Oeste</td><td>28705</td></tr><tr><td>2010-07-01</td><td>Sudeste/Centro-Oeste</td><td>30252</td></tr><tr><td>2010-08-01</td><td>Sudeste/Centro-Oeste</td><td>29279</td></tr><tr><td>2010-09-01</td><td>Sudeste/Centro-Oeste</td><td>30409</td></tr><tr><td>2010-10-01</td><td>Sudeste/Centro-Oeste</td><td>30767</td></tr><tr><td>2010-11-01</td><td>Sudeste/Centro-Oeste</td><td>33236</td></tr><tr><td>2010-12-01</td><td>Sudeste/Centro-Oeste</td><td>32967</td></tr><tr><td>2011-01-01</td><td>Sudeste/Centro-Oeste</td><td>33293</td></tr><tr><td>2011-02-01</td><td>Sudeste/Centro-Oeste</td><td>31723</td></tr><tr><td>2011-03-01</td><td>Sudeste/Centro-Oeste</td><td>31566</td></tr><tr><td>2011-04-01</td><td>Sudeste/Centro-Oeste</td><td>31474</td></tr><tr><td>2011-05-01</td><td>Sudeste/Centro-Oeste</td><td>30076</td></tr><tr><td>2011-06-01</td><td>Sudeste/Centro-Oeste</td><td>31222</td></tr><tr><td>2011-07-01</td><td>Sudeste/Centro-Oeste</td><td>30684</td></tr><tr><td>2011-08-01</td><td>Sudeste/Centro-Oeste</td><td>31327</td></tr><tr><td>2011-09-01</td><td>Sudeste/Centro-Oeste</td><td>31080</td></tr><tr><td>2011-10-01</td><td>Sudeste/Centro-Oeste</td><td>30910</td></tr><tr><td>2011-11-01</td><td>Sudeste/Centro-Oeste</td><td>32825</td></tr><tr><td>2011-12-01</td><td>Sudeste/Centro-Oeste</td><td>34490</td></tr><tr><td>2012-01-01</td><td>Sudeste/Centro-Oeste</td><td>35792</td></tr><tr><td>2012-02-01</td><td>Sudeste/Centro-Oeste</td><td>36463</td></tr><tr><td>2012-03-01</td><td>Sudeste/Centro-Oeste</td><td>37169</td></tr><tr><td>2012-04-01</td><td>Sudeste/Centro-Oeste</td><td>34893</td></tr><tr><td>2012-05-01</td><td>Sudeste/Centro-Oeste</td><td>35159</td></tr><tr><td>2012-06-01</td><td>Sudeste/Centro-Oeste</td><td>33470</td></tr><tr><td>2012-07-01</td><td>Sudeste/Centro-Oeste</td><td>33801</td></tr><tr><td>2012-08-01</td><td>Sudeste/Centro-Oeste</td><td>33430</td></tr><tr><td>2012-09-01</td><td>Sudeste/Centro-Oeste</td><td>32501</td></tr><tr><td>2012-10-01</td><td>Sudeste/Centro-Oeste</td><td>33366</td></tr><tr><td>2012-11-01</td><td>Sudeste/Centro-Oeste</td><td>32919</td></tr><tr><td>2012-12-01</td><td>Sudeste/Centro-Oeste</td><td>33247</td></tr><tr><td>2013-01-01</td><td>Sudeste/Centro-Oeste</td><td>30082</td></tr><tr><td>2013-02-01</td><td>Sudeste/Centro-Oeste</td><td>31597</td></tr><tr><td>2013-03-01</td><td>Sudeste/Centro-Oeste</td><td>29925</td></tr><tr><td>2013-04-01</td><td>Sudeste/Centro-Oeste</td><td>28708</td></tr><tr><td>2013-05-01</td><td>Sudeste/Centro-Oeste</td><td>28012</td></tr><tr><td>2013-06-01</td><td>Sudeste/Centro-Oeste</td><td>29091</td></tr><tr><td>2013-07-01</td><td>Sudeste/Centro-Oeste</td><td>29552</td></tr><tr><td>2013-08-01</td><td>Sudeste/Centro-Oeste</td><td>29073</td></tr><tr><td>2013-09-01</td><td>Sudeste/Centro-Oeste</td><td>29156</td></tr><tr><td>2013-10-01</td><td>Sudeste/Centro-Oeste</td><td>30060</td></tr><tr><td>2013-11-01</td><td>Sudeste/Centro-Oeste</td><td>31465</td></tr><tr><td>2013-12-01</td><td>Sudeste/Centro-Oeste</td><td>33302</td></tr><tr><td>2014-01-01</td><td>Sudeste/Centro-Oeste</td><td>32701</td></tr><tr><td>2014-02-01</td><td>Sudeste/Centro-Oeste</td><td>32808</td></tr><tr><td>2014-03-01</td><td>Sudeste/Centro-Oeste</td><td>28700</td></tr><tr><td>2014-04-01</td><td>Sudeste/Centro-Oeste</td><td>27223</td></tr><tr><td>2014-05-01</td><td>Sudeste/Centro-Oeste</td><td>23767</td></tr><tr><td>2014-06-01</td><td>Sudeste/Centro-Oeste</td><td>22794</td></tr><tr><td>2014-07-01</td><td>Sudeste/Centro-Oeste</td><td>23394</td></tr><tr><td>2014-08-01</td><td>Sudeste/Centro-Oeste</td><td>23780</td></tr><tr><td>2014-09-01</td><td>Sudeste/Centro-Oeste</td><td>24897</td></tr><tr><td>2014-10-01</td><td>Sudeste/Centro-Oeste</td><td>26714</td></tr><tr><td>2014-11-01</td><td>Sudeste/Centro-Oeste</td><td>26130</td></tr><tr><td>2014-12-01</td><td>Sudeste/Centro-Oeste</td><td>27418</td></tr><tr><td>2015-01-01</td><td>Sudeste/Centro-Oeste</td><td>27963</td></tr><tr><td>2015-02-01</td><td>Sudeste/Centro-Oeste</td><td>26648</td></tr><tr><td>2015-03-01</td><td>Sudeste/Centro-Oeste</td><td>27383</td></tr><tr><td>2015-04-01</td><td>Sudeste/Centro-Oeste</td><td>25738</td></tr><tr><td>2015-05-01</td><td>Sudeste/Centro-Oeste</td><td>24820</td></tr><tr><td>2015-06-01</td><td>Sudeste/Centro-Oeste</td><td>23446</td></tr><tr><td>2015-07-01</td><td>Sudeste/Centro-Oeste</td><td>23447</td></tr><tr><td>2015-08-01</td><td>Sudeste/Centro-Oeste</td><td>22792</td></tr><tr><td>2015-09-01</td><td>Sudeste/Centro-Oeste</td><td>23845</td></tr><tr><td>2015-10-01</td><td>Sudeste/Centro-Oeste</td><td>27167</td></tr><tr><td>2015-11-01</td><td>Sudeste/Centro-Oeste</td><td>27812</td></tr><tr><td>2015-12-01</td><td>Sudeste/Centro-Oeste</td><td>28094</td></tr><tr><td>2016-01-01</td><td>Sudeste/Centro-Oeste</td><td>31307</td></tr><tr><td>2016-02-01</td><td>Sudeste/Centro-Oeste</td><td>32191</td></tr><tr><td>2016-03-01</td><td>Sudeste/Centro-Oeste</td><td>32396</td></tr><tr><td>2016-04-01</td><td>Sudeste/Centro-Oeste</td><td>30481</td></tr><tr><td>2016-05-01</td><td>Sudeste/Centro-Oeste</td><td>29463</td></tr><tr><td>2016-06-01</td><td>Sudeste/Centro-Oeste</td><td>29854</td></tr><tr><td>2016-07-01</td><td>Sudeste/Centro-Oeste</td><td>28942</td></tr><tr><td>2016-08-01</td><td>Sudeste/Centro-Oeste</td><td>28484</td></tr><tr><td>2016-09-01</td><td>Sudeste/Centro-Oeste</td><td>27763</td></tr><tr><td>2016-10-01</td><td>Sudeste/Centro-Oeste</td><td>28567</td></tr><tr><td>2016-11-01</td><td>Sudeste/Centro-Oeste</td><td>29713</td></tr><tr><td>2016-12-01</td><td>Sudeste/Centro-Oeste</td><td>33699</td></tr><tr><td>2017-01-01</td><td>Sudeste/Centro-Oeste</td><td>35488</td></tr><tr><td>2017-02-01</td><td>Sudeste/Centro-Oeste</td><td>36464</td></tr><tr><td>2017-03-01</td><td>Sudeste/Centro-Oeste</td><td>35256</td></tr><tr><td>2017-04-01</td><td>Sudeste/Centro-Oeste</td><td>30848</td></tr><tr><td>2017-05-01</td><td>Sudeste/Centro-Oeste</td><td>29452</td></tr><tr><td>2017-06-01</td><td>Sudeste/Centro-Oeste</td><td>26952</td></tr><tr><td>2017-07-01</td><td>Sudeste/Centro-Oeste</td><td>25441</td></tr><tr><td>2017-08-01</td><td>Sudeste/Centro-Oeste</td><td>25556</td></tr><tr><td>2017-09-01</td><td>Sudeste/Centro-Oeste</td><td>26533</td></tr><tr><td>2017-10-01</td><td>Sudeste/Centro-Oeste</td><td>27372</td></tr><tr><td>2017-11-01</td><td>Sudeste/Centro-Oeste</td><td>28529</td></tr><tr><td>2017-12-01</td><td>Sudeste/Centro-Oeste</td><td>33748</td></tr><tr><td>2018-01-01</td><td>Sudeste/Centro-Oeste</td><td>35232</td></tr><tr><td>2018-02-01</td><td>Sudeste/Centro-Oeste</td><td>35339</td></tr><tr><td>2018-03-01</td><td>Sudeste/Centro-Oeste</td><td>37409</td></tr><tr><td>2018-04-01</td><td>Sudeste/Centro-Oeste</td><td>32542</td></tr><tr><td>2018-05-01</td><td>Sudeste/Centro-Oeste</td><td>28529</td></tr><tr><td>2018-06-01</td><td>Sudeste/Centro-Oeste</td><td>27288</td></tr><tr><td>2018-07-01</td><td>Sudeste/Centro-Oeste</td><td>26243</td></tr><tr><td>2018-08-01</td><td>Sudeste/Centro-Oeste</td><td>27001</td></tr><tr><td>2018-09-01</td><td>Sudeste/Centro-Oeste</td><td>24043</td></tr><tr><td>2018-10-01</td><td>Sudeste/Centro-Oeste</td><td>29546</td></tr><tr><td>2018-11-01</td><td>Sudeste/Centro-Oeste</td><td>33374</td></tr><tr><td>2018-12-01</td><td>Sudeste/Centro-Oeste</td><td>33798</td></tr><tr><td>2019-01-01</td><td>Sudeste/Centro-Oeste</td><td>35640</td></tr><tr><td>2019-02-01</td><td>Sudeste/Centro-Oeste</td><td>33635</td></tr><tr><td>2019-03-01</td><td>Sudeste/Centro-Oeste</td><td>32553</td></tr><tr><td>2019-04-01</td><td>Sudeste/Centro-Oeste</td><td>32511</td></tr><tr><td>2019-05-01</td><td>Sudeste/Centro-Oeste</td><td>28797</td></tr><tr><td>2019-06-01</td><td>Sudeste/Centro-Oeste</td><td>25904</td></tr><tr><td>2019-07-01</td><td>Sudeste/Centro-Oeste</td><td>24486</td></tr><tr><td>2019-08-01</td><td>Sudeste/Centro-Oeste</td><td>24562</td></tr><tr><td>2019-09-01</td><td>Sudeste/Centro-Oeste</td><td>28383</td></tr><tr><td>2019-10-01</td><td>Sudeste/Centro-Oeste</td><td>29734</td></tr><tr><td>2019-11-01</td><td>Sudeste/Centro-Oeste</td><td>27772</td></tr><tr><td>2019-12-01</td><td>Sudeste/Centro-Oeste</td><td>33235</td></tr><tr><td>2020-01-01</td><td>Sudeste/Centro-Oeste</td><td>36691</td></tr><tr><td>2020-02-01</td><td>Sudeste/Centro-Oeste</td><td>37605</td></tr><tr><td>2020-03-01</td><td>Sudeste/Centro-Oeste</td><td>35709</td></tr><tr><td>2020-04-01</td><td>Sudeste/Centro-Oeste</td><td>30220</td></tr><tr><td>2020-05-01</td><td>Sudeste/Centro-Oeste</td><td>28533</td></tr><tr><td>2020-06-01</td><td>Sudeste/Centro-Oeste</td><td>26967</td></tr><tr><td>2020-07-01</td><td>Sudeste/Centro-Oeste</td><td>27236</td></tr><tr><td>2020-08-01</td><td>Sudeste/Centro-Oeste</td><td>26690</td></tr><tr><td>2020-09-01</td><td>Sudeste/Centro-Oeste</td><td>28789</td></tr><tr><td>2020-10-01</td><td>Sudeste/Centro-Oeste</td><td>29070</td></tr><tr><td>2020-11-01</td><td>Sudeste/Centro-Oeste</td><td>29077</td></tr><tr><td>2020-12-01</td><td>Sudeste/Centro-Oeste</td><td>29452</td></tr><tr><td>2021-01-01</td><td>Sudeste/Centro-Oeste</td><td>31355</td></tr><tr><td>2021-02-01</td><td>Sudeste/Centro-Oeste</td><td>32804</td></tr><tr><td>2021-03-01</td><td>Sudeste/Centro-Oeste</td><td>29727</td></tr><tr><td>2021-04-01</td><td>Sudeste/Centro-Oeste</td><td>26514</td></tr><tr><td>2021-05-01</td><td>Sudeste/Centro-Oeste</td><td>26462</td></tr><tr><td>2021-06-01</td><td>Sudeste/Centro-Oeste</td><td>24438</td></tr><tr><td>2021-07-01</td><td>Sudeste/Centro-Oeste</td><td>19380</td></tr><tr><td>2021-08-01</td><td>Sudeste/Centro-Oeste</td><td>19085</td></tr><tr><td>2021-09-01</td><td>Sudeste/Centro-Oeste</td><td>20358</td></tr><tr><td>2021-10-01</td><td>Sudeste/Centro-Oeste</td><td>20181</td></tr><tr><td>2021-11-01</td><td>Sudeste/Centro-Oeste</td><td>25063</td></tr><tr><td>2021-12-01</td><td>Sudeste/Centro-Oeste</td><td>27511</td></tr><tr><td>2022-01-01</td><td>Sudeste/Centro-Oeste</td><td>28364</td></tr><tr><td>2022-02-01</td><td>Sudeste/Centro-Oeste</td><td>31337</td></tr><tr><td>2022-03-01</td><td>Sudeste/Centro-Oeste</td><td>34023</td></tr><tr><td>2022-04-01</td><td>Sudeste/Centro-Oeste</td><td>28466</td></tr><tr><td>2022-05-01</td><td>Sudeste/Centro-Oeste</td><td>24243</td></tr><tr><td>2022-06-01</td><td>Sudeste/Centro-Oeste</td><td>23495</td></tr><tr><td>2022-07-01</td><td>Sudeste/Centro-Oeste</td><td>22708</td></tr><tr><td>2022-08-01</td><td>Sudeste/Centro-Oeste</td><td>23983</td></tr><tr><td>2022-09-01</td><td>Sudeste/Centro-Oeste</td><td>25057</td></tr><tr><td>2022-10-01</td><td>Sudeste/Centro-Oeste</td><td>25236</td></tr><tr><td>2022-11-01</td><td>Sudeste/Centro-Oeste</td><td>30607</td></tr><tr><td>2022-12-01</td><td>Sudeste/Centro-Oeste</td><td>30662</td></tr><tr><td>null</td><td>Norte</td><td>537059</td></tr><tr><td>2010-01-01</td><td>Norte</td><td>5328</td></tr><tr><td>2010-02-01</td><td>Norte</td><td>6488</td></tr><tr><td>2010-03-01</td><td>Norte</td><td>7258</td></tr><tr><td>2010-04-01</td><td>Norte</td><td>6991</td></tr><tr><td>2010-05-01</td><td>Norte</td><td>6033</td></tr><tr><td>2010-06-01</td><td>Norte</td><td>4116</td></tr><tr><td>2010-07-01</td><td>Norte</td><td>3600</td></tr><tr><td>2010-08-01</td><td>Norte</td><td>3169</td></tr><tr><td>2010-09-01</td><td>Norte</td><td>2652</td></tr><tr><td>2010-10-01</td><td>Norte</td><td>2028</td></tr><tr><td>2010-11-01</td><td>Norte</td><td>2217</td></tr><tr><td>2010-12-01</td><td>Norte</td><td>2423</td></tr><tr><td>2011-01-01</td><td>Norte</td><td>5020</td></tr><tr><td>2011-02-01</td><td>Norte</td><td>6311</td></tr><tr><td>2011-03-01</td><td>Norte</td><td>6262</td></tr><tr><td>2011-04-01</td><td>Norte</td><td>6926</td></tr><tr><td>2011-05-01</td><td>Norte</td><td>7171</td></tr><tr><td>2011-06-01</td><td>Norte</td><td>5137</td></tr><tr><td>2011-07-01</td><td>Norte</td><td>3204</td></tr><tr><td>2011-08-01</td><td>Norte</td><td>3786</td></tr><tr><td>2011-09-01</td><td>Norte</td><td>3962</td></tr><tr><td>2011-10-01</td><td>Norte</td><td>3031</td></tr><tr><td>2011-11-01</td><td>Norte</td><td>2618</td></tr><tr><td>2011-12-01</td><td>Norte</td><td>5164</td></tr><tr><td>2012-01-01</td><td>Norte</td><td>6272</td></tr><tr><td>2012-02-01</td><td>Norte</td><td>6892</td></tr><tr><td>2012-03-01</td><td>Norte</td><td>7530</td></tr><tr><td>2012-04-01</td><td>Norte</td><td>7821</td></tr><tr><td>2012-05-01</td><td>Norte</td><td>6187</td></tr><tr><td>2012-06-01</td><td>Norte</td><td>4215</td></tr><tr><td>2012-07-01</td><td>Norte</td><td>4273</td></tr><tr><td>2012-08-01</td><td>Norte</td><td>3819</td></tr><tr><td>2012-09-01</td><td>Norte</td><td>3210</td></tr><tr><td>2012-10-01</td><td>Norte</td><td>2520</td></tr><tr><td>2012-11-01</td><td>Norte</td><td>2531</td></tr><tr><td>2012-12-01</td><td>Norte</td><td>4131</td></tr><tr><td>2013-01-01</td><td>Norte</td><td>4985</td></tr><tr><td>2013-02-01</td><td>Norte</td><td>7219</td></tr><tr><td>2013-03-01</td><td>Norte</td><td>7899</td></tr><tr><td>2013-04-01</td><td>Norte</td><td>8009</td></tr><tr><td>2013-05-01</td><td>Norte</td><td>7895</td></tr><tr><td>2013-06-01</td><td>Norte</td><td>4333</td></tr><tr><td>2013-07-01</td><td>Norte</td><td>3773</td></tr><tr><td>2013-08-01</td><td>Norte</td><td>3583</td></tr><tr><td>2013-09-01</td><td>Norte</td><td>4008</td></tr><tr><td>2013-10-01</td><td>Norte</td><td>3522</td></tr><tr><td>2013-11-01</td><td>Norte</td><td>2836</td></tr><tr><td>2013-12-01</td><td>Norte</td><td>3645</td></tr><tr><td>2014-01-01</td><td>Norte</td><td>7266</td></tr><tr><td>2014-02-01</td><td>Norte</td><td>7759</td></tr><tr><td>2014-03-01</td><td>Norte</td><td>7613</td></tr><tr><td>2014-04-01</td><td>Norte</td><td>7846</td></tr><tr><td>2014-05-01</td><td>Norte</td><td>7768</td></tr><tr><td>2014-06-01</td><td>Norte</td><td>4439</td></tr><tr><td>2014-07-01</td><td>Norte</td><td>3459</td></tr><tr><td>2014-08-01</td><td>Norte</td><td>4335</td></tr><tr><td>2014-09-01</td><td>Norte</td><td>4580</td></tr><tr><td>2014-10-01</td><td>Norte</td><td>2884</td></tr><tr><td>2014-11-01</td><td>Norte</td><td>2963</td></tr><tr><td>2014-12-01</td><td>Norte</td><td>3625</td></tr><tr><td>2015-01-01</td><td>Norte</td><td>5247</td></tr><tr><td>2015-02-01</td><td>Norte</td><td>6108</td></tr><tr><td>2015-03-01</td><td>Norte</td><td>7094</td></tr><tr><td>2015-04-01</td><td>Norte</td><td>8238</td></tr><tr><td>2015-05-01</td><td>Norte</td><td>8334</td></tr><tr><td>2015-06-01</td><td>Norte</td><td>5759</td></tr><tr><td>2015-07-01</td><td>Norte</td><td>3679</td></tr><tr><td>2015-08-01</td><td>Norte</td><td>3814</td></tr><tr><td>2015-09-01</td><td>Norte</td><td>4884</td></tr><tr><td>2015-10-01</td><td>Norte</td><td>3031</td></tr><tr><td>2015-11-01</td><td>Norte</td><td>2270</td></tr><tr><td>2015-12-01</td><td>Norte</td><td>2055</td></tr><tr><td>2016-01-01</td><td>Norte</td><td>2988</td></tr><tr><td>2016-02-01</td><td>Norte</td><td>6152</td></tr><tr><td>2016-03-01</td><td>Norte</td><td>6292</td></tr><tr><td>2016-04-01</td><td>Norte</td><td>7246</td></tr><tr><td>2016-05-01</td><td>Norte</td><td>4975</td></tr><tr><td>2016-06-01</td><td>Norte</td><td>3473</td></tr><tr><td>2016-07-01</td><td>Norte</td><td>2948</td></tr><tr><td>2016-08-01</td><td>Norte</td><td>2601</td></tr><tr><td>2016-09-01</td><td>Norte</td><td>2388</td></tr><tr><td>2016-10-01</td><td>Norte</td><td>2692</td></tr><tr><td>2016-11-01</td><td>Norte</td><td>3452</td></tr><tr><td>2016-12-01</td><td>Norte</td><td>4639</td></tr><tr><td>2017-01-01</td><td>Norte</td><td>5396</td></tr><tr><td>2017-02-01</td><td>Norte</td><td>8368</td></tr><tr><td>2017-03-01</td><td>Norte</td><td>9659</td></tr><tr><td>2017-04-01</td><td>Norte</td><td>8683</td></tr><tr><td>2017-05-01</td><td>Norte</td><td>8350</td></tr><tr><td>2017-06-01</td><td>Norte</td><td>6050</td></tr><tr><td>2017-07-01</td><td>Norte</td><td>3703</td></tr><tr><td>2017-08-01</td><td>Norte</td><td>2976</td></tr><tr><td>2017-09-01</td><td>Norte</td><td>4217</td></tr><tr><td>2017-10-01</td><td>Norte</td><td>2797</td></tr><tr><td>2017-11-01</td><td>Norte</td><td>2625</td></tr><tr><td>2017-12-01</td><td>Norte</td><td>4553</td></tr><tr><td>2018-01-01</td><td>Norte</td><td>7095</td></tr><tr><td>2018-02-01</td><td>Norte</td><td>8949</td></tr><tr><td>2018-03-01</td><td>Norte</td><td>9522</td></tr><tr><td>2018-04-01</td><td>Norte</td><td>10605</td></tr><tr><td>2018-05-01</td><td>Norte</td><td>10125</td></tr><tr><td>2018-06-01</td><td>Norte</td><td>6985</td></tr><tr><td>2018-07-01</td><td>Norte</td><td>4181</td></tr><tr><td>2018-08-01</td><td>Norte</td><td>4153</td></tr><tr><td>2018-09-01</td><td>Norte</td><td>3800</td></tr><tr><td>2018-10-01</td><td>Norte</td><td>3935</td></tr><tr><td>2018-11-01</td><td>Norte</td><td>4104</td></tr><tr><td>2018-12-01</td><td>Norte</td><td>9687</td></tr><tr><td>2019-01-01</td><td>Norte</td><td>10063</td></tr><tr><td>2019-02-01</td><td>Norte</td><td>12357</td></tr><tr><td>2019-03-01</td><td>Norte</td><td>11806</td></tr><tr><td>2019-04-01</td><td>Norte</td><td>11581</td></tr><tr><td>2019-05-01</td><td>Norte</td><td>11211</td></tr><tr><td>2019-06-01</td><td>Norte</td><td>7831</td></tr><tr><td>2019-07-01</td><td>Norte</td><td>4608</td></tr><tr><td>2019-08-01</td><td>Norte</td><td>3522</td></tr><tr><td>2019-09-01</td><td>Norte</td><td>4179</td></tr><tr><td>2019-10-01</td><td>Norte</td><td>4480</td></tr><tr><td>2019-11-01</td><td>Norte</td><td>3857</td></tr><tr><td>2019-12-01</td><td>Norte</td><td>5216</td></tr><tr><td>2020-01-01</td><td>Norte</td><td>8269</td></tr><tr><td>2020-02-01</td><td>Norte</td><td>12713</td></tr><tr><td>2020-03-01</td><td>Norte</td><td>15327</td></tr><tr><td>2020-04-01</td><td>Norte</td><td>10977</td></tr><tr><td>2020-05-01</td><td>Norte</td><td>10725</td></tr><tr><td>2020-06-01</td><td>Norte</td><td>9575</td></tr><tr><td>2020-07-01</td><td>Norte</td><td>4948</td></tr><tr><td>2020-08-01</td><td>Norte</td><td>4236</td></tr><tr><td>2020-09-01</td><td>Norte</td><td>4384</td></tr><tr><td>2020-10-01</td><td>Norte</td><td>4444</td></tr><tr><td>2020-11-01</td><td>Norte</td><td>3523</td></tr><tr><td>2020-12-01</td><td>Norte</td><td>3926</td></tr><tr><td>2021-01-01</td><td>Norte</td><td>6125</td></tr><tr><td>2021-02-01</td><td>Norte</td><td>10608</td></tr><tr><td>2021-03-01</td><td>Norte</td><td>16673</td></tr><tr><td>2021-04-01</td><td>Norte</td><td>15971</td></tr><tr><td>2021-05-01</td><td>Norte</td><td>13441</td></tr><tr><td>2021-06-01</td><td>Norte</td><td>6666</td></tr><tr><td>2021-07-01</td><td>Norte</td><td>4209</td></tr><tr><td>2021-08-01</td><td>Norte</td><td>3717</td></tr><tr><td>2021-09-01</td><td>Norte</td><td>3601</td></tr><tr><td>2021-10-01</td><td>Norte</td><td>4286</td></tr><tr><td>2021-11-01</td><td>Norte</td><td>7741</td></tr><tr><td>2021-12-01</td><td>Norte</td><td>11935</td></tr><tr><td>2022-01-01</td><td>Norte</td><td>15406</td></tr><tr><td>2022-02-01</td><td>Norte</td><td>15408</td></tr><tr><td>2022-03-01</td><td>Norte</td><td>14929</td></tr><tr><td>2022-04-01</td><td>Norte</td><td>15347</td></tr><tr><td>2022-05-01</td><td>Norte</td><td>13222</td></tr><tr><td>2022-06-01</td><td>Norte</td><td>7809</td></tr><tr><td>2022-07-01</td><td>Norte</td><td>5286</td></tr><tr><td>2022-08-01</td><td>Norte</td><td>3445</td></tr><tr><td>2022-09-01</td><td>Norte</td><td>3854</td></tr><tr><td>2022-10-01</td><td>Norte</td><td>4495</td></tr><tr><td>2022-11-01</td><td>Norte</td><td>4411</td></tr><tr><td>2022-12-01</td><td>Norte</td><td>8311</td></tr><tr><td>null</td><td>Nordeste</td><td>736220</td></tr><tr><td>2010-01-01</td><td>Nordeste</td><td>5721</td></tr><tr><td>2010-02-01</td><td>Nordeste</td><td>5997</td></tr><tr><td>2010-03-01</td><td>Nordeste</td><td>5722</td></tr><tr><td>2010-04-01</td><td>Nordeste</td><td>4868</td></tr><tr><td>2010-05-01</td><td>Nordeste</td><td>4712</td></tr><tr><td>2010-06-01</td><td>Nordeste</td><td>4292</td></tr><tr><td>2010-07-01</td><td>Nordeste</td><td>4679</td></tr><tr><td>2010-08-01</td><td>Nordeste</td><td>4522</td></tr><tr><td>2010-09-01</td><td>Nordeste</td><td>5030</td></tr><tr><td>2010-10-01</td><td>Nordeste</td><td>5720</td></tr><tr><td>2010-11-01</td><td>Nordeste</td><td>5251</td></tr><tr><td>2010-12-01</td><td>Nordeste</td><td>6055</td></tr><tr><td>2011-01-01</td><td>Nordeste</td><td>5707</td></tr><tr><td>2011-02-01</td><td>Nordeste</td><td>5851</td></tr><tr><td>2011-03-01</td><td>Nordeste</td><td>5751</td></tr><tr><td>2011-04-01</td><td>Nordeste</td><td>5605</td></tr><tr><td>2011-05-01</td><td>Nordeste</td><td>4645</td></tr><tr><td>2011-06-01</td><td>Nordeste</td><td>5074</td></tr><tr><td>2011-07-01</td><td>Nordeste</td><td>5329</td></tr><tr><td>2011-08-01</td><td>Nordeste</td><td>5731</td></tr><tr><td>2011-09-01</td><td>Nordeste</td><td>6242</td></tr><tr><td>2011-10-01</td><td>Nordeste</td><td>6782</td></tr><tr><td>2011-11-01</td><td>Nordeste</td><td>6194</td></tr><tr><td>2011-12-01</td><td>Nordeste</td><td>6311</td></tr><tr><td>2012-01-01</td><td>Nordeste</td><td>6987</td></tr><tr><td>2012-02-01</td><td>Nordeste</td><td>6495</td></tr><tr><td>2012-03-01</td><td>Nordeste</td><td>6941</td></tr><tr><td>2012-04-01</td><td>Nordeste</td><td>6508</td></tr><tr><td>2012-05-01</td><td>Nordeste</td><td>6062</td></tr><tr><td>2012-06-01</td><td>Nordeste</td><td>5984</td></tr><tr><td>2012-07-01</td><td>Nordeste</td><td>4941</td></tr><tr><td>2012-08-01</td><td>Nordeste</td><td>5452</td></tr><tr><td>2012-09-01</td><td>Nordeste</td><td>5511</td></tr><tr><td>2012-10-01</td><td>Nordeste</td><td>5106</td></tr><tr><td>2012-11-01</td><td>Nordeste</td><td>4570</td></tr><tr><td>2012-12-01</td><td>Nordeste</td><td>6162</td></tr><tr><td>2013-01-01</td><td>Nordeste</td><td>5149</td></tr><tr><td>2013-02-01</td><td>Nordeste</td><td>3964</td></tr><tr><td>2013-03-01</td><td>Nordeste</td><td>3865</td></tr><tr><td>2013-04-01</td><td>Nordeste</td><td>3934</td></tr><tr><td>2013-05-01</td><td>Nordeste</td><td>3487</td></tr><tr><td>2013-06-01</td><td>Nordeste</td><td>3467</td></tr><tr><td>2013-07-01</td><td>Nordeste</td><td>4019</td></tr><tr><td>2013-08-01</td><td>Nordeste</td><td>3646</td></tr><tr><td>2013-09-01</td><td>Nordeste</td><td>3739</td></tr><tr><td>2013-10-01</td><td>Nordeste</td><td>3881</td></tr><tr><td>2013-11-01</td><td>Nordeste</td><td>3661</td></tr><tr><td>2013-12-01</td><td>Nordeste</td><td>3720</td></tr><tr><td>2014-01-01</td><td>Nordeste</td><td>3701</td></tr><tr><td>2014-02-01</td><td>Nordeste</td><td>3455</td></tr><tr><td>2014-03-01</td><td>Nordeste</td><td>3502</td></tr><tr><td>2014-04-01</td><td>Nordeste</td><td>3478</td></tr><tr><td>2014-05-01</td><td>Nordeste</td><td>3367</td></tr><tr><td>2014-06-01</td><td>Nordeste</td><td>3422</td></tr><tr><td>2014-07-01</td><td>Nordeste</td><td>3307</td></tr><tr><td>2014-08-01</td><td>Nordeste</td><td>3278</td></tr><tr><td>2014-09-01</td><td>Nordeste</td><td>3299</td></tr><tr><td>2014-10-01</td><td>Nordeste</td><td>3358</td></tr><tr><td>2014-11-01</td><td>Nordeste</td><td>3375</td></tr><tr><td>2014-12-01</td><td>Nordeste</td><td>3527</td></tr><tr><td>2015-01-01</td><td>Nordeste</td><td>3372</td></tr><tr><td>2015-02-01</td><td>Nordeste</td><td>3315</td></tr><tr><td>2015-03-01</td><td>Nordeste</td><td>3422</td></tr><tr><td>2015-04-01</td><td>Nordeste</td><td>3253</td></tr><tr><td>2015-05-01</td><td>Nordeste</td><td>3413</td></tr><tr><td>2015-06-01</td><td>Nordeste</td><td>2822</td></tr><tr><td>2015-07-01</td><td>Nordeste</td><td>2801</td></tr><tr><td>2015-08-01</td><td>Nordeste</td><td>2877</td></tr><tr><td>2015-09-01</td><td>Nordeste</td><td>2846</td></tr><tr><td>2015-10-01</td><td>Nordeste</td><td>2794</td></tr><tr><td>2015-11-01</td><td>Nordeste</td><td>2691</td></tr><tr><td>2015-12-01</td><td>Nordeste</td><td>2635</td></tr><tr><td>2016-01-01</td><td>Nordeste</td><td>2922</td></tr><tr><td>2016-02-01</td><td>Nordeste</td><td>2758</td></tr><tr><td>2016-03-01</td><td>Nordeste</td><td>2635</td></tr><tr><td>2016-04-01</td><td>Nordeste</td><td>2433</td></tr><tr><td>2016-05-01</td><td>Nordeste</td><td>2491</td></tr><tr><td>2016-06-01</td><td>Nordeste</td><td>2430</td></tr><tr><td>2016-07-01</td><td>Nordeste</td><td>2440</td></tr><tr><td>2016-08-01</td><td>Nordeste</td><td>2447</td></tr><tr><td>2016-09-01</td><td>Nordeste</td><td>2471</td></tr><tr><td>2016-10-01</td><td>Nordeste</td><td>2507</td></tr><tr><td>2016-11-01</td><td>Nordeste</td><td>2506</td></tr><tr><td>2016-12-01</td><td>Nordeste</td><td>2388</td></tr><tr><td>2017-01-01</td><td>Nordeste</td><td>2319</td></tr><tr><td>2017-02-01</td><td>Nordeste</td><td>2310</td></tr><tr><td>2017-03-01</td><td>Nordeste</td><td>2266</td></tr><tr><td>2017-04-01</td><td>Nordeste</td><td>2167</td></tr><tr><td>2017-05-01</td><td>Nordeste</td><td>2022</td></tr><tr><td>2017-06-01</td><td>Nordeste</td><td>1653</td></tr><tr><td>2017-07-01</td><td>Nordeste</td><td>1668</td></tr><tr><td>2017-08-01</td><td>Nordeste</td><td>1664</td></tr><tr><td>2017-09-01</td><td>Nordeste</td><td>1590</td></tr><tr><td>2017-10-01</td><td>Nordeste</td><td>1548</td></tr><tr><td>2017-11-01</td><td>Nordeste</td><td>1605</td></tr><tr><td>2017-12-01</td><td>Nordeste</td><td>1766</td></tr><tr><td>2018-01-01</td><td>Nordeste</td><td>1637</td></tr><tr><td>2018-02-01</td><td>Nordeste</td><td>1882</td></tr><tr><td>2018-03-01</td><td>Nordeste</td><td>2013</td></tr><tr><td>2018-04-01</td><td>Nordeste</td><td>1820</td></tr><tr><td>2018-05-01</td><td>Nordeste</td><td>1858</td></tr><tr><td>2018-06-01</td><td>Nordeste</td><td>1863</td></tr><tr><td>2018-07-01</td><td>Nordeste</td><td>1818</td></tr><tr><td>2018-08-01</td><td>Nordeste</td><td>1790</td></tr><tr><td>2018-09-01</td><td>Nordeste</td><td>1768</td></tr><tr><td>2018-10-01</td><td>Nordeste</td><td>1955</td></tr><tr><td>2018-11-01</td><td>Nordeste</td><td>2005</td></tr><tr><td>2018-12-01</td><td>Nordeste</td><td>2258</td></tr><tr><td>2019-01-01</td><td>Nordeste</td><td>2408</td></tr><tr><td>2019-02-01</td><td>Nordeste</td><td>2208</td></tr><tr><td>2019-03-01</td><td>Nordeste</td><td>2198</td></tr><tr><td>2019-04-01</td><td>Nordeste</td><td>2499</td></tr><tr><td>2019-05-01</td><td>Nordeste</td><td>2551</td></tr><tr><td>2019-06-01</td><td>Nordeste</td><td>2432</td></tr><tr><td>2019-07-01</td><td>Nordeste</td><td>2416</td></tr><tr><td>2019-08-01</td><td>Nordeste</td><td>2446</td></tr><tr><td>2019-09-01</td><td>Nordeste</td><td>2479</td></tr><tr><td>2019-10-01</td><td>Nordeste</td><td>2769</td></tr><tr><td>2019-11-01</td><td>Nordeste</td><td>3071</td></tr><tr><td>2019-12-01</td><td>Nordeste</td><td>2553</td></tr><tr><td>2020-01-01</td><td>Nordeste</td><td>2980</td></tr><tr><td>2020-02-01</td><td>Nordeste</td><td>2966</td></tr><tr><td>2020-03-01</td><td>Nordeste</td><td>3081</td></tr><tr><td>2020-04-01</td><td>Nordeste</td><td>3924</td></tr><tr><td>2020-05-01</td><td>Nordeste</td><td>3560</td></tr><tr><td>2020-06-01</td><td>Nordeste</td><td>3767</td></tr><tr><td>2020-07-01</td><td>Nordeste</td><td>4600</td></tr><tr><td>2020-08-01</td><td>Nordeste</td><td>4089</td></tr><tr><td>2020-09-01</td><td>Nordeste</td><td>5023</td></tr><tr><td>2020-10-01</td><td>Nordeste</td><td>5561</td></tr><tr><td>2020-11-01</td><td>Nordeste</td><td>5994</td></tr><tr><td>2020-12-01</td><td>Nordeste</td><td>6609</td></tr><tr><td>2021-01-01</td><td>Nordeste</td><td>3224</td></tr><tr><td>2021-02-01</td><td>Nordeste</td><td>2933</td></tr><tr><td>2021-03-01</td><td>Nordeste</td><td>2836</td></tr><tr><td>2021-04-01</td><td>Nordeste</td><td>3439</td></tr><tr><td>2021-05-01</td><td>Nordeste</td><td>3324</td></tr><tr><td>2021-06-01</td><td>Nordeste</td><td>3016</td></tr><tr><td>2021-07-01</td><td>Nordeste</td><td>2734</td></tr><tr><td>2021-08-01</td><td>Nordeste</td><td>2877</td></tr><tr><td>2021-09-01</td><td>Nordeste</td><td>4128</td></tr><tr><td>2021-10-01</td><td>Nordeste</td><td>3209</td></tr><tr><td>2021-11-01</td><td>Nordeste</td><td>3427</td></tr><tr><td>2021-12-01</td><td>Nordeste</td><td>3164</td></tr><tr><td>2022-01-01</td><td>Nordeste</td><td>4748</td></tr><tr><td>2022-02-01</td><td>Nordeste</td><td>6173</td></tr><tr><td>2022-03-01</td><td>Nordeste</td><td>5674</td></tr><tr><td>2022-04-01</td><td>Nordeste</td><td>4762</td></tr><tr><td>2022-05-01</td><td>Nordeste</td><td>3719</td></tr><tr><td>2022-06-01</td><td>Nordeste</td><td>3613</td></tr><tr><td>2022-07-01</td><td>Nordeste</td><td>5235</td></tr><tr><td>2022-08-01</td><td>Nordeste</td><td>5736</td></tr><tr><td>2022-09-01</td><td>Nordeste</td><td>3900</td></tr><tr><td>2022-10-01</td><td>Nordeste</td><td>3625</td></tr><tr><td>2022-11-01</td><td>Nordeste</td><td>5041</td></tr><tr><td>2022-12-01</td><td>Nordeste</td><td>5763</td></tr></tbody></table></div>"
      ]
     },
     "metadata": {
      "application/vnd.databricks.v1+output": {
       "addedWidgets": {},
       "aggData": [],
       "aggError": "",
       "aggOverflow": false,
       "aggSchema": [],
       "aggSeriesLimitReached": false,
       "aggType": "",
       "arguments": {},
       "columnCustomDisplayInfos": {},
       "data": [
        [
         null,
         "Sul",
         750476
        ],
        [
         "2010-01-01",
         "Sul",
         8337
        ],
        [
         "2010-02-01",
         "Sul",
         9238
        ],
        [
         "2010-03-01",
         "Sul",
         8834
        ],
        [
         "2010-04-01",
         "Sul",
         8337
        ],
        [
         "2010-05-01",
         "Sul",
         9017
        ],
        [
         "2010-06-01",
         "Sul",
         9623
        ],
        [
         "2010-07-01",
         "Sul",
         9699
        ],
        [
         "2010-08-01",
         "Sul",
         9390
        ],
        [
         "2010-09-01",
         "Sul",
         7862
        ],
        [
         "2010-10-01",
         "Sul",
         8207
        ],
        [
         "2010-11-01",
         "Sul",
         6971
        ],
        [
         "2010-12-01",
         "Sul",
         8432
        ],
        [
         "2011-01-01",
         "Sul",
         8904
        ],
        [
         "2011-02-01",
         "Sul",
         11415
        ],
        [
         "2011-03-01",
         "Sul",
         10031
        ],
        [
         "2011-04-01",
         "Sul",
         9225
        ],
        [
         "2011-05-01",
         "Sul",
         8754
        ],
        [
         "2011-06-01",
         "Sul",
         8053
        ],
        [
         "2011-07-01",
         "Sul",
         11006
        ],
        [
         "2011-08-01",
         "Sul",
         11882
        ],
        [
         "2011-09-01",
         "Sul",
         11327
        ],
        [
         "2011-10-01",
         "Sul",
         10810
        ],
        [
         "2011-11-01",
         "Sul",
         10054
        ],
        [
         "2011-12-01",
         "Sul",
         6590
        ],
        [
         "2012-01-01",
         "Sul",
         5028
        ],
        [
         "2012-02-01",
         "Sul",
         7464
        ],
        [
         "2012-03-01",
         "Sul",
         6704
        ],
        [
         "2012-04-01",
         "Sul",
         2997
        ],
        [
         "2012-05-01",
         "Sul",
         2482
        ],
        [
         "2012-06-01",
         "Sul",
         6447
        ],
        [
         "2012-07-01",
         "Sul",
         7671
        ],
        [
         "2012-08-01",
         "Sul",
         8783
        ],
        [
         "2012-09-01",
         "Sul",
         7656
        ],
        [
         "2012-10-01",
         "Sul",
         7469
        ],
        [
         "2012-11-01",
         "Sul",
         5178
        ],
        [
         "2012-12-01",
         "Sul",
         4437
        ],
        [
         "2013-01-01",
         "Sul",
         6742
        ],
        [
         "2013-02-01",
         "Sul",
         6835
        ],
        [
         "2013-03-01",
         "Sul",
         7629
        ],
        [
         "2013-04-01",
         "Sul",
         7642
        ],
        [
         "2013-05-01",
         "Sul",
         5913
        ],
        [
         "2013-06-01",
         "Sul",
         7493
        ],
        [
         "2013-07-01",
         "Sul",
         9453
        ],
        [
         "2013-08-01",
         "Sul",
         11354
        ],
        [
         "2013-09-01",
         "Sul",
         11470
        ],
        [
         "2013-10-01",
         "Sul",
         11848
        ],
        [
         "2013-11-01",
         "Sul",
         10741
        ],
        [
         "2013-12-01",
         "Sul",
         9138
        ],
        [
         "2014-01-01",
         "Sul",
         10004
        ],
        [
         "2014-02-01",
         "Sul",
         8828
        ],
        [
         "2014-03-01",
         "Sul",
         8733
        ],
        [
         "2014-04-01",
         "Sul",
         8421
        ],
        [
         "2014-05-01",
         "Sul",
         8558
        ],
        [
         "2014-06-01",
         "Sul",
         11410
        ],
        [
         "2014-07-01",
         "Sul",
         11875
        ],
        [
         "2014-08-01",
         "Sul",
         9573
        ],
        [
         "2014-09-01",
         "Sul",
         10975
        ],
        [
         "2014-10-01",
         "Sul",
         11358
        ],
        [
         "2014-11-01",
         "Sul",
         11389
        ],
        [
         "2014-12-01",
         "Sul",
         8479
        ],
        [
         "2015-01-01",
         "Sul",
         13251
        ],
        [
         "2015-02-01",
         "Sul",
         12494
        ],
        [
         "2015-03-01",
         "Sul",
         9875
        ],
        [
         "2015-04-01",
         "Sul",
         7773
        ],
        [
         "2015-05-01",
         "Sul",
         5925
        ],
        [
         "2015-06-01",
         "Sul",
         8088
        ],
        [
         "2015-07-01",
         "Sul",
         11480
        ],
        [
         "2015-08-01",
         "Sul",
         11474
        ],
        [
         "2015-09-01",
         "Sul",
         11100
        ],
        [
         "2015-10-01",
         "Sul",
         12263
        ],
        [
         "2015-11-01",
         "Sul",
         12308
        ],
        [
         "2015-12-01",
         "Sul",
         13195
        ],
        [
         "2016-01-01",
         "Sul",
         11458
        ],
        [
         "2016-02-01",
         "Sul",
         12133
        ],
        [
         "2016-03-01",
         "Sul",
         11865
        ],
        [
         "2016-04-01",
         "Sul",
         10896
        ],
        [
         "2016-05-01",
         "Sul",
         9991
        ],
        [
         "2016-06-01",
         "Sul",
         9720
        ],
        [
         "2016-07-01",
         "Sul",
         10271
        ],
        [
         "2016-08-01",
         "Sul",
         10569
        ],
        [
         "2016-09-01",
         "Sul",
         10617
        ],
        [
         "2016-10-01",
         "Sul",
         10006
        ],
        [
         "2016-11-01",
         "Sul",
         9775
        ],
        [
         "2016-12-01",
         "Sul",
         9442
        ],
        [
         "2017-01-01",
         "Sul",
         11229
        ],
        [
         "2017-02-01",
         "Sul",
         10079
        ],
        [
         "2017-03-01",
         "Sul",
         7593
        ],
        [
         "2017-04-01",
         "Sul",
         5467
        ],
        [
         "2017-05-01",
         "Sul",
         5820
        ],
        [
         "2017-06-01",
         "Sul",
         10570
        ],
        [
         "2017-07-01",
         "Sul",
         8771
        ],
        [
         "2017-08-01",
         "Sul",
         7958
        ],
        [
         "2017-09-01",
         "Sul",
         6679
        ],
        [
         "2017-10-01",
         "Sul",
         8199
        ],
        [
         "2017-11-01",
         "Sul",
         9414
        ],
        [
         "2017-12-01",
         "Sul",
         7286
        ],
        [
         "2018-01-01",
         "Sul",
         8954
        ],
        [
         "2018-02-01",
         "Sul",
         9128
        ],
        [
         "2018-03-01",
         "Sul",
         8067
        ],
        [
         "2018-04-01",
         "Sul",
         7268
        ],
        [
         "2018-05-01",
         "Sul",
         5550
        ],
        [
         "2018-06-01",
         "Sul",
         5249
        ],
        [
         "2018-07-01",
         "Sul",
         7003
        ],
        [
         "2018-08-01",
         "Sul",
         6518
        ],
        [
         "2018-09-01",
         "Sul",
         9243
        ],
        [
         "2018-10-01",
         "Sul",
         10546
        ],
        [
         "2018-11-01",
         "Sul",
         11233
        ],
        [
         "2018-12-01",
         "Sul",
         8491
        ],
        [
         "2019-01-01",
         "Sul",
         10502
        ],
        [
         "2019-02-01",
         "Sul",
         8014
        ],
        [
         "2019-03-01",
         "Sul",
         8524
        ],
        [
         "2019-04-01",
         "Sul",
         7667
        ],
        [
         "2019-05-01",
         "Sul",
         8135
        ],
        [
         "2019-06-01",
         "Sul",
         8979
        ],
        [
         "2019-07-01",
         "Sul",
         9406
        ],
        [
         "2019-08-01",
         "Sul",
         7353
        ],
        [
         "2019-09-01",
         "Sul",
         5864
        ],
        [
         "2019-10-01",
         "Sul",
         6125
        ],
        [
         "2019-11-01",
         "Sul",
         9407
        ],
        [
         "2019-12-01",
         "Sul",
         5904
        ],
        [
         "2020-01-01",
         "Sul",
         4775
        ],
        [
         "2020-02-01",
         "Sul",
         3590
        ],
        [
         "2020-03-01",
         "Sul",
         2182
        ],
        [
         "2020-04-01",
         "Sul",
         1211
        ],
        [
         "2020-05-01",
         "Sul",
         832
        ],
        [
         "2020-06-01",
         "Sul",
         2771
        ],
        [
         "2020-07-01",
         "Sul",
         8332
        ],
        [
         "2020-08-01",
         "Sul",
         9185
        ],
        [
         "2020-09-01",
         "Sul",
         9703
        ],
        [
         "2020-10-01",
         "Sul",
         6127
        ],
        [
         "2020-11-01",
         "Sul",
         3094
        ],
        [
         "2020-12-01",
         "Sul",
         5199
        ],
        [
         "2021-01-01",
         "Sul",
         7182
        ],
        [
         "2021-02-01",
         "Sul",
         7662
        ],
        [
         "2021-03-01",
         "Sul",
         6104
        ],
        [
         "2021-04-01",
         "Sul",
         3246
        ],
        [
         "2021-05-01",
         "Sul",
         2227
        ],
        [
         "2021-06-01",
         "Sul",
         4985
        ],
        [
         "2021-07-01",
         "Sul",
         8203
        ],
        [
         "2021-08-01",
         "Sul",
         7311
        ],
        [
         "2021-09-01",
         "Sul",
         7591
        ],
        [
         "2021-10-01",
         "Sul",
         8248
        ],
        [
         "2021-11-01",
         "Sul",
         5332
        ],
        [
         "2021-12-01",
         "Sul",
         4395
        ],
        [
         "2022-01-01",
         "Sul",
         4544
        ],
        [
         "2022-02-01",
         "Sul",
         4186
        ],
        [
         "2022-03-01",
         "Sul",
         3803
        ],
        [
         "2022-04-01",
         "Sul",
         6453
        ],
        [
         "2022-05-01",
         "Sul",
         9181
        ],
        [
         "2022-06-01",
         "Sul",
         13542
        ],
        [
         "2022-07-01",
         "Sul",
         12323
        ],
        [
         "2022-08-01",
         "Sul",
         10965
        ],
        [
         "2022-09-01",
         "Sul",
         11514
        ],
        [
         "2022-10-01",
         "Sul",
         11720
        ],
        [
         "2022-11-01",
         "Sul",
         10693
        ],
        [
         "2022-12-01",
         "Sul",
         7925
        ],
        [
         null,
         "Sudeste/Centro-Oeste",
         3798224
        ],
        [
         "2010-01-01",
         "Sudeste/Centro-Oeste",
         32153
        ],
        [
         "2010-02-01",
         "Sudeste/Centro-Oeste",
         31832
        ],
        [
         "2010-03-01",
         "Sudeste/Centro-Oeste",
         31912
        ],
        [
         "2010-04-01",
         "Sudeste/Centro-Oeste",
         30699
        ],
        [
         "2010-05-01",
         "Sudeste/Centro-Oeste",
         29070
        ],
        [
         "2010-06-01",
         "Sudeste/Centro-Oeste",
         28705
        ],
        [
         "2010-07-01",
         "Sudeste/Centro-Oeste",
         30252
        ],
        [
         "2010-08-01",
         "Sudeste/Centro-Oeste",
         29279
        ],
        [
         "2010-09-01",
         "Sudeste/Centro-Oeste",
         30409
        ],
        [
         "2010-10-01",
         "Sudeste/Centro-Oeste",
         30767
        ],
        [
         "2010-11-01",
         "Sudeste/Centro-Oeste",
         33236
        ],
        [
         "2010-12-01",
         "Sudeste/Centro-Oeste",
         32967
        ],
        [
         "2011-01-01",
         "Sudeste/Centro-Oeste",
         33293
        ],
        [
         "2011-02-01",
         "Sudeste/Centro-Oeste",
         31723
        ],
        [
         "2011-03-01",
         "Sudeste/Centro-Oeste",
         31566
        ],
        [
         "2011-04-01",
         "Sudeste/Centro-Oeste",
         31474
        ],
        [
         "2011-05-01",
         "Sudeste/Centro-Oeste",
         30076
        ],
        [
         "2011-06-01",
         "Sudeste/Centro-Oeste",
         31222
        ],
        [
         "2011-07-01",
         "Sudeste/Centro-Oeste",
         30684
        ],
        [
         "2011-08-01",
         "Sudeste/Centro-Oeste",
         31327
        ],
        [
         "2011-09-01",
         "Sudeste/Centro-Oeste",
         31080
        ],
        [
         "2011-10-01",
         "Sudeste/Centro-Oeste",
         30910
        ],
        [
         "2011-11-01",
         "Sudeste/Centro-Oeste",
         32825
        ],
        [
         "2011-12-01",
         "Sudeste/Centro-Oeste",
         34490
        ],
        [
         "2012-01-01",
         "Sudeste/Centro-Oeste",
         35792
        ],
        [
         "2012-02-01",
         "Sudeste/Centro-Oeste",
         36463
        ],
        [
         "2012-03-01",
         "Sudeste/Centro-Oeste",
         37169
        ],
        [
         "2012-04-01",
         "Sudeste/Centro-Oeste",
         34893
        ],
        [
         "2012-05-01",
         "Sudeste/Centro-Oeste",
         35159
        ],
        [
         "2012-06-01",
         "Sudeste/Centro-Oeste",
         33470
        ],
        [
         "2012-07-01",
         "Sudeste/Centro-Oeste",
         33801
        ],
        [
         "2012-08-01",
         "Sudeste/Centro-Oeste",
         33430
        ],
        [
         "2012-09-01",
         "Sudeste/Centro-Oeste",
         32501
        ],
        [
         "2012-10-01",
         "Sudeste/Centro-Oeste",
         33366
        ],
        [
         "2012-11-01",
         "Sudeste/Centro-Oeste",
         32919
        ],
        [
         "2012-12-01",
         "Sudeste/Centro-Oeste",
         33247
        ],
        [
         "2013-01-01",
         "Sudeste/Centro-Oeste",
         30082
        ],
        [
         "2013-02-01",
         "Sudeste/Centro-Oeste",
         31597
        ],
        [
         "2013-03-01",
         "Sudeste/Centro-Oeste",
         29925
        ],
        [
         "2013-04-01",
         "Sudeste/Centro-Oeste",
         28708
        ],
        [
         "2013-05-01",
         "Sudeste/Centro-Oeste",
         28012
        ],
        [
         "2013-06-01",
         "Sudeste/Centro-Oeste",
         29091
        ],
        [
         "2013-07-01",
         "Sudeste/Centro-Oeste",
         29552
        ],
        [
         "2013-08-01",
         "Sudeste/Centro-Oeste",
         29073
        ],
        [
         "2013-09-01",
         "Sudeste/Centro-Oeste",
         29156
        ],
        [
         "2013-10-01",
         "Sudeste/Centro-Oeste",
         30060
        ],
        [
         "2013-11-01",
         "Sudeste/Centro-Oeste",
         31465
        ],
        [
         "2013-12-01",
         "Sudeste/Centro-Oeste",
         33302
        ],
        [
         "2014-01-01",
         "Sudeste/Centro-Oeste",
         32701
        ],
        [
         "2014-02-01",
         "Sudeste/Centro-Oeste",
         32808
        ],
        [
         "2014-03-01",
         "Sudeste/Centro-Oeste",
         28700
        ],
        [
         "2014-04-01",
         "Sudeste/Centro-Oeste",
         27223
        ],
        [
         "2014-05-01",
         "Sudeste/Centro-Oeste",
         23767
        ],
        [
         "2014-06-01",
         "Sudeste/Centro-Oeste",
         22794
        ],
        [
         "2014-07-01",
         "Sudeste/Centro-Oeste",
         23394
        ],
        [
         "2014-08-01",
         "Sudeste/Centro-Oeste",
         23780
        ],
        [
         "2014-09-01",
         "Sudeste/Centro-Oeste",
         24897
        ],
        [
         "2014-10-01",
         "Sudeste/Centro-Oeste",
         26714
        ],
        [
         "2014-11-01",
         "Sudeste/Centro-Oeste",
         26130
        ],
        [
         "2014-12-01",
         "Sudeste/Centro-Oeste",
         27418
        ],
        [
         "2015-01-01",
         "Sudeste/Centro-Oeste",
         27963
        ],
        [
         "2015-02-01",
         "Sudeste/Centro-Oeste",
         26648
        ],
        [
         "2015-03-01",
         "Sudeste/Centro-Oeste",
         27383
        ],
        [
         "2015-04-01",
         "Sudeste/Centro-Oeste",
         25738
        ],
        [
         "2015-05-01",
         "Sudeste/Centro-Oeste",
         24820
        ],
        [
         "2015-06-01",
         "Sudeste/Centro-Oeste",
         23446
        ],
        [
         "2015-07-01",
         "Sudeste/Centro-Oeste",
         23447
        ],
        [
         "2015-08-01",
         "Sudeste/Centro-Oeste",
         22792
        ],
        [
         "2015-09-01",
         "Sudeste/Centro-Oeste",
         23845
        ],
        [
         "2015-10-01",
         "Sudeste/Centro-Oeste",
         27167
        ],
        [
         "2015-11-01",
         "Sudeste/Centro-Oeste",
         27812
        ],
        [
         "2015-12-01",
         "Sudeste/Centro-Oeste",
         28094
        ],
        [
         "2016-01-01",
         "Sudeste/Centro-Oeste",
         31307
        ],
        [
         "2016-02-01",
         "Sudeste/Centro-Oeste",
         32191
        ],
        [
         "2016-03-01",
         "Sudeste/Centro-Oeste",
         32396
        ],
        [
         "2016-04-01",
         "Sudeste/Centro-Oeste",
         30481
        ],
        [
         "2016-05-01",
         "Sudeste/Centro-Oeste",
         29463
        ],
        [
         "2016-06-01",
         "Sudeste/Centro-Oeste",
         29854
        ],
        [
         "2016-07-01",
         "Sudeste/Centro-Oeste",
         28942
        ],
        [
         "2016-08-01",
         "Sudeste/Centro-Oeste",
         28484
        ],
        [
         "2016-09-01",
         "Sudeste/Centro-Oeste",
         27763
        ],
        [
         "2016-10-01",
         "Sudeste/Centro-Oeste",
         28567
        ],
        [
         "2016-11-01",
         "Sudeste/Centro-Oeste",
         29713
        ],
        [
         "2016-12-01",
         "Sudeste/Centro-Oeste",
         33699
        ],
        [
         "2017-01-01",
         "Sudeste/Centro-Oeste",
         35488
        ],
        [
         "2017-02-01",
         "Sudeste/Centro-Oeste",
         36464
        ],
        [
         "2017-03-01",
         "Sudeste/Centro-Oeste",
         35256
        ],
        [
         "2017-04-01",
         "Sudeste/Centro-Oeste",
         30848
        ],
        [
         "2017-05-01",
         "Sudeste/Centro-Oeste",
         29452
        ],
        [
         "2017-06-01",
         "Sudeste/Centro-Oeste",
         26952
        ],
        [
         "2017-07-01",
         "Sudeste/Centro-Oeste",
         25441
        ],
        [
         "2017-08-01",
         "Sudeste/Centro-Oeste",
         25556
        ],
        [
         "2017-09-01",
         "Sudeste/Centro-Oeste",
         26533
        ],
        [
         "2017-10-01",
         "Sudeste/Centro-Oeste",
         27372
        ],
        [
         "2017-11-01",
         "Sudeste/Centro-Oeste",
         28529
        ],
        [
         "2017-12-01",
         "Sudeste/Centro-Oeste",
         33748
        ],
        [
         "2018-01-01",
         "Sudeste/Centro-Oeste",
         35232
        ],
        [
         "2018-02-01",
         "Sudeste/Centro-Oeste",
         35339
        ],
        [
         "2018-03-01",
         "Sudeste/Centro-Oeste",
         37409
        ],
        [
         "2018-04-01",
         "Sudeste/Centro-Oeste",
         32542
        ],
        [
         "2018-05-01",
         "Sudeste/Centro-Oeste",
         28529
        ],
        [
         "2018-06-01",
         "Sudeste/Centro-Oeste",
         27288
        ],
        [
         "2018-07-01",
         "Sudeste/Centro-Oeste",
         26243
        ],
        [
         "2018-08-01",
         "Sudeste/Centro-Oeste",
         27001
        ],
        [
         "2018-09-01",
         "Sudeste/Centro-Oeste",
         24043
        ],
        [
         "2018-10-01",
         "Sudeste/Centro-Oeste",
         29546
        ],
        [
         "2018-11-01",
         "Sudeste/Centro-Oeste",
         33374
        ],
        [
         "2018-12-01",
         "Sudeste/Centro-Oeste",
         33798
        ],
        [
         "2019-01-01",
         "Sudeste/Centro-Oeste",
         35640
        ],
        [
         "2019-02-01",
         "Sudeste/Centro-Oeste",
         33635
        ],
        [
         "2019-03-01",
         "Sudeste/Centro-Oeste",
         32553
        ],
        [
         "2019-04-01",
         "Sudeste/Centro-Oeste",
         32511
        ],
        [
         "2019-05-01",
         "Sudeste/Centro-Oeste",
         28797
        ],
        [
         "2019-06-01",
         "Sudeste/Centro-Oeste",
         25904
        ],
        [
         "2019-07-01",
         "Sudeste/Centro-Oeste",
         24486
        ],
        [
         "2019-08-01",
         "Sudeste/Centro-Oeste",
         24562
        ],
        [
         "2019-09-01",
         "Sudeste/Centro-Oeste",
         28383
        ],
        [
         "2019-10-01",
         "Sudeste/Centro-Oeste",
         29734
        ],
        [
         "2019-11-01",
         "Sudeste/Centro-Oeste",
         27772
        ],
        [
         "2019-12-01",
         "Sudeste/Centro-Oeste",
         33235
        ],
        [
         "2020-01-01",
         "Sudeste/Centro-Oeste",
         36691
        ],
        [
         "2020-02-01",
         "Sudeste/Centro-Oeste",
         37605
        ],
        [
         "2020-03-01",
         "Sudeste/Centro-Oeste",
         35709
        ],
        [
         "2020-04-01",
         "Sudeste/Centro-Oeste",
         30220
        ],
        [
         "2020-05-01",
         "Sudeste/Centro-Oeste",
         28533
        ],
        [
         "2020-06-01",
         "Sudeste/Centro-Oeste",
         26967
        ],
        [
         "2020-07-01",
         "Sudeste/Centro-Oeste",
         27236
        ],
        [
         "2020-08-01",
         "Sudeste/Centro-Oeste",
         26690
        ],
        [
         "2020-09-01",
         "Sudeste/Centro-Oeste",
         28789
        ],
        [
         "2020-10-01",
         "Sudeste/Centro-Oeste",
         29070
        ],
        [
         "2020-11-01",
         "Sudeste/Centro-Oeste",
         29077
        ],
        [
         "2020-12-01",
         "Sudeste/Centro-Oeste",
         29452
        ],
        [
         "2021-01-01",
         "Sudeste/Centro-Oeste",
         31355
        ],
        [
         "2021-02-01",
         "Sudeste/Centro-Oeste",
         32804
        ],
        [
         "2021-03-01",
         "Sudeste/Centro-Oeste",
         29727
        ],
        [
         "2021-04-01",
         "Sudeste/Centro-Oeste",
         26514
        ],
        [
         "2021-05-01",
         "Sudeste/Centro-Oeste",
         26462
        ],
        [
         "2021-06-01",
         "Sudeste/Centro-Oeste",
         24438
        ],
        [
         "2021-07-01",
         "Sudeste/Centro-Oeste",
         19380
        ],
        [
         "2021-08-01",
         "Sudeste/Centro-Oeste",
         19085
        ],
        [
         "2021-09-01",
         "Sudeste/Centro-Oeste",
         20358
        ],
        [
         "2021-10-01",
         "Sudeste/Centro-Oeste",
         20181
        ],
        [
         "2021-11-01",
         "Sudeste/Centro-Oeste",
         25063
        ],
        [
         "2021-12-01",
         "Sudeste/Centro-Oeste",
         27511
        ],
        [
         "2022-01-01",
         "Sudeste/Centro-Oeste",
         28364
        ],
        [
         "2022-02-01",
         "Sudeste/Centro-Oeste",
         31337
        ],
        [
         "2022-03-01",
         "Sudeste/Centro-Oeste",
         34023
        ],
        [
         "2022-04-01",
         "Sudeste/Centro-Oeste",
         28466
        ],
        [
         "2022-05-01",
         "Sudeste/Centro-Oeste",
         24243
        ],
        [
         "2022-06-01",
         "Sudeste/Centro-Oeste",
         23495
        ],
        [
         "2022-07-01",
         "Sudeste/Centro-Oeste",
         22708
        ],
        [
         "2022-08-01",
         "Sudeste/Centro-Oeste",
         23983
        ],
        [
         "2022-09-01",
         "Sudeste/Centro-Oeste",
         25057
        ],
        [
         "2022-10-01",
         "Sudeste/Centro-Oeste",
         25236
        ],
        [
         "2022-11-01",
         "Sudeste/Centro-Oeste",
         30607
        ],
        [
         "2022-12-01",
         "Sudeste/Centro-Oeste",
         30662
        ],
        [
         null,
         "Norte",
         537059
        ],
        [
         "2010-01-01",
         "Norte",
         5328
        ],
        [
         "2010-02-01",
         "Norte",
         6488
        ],
        [
         "2010-03-01",
         "Norte",
         7258
        ],
        [
         "2010-04-01",
         "Norte",
         6991
        ],
        [
         "2010-05-01",
         "Norte",
         6033
        ],
        [
         "2010-06-01",
         "Norte",
         4116
        ],
        [
         "2010-07-01",
         "Norte",
         3600
        ],
        [
         "2010-08-01",
         "Norte",
         3169
        ],
        [
         "2010-09-01",
         "Norte",
         2652
        ],
        [
         "2010-10-01",
         "Norte",
         2028
        ],
        [
         "2010-11-01",
         "Norte",
         2217
        ],
        [
         "2010-12-01",
         "Norte",
         2423
        ],
        [
         "2011-01-01",
         "Norte",
         5020
        ],
        [
         "2011-02-01",
         "Norte",
         6311
        ],
        [
         "2011-03-01",
         "Norte",
         6262
        ],
        [
         "2011-04-01",
         "Norte",
         6926
        ],
        [
         "2011-05-01",
         "Norte",
         7171
        ],
        [
         "2011-06-01",
         "Norte",
         5137
        ],
        [
         "2011-07-01",
         "Norte",
         3204
        ],
        [
         "2011-08-01",
         "Norte",
         3786
        ],
        [
         "2011-09-01",
         "Norte",
         3962
        ],
        [
         "2011-10-01",
         "Norte",
         3031
        ],
        [
         "2011-11-01",
         "Norte",
         2618
        ],
        [
         "2011-12-01",
         "Norte",
         5164
        ],
        [
         "2012-01-01",
         "Norte",
         6272
        ],
        [
         "2012-02-01",
         "Norte",
         6892
        ],
        [
         "2012-03-01",
         "Norte",
         7530
        ],
        [
         "2012-04-01",
         "Norte",
         7821
        ],
        [
         "2012-05-01",
         "Norte",
         6187
        ],
        [
         "2012-06-01",
         "Norte",
         4215
        ],
        [
         "2012-07-01",
         "Norte",
         4273
        ],
        [
         "2012-08-01",
         "Norte",
         3819
        ],
        [
         "2012-09-01",
         "Norte",
         3210
        ],
        [
         "2012-10-01",
         "Norte",
         2520
        ],
        [
         "2012-11-01",
         "Norte",
         2531
        ],
        [
         "2012-12-01",
         "Norte",
         4131
        ],
        [
         "2013-01-01",
         "Norte",
         4985
        ],
        [
         "2013-02-01",
         "Norte",
         7219
        ],
        [
         "2013-03-01",
         "Norte",
         7899
        ],
        [
         "2013-04-01",
         "Norte",
         8009
        ],
        [
         "2013-05-01",
         "Norte",
         7895
        ],
        [
         "2013-06-01",
         "Norte",
         4333
        ],
        [
         "2013-07-01",
         "Norte",
         3773
        ],
        [
         "2013-08-01",
         "Norte",
         3583
        ],
        [
         "2013-09-01",
         "Norte",
         4008
        ],
        [
         "2013-10-01",
         "Norte",
         3522
        ],
        [
         "2013-11-01",
         "Norte",
         2836
        ],
        [
         "2013-12-01",
         "Norte",
         3645
        ],
        [
         "2014-01-01",
         "Norte",
         7266
        ],
        [
         "2014-02-01",
         "Norte",
         7759
        ],
        [
         "2014-03-01",
         "Norte",
         7613
        ],
        [
         "2014-04-01",
         "Norte",
         7846
        ],
        [
         "2014-05-01",
         "Norte",
         7768
        ],
        [
         "2014-06-01",
         "Norte",
         4439
        ],
        [
         "2014-07-01",
         "Norte",
         3459
        ],
        [
         "2014-08-01",
         "Norte",
         4335
        ],
        [
         "2014-09-01",
         "Norte",
         4580
        ],
        [
         "2014-10-01",
         "Norte",
         2884
        ],
        [
         "2014-11-01",
         "Norte",
         2963
        ],
        [
         "2014-12-01",
         "Norte",
         3625
        ],
        [
         "2015-01-01",
         "Norte",
         5247
        ],
        [
         "2015-02-01",
         "Norte",
         6108
        ],
        [
         "2015-03-01",
         "Norte",
         7094
        ],
        [
         "2015-04-01",
         "Norte",
         8238
        ],
        [
         "2015-05-01",
         "Norte",
         8334
        ],
        [
         "2015-06-01",
         "Norte",
         5759
        ],
        [
         "2015-07-01",
         "Norte",
         3679
        ],
        [
         "2015-08-01",
         "Norte",
         3814
        ],
        [
         "2015-09-01",
         "Norte",
         4884
        ],
        [
         "2015-10-01",
         "Norte",
         3031
        ],
        [
         "2015-11-01",
         "Norte",
         2270
        ],
        [
         "2015-12-01",
         "Norte",
         2055
        ],
        [
         "2016-01-01",
         "Norte",
         2988
        ],
        [
         "2016-02-01",
         "Norte",
         6152
        ],
        [
         "2016-03-01",
         "Norte",
         6292
        ],
        [
         "2016-04-01",
         "Norte",
         7246
        ],
        [
         "2016-05-01",
         "Norte",
         4975
        ],
        [
         "2016-06-01",
         "Norte",
         3473
        ],
        [
         "2016-07-01",
         "Norte",
         2948
        ],
        [
         "2016-08-01",
         "Norte",
         2601
        ],
        [
         "2016-09-01",
         "Norte",
         2388
        ],
        [
         "2016-10-01",
         "Norte",
         2692
        ],
        [
         "2016-11-01",
         "Norte",
         3452
        ],
        [
         "2016-12-01",
         "Norte",
         4639
        ],
        [
         "2017-01-01",
         "Norte",
         5396
        ],
        [
         "2017-02-01",
         "Norte",
         8368
        ],
        [
         "2017-03-01",
         "Norte",
         9659
        ],
        [
         "2017-04-01",
         "Norte",
         8683
        ],
        [
         "2017-05-01",
         "Norte",
         8350
        ],
        [
         "2017-06-01",
         "Norte",
         6050
        ],
        [
         "2017-07-01",
         "Norte",
         3703
        ],
        [
         "2017-08-01",
         "Norte",
         2976
        ],
        [
         "2017-09-01",
         "Norte",
         4217
        ],
        [
         "2017-10-01",
         "Norte",
         2797
        ],
        [
         "2017-11-01",
         "Norte",
         2625
        ],
        [
         "2017-12-01",
         "Norte",
         4553
        ],
        [
         "2018-01-01",
         "Norte",
         7095
        ],
        [
         "2018-02-01",
         "Norte",
         8949
        ],
        [
         "2018-03-01",
         "Norte",
         9522
        ],
        [
         "2018-04-01",
         "Norte",
         10605
        ],
        [
         "2018-05-01",
         "Norte",
         10125
        ],
        [
         "2018-06-01",
         "Norte",
         6985
        ],
        [
         "2018-07-01",
         "Norte",
         4181
        ],
        [
         "2018-08-01",
         "Norte",
         4153
        ],
        [
         "2018-09-01",
         "Norte",
         3800
        ],
        [
         "2018-10-01",
         "Norte",
         3935
        ],
        [
         "2018-11-01",
         "Norte",
         4104
        ],
        [
         "2018-12-01",
         "Norte",
         9687
        ],
        [
         "2019-01-01",
         "Norte",
         10063
        ],
        [
         "2019-02-01",
         "Norte",
         12357
        ],
        [
         "2019-03-01",
         "Norte",
         11806
        ],
        [
         "2019-04-01",
         "Norte",
         11581
        ],
        [
         "2019-05-01",
         "Norte",
         11211
        ],
        [
         "2019-06-01",
         "Norte",
         7831
        ],
        [
         "2019-07-01",
         "Norte",
         4608
        ],
        [
         "2019-08-01",
         "Norte",
         3522
        ],
        [
         "2019-09-01",
         "Norte",
         4179
        ],
        [
         "2019-10-01",
         "Norte",
         4480
        ],
        [
         "2019-11-01",
         "Norte",
         3857
        ],
        [
         "2019-12-01",
         "Norte",
         5216
        ],
        [
         "2020-01-01",
         "Norte",
         8269
        ],
        [
         "2020-02-01",
         "Norte",
         12713
        ],
        [
         "2020-03-01",
         "Norte",
         15327
        ],
        [
         "2020-04-01",
         "Norte",
         10977
        ],
        [
         "2020-05-01",
         "Norte",
         10725
        ],
        [
         "2020-06-01",
         "Norte",
         9575
        ],
        [
         "2020-07-01",
         "Norte",
         4948
        ],
        [
         "2020-08-01",
         "Norte",
         4236
        ],
        [
         "2020-09-01",
         "Norte",
         4384
        ],
        [
         "2020-10-01",
         "Norte",
         4444
        ],
        [
         "2020-11-01",
         "Norte",
         3523
        ],
        [
         "2020-12-01",
         "Norte",
         3926
        ],
        [
         "2021-01-01",
         "Norte",
         6125
        ],
        [
         "2021-02-01",
         "Norte",
         10608
        ],
        [
         "2021-03-01",
         "Norte",
         16673
        ],
        [
         "2021-04-01",
         "Norte",
         15971
        ],
        [
         "2021-05-01",
         "Norte",
         13441
        ],
        [
         "2021-06-01",
         "Norte",
         6666
        ],
        [
         "2021-07-01",
         "Norte",
         4209
        ],
        [
         "2021-08-01",
         "Norte",
         3717
        ],
        [
         "2021-09-01",
         "Norte",
         3601
        ],
        [
         "2021-10-01",
         "Norte",
         4286
        ],
        [
         "2021-11-01",
         "Norte",
         7741
        ],
        [
         "2021-12-01",
         "Norte",
         11935
        ],
        [
         "2022-01-01",
         "Norte",
         15406
        ],
        [
         "2022-02-01",
         "Norte",
         15408
        ],
        [
         "2022-03-01",
         "Norte",
         14929
        ],
        [
         "2022-04-01",
         "Norte",
         15347
        ],
        [
         "2022-05-01",
         "Norte",
         13222
        ],
        [
         "2022-06-01",
         "Norte",
         7809
        ],
        [
         "2022-07-01",
         "Norte",
         5286
        ],
        [
         "2022-08-01",
         "Norte",
         3445
        ],
        [
         "2022-09-01",
         "Norte",
         3854
        ],
        [
         "2022-10-01",
         "Norte",
         4495
        ],
        [
         "2022-11-01",
         "Norte",
         4411
        ],
        [
         "2022-12-01",
         "Norte",
         8311
        ],
        [
         null,
         "Nordeste",
         736220
        ],
        [
         "2010-01-01",
         "Nordeste",
         5721
        ],
        [
         "2010-02-01",
         "Nordeste",
         5997
        ],
        [
         "2010-03-01",
         "Nordeste",
         5722
        ],
        [
         "2010-04-01",
         "Nordeste",
         4868
        ],
        [
         "2010-05-01",
         "Nordeste",
         4712
        ],
        [
         "2010-06-01",
         "Nordeste",
         4292
        ],
        [
         "2010-07-01",
         "Nordeste",
         4679
        ],
        [
         "2010-08-01",
         "Nordeste",
         4522
        ],
        [
         "2010-09-01",
         "Nordeste",
         5030
        ],
        [
         "2010-10-01",
         "Nordeste",
         5720
        ],
        [
         "2010-11-01",
         "Nordeste",
         5251
        ],
        [
         "2010-12-01",
         "Nordeste",
         6055
        ],
        [
         "2011-01-01",
         "Nordeste",
         5707
        ],
        [
         "2011-02-01",
         "Nordeste",
         5851
        ],
        [
         "2011-03-01",
         "Nordeste",
         5751
        ],
        [
         "2011-04-01",
         "Nordeste",
         5605
        ],
        [
         "2011-05-01",
         "Nordeste",
         4645
        ],
        [
         "2011-06-01",
         "Nordeste",
         5074
        ],
        [
         "2011-07-01",
         "Nordeste",
         5329
        ],
        [
         "2011-08-01",
         "Nordeste",
         5731
        ],
        [
         "2011-09-01",
         "Nordeste",
         6242
        ],
        [
         "2011-10-01",
         "Nordeste",
         6782
        ],
        [
         "2011-11-01",
         "Nordeste",
         6194
        ],
        [
         "2011-12-01",
         "Nordeste",
         6311
        ],
        [
         "2012-01-01",
         "Nordeste",
         6987
        ],
        [
         "2012-02-01",
         "Nordeste",
         6495
        ],
        [
         "2012-03-01",
         "Nordeste",
         6941
        ],
        [
         "2012-04-01",
         "Nordeste",
         6508
        ],
        [
         "2012-05-01",
         "Nordeste",
         6062
        ],
        [
         "2012-06-01",
         "Nordeste",
         5984
        ],
        [
         "2012-07-01",
         "Nordeste",
         4941
        ],
        [
         "2012-08-01",
         "Nordeste",
         5452
        ],
        [
         "2012-09-01",
         "Nordeste",
         5511
        ],
        [
         "2012-10-01",
         "Nordeste",
         5106
        ],
        [
         "2012-11-01",
         "Nordeste",
         4570
        ],
        [
         "2012-12-01",
         "Nordeste",
         6162
        ],
        [
         "2013-01-01",
         "Nordeste",
         5149
        ],
        [
         "2013-02-01",
         "Nordeste",
         3964
        ],
        [
         "2013-03-01",
         "Nordeste",
         3865
        ],
        [
         "2013-04-01",
         "Nordeste",
         3934
        ],
        [
         "2013-05-01",
         "Nordeste",
         3487
        ],
        [
         "2013-06-01",
         "Nordeste",
         3467
        ],
        [
         "2013-07-01",
         "Nordeste",
         4019
        ],
        [
         "2013-08-01",
         "Nordeste",
         3646
        ],
        [
         "2013-09-01",
         "Nordeste",
         3739
        ],
        [
         "2013-10-01",
         "Nordeste",
         3881
        ],
        [
         "2013-11-01",
         "Nordeste",
         3661
        ],
        [
         "2013-12-01",
         "Nordeste",
         3720
        ],
        [
         "2014-01-01",
         "Nordeste",
         3701
        ],
        [
         "2014-02-01",
         "Nordeste",
         3455
        ],
        [
         "2014-03-01",
         "Nordeste",
         3502
        ],
        [
         "2014-04-01",
         "Nordeste",
         3478
        ],
        [
         "2014-05-01",
         "Nordeste",
         3367
        ],
        [
         "2014-06-01",
         "Nordeste",
         3422
        ],
        [
         "2014-07-01",
         "Nordeste",
         3307
        ],
        [
         "2014-08-01",
         "Nordeste",
         3278
        ],
        [
         "2014-09-01",
         "Nordeste",
         3299
        ],
        [
         "2014-10-01",
         "Nordeste",
         3358
        ],
        [
         "2014-11-01",
         "Nordeste",
         3375
        ],
        [
         "2014-12-01",
         "Nordeste",
         3527
        ],
        [
         "2015-01-01",
         "Nordeste",
         3372
        ],
        [
         "2015-02-01",
         "Nordeste",
         3315
        ],
        [
         "2015-03-01",
         "Nordeste",
         3422
        ],
        [
         "2015-04-01",
         "Nordeste",
         3253
        ],
        [
         "2015-05-01",
         "Nordeste",
         3413
        ],
        [
         "2015-06-01",
         "Nordeste",
         2822
        ],
        [
         "2015-07-01",
         "Nordeste",
         2801
        ],
        [
         "2015-08-01",
         "Nordeste",
         2877
        ],
        [
         "2015-09-01",
         "Nordeste",
         2846
        ],
        [
         "2015-10-01",
         "Nordeste",
         2794
        ],
        [
         "2015-11-01",
         "Nordeste",
         2691
        ],
        [
         "2015-12-01",
         "Nordeste",
         2635
        ],
        [
         "2016-01-01",
         "Nordeste",
         2922
        ],
        [
         "2016-02-01",
         "Nordeste",
         2758
        ],
        [
         "2016-03-01",
         "Nordeste",
         2635
        ],
        [
         "2016-04-01",
         "Nordeste",
         2433
        ],
        [
         "2016-05-01",
         "Nordeste",
         2491
        ],
        [
         "2016-06-01",
         "Nordeste",
         2430
        ],
        [
         "2016-07-01",
         "Nordeste",
         2440
        ],
        [
         "2016-08-01",
         "Nordeste",
         2447
        ],
        [
         "2016-09-01",
         "Nordeste",
         2471
        ],
        [
         "2016-10-01",
         "Nordeste",
         2507
        ],
        [
         "2016-11-01",
         "Nordeste",
         2506
        ],
        [
         "2016-12-01",
         "Nordeste",
         2388
        ],
        [
         "2017-01-01",
         "Nordeste",
         2319
        ],
        [
         "2017-02-01",
         "Nordeste",
         2310
        ],
        [
         "2017-03-01",
         "Nordeste",
         2266
        ],
        [
         "2017-04-01",
         "Nordeste",
         2167
        ],
        [
         "2017-05-01",
         "Nordeste",
         2022
        ],
        [
         "2017-06-01",
         "Nordeste",
         1653
        ],
        [
         "2017-07-01",
         "Nordeste",
         1668
        ],
        [
         "2017-08-01",
         "Nordeste",
         1664
        ],
        [
         "2017-09-01",
         "Nordeste",
         1590
        ],
        [
         "2017-10-01",
         "Nordeste",
         1548
        ],
        [
         "2017-11-01",
         "Nordeste",
         1605
        ],
        [
         "2017-12-01",
         "Nordeste",
         1766
        ],
        [
         "2018-01-01",
         "Nordeste",
         1637
        ],
        [
         "2018-02-01",
         "Nordeste",
         1882
        ],
        [
         "2018-03-01",
         "Nordeste",
         2013
        ],
        [
         "2018-04-01",
         "Nordeste",
         1820
        ],
        [
         "2018-05-01",
         "Nordeste",
         1858
        ],
        [
         "2018-06-01",
         "Nordeste",
         1863
        ],
        [
         "2018-07-01",
         "Nordeste",
         1818
        ],
        [
         "2018-08-01",
         "Nordeste",
         1790
        ],
        [
         "2018-09-01",
         "Nordeste",
         1768
        ],
        [
         "2018-10-01",
         "Nordeste",
         1955
        ],
        [
         "2018-11-01",
         "Nordeste",
         2005
        ],
        [
         "2018-12-01",
         "Nordeste",
         2258
        ],
        [
         "2019-01-01",
         "Nordeste",
         2408
        ],
        [
         "2019-02-01",
         "Nordeste",
         2208
        ],
        [
         "2019-03-01",
         "Nordeste",
         2198
        ],
        [
         "2019-04-01",
         "Nordeste",
         2499
        ],
        [
         "2019-05-01",
         "Nordeste",
         2551
        ],
        [
         "2019-06-01",
         "Nordeste",
         2432
        ],
        [
         "2019-07-01",
         "Nordeste",
         2416
        ],
        [
         "2019-08-01",
         "Nordeste",
         2446
        ],
        [
         "2019-09-01",
         "Nordeste",
         2479
        ],
        [
         "2019-10-01",
         "Nordeste",
         2769
        ],
        [
         "2019-11-01",
         "Nordeste",
         3071
        ],
        [
         "2019-12-01",
         "Nordeste",
         2553
        ],
        [
         "2020-01-01",
         "Nordeste",
         2980
        ],
        [
         "2020-02-01",
         "Nordeste",
         2966
        ],
        [
         "2020-03-01",
         "Nordeste",
         3081
        ],
        [
         "2020-04-01",
         "Nordeste",
         3924
        ],
        [
         "2020-05-01",
         "Nordeste",
         3560
        ],
        [
         "2020-06-01",
         "Nordeste",
         3767
        ],
        [
         "2020-07-01",
         "Nordeste",
         4600
        ],
        [
         "2020-08-01",
         "Nordeste",
         4089
        ],
        [
         "2020-09-01",
         "Nordeste",
         5023
        ],
        [
         "2020-10-01",
         "Nordeste",
         5561
        ],
        [
         "2020-11-01",
         "Nordeste",
         5994
        ],
        [
         "2020-12-01",
         "Nordeste",
         6609
        ],
        [
         "2021-01-01",
         "Nordeste",
         3224
        ],
        [
         "2021-02-01",
         "Nordeste",
         2933
        ],
        [
         "2021-03-01",
         "Nordeste",
         2836
        ],
        [
         "2021-04-01",
         "Nordeste",
         3439
        ],
        [
         "2021-05-01",
         "Nordeste",
         3324
        ],
        [
         "2021-06-01",
         "Nordeste",
         3016
        ],
        [
         "2021-07-01",
         "Nordeste",
         2734
        ],
        [
         "2021-08-01",
         "Nordeste",
         2877
        ],
        [
         "2021-09-01",
         "Nordeste",
         4128
        ],
        [
         "2021-10-01",
         "Nordeste",
         3209
        ],
        [
         "2021-11-01",
         "Nordeste",
         3427
        ],
        [
         "2021-12-01",
         "Nordeste",
         3164
        ],
        [
         "2022-01-01",
         "Nordeste",
         4748
        ],
        [
         "2022-02-01",
         "Nordeste",
         6173
        ],
        [
         "2022-03-01",
         "Nordeste",
         5674
        ],
        [
         "2022-04-01",
         "Nordeste",
         4762
        ],
        [
         "2022-05-01",
         "Nordeste",
         3719
        ],
        [
         "2022-06-01",
         "Nordeste",
         3613
        ],
        [
         "2022-07-01",
         "Nordeste",
         5235
        ],
        [
         "2022-08-01",
         "Nordeste",
         5736
        ],
        [
         "2022-09-01",
         "Nordeste",
         3900
        ],
        [
         "2022-10-01",
         "Nordeste",
         3625
        ],
        [
         "2022-11-01",
         "Nordeste",
         5041
        ],
        [
         "2022-12-01",
         "Nordeste",
         5763
        ]
       ],
       "datasetInfos": [],
       "dbfsResultPath": null,
       "isJsonSchema": true,
       "metadata": {},
       "overflow": false,
       "plotOptions": {
        "customPlotOptions": {},
        "displayType": "table",
        "pivotAggregation": null,
        "pivotColumns": null,
        "xColumns": null,
        "yColumns": null
       },
       "removedWidgets": [],
       "schema": [
        {
         "metadata": "{}",
         "name": "Data",
         "type": "\"date\""
        },
        {
         "metadata": "{}",
         "name": "Subsistema",
         "type": "\"string\""
        },
        {
         "metadata": "{}",
         "name": "Geração_De_Energia(Mwmedio)",
         "type": "\"integer\""
        }
       ],
       "type": "table"
      }
     },
     "output_type": "display_data"
    }
   ],
   "source": [
    "#Verificando se o problema com a data foi resolvido\n",
    "display(df_pergunta_2_spark)"
   ]
  },
  {
   "cell_type": "code",
   "execution_count": 0,
   "metadata": {
    "application/vnd.databricks.v1+cell": {
     "cellMetadata": {
      "byteLimit": 2048000,
      "rowLimit": 10000
     },
     "inputWidgets": {},
     "nuid": "e16ad2f4-5794-4a21-92e1-87ae0826b3d8",
     "showTitle": false,
     "title": ""
    }
   },
   "outputs": [],
   "source": [
    "# Converte o DataFrame do PySpark em um DataFrame do Pandas\n",
    "df_pergunta_2 = df_pergunta_2_spark.toPandas()"
   ]
  },
  {
   "cell_type": "code",
   "execution_count": 0,
   "metadata": {
    "application/vnd.databricks.v1+cell": {
     "cellMetadata": {
      "byteLimit": 2048000,
      "rowLimit": 10000
     },
     "inputWidgets": {},
     "nuid": "4334d2ce-f709-45be-aea4-fc7b0383a02a",
     "showTitle": false,
     "title": ""
    }
   },
   "outputs": [],
   "source": [
    "#Removendo as linhas que realizavam a soma e deixando somente valores mensais de geração.\n",
    "df_pergunta_2 = df_pergunta_2.dropna(subset=['Data'])"
   ]
  },
  {
   "cell_type": "markdown",
   "metadata": {
    "application/vnd.databricks.v1+cell": {
     "cellMetadata": {
      "byteLimit": 2048000,
      "rowLimit": 10000
     },
     "inputWidgets": {},
     "nuid": "d48306eb-d0ba-4559-b376-1a47bbf76619",
     "showTitle": false,
     "title": ""
    }
   },
   "source": [
    "**Solução Pergunta 02** - Utilize algum componente gráfico para descrever o comportamento geração de energia por subsistema ao longo dos anos e comente."
   ]
  },
  {
   "cell_type": "code",
   "execution_count": 0,
   "metadata": {
    "application/vnd.databricks.v1+cell": {
     "cellMetadata": {
      "byteLimit": 2048000,
      "rowLimit": 10000
     },
     "inputWidgets": {},
     "nuid": "f9496862-4190-46a6-9b1a-f5e72d31fdff",
     "showTitle": false,
     "title": ""
    }
   },
   "outputs": [
    {
     "output_type": "display_data",
     "data": {
      "image/png": "[encoded data removed]",
      "text/plain": [
       "<Figure size 1000x600 with 1 Axes>"
      ]
     },
     "metadata": {},
     "output_type": "display_data"
    }
   ],
   "source": [
    "# Agrupe os dados por \"Subsistema\"\n",
    "grupos = df_pergunta_2.groupby('Subsistema')\n",
    "\n",
    "# Crie um gráfico de linhas para cada grupo (subsistema)\n",
    "plt.figure(figsize=(10, 6))  # Defina o tamanho da figura\n",
    "\n",
    "for nome_grupo, grupo in grupos:\n",
    "    plt.plot(grupo['Data'], grupo['Geração_De_Energia(Mwmedio)'], label=nome_grupo, linestyle='-')\n",
    "\n",
    "# Adicione rótulos aos eixos e um título ao gráfico\n",
    "plt.xlabel('Data')\n",
    "plt.ylabel('Geração_De_Energia(MWmédio)')\n",
    "plt.title('Gráfico de Geraçâo de Energia Hidrelétrica por Subsistema')\n",
    "\n",
    "# Adicione uma legenda para as linhas (subsistemas)\n",
    "plt.legend()\n",
    "\n",
    "# Rotacione os rótulos do eixo x para melhorar a legibilidade, se necessário\n",
    "plt.xticks(rotation=45)\n",
    "\n",
    "# Exiba o gráfico\n",
    "plt.grid(True)  # Adicione uma grade ao gráfico\n",
    "plt.tight_layout()  # Ajuste automaticamente os espaçamentos para evitar cortes de rótulos\n",
    "plt.show()"
   ]
  },
  {
   "cell_type": "markdown",
   "metadata": {
    "application/vnd.databricks.v1+cell": {
     "cellMetadata": {
      "byteLimit": 2048000,
      "rowLimit": 10000
     },
     "inputWidgets": {},
     "nuid": "e6397966-b74d-41ca-87b1-ad580eb2db43",
     "showTitle": false,
     "title": ""
    }
   },
   "source": [
    "Com o gráfico acima, é possível afirmar que o subsistema Sudeste/Centro Oeste é o que ao longo do tempo mais gerou e gera energia no Brasil, sendo o subsistema de maior importância para o país, lembrando que a usina Hidrelétrica de Itaipu está presente neste subsistema. \n",
    "\n",
    "Também é possível perceber que uma evolução do nível de geração de energia das hidrelétricas do subsistema Norte, representado pela cor laranja que em 2021 quase igualou em termos de geração com o subsistema Sudeste/Centro-Oeste."
   ]
  },
  {
   "cell_type": "markdown",
   "metadata": {
    "application/vnd.databricks.v1+cell": {
     "cellMetadata": {
      "byteLimit": 2048000,
      "rowLimit": 10000
     },
     "inputWidgets": {},
     "nuid": "733911b6-e309-4267-87ba-8d2c52acd33e",
     "showTitle": false,
     "title": ""
    }
   },
   "source": [
    "#### 7.2.3.Solução Pergunta 03"
   ]
  },
  {
   "cell_type": "markdown",
   "metadata": {
    "application/vnd.databricks.v1+cell": {
     "cellMetadata": {
      "byteLimit": 2048000,
      "rowLimit": 10000
     },
     "inputWidgets": {},
     "nuid": "25142504-906a-4f8f-a422-172ba630df5f",
     "showTitle": false,
     "title": ""
    }
   },
   "source": [
    "**Preparação do Dataset**"
   ]
  },
  {
   "cell_type": "code",
   "execution_count": 0,
   "metadata": {
    "application/vnd.databricks.v1+cell": {
     "cellMetadata": {
      "byteLimit": 2048000,
      "rowLimit": 10000
     },
     "inputWidgets": {},
     "nuid": "9cbf9518-5fb0-4f9b-8cff-74647a6bd439",
     "showTitle": false,
     "title": ""
    }
   },
   "outputs": [],
   "source": [
    "#Será necessário juntar a informação de dois datasets para que seja possível responder a pergunta 03\n",
    "\n",
    "file_location_pergunta_3_1 = \"wasbs://hdevellard@hdevellardstorage.blob.core.windows.net/Comparativo_Capacidade_Instalada_por_subsistema_data.csv\"\n",
    "file_location_pergunta_3_2 = \"wasbs://hdevellard@hdevellardstorage.blob.core.windows.net/Comparativo_Geração_de_Energia_Semana_por_subsistema.csv\""
   ]
  },
  {
   "cell_type": "code",
   "execution_count": 0,
   "metadata": {
    "application/vnd.databricks.v1+cell": {
     "cellMetadata": {
      "byteLimit": 2048000,
      "rowLimit": 10000
     },
     "inputWidgets": {},
     "nuid": "2248c410-a74a-4381-99dd-1cc4d9685609",
     "showTitle": false,
     "title": ""
    }
   },
   "outputs": [],
   "source": [
    "df_pergunta_3_1_spark = spark.read.format(file_type).option(\"inferSchema\", \"true\").option(\"delimiter\", \";\").option(\"header\", \"true\").load(file_location_pergunta_3_1)\n",
    "df_pergunta_3_2_spark = spark.read.format(file_type).option(\"inferSchema\", \"true\").option(\"delimiter\", \";\").option(\"header\", \"true\").load(file_location_pergunta_3_2)"
   ]
  },
  {
   "cell_type": "code",
   "execution_count": 0,
   "metadata": {
    "application/vnd.databricks.v1+cell": {
     "cellMetadata": {
      "byteLimit": 2048000,
      "rowLimit": 10000
     },
     "inputWidgets": {},
     "nuid": "5ff60ba7-2051-4231-8eb9-9a27bf6cecd8",
     "showTitle": false,
     "title": ""
    }
   },
   "outputs": [],
   "source": [
    "# Converter o atributo \"Data\" para tipo de data\n",
    "df_pergunta_3_1_spark = df_pergunta_3_1_spark.withColumn(\"Data\", to_date(col(\"Data\"), \"dd/MM/yyyy\"))"
   ]
  },
  {
   "cell_type": "code",
   "execution_count": 0,
   "metadata": {
    "application/vnd.databricks.v1+cell": {
     "cellMetadata": {
      "byteLimit": 2048000,
      "rowLimit": 10000
     },
     "inputWidgets": {},
     "nuid": "7582fc16-27c1-4f66-937e-ab989fea2894",
     "showTitle": false,
     "title": ""
    }
   },
   "outputs": [],
   "source": [
    "df_pergunta_3_2_spark = df_pergunta_3_2_spark.withColumn(\"Data\", to_date(col(\"Data\"), \"dd/MM/yyyy\"))"
   ]
  },
  {
   "cell_type": "code",
   "execution_count": 0,
   "metadata": {
    "application/vnd.databricks.v1+cell": {
     "cellMetadata": {
      "byteLimit": 2048000,
      "rowLimit": 10000
     },
     "inputWidgets": {},
     "nuid": "c1a1fe28-30ce-453c-80ae-93730cac7ba6",
     "showTitle": false,
     "title": ""
    }
   },
   "outputs": [],
   "source": [
    "df_pergunta_3_1_spark = df_pergunta_3_1_spark.toPandas()\n",
    "df_pergunta_3_2_spark = df_pergunta_3_2_spark.toPandas()"
   ]
  },
  {
   "cell_type": "code",
   "execution_count": 0,
   "metadata": {
    "application/vnd.databricks.v1+cell": {
     "cellMetadata": {
      "byteLimit": 2048000,
      "rowLimit": 10000
     },
     "inputWidgets": {},
     "nuid": "abe70e39-081d-4317-95ac-0e7ca945d5b4",
     "showTitle": false,
     "title": ""
    }
   },
   "outputs": [],
   "source": [
    "df_pergunta_3_1_spark = df_pergunta_3_1_spark.dropna(subset=['Data'])\n",
    "df_pergunta_3_2_spark = df_pergunta_3_2_spark.dropna(subset=['Data'])"
   ]
  },
  {
   "cell_type": "code",
   "execution_count": 0,
   "metadata": {
    "application/vnd.databricks.v1+cell": {
     "cellMetadata": {
      "byteLimit": 2048000,
      "rowLimit": 10000
     },
     "inputWidgets": {},
     "nuid": "27b3286d-f8a6-463a-bd0e-7763b9c4a807",
     "showTitle": false,
     "title": ""
    }
   },
   "outputs": [],
   "source": [
    "# Substitua as vírgulas por pontos nas colunas relevantes\n",
    "df_pergunta_3_1_spark['Capacidade_instalada(MW)'] = df_pergunta_3_1_spark['Capacidade_instalada(MW)'].str.replace(',', '.')\n",
    "df_pergunta_3_2_spark['Geração_De_Energia(Mwmedio)'] = df_pergunta_3_2_spark['Geração_De_Energia(Mwmedio)'].str.replace(',', '.')"
   ]
  },
  {
   "cell_type": "code",
   "execution_count": 0,
   "metadata": {
    "application/vnd.databricks.v1+cell": {
     "cellMetadata": {
      "byteLimit": 2048000,
      "rowLimit": 10000
     },
     "inputWidgets": {},
     "nuid": "a617dac9-78e2-439b-99cc-c18a36c163b7",
     "showTitle": false,
     "title": ""
    }
   },
   "outputs": [],
   "source": [
    "# Converta os atributos para float\n",
    "df_pergunta_3_1_spark['Capacidade_instalada(MW)'] = df_pergunta_3_1_spark['Capacidade_instalada(MW)'].astype(float)\n",
    "df_pergunta_3_2_spark['Geração_De_Energia(Mwmedio)'] = df_pergunta_3_2_spark['Geração_De_Energia(Mwmedio)'].astype(float)"
   ]
  },
  {
   "cell_type": "code",
   "execution_count": 0,
   "metadata": {
    "application/vnd.databricks.v1+cell": {
     "cellMetadata": {
      "byteLimit": 2048000,
      "rowLimit": 10000
     },
     "inputWidgets": {},
     "nuid": "2403ea60-3691-481e-b020-6c877b7fd0db",
     "showTitle": false,
     "title": ""
    }
   },
   "outputs": [],
   "source": [
    "# Agrupar os dois datasets em um só\n",
    "dataset_pergunta_3 = pd.merge(df_pergunta_3_1_spark, df_pergunta_3_2_spark, on=['Subsistema', 'Data'])"
   ]
  },
  {
   "cell_type": "code",
   "execution_count": 0,
   "metadata": {
    "application/vnd.databricks.v1+cell": {
     "cellMetadata": {
      "byteLimit": 2048000,
      "rowLimit": 10000
     },
     "inputWidgets": {},
     "nuid": "a94170d4-c108-4be9-b8ff-64c907f8eff9",
     "showTitle": false,
     "title": ""
    }
   },
   "outputs": [
    {
     "output_type": "execute_result",
     "data": {
      "text/html": [
       "<div>\n",
       "<style scoped>\n",
       "    .dataframe tbody tr th:only-of-type {\n",
       "        vertical-align: middle;\n",
       "    }\n",
       "\n",
       "    .dataframe tbody tr th {\n",
       "        vertical-align: top;\n",
       "    }\n",
       "\n",
       "    .dataframe thead th {\n",
       "        text-align: right;\n",
       "    }\n",
       "</style>\n",
       "<table border=\"1\" class=\"dataframe\">\n",
       "  <thead>\n",
       "    <tr style=\"text-align: right;\">\n",
       "      <th></th>\n",
       "      <th>Subsistema</th>\n",
       "      <th>Data</th>\n",
       "      <th>Capacidade_instalada(MW)</th>\n",
       "      <th>Geração_De_Energia(Mwmedio)</th>\n",
       "    </tr>\n",
       "  </thead>\n",
       "  <tbody>\n",
       "    <tr>\n",
       "      <th>0</th>\n",
       "      <td>Sudeste/Centro-Oeste</td>\n",
       "      <td>2010-01-01</td>\n",
       "      <td>50674.6114</td>\n",
       "      <td>32153.83320</td>\n",
       "    </tr>\n",
       "    <tr>\n",
       "      <th>1</th>\n",
       "      <td>Sudeste/Centro-Oeste</td>\n",
       "      <td>2010-02-01</td>\n",
       "      <td>50680.5694</td>\n",
       "      <td>31832.08237</td>\n",
       "    </tr>\n",
       "    <tr>\n",
       "      <th>2</th>\n",
       "      <td>Sudeste/Centro-Oeste</td>\n",
       "      <td>2010-03-01</td>\n",
       "      <td>50798.7094</td>\n",
       "      <td>31912.25321</td>\n",
       "    </tr>\n",
       "    <tr>\n",
       "      <th>3</th>\n",
       "      <td>Sudeste/Centro-Oeste</td>\n",
       "      <td>2010-04-01</td>\n",
       "      <td>50817.7794</td>\n",
       "      <td>30699.21276</td>\n",
       "    </tr>\n",
       "    <tr>\n",
       "      <th>4</th>\n",
       "      <td>Sudeste/Centro-Oeste</td>\n",
       "      <td>2010-05-01</td>\n",
       "      <td>50951.7794</td>\n",
       "      <td>29070.98321</td>\n",
       "    </tr>\n",
       "  </tbody>\n",
       "</table>\n",
       "</div>"
      ],
      "text/plain": [
       "             Subsistema  ... Geração_De_Energia(Mwmedio)\n",
       "0  Sudeste/Centro-Oeste  ...                 32153.83320\n",
       "1  Sudeste/Centro-Oeste  ...                 31832.08237\n",
       "2  Sudeste/Centro-Oeste  ...                 31912.25321\n",
       "3  Sudeste/Centro-Oeste  ...                 30699.21276\n",
       "4  Sudeste/Centro-Oeste  ...                 29070.98321\n",
       "\n",
       "[5 rows x 4 columns]"
      ]
     },
     "execution_count": 147,
     "metadata": {},
     "output_type": "execute_result"
    }
   ],
   "source": [
    "dataset_pergunta_3.head()"
   ]
  },
  {
   "cell_type": "markdown",
   "metadata": {
    "application/vnd.databricks.v1+cell": {
     "cellMetadata": {
      "byteLimit": 2048000,
      "rowLimit": 10000
     },
     "inputWidgets": {},
     "nuid": "7aa2420d-ffb2-498d-8033-b8e411a9cf07",
     "showTitle": false,
     "title": ""
    }
   },
   "source": [
    "**Solução Pergunta 03:** Como está relacionada a capacidade instalada com a geração de energia em MW para o subsistema Sudeste/Centro-Oeste?"
   ]
  },
  {
   "cell_type": "code",
   "execution_count": 0,
   "metadata": {
    "application/vnd.databricks.v1+cell": {
     "cellMetadata": {
      "byteLimit": 2048000,
      "rowLimit": 10000
     },
     "inputWidgets": {},
     "nuid": "e0b3f8c0-45fc-47e3-8fff-43e379b9ef3a",
     "showTitle": false,
     "title": ""
    }
   },
   "outputs": [
    {
     "output_type": "display_data",
     "data": {
      "image/png": "[encoded data removed]",
      "text/plain": [
       "<Figure size 1000x600 with 1 Axes>"
      ]
     },
     "metadata": {},
     "output_type": "display_data"
    }
   ],
   "source": [
    "import matplotlib.pyplot as plt\n",
    "import pandas as pd\n",
    "\n",
    "# Passo 1: Filtrar o DataFrame para incluir apenas o Subsistema \"Sul\"\n",
    "dataset_sudeste = dataset_pergunta_3[dataset_pergunta_3['Subsistema'] == 'Sudeste/Centro-Oeste']\n",
    "\n",
    "# Passo 2: Extrair os valores relevantes das colunas\n",
    "datas = dataset_sudeste['Data']\n",
    "capacidade_instalada = dataset_sudeste['Capacidade_instalada(MW)']\n",
    "geracao_energia = dataset_sudeste['Geração_De_Energia(Mwmedio)']\n",
    "\n",
    "# Passo 3: Criar um novo DataFrame com as colunas desejadas\n",
    "dataframe_modificado = pd.DataFrame({\n",
    "    'Geração_De_Energia(Mwmedio)': geracao_energia,\n",
    "    'Capacidade_instalada(MW)': capacidade_instalada,\n",
    "    'Geração_Parte_Capacidade(MW)': capacidade_instalada - geracao_energia\n",
    "})\n",
    "\n",
    "# Criar o gráfico de \"stackplot\" com eixo x como \"Data\" e eixo y com as colunas relevantes\n",
    "plt.figure(figsize=(10, 6))  # Ajuste o tamanho do gráfico conforme necessário\n",
    "plt.stackplot(datas, dataframe_modificado['Geração_De_Energia(Mwmedio)'], dataframe_modificado['Geração_Parte_Capacidade(MW)'],\n",
    "              labels=[\"Geração de Energia\", \"Capacidade Instalada\"])\n",
    "\n",
    "# Adicione rótulos ao gráfico\n",
    "plt.xlabel('Data')\n",
    "plt.ylabel('Comparativo entre capacidade instalada e geração de energia em MW')\n",
    "plt.title('Gráfico de \"stackplot\" para Subsistema Sudeste/Centro-Oeste')\n",
    "\n",
    "# Adicione uma legenda ao gráfico\n",
    "plt.legend(loc='upper left')\n",
    "\n",
    "# Exiba o gráfico\n",
    "plt.show()"
   ]
  },
  {
   "cell_type": "markdown",
   "metadata": {
    "application/vnd.databricks.v1+cell": {
     "cellMetadata": {
      "byteLimit": 2048000,
      "rowLimit": 10000
     },
     "inputWidgets": {},
     "nuid": "6404f91b-0b4e-4ba6-984b-ada27dfc4fbc",
     "showTitle": false,
     "title": ""
    }
   },
   "source": [
    "**Comentário:** Sendo a capacidade instalada de geração por subsistema a soma da capacidade instalada de todos as usinas hidrelétricas pertencentes ao subsistema escolhido. O gráfico acima representa como se comporta a geração de energia ao longo dos anos por meio da hidrelétricas em comparação com a capacidade instalada. O gráfico mostra que a capacidade instalada vem aumentando ao longo dos anos e a geração de energia apresenta uma certa sazonalidade ao longo dos anos.\n",
    "\n",
    "Uma curiosidade importante que pode favorecer o entendimento desse gráfico é que as usinas não operam com 100% da sua capacidade, a quantidade de turbinas instaladas na usina devem considerar que serão utilizadas apenas em epocas de manutenção de outras turbinas ou são instaladas para que sejam utilizadas em caso de pane em outras turbinas. O gráfico acima mostrando que a capacidade instalada é quase o dobro da geração de enrgia das usinas, indica que há um investimento crescente na infraestrutura das usinas visando estarem preparadas para cenários adversos. "
   ]
  },
  {
   "cell_type": "markdown",
   "metadata": {
    "application/vnd.databricks.v1+cell": {
     "cellMetadata": {
      "byteLimit": 2048000,
      "rowLimit": 10000
     },
     "inputWidgets": {},
     "nuid": "de24c496-9dad-4074-ba23-2bc4536ea36a",
     "showTitle": false,
     "title": ""
    }
   },
   "source": [
    "#### 7.2.4.Solução Pergunta 04"
   ]
  },
  {
   "cell_type": "markdown",
   "metadata": {
    "application/vnd.databricks.v1+cell": {
     "cellMetadata": {
      "byteLimit": 2048000,
      "rowLimit": 10000
     },
     "inputWidgets": {},
     "nuid": "3d6e6f66-6d6b-49b5-8511-0eca934feb3b",
     "showTitle": false,
     "title": ""
    }
   },
   "source": [
    "**Preparação do Dataset**"
   ]
  },
  {
   "cell_type": "code",
   "execution_count": 0,
   "metadata": {
    "application/vnd.databricks.v1+cell": {
     "cellMetadata": {
      "byteLimit": 2048000,
      "rowLimit": 10000
     },
     "inputWidgets": {},
     "nuid": "78cbcd9a-38bc-4192-ad58-dd814e2bbc9f",
     "showTitle": false,
     "title": ""
    }
   },
   "outputs": [],
   "source": [
    "#Será necessário o uso de informações de 03 tabelas para que seja possível responder a pergunta.\n",
    "file_location_pergunta_4_1 = \"wasbs://hdevellard@hdevellardstorage.blob.core.windows.net/Comparativo_Dados_Hidrológicos_Mês_data.csv\"\n",
    "file_location_pergunta_4_2 = \"wasbs://hdevellard@hdevellardstorage.blob.core.windows.net/Comparativo_Nível_Montante_Mês_data.csv\"\n",
    "file_location_pergunta_4_3 = \"wasbs://hdevellard@hdevellardstorage.blob.core.windows.net/Comparativo_Volume_Útil_Mês_data.csv\""
   ]
  },
  {
   "cell_type": "code",
   "execution_count": 0,
   "metadata": {
    "application/vnd.databricks.v1+cell": {
     "cellMetadata": {
      "byteLimit": 2048000,
      "rowLimit": 10000
     },
     "inputWidgets": {},
     "nuid": "3f675a72-4640-44ce-9e02-15277e0db1ae",
     "showTitle": false,
     "title": ""
    }
   },
   "outputs": [],
   "source": [
    "from pyspark.sql.functions import col, format_number"
   ]
  },
  {
   "cell_type": "code",
   "execution_count": 0,
   "metadata": {
    "application/vnd.databricks.v1+cell": {
     "cellMetadata": {
      "byteLimit": 2048000,
      "rowLimit": 10000
     },
     "inputWidgets": {},
     "nuid": "0199441f-10b9-4a75-9da7-5be7c7a1e926",
     "showTitle": false,
     "title": ""
    }
   },
   "outputs": [],
   "source": [
    "# Supondo que seu DataFrame seja df_pergunta_3_1_spark\n",
    "df_pergunta_4_1_spark = spark.read.format(file_type).option(\"inferSchema\", \"true\").option(\"delimiter\", \";\").option(\"header\", \"true\").load(file_location_pergunta_4_1)\n",
    "df_pergunta_4_2_spark = spark.read.format(file_type).option(\"inferSchema\", \"true\").option(\"delimiter\", \";\").option(\"header\", \"true\").load(file_location_pergunta_4_2)\n",
    "df_pergunta_4_3_spark = spark.read.format(file_type).option(\"inferSchema\", \"true\").option(\"delimiter\", \";\").option(\"header\", \"true\").load(file_location_pergunta_4_3)"
   ]
  },
  {
   "cell_type": "code",
   "execution_count": 0,
   "metadata": {
    "application/vnd.databricks.v1+cell": {
     "cellMetadata": {
      "byteLimit": 2048000,
      "rowLimit": 10000
     },
     "inputWidgets": {},
     "nuid": "307f70ac-f3f9-49f1-90d6-4d935e542ee5",
     "showTitle": false,
     "title": ""
    }
   },
   "outputs": [],
   "source": [
    "from pyspark.sql.functions import col, to_date"
   ]
  },
  {
   "cell_type": "code",
   "execution_count": 0,
   "metadata": {
    "application/vnd.databricks.v1+cell": {
     "cellMetadata": {
      "byteLimit": 2048000,
      "rowLimit": 10000
     },
     "inputWidgets": {},
     "nuid": "c13bca7b-f415-4d09-97d6-b53eca615e18",
     "showTitle": false,
     "title": ""
    }
   },
   "outputs": [],
   "source": [
    "# Converter o atributo \"Data\" para tipo de data\n",
    "df_pergunta_4_1_spark = df_pergunta_4_1_spark.withColumn(\"Data\", to_date(col(\"Data\"), \"dd/MM/yyyy\"))\n",
    "df_pergunta_4_2_spark = df_pergunta_4_2_spark.withColumn(\"Data\", to_date(col(\"Data\"), \"dd/MM/yyyy\"))\n",
    "df_pergunta_4_3_spark = df_pergunta_4_3_spark.withColumn(\"Data\", to_date(col(\"Data\"), \"dd/MM/yyyy\"))"
   ]
  },
  {
   "cell_type": "code",
   "execution_count": 0,
   "metadata": {
    "application/vnd.databricks.v1+cell": {
     "cellMetadata": {
      "byteLimit": 2048000,
      "rowLimit": 10000
     },
     "inputWidgets": {},
     "nuid": "92341edb-5911-4ad7-a570-bcbef763c505",
     "showTitle": false,
     "title": ""
    }
   },
   "outputs": [],
   "source": [
    "# Converte o DataFrame do PySpark em um DataFrame do Pandas\n",
    "df_pergunta_4_1_spark = df_pergunta_4_1_spark.toPandas()\n",
    "df_pergunta_4_2_spark = df_pergunta_4_2_spark.toPandas()\n",
    "df_pergunta_4_3_spark = df_pergunta_4_3_spark.toPandas()"
   ]
  },
  {
   "cell_type": "code",
   "execution_count": 0,
   "metadata": {
    "application/vnd.databricks.v1+cell": {
     "cellMetadata": {
      "byteLimit": 2048000,
      "rowLimit": 10000
     },
     "inputWidgets": {},
     "nuid": "15881b1a-5c86-4836-8172-73c910d2b20b",
     "showTitle": false,
     "title": ""
    }
   },
   "outputs": [],
   "source": [
    "#Removendo as linhas que realizavam a soma e deixando somente valores mensais de geração.\n",
    "df_pergunta_4_1_spark = df_pergunta_4_1_spark.dropna(subset=['Data'])\n",
    "df_pergunta_4_2_spark = df_pergunta_4_2_spark.dropna(subset=['Data'])\n",
    "df_pergunta_4_3_spark = df_pergunta_4_3_spark.dropna(subset=['Data'])"
   ]
  },
  {
   "cell_type": "code",
   "execution_count": 0,
   "metadata": {
    "application/vnd.databricks.v1+cell": {
     "cellMetadata": {
      "byteLimit": 2048000,
      "rowLimit": 10000
     },
     "inputWidgets": {},
     "nuid": "c11877e9-ee3f-4ec7-8de5-3536efc6043d",
     "showTitle": false,
     "title": ""
    }
   },
   "outputs": [],
   "source": [
    "df_pergunta_4_1 = df_pergunta_4_1_spark[\n",
    "    (df_pergunta_4_1_spark['Nom_Usina'] == 'I. SOLTEIRA') |\n",
    "    (df_pergunta_4_1_spark['Nom_Usina'] == 'A. VERMELHA')\n",
    "]\n",
    "df_pergunta_4_2 = df_pergunta_4_2_spark[\n",
    "    (df_pergunta_4_2_spark['Nom_Usina'] == 'I. SOLTEIRA') |\n",
    "    (df_pergunta_4_2_spark['Nom_Usina'] == 'A. VERMELHA')\n",
    "]\n",
    "df_pergunta_4_3 = df_pergunta_4_3_spark[\n",
    "    (df_pergunta_4_3_spark['Nom_Usina'] == 'I. SOLTEIRA') |\n",
    "    (df_pergunta_4_3_spark['Nom_Usina'] == 'A. VERMELHA')\n",
    "]"
   ]
  },
  {
   "cell_type": "code",
   "execution_count": 0,
   "metadata": {
    "application/vnd.databricks.v1+cell": {
     "cellMetadata": {
      "byteLimit": 2048000,
      "rowLimit": 10000
     },
     "inputWidgets": {},
     "nuid": "2cfb5587-701b-4873-bb59-10e6104c511d",
     "showTitle": false,
     "title": ""
    }
   },
   "outputs": [],
   "source": [
    "dataset_completo = pd.merge(df_pergunta_4_1, df_pergunta_4_2, on=['Nom_Usina', 'Data'])"
   ]
  },
  {
   "cell_type": "code",
   "execution_count": 0,
   "metadata": {
    "application/vnd.databricks.v1+cell": {
     "cellMetadata": {
      "byteLimit": 2048000,
      "rowLimit": 10000
     },
     "inputWidgets": {},
     "nuid": "029db9e1-0910-4258-ab37-3623a6afe00d",
     "showTitle": false,
     "title": ""
    }
   },
   "outputs": [],
   "source": [
    "dataset_pergunta_4 = pd.merge(dataset_completo, df_pergunta_4_3, on=['Nom_Usina', 'Data'])"
   ]
  },
  {
   "cell_type": "code",
   "execution_count": 0,
   "metadata": {
    "application/vnd.databricks.v1+cell": {
     "cellMetadata": {
      "byteLimit": 2048000,
      "rowLimit": 10000
     },
     "inputWidgets": {},
     "nuid": "ca7135e2-7784-4922-a622-b0c4142a7be6",
     "showTitle": false,
     "title": ""
    }
   },
   "outputs": [
    {
     "output_type": "execute_result",
     "data": {
      "text/html": [
       "<div>\n",
       "<style scoped>\n",
       "    .dataframe tbody tr th:only-of-type {\n",
       "        vertical-align: middle;\n",
       "    }\n",
       "\n",
       "    .dataframe tbody tr th {\n",
       "        vertical-align: top;\n",
       "    }\n",
       "\n",
       "    .dataframe thead th {\n",
       "        text-align: right;\n",
       "    }\n",
       "</style>\n",
       "<table border=\"1\" class=\"dataframe\">\n",
       "  <thead>\n",
       "    <tr style=\"text-align: right;\">\n",
       "      <th></th>\n",
       "      <th>Nom_Usina</th>\n",
       "      <th>Data</th>\n",
       "      <th>Vazão_Afluente(m³/s)</th>\n",
       "      <th>Val_Nivel_montante(m)</th>\n",
       "      <th>Val_Volume_Útil(%)</th>\n",
       "    </tr>\n",
       "  </thead>\n",
       "  <tbody>\n",
       "    <tr>\n",
       "      <th>0</th>\n",
       "      <td>I. SOLTEIRA</td>\n",
       "      <td>2010-01-01</td>\n",
       "      <td>9360</td>\n",
       "      <td>325,81</td>\n",
       "      <td>54,08</td>\n",
       "    </tr>\n",
       "    <tr>\n",
       "      <th>1</th>\n",
       "      <td>I. SOLTEIRA</td>\n",
       "      <td>2010-02-01</td>\n",
       "      <td>7169</td>\n",
       "      <td>326,57</td>\n",
       "      <td>69,67</td>\n",
       "    </tr>\n",
       "    <tr>\n",
       "      <th>2</th>\n",
       "      <td>I. SOLTEIRA</td>\n",
       "      <td>2010-03-01</td>\n",
       "      <td>7461</td>\n",
       "      <td>328,19</td>\n",
       "      <td>104,13</td>\n",
       "    </tr>\n",
       "    <tr>\n",
       "      <th>3</th>\n",
       "      <td>I. SOLTEIRA</td>\n",
       "      <td>2010-04-01</td>\n",
       "      <td>6717</td>\n",
       "      <td>327,61</td>\n",
       "      <td>91,6</td>\n",
       "    </tr>\n",
       "    <tr>\n",
       "      <th>4</th>\n",
       "      <td>I. SOLTEIRA</td>\n",
       "      <td>2010-05-01</td>\n",
       "      <td>4545</td>\n",
       "      <td>327,14</td>\n",
       "      <td>81,6</td>\n",
       "    </tr>\n",
       "  </tbody>\n",
       "</table>\n",
       "</div>"
      ],
      "text/plain": [
       "     Nom_Usina        Data  ... Val_Nivel_montante(m) Val_Volume_Útil(%)\n",
       "0  I. SOLTEIRA  2010-01-01  ...                325,81              54,08\n",
       "1  I. SOLTEIRA  2010-02-01  ...                326,57              69,67\n",
       "2  I. SOLTEIRA  2010-03-01  ...                328,19             104,13\n",
       "3  I. SOLTEIRA  2010-04-01  ...                327,61               91,6\n",
       "4  I. SOLTEIRA  2010-05-01  ...                327,14               81,6\n",
       "\n",
       "[5 rows x 5 columns]"
      ]
     },
     "execution_count": 159,
     "metadata": {},
     "output_type": "execute_result"
    }
   ],
   "source": [
    "dataset_pergunta_4.head()"
   ]
  },
  {
   "cell_type": "code",
   "execution_count": 0,
   "metadata": {
    "application/vnd.databricks.v1+cell": {
     "cellMetadata": {
      "byteLimit": 2048000,
      "rowLimit": 10000
     },
     "inputWidgets": {},
     "nuid": "24f04447-8c4e-497f-8ab4-bad188b8e28c",
     "showTitle": false,
     "title": ""
    }
   },
   "outputs": [],
   "source": [
    "# Substitua as vírgulas por pontos nas colunas relevantes\n",
    "dataset_pergunta_4['Vazão_Afluente(m³/s)'] = dataset_pergunta_4['Vazão_Afluente(m³/s)'].str.replace(',', '.')\n",
    "dataset_pergunta_4['Val_Nivel_montante(m)'] = dataset_pergunta_4['Val_Nivel_montante(m)'].str.replace(',', '.')\n",
    "\n",
    "# Converta os atributos para float\n",
    "dataset_pergunta_4['Vazão_Afluente(m³/s)'] = dataset_pergunta_4['Vazão_Afluente(m³/s)'].astype(float)\n",
    "dataset_pergunta_4['Val_Nivel_montante(m)'] = dataset_pergunta_4['Val_Nivel_montante(m)'].astype(float)"
   ]
  },
  {
   "cell_type": "code",
   "execution_count": 0,
   "metadata": {
    "application/vnd.databricks.v1+cell": {
     "cellMetadata": {
      "byteLimit": 2048000,
      "rowLimit": 10000
     },
     "inputWidgets": {},
     "nuid": "bb31a21c-66fe-454b-8807-0c9948149eda",
     "showTitle": false,
     "title": ""
    }
   },
   "outputs": [],
   "source": [
    "dataset_pergunta_4['Val_Volume_Útil(%)'] = dataset_pergunta_4['Val_Volume_Útil(%)'].str.replace(',', '.')\n",
    "dataset_pergunta_4['Val_Volume_Útil(%)'] = dataset_pergunta_4['Val_Volume_Útil(%)'].astype(float)"
   ]
  },
  {
   "cell_type": "code",
   "execution_count": 0,
   "metadata": {
    "application/vnd.databricks.v1+cell": {
     "cellMetadata": {
      "byteLimit": 2048000,
      "rowLimit": 10000
     },
     "inputWidgets": {},
     "nuid": "dcd9fca8-efc9-4e90-a6b5-a7e97296540e",
     "showTitle": false,
     "title": ""
    }
   },
   "outputs": [
    {
     "output_type": "stream",
     "name": "stdout",
     "output_type": "stream",
     "text": [
      "<class 'pandas.core.frame.DataFrame'>\nInt64Index: 264 entries, 0 to 263\nData columns (total 5 columns):\n #   Column                 Non-Null Count  Dtype  \n---  ------                 --------------  -----  \n 0   Nom_Usina              264 non-null    object \n 1   Data                   264 non-null    object \n 2   Vazão_Afluente(m³/s)   264 non-null    float64\n 3   Val_Nivel_montante(m)  264 non-null    float64\n 4   Val_Volume_Útil(%)     264 non-null    float64\ndtypes: float64(3), object(2)\nmemory usage: 12.4+ KB\n"
     ]
    }
   ],
   "source": [
    "dataset_pergunta_4.info()"
   ]
  },
  {
   "cell_type": "markdown",
   "metadata": {
    "application/vnd.databricks.v1+cell": {
     "cellMetadata": {
      "byteLimit": 2048000,
      "rowLimit": 10000
     },
     "inputWidgets": {},
     "nuid": "262d1037-2c5d-43b1-b379-6b5c7745d41d",
     "showTitle": false,
     "title": ""
    }
   },
   "source": [
    "**Solução Pergunta 04:** Considerando a Usina de \"Ilha Solteira\" e a Usina \"Água Vermelha\", Construa um gráfico que correlacione as duas usinas quanto ao volume útil do reservatório e a vazão afluente dos reservatórios mostrando a densidade dos registros para esses atributos."
   ]
  },
  {
   "cell_type": "code",
   "execution_count": 0,
   "metadata": {
    "application/vnd.databricks.v1+cell": {
     "cellMetadata": {
      "byteLimit": 2048000,
      "rowLimit": 10000
     },
     "inputWidgets": {},
     "nuid": "50b932b1-c919-415c-8d01-075eb9af4858",
     "showTitle": false,
     "title": ""
    }
   },
   "outputs": [
    {
     "output_type": "display_data",
     "data": {
      "image/png": "[encoded data removed]",
      "text/plain": [
       "<Figure size 800x600 with 1 Axes>"
      ]
     },
     "metadata": {},
     "output_type": "display_data"
    }
   ],
   "source": [
    "import seaborn as sns\n",
    "import matplotlib.pyplot as plt\n",
    "\n",
    "sns.set_theme(style=\"darkgrid\")\n",
    "\n",
    "# Set up the figure with a reasonable size, e.g., 8x6 inches\n",
    "f, ax = plt.subplots(figsize=(8, 6))\n",
    "\n",
    "# Draw a contour plot to represent each bivariate density\n",
    "sns.kdeplot(\n",
    "    data=dataset_pergunta_4,\n",
    "    x=\"Vazão_Afluente(m³/s)\",\n",
    "    y=\"Val_Volume_Útil(%)\",\n",
    "    hue=\"Nom_Usina\",\n",
    "    thresh=.1,\n",
    ")\n",
    "\n",
    "# Limit the x-axis to the range up to 8000\n",
    "ax.set_xlim(0, 7000)\n",
    "\n",
    "# Optionally, you can save the plot to a file with a specified DPI\n",
    "# plt.savefig(\"my_plot.png\", dpi=300)\n",
    "\n",
    "# Show the plot\n",
    "plt.show()"
   ]
  },
  {
   "cell_type": "markdown",
   "metadata": {
    "application/vnd.databricks.v1+cell": {
     "cellMetadata": {
      "byteLimit": 2048000,
      "rowLimit": 10000
     },
     "inputWidgets": {},
     "nuid": "b9a891ba-4816-41e0-89ca-d6a6b3562df1",
     "showTitle": false,
     "title": ""
    }
   },
   "source": [
    "O gráfico acima mostra a densidade dos registros dos valores para as duas usinas e podemos entender que a usina \"A.Vermelha\" trabalha com maior frequência com o volume útil de àgua em seu reservatório de 25 à 50% e vazão afluente em torno de 1500 m³/s. Já a usina \"I.Solteira\" trabalha com maior frequência com o seu reservatório em torno de 70% com vazão afluente em torno 4000 m³/s.\n",
    "O círculo azul na parte inferior referente à usina de \"I.Solteria\" é representado pela época de seca em que o volume útil do reservatório da usina chegou à zero, ou seja, a usina não tinha o volume mínimo necessário de água para gerar energia, esse fato ocorreu mais especificamente nos anos de 2015 e 2022 na bacia do Rio Paraná."
   ]
  },
  {
   "cell_type": "markdown",
   "metadata": {
    "application/vnd.databricks.v1+cell": {
     "cellMetadata": {
      "byteLimit": 2048000,
      "rowLimit": 10000
     },
     "inputWidgets": {},
     "nuid": "40bd1592-ef1f-4303-9228-202f3fa9ed37",
     "showTitle": false,
     "title": ""
    }
   },
   "source": [
    "#### 7.2.5.Solução Pergunta 05"
   ]
  },
  {
   "cell_type": "markdown",
   "metadata": {
    "application/vnd.databricks.v1+cell": {
     "cellMetadata": {
      "byteLimit": 2048000,
      "rowLimit": 10000
     },
     "inputWidgets": {},
     "nuid": "99be5739-7cfa-4c73-9fb2-3cb7e8e29ffb",
     "showTitle": false,
     "title": ""
    }
   },
   "source": [
    "**Preparação do dataset**"
   ]
  },
  {
   "cell_type": "code",
   "execution_count": 0,
   "metadata": {
    "application/vnd.databricks.v1+cell": {
     "cellMetadata": {
      "byteLimit": 2048000,
      "rowLimit": 10000
     },
     "inputWidgets": {},
     "nuid": "2d8b6623-32c4-4e0a-bb3f-9b16893ecaed",
     "showTitle": false,
     "title": ""
    }
   },
   "outputs": [],
   "source": [
    "df_pergunta_5_1 =  df_pergunta_4_2_spark[\n",
    "    (df_pergunta_4_2_spark['Nom_Usina'] == 'TUCURUI')\n",
    "]\n",
    "\n",
    "df_pergunta_5_2 =  df_pergunta_4_3_spark[\n",
    "    (df_pergunta_4_3_spark['Nom_Usina'] == 'TUCURUI')\n",
    "]"
   ]
  },
  {
   "cell_type": "code",
   "execution_count": 0,
   "metadata": {
    "application/vnd.databricks.v1+cell": {
     "cellMetadata": {
      "byteLimit": 2048000,
      "rowLimit": 10000
     },
     "inputWidgets": {},
     "nuid": "a7ed13f3-c3a6-4d60-9100-98c27a71c32d",
     "showTitle": false,
     "title": ""
    }
   },
   "outputs": [],
   "source": [
    "dataset_Pergunta_5 = pd.merge(df_pergunta_5_1, df_pergunta_5_2, on=['Nom_Usina', 'Data'])"
   ]
  },
  {
   "cell_type": "code",
   "execution_count": 0,
   "metadata": {
    "application/vnd.databricks.v1+cell": {
     "cellMetadata": {
      "byteLimit": 2048000,
      "rowLimit": 10000
     },
     "inputWidgets": {},
     "nuid": "c0df8346-5df9-44d7-955d-620a46e73cce",
     "showTitle": false,
     "title": ""
    }
   },
   "outputs": [],
   "source": [
    "# Substitua as vírgulas por pontos nas colunas relevantes\n",
    "dataset_Pergunta_5['Val_Volume_Útil(%)'] = dataset_Pergunta_5['Val_Volume_Útil(%)'].str.replace(',', '.')\n",
    "dataset_Pergunta_5['Val_Nivel_montante(m)'] = dataset_Pergunta_5['Val_Nivel_montante(m)'].str.replace(',', '.')\n",
    "\n",
    "# Converta os atributos para float\n",
    "dataset_Pergunta_5['Val_Volume_Útil(%)'] = dataset_Pergunta_5['Val_Volume_Útil(%)'].astype(float)\n",
    "dataset_Pergunta_5['Val_Nivel_montante(m)'] = dataset_Pergunta_5['Val_Nivel_montante(m)'].astype(float)"
   ]
  },
  {
   "cell_type": "markdown",
   "metadata": {
    "application/vnd.databricks.v1+cell": {
     "cellMetadata": {
      "byteLimit": 2048000,
      "rowLimit": 10000
     },
     "inputWidgets": {},
     "nuid": "99b24dae-a81f-4db2-bd3c-82ade6a6c14c",
     "showTitle": false,
     "title": ""
    }
   },
   "source": [
    "**Solução pergunta 05:** Considerando a usina de Tucurui mostre como se relaciona os dados de volume útil do reservatório e a altura do nível de água do reservatório. Mostre a densidade dos registros."
   ]
  },
  {
   "cell_type": "code",
   "execution_count": 0,
   "metadata": {
    "application/vnd.databricks.v1+cell": {
     "cellMetadata": {
      "byteLimit": 2048000,
      "rowLimit": 10000
     },
     "inputWidgets": {},
     "nuid": "a8f0f088-9c8f-483b-af98-9e41d8e214b2",
     "showTitle": false,
     "title": ""
    }
   },
   "outputs": [
    {
     "output_type": "execute_result",
     "data": {
      "text/plain": [
       "Text(0.5, 1.2, 'Grafico da densidade do volume útil do reservatório de Tucurui e a altura do reservatório')"
      ]
     },
     "execution_count": 167,
     "metadata": {},
     "output_type": "execute_result"
    },
    {
     "output_type": "display_data",
     "data": {
      "image/png": "[encoded data removed]",
      "text/plain": [
       "<Figure size 600x600 with 3 Axes>"
      ]
     },
     "metadata": {},
     "output_type": "display_data"
    }
   ],
   "source": [
    "# Criação do gráfico \"Hexbin plot\" da biblioteca do Seaborn\n",
    "sns.set_theme(style=\"ticks\")\n",
    "sns.jointplot(data=dataset_Pergunta_5, x=\"Val_Nivel_montante(m)\", y=\"Val_Volume_Útil(%)\", kind=\"hex\", gridsize=20, color=\"red\")\n",
    "# Título do gráfico\n",
    "plt.title(\"Gráfico da densidade do volume útil do reservatório de Tucurui e a altura do reservatório\", y=1.2)"
   ]
  },
  {
   "cell_type": "markdown",
   "metadata": {
    "application/vnd.databricks.v1+cell": {
     "cellMetadata": {
      "byteLimit": 2048000,
      "rowLimit": 10000
     },
     "inputWidgets": {},
     "nuid": "1ae737c0-bccb-4c78-8ed2-944be7538fc0",
     "showTitle": false,
     "title": ""
    }
   },
   "source": [
    "O gráfico acima apresenta uma série de informações sobre a usina de Tucuruí, uma delas é que para a usina chegar em 100% do volume útil, a altura do reservatório chega a 73 metros. Quando o volume útil do reservatório está abaixo de 20%, o volume do reservatório é em torno de 57%. Analisando também a densidade dos dados, pode-se perceber que é uma usina que costuma ficar na maior parte do tempo perto da sua capacidade máxima de volume de reservatório. Sendo uma das maiores usinas do mundo e a segunda maior do Brasil, perdendo apenas para a usina de Itaipu, tendo a vantagem de ser 100% brasileira."
   ]
  },
  {
   "cell_type": "markdown",
   "metadata": {
    "application/vnd.databricks.v1+cell": {
     "cellMetadata": {},
     "inputWidgets": {},
     "nuid": "3bc787be-78c8-418b-af97-87ec6572c4fc",
     "showTitle": false,
     "title": ""
    }
   },
   "source": [
    "### 7.3.Armazenamento dos Datasets Criados."
   ]
  },
  {
   "cell_type": "markdown",
   "metadata": {
    "application/vnd.databricks.v1+cell": {
     "cellMetadata": {},
     "inputWidgets": {},
     "nuid": "3cb159be-90b6-4409-9437-43eb3df6fd4e",
     "showTitle": false,
     "title": ""
    }
   },
   "source": [
    "Após criar os datasets que permitem responder às perguntas propostas, é uma boa prática salvar o dataset no catálogo do databricks para que se possa visualizar os dados obtidos de forma mais prática, conforme executado no código abaixo e ilustrado na imagem abaixo:"
   ]
  },
  {
   "cell_type": "code",
   "execution_count": 0,
   "metadata": {
    "application/vnd.databricks.v1+cell": {
     "cellMetadata": {
      "byteLimit": 2048000,
      "rowLimit": 10000
     },
     "inputWidgets": {},
     "nuid": "27412267-16c8-44ee-a4af-ad46dcdc1d68",
     "showTitle": false,
     "title": ""
    }
   },
   "outputs": [
    {
     "output_type": "display_data",
     "data": {
      "text/plain": [
       "\u001B[0;31m---------------------------------------------------------------------------\u001B[0m\n",
       "\u001B[0;31mAnalysisException\u001B[0m                         Traceback (most recent call last)\n",
       "File \u001B[0;32m<command-1028041126302264>, line 15\u001B[0m\n",
       "\u001B[1;32m     12\u001B[0m df_spark_5 \u001B[38;5;241m=\u001B[39m spark\u001B[38;5;241m.\u001B[39mcreateDataFrame(dataset_Pergunta_5)\n",
       "\u001B[1;32m     14\u001B[0m \u001B[38;5;66;03m# Salve o DataFrame Spark como uma tabela no catálogo do Databricks\u001B[39;00m\n",
       "\u001B[0;32m---> 15\u001B[0m df_spark_1\u001B[38;5;241m.\u001B[39mwrite\u001B[38;5;241m.\u001B[39mformat(\u001B[38;5;124m\"\u001B[39m\u001B[38;5;124mparquet\u001B[39m\u001B[38;5;124m\"\u001B[39m)\u001B[38;5;241m.\u001B[39msaveAsTable(\u001B[38;5;124m\"\u001B[39m\u001B[38;5;124mdataset_Pergunta_1\u001B[39m\u001B[38;5;124m\"\u001B[39m)\n",
       "\u001B[1;32m     16\u001B[0m df_spark_2\u001B[38;5;241m.\u001B[39mwrite\u001B[38;5;241m.\u001B[39mformat(\u001B[38;5;124m\"\u001B[39m\u001B[38;5;124mparquet\u001B[39m\u001B[38;5;124m\"\u001B[39m)\u001B[38;5;241m.\u001B[39msaveAsTable(\u001B[38;5;124m\"\u001B[39m\u001B[38;5;124mdataset_Pergunta_2\u001B[39m\u001B[38;5;124m\"\u001B[39m)\n",
       "\u001B[1;32m     17\u001B[0m df_spark_3\u001B[38;5;241m.\u001B[39mwrite\u001B[38;5;241m.\u001B[39mformat(\u001B[38;5;124m\"\u001B[39m\u001B[38;5;124mparquet\u001B[39m\u001B[38;5;124m\"\u001B[39m)\u001B[38;5;241m.\u001B[39msaveAsTable(\u001B[38;5;124m\"\u001B[39m\u001B[38;5;124mdataset_Pergunta_3\u001B[39m\u001B[38;5;124m\"\u001B[39m)\n",
       "\n",
       "File \u001B[0;32m/databricks/spark/python/pyspark/instrumentation_utils.py:48\u001B[0m, in \u001B[0;36m_wrap_function.<locals>.wrapper\u001B[0;34m(*args, **kwargs)\u001B[0m\n",
       "\u001B[1;32m     46\u001B[0m start \u001B[38;5;241m=\u001B[39m time\u001B[38;5;241m.\u001B[39mperf_counter()\n",
       "\u001B[1;32m     47\u001B[0m \u001B[38;5;28;01mtry\u001B[39;00m:\n",
       "\u001B[0;32m---> 48\u001B[0m     res \u001B[38;5;241m=\u001B[39m \u001B[43mfunc\u001B[49m\u001B[43m(\u001B[49m\u001B[38;5;241;43m*\u001B[39;49m\u001B[43margs\u001B[49m\u001B[43m,\u001B[49m\u001B[43m \u001B[49m\u001B[38;5;241;43m*\u001B[39;49m\u001B[38;5;241;43m*\u001B[39;49m\u001B[43mkwargs\u001B[49m\u001B[43m)\u001B[49m\n",
       "\u001B[1;32m     49\u001B[0m     logger\u001B[38;5;241m.\u001B[39mlog_success(\n",
       "\u001B[1;32m     50\u001B[0m         module_name, class_name, function_name, time\u001B[38;5;241m.\u001B[39mperf_counter() \u001B[38;5;241m-\u001B[39m start, signature\n",
       "\u001B[1;32m     51\u001B[0m     )\n",
       "\u001B[1;32m     52\u001B[0m     \u001B[38;5;28;01mreturn\u001B[39;00m res\n",
       "\n",
       "File \u001B[0;32m/databricks/spark/python/pyspark/sql/readwriter.py:1586\u001B[0m, in \u001B[0;36mDataFrameWriter.saveAsTable\u001B[0;34m(self, name, format, mode, partitionBy, **options)\u001B[0m\n",
       "\u001B[1;32m   1584\u001B[0m \u001B[38;5;28;01mif\u001B[39;00m \u001B[38;5;28mformat\u001B[39m \u001B[38;5;129;01mis\u001B[39;00m \u001B[38;5;129;01mnot\u001B[39;00m \u001B[38;5;28;01mNone\u001B[39;00m:\n",
       "\u001B[1;32m   1585\u001B[0m     \u001B[38;5;28mself\u001B[39m\u001B[38;5;241m.\u001B[39mformat(\u001B[38;5;28mformat\u001B[39m)\n",
       "\u001B[0;32m-> 1586\u001B[0m \u001B[38;5;28;43mself\u001B[39;49m\u001B[38;5;241;43m.\u001B[39;49m\u001B[43m_jwrite\u001B[49m\u001B[38;5;241;43m.\u001B[39;49m\u001B[43msaveAsTable\u001B[49m\u001B[43m(\u001B[49m\u001B[43mname\u001B[49m\u001B[43m)\u001B[49m\n",
       "\n",
       "File \u001B[0;32m/databricks/spark/python/lib/py4j-0.10.9.7-src.zip/py4j/java_gateway.py:1322\u001B[0m, in \u001B[0;36mJavaMember.__call__\u001B[0;34m(self, *args)\u001B[0m\n",
       "\u001B[1;32m   1316\u001B[0m command \u001B[38;5;241m=\u001B[39m proto\u001B[38;5;241m.\u001B[39mCALL_COMMAND_NAME \u001B[38;5;241m+\u001B[39m\\\n",
       "\u001B[1;32m   1317\u001B[0m     \u001B[38;5;28mself\u001B[39m\u001B[38;5;241m.\u001B[39mcommand_header \u001B[38;5;241m+\u001B[39m\\\n",
       "\u001B[1;32m   1318\u001B[0m     args_command \u001B[38;5;241m+\u001B[39m\\\n",
       "\u001B[1;32m   1319\u001B[0m     proto\u001B[38;5;241m.\u001B[39mEND_COMMAND_PART\n",
       "\u001B[1;32m   1321\u001B[0m answer \u001B[38;5;241m=\u001B[39m \u001B[38;5;28mself\u001B[39m\u001B[38;5;241m.\u001B[39mgateway_client\u001B[38;5;241m.\u001B[39msend_command(command)\n",
       "\u001B[0;32m-> 1322\u001B[0m return_value \u001B[38;5;241m=\u001B[39m \u001B[43mget_return_value\u001B[49m\u001B[43m(\u001B[49m\n",
       "\u001B[1;32m   1323\u001B[0m \u001B[43m    \u001B[49m\u001B[43manswer\u001B[49m\u001B[43m,\u001B[49m\u001B[43m \u001B[49m\u001B[38;5;28;43mself\u001B[39;49m\u001B[38;5;241;43m.\u001B[39;49m\u001B[43mgateway_client\u001B[49m\u001B[43m,\u001B[49m\u001B[43m \u001B[49m\u001B[38;5;28;43mself\u001B[39;49m\u001B[38;5;241;43m.\u001B[39;49m\u001B[43mtarget_id\u001B[49m\u001B[43m,\u001B[49m\u001B[43m \u001B[49m\u001B[38;5;28;43mself\u001B[39;49m\u001B[38;5;241;43m.\u001B[39;49m\u001B[43mname\u001B[49m\u001B[43m)\u001B[49m\n",
       "\u001B[1;32m   1325\u001B[0m \u001B[38;5;28;01mfor\u001B[39;00m temp_arg \u001B[38;5;129;01min\u001B[39;00m temp_args:\n",
       "\u001B[1;32m   1326\u001B[0m     \u001B[38;5;28;01mif\u001B[39;00m \u001B[38;5;28mhasattr\u001B[39m(temp_arg, \u001B[38;5;124m\"\u001B[39m\u001B[38;5;124m_detach\u001B[39m\u001B[38;5;124m\"\u001B[39m):\n",
       "\n",
       "File \u001B[0;32m/databricks/spark/python/pyspark/errors/exceptions/captured.py:194\u001B[0m, in \u001B[0;36mcapture_sql_exception.<locals>.deco\u001B[0;34m(*a, **kw)\u001B[0m\n",
       "\u001B[1;32m    190\u001B[0m converted \u001B[38;5;241m=\u001B[39m convert_exception(e\u001B[38;5;241m.\u001B[39mjava_exception)\n",
       "\u001B[1;32m    191\u001B[0m \u001B[38;5;28;01mif\u001B[39;00m \u001B[38;5;129;01mnot\u001B[39;00m \u001B[38;5;28misinstance\u001B[39m(converted, UnknownException):\n",
       "\u001B[1;32m    192\u001B[0m     \u001B[38;5;66;03m# Hide where the exception came from that shows a non-Pythonic\u001B[39;00m\n",
       "\u001B[1;32m    193\u001B[0m     \u001B[38;5;66;03m# JVM exception message.\u001B[39;00m\n",
       "\u001B[0;32m--> 194\u001B[0m     \u001B[38;5;28;01mraise\u001B[39;00m converted \u001B[38;5;28;01mfrom\u001B[39;00m \u001B[38;5;28mNone\u001B[39m\n",
       "\u001B[1;32m    195\u001B[0m \u001B[38;5;28;01melse\u001B[39;00m:\n",
       "\u001B[1;32m    196\u001B[0m     \u001B[38;5;28;01mraise\u001B[39;00m\n",
       "\n",
       "\u001B[0;31mAnalysisException\u001B[0m: [TABLE_OR_VIEW_ALREADY_EXISTS] Cannot create table or view `spark_catalog`.`default`.`dataset_pergunta_1` because it already exists.\n",
       "Choose a different name, drop or replace the existing object, add the IF NOT EXISTS clause to tolerate pre-existing objects, or add the OR REFRESH clause to refresh the existing streaming table."
      ]
     },
     "metadata": {
      "application/vnd.databricks.v1+output": {
       "arguments": {},
       "data": "\u001B[0;31m---------------------------------------------------------------------------\u001B[0m\n\u001B[0;31mAnalysisException\u001B[0m                         Traceback (most recent call last)\nFile \u001B[0;32m<command-1028041126302264>, line 15\u001B[0m\n\u001B[1;32m     12\u001B[0m df_spark_5 \u001B[38;5;241m=\u001B[39m spark\u001B[38;5;241m.\u001B[39mcreateDataFrame(dataset_Pergunta_5)\n\u001B[1;32m     14\u001B[0m \u001B[38;5;66;03m# Salve o DataFrame Spark como uma tabela no catálogo do Databricks\u001B[39;00m\n\u001B[0;32m---> 15\u001B[0m df_spark_1\u001B[38;5;241m.\u001B[39mwrite\u001B[38;5;241m.\u001B[39mformat(\u001B[38;5;124m\"\u001B[39m\u001B[38;5;124mparquet\u001B[39m\u001B[38;5;124m\"\u001B[39m)\u001B[38;5;241m.\u001B[39msaveAsTable(\u001B[38;5;124m\"\u001B[39m\u001B[38;5;124mdataset_Pergunta_1\u001B[39m\u001B[38;5;124m\"\u001B[39m)\n\u001B[1;32m     16\u001B[0m df_spark_2\u001B[38;5;241m.\u001B[39mwrite\u001B[38;5;241m.\u001B[39mformat(\u001B[38;5;124m\"\u001B[39m\u001B[38;5;124mparquet\u001B[39m\u001B[38;5;124m\"\u001B[39m)\u001B[38;5;241m.\u001B[39msaveAsTable(\u001B[38;5;124m\"\u001B[39m\u001B[38;5;124mdataset_Pergunta_2\u001B[39m\u001B[38;5;124m\"\u001B[39m)\n\u001B[1;32m     17\u001B[0m df_spark_3\u001B[38;5;241m.\u001B[39mwrite\u001B[38;5;241m.\u001B[39mformat(\u001B[38;5;124m\"\u001B[39m\u001B[38;5;124mparquet\u001B[39m\u001B[38;5;124m\"\u001B[39m)\u001B[38;5;241m.\u001B[39msaveAsTable(\u001B[38;5;124m\"\u001B[39m\u001B[38;5;124mdataset_Pergunta_3\u001B[39m\u001B[38;5;124m\"\u001B[39m)\n\nFile \u001B[0;32m/databricks/spark/python/pyspark/instrumentation_utils.py:48\u001B[0m, in \u001B[0;36m_wrap_function.<locals>.wrapper\u001B[0;34m(*args, **kwargs)\u001B[0m\n\u001B[1;32m     46\u001B[0m start \u001B[38;5;241m=\u001B[39m time\u001B[38;5;241m.\u001B[39mperf_counter()\n\u001B[1;32m     47\u001B[0m \u001B[38;5;28;01mtry\u001B[39;00m:\n\u001B[0;32m---> 48\u001B[0m     res \u001B[38;5;241m=\u001B[39m \u001B[43mfunc\u001B[49m\u001B[43m(\u001B[49m\u001B[38;5;241;43m*\u001B[39;49m\u001B[43margs\u001B[49m\u001B[43m,\u001B[49m\u001B[43m \u001B[49m\u001B[38;5;241;43m*\u001B[39;49m\u001B[38;5;241;43m*\u001B[39;49m\u001B[43mkwargs\u001B[49m\u001B[43m)\u001B[49m\n\u001B[1;32m     49\u001B[0m     logger\u001B[38;5;241m.\u001B[39mlog_success(\n\u001B[1;32m     50\u001B[0m         module_name, class_name, function_name, time\u001B[38;5;241m.\u001B[39mperf_counter() \u001B[38;5;241m-\u001B[39m start, signature\n\u001B[1;32m     51\u001B[0m     )\n\u001B[1;32m     52\u001B[0m     \u001B[38;5;28;01mreturn\u001B[39;00m res\n\nFile \u001B[0;32m/databricks/spark/python/pyspark/sql/readwriter.py:1586\u001B[0m, in \u001B[0;36mDataFrameWriter.saveAsTable\u001B[0;34m(self, name, format, mode, partitionBy, **options)\u001B[0m\n\u001B[1;32m   1584\u001B[0m \u001B[38;5;28;01mif\u001B[39;00m \u001B[38;5;28mformat\u001B[39m \u001B[38;5;129;01mis\u001B[39;00m \u001B[38;5;129;01mnot\u001B[39;00m \u001B[38;5;28;01mNone\u001B[39;00m:\n\u001B[1;32m   1585\u001B[0m     \u001B[38;5;28mself\u001B[39m\u001B[38;5;241m.\u001B[39mformat(\u001B[38;5;28mformat\u001B[39m)\n\u001B[0;32m-> 1586\u001B[0m \u001B[38;5;28;43mself\u001B[39;49m\u001B[38;5;241;43m.\u001B[39;49m\u001B[43m_jwrite\u001B[49m\u001B[38;5;241;43m.\u001B[39;49m\u001B[43msaveAsTable\u001B[49m\u001B[43m(\u001B[49m\u001B[43mname\u001B[49m\u001B[43m)\u001B[49m\n\nFile \u001B[0;32m/databricks/spark/python/lib/py4j-0.10.9.7-src.zip/py4j/java_gateway.py:1322\u001B[0m, in \u001B[0;36mJavaMember.__call__\u001B[0;34m(self, *args)\u001B[0m\n\u001B[1;32m   1316\u001B[0m command \u001B[38;5;241m=\u001B[39m proto\u001B[38;5;241m.\u001B[39mCALL_COMMAND_NAME \u001B[38;5;241m+\u001B[39m\\\n\u001B[1;32m   1317\u001B[0m     \u001B[38;5;28mself\u001B[39m\u001B[38;5;241m.\u001B[39mcommand_header \u001B[38;5;241m+\u001B[39m\\\n\u001B[1;32m   1318\u001B[0m     args_command \u001B[38;5;241m+\u001B[39m\\\n\u001B[1;32m   1319\u001B[0m     proto\u001B[38;5;241m.\u001B[39mEND_COMMAND_PART\n\u001B[1;32m   1321\u001B[0m answer \u001B[38;5;241m=\u001B[39m \u001B[38;5;28mself\u001B[39m\u001B[38;5;241m.\u001B[39mgateway_client\u001B[38;5;241m.\u001B[39msend_command(command)\n\u001B[0;32m-> 1322\u001B[0m return_value \u001B[38;5;241m=\u001B[39m \u001B[43mget_return_value\u001B[49m\u001B[43m(\u001B[49m\n\u001B[1;32m   1323\u001B[0m \u001B[43m    \u001B[49m\u001B[43manswer\u001B[49m\u001B[43m,\u001B[49m\u001B[43m \u001B[49m\u001B[38;5;28;43mself\u001B[39;49m\u001B[38;5;241;43m.\u001B[39;49m\u001B[43mgateway_client\u001B[49m\u001B[43m,\u001B[49m\u001B[43m \u001B[49m\u001B[38;5;28;43mself\u001B[39;49m\u001B[38;5;241;43m.\u001B[39;49m\u001B[43mtarget_id\u001B[49m\u001B[43m,\u001B[49m\u001B[43m \u001B[49m\u001B[38;5;28;43mself\u001B[39;49m\u001B[38;5;241;43m.\u001B[39;49m\u001B[43mname\u001B[49m\u001B[43m)\u001B[49m\n\u001B[1;32m   1325\u001B[0m \u001B[38;5;28;01mfor\u001B[39;00m temp_arg \u001B[38;5;129;01min\u001B[39;00m temp_args:\n\u001B[1;32m   1326\u001B[0m     \u001B[38;5;28;01mif\u001B[39;00m \u001B[38;5;28mhasattr\u001B[39m(temp_arg, \u001B[38;5;124m\"\u001B[39m\u001B[38;5;124m_detach\u001B[39m\u001B[38;5;124m\"\u001B[39m):\n\nFile \u001B[0;32m/databricks/spark/python/pyspark/errors/exceptions/captured.py:194\u001B[0m, in \u001B[0;36mcapture_sql_exception.<locals>.deco\u001B[0;34m(*a, **kw)\u001B[0m\n\u001B[1;32m    190\u001B[0m converted \u001B[38;5;241m=\u001B[39m convert_exception(e\u001B[38;5;241m.\u001B[39mjava_exception)\n\u001B[1;32m    191\u001B[0m \u001B[38;5;28;01mif\u001B[39;00m \u001B[38;5;129;01mnot\u001B[39;00m \u001B[38;5;28misinstance\u001B[39m(converted, UnknownException):\n\u001B[1;32m    192\u001B[0m     \u001B[38;5;66;03m# Hide where the exception came from that shows a non-Pythonic\u001B[39;00m\n\u001B[1;32m    193\u001B[0m     \u001B[38;5;66;03m# JVM exception message.\u001B[39;00m\n\u001B[0;32m--> 194\u001B[0m     \u001B[38;5;28;01mraise\u001B[39;00m converted \u001B[38;5;28;01mfrom\u001B[39;00m \u001B[38;5;28mNone\u001B[39m\n\u001B[1;32m    195\u001B[0m \u001B[38;5;28;01melse\u001B[39;00m:\n\u001B[1;32m    196\u001B[0m     \u001B[38;5;28;01mraise\u001B[39;00m\n\n\u001B[0;31mAnalysisException\u001B[0m: [TABLE_OR_VIEW_ALREADY_EXISTS] Cannot create table or view `spark_catalog`.`default`.`dataset_pergunta_1` because it already exists.\nChoose a different name, drop or replace the existing object, add the IF NOT EXISTS clause to tolerate pre-existing objects, or add the OR REFRESH clause to refresh the existing streaming table.",
       "errorSummary": "<span class='ansi-red-fg'>AnalysisException</span>: [TABLE_OR_VIEW_ALREADY_EXISTS] Cannot create table or view `spark_catalog`.`default`.`dataset_pergunta_1` because it already exists.\nChoose a different name, drop or replace the existing object, add the IF NOT EXISTS clause to tolerate pre-existing objects, or add the OR REFRESH clause to refresh the existing streaming table.",
       "errorTraceType": "ansi",
       "metadata": {},
       "type": "ipynbError"
      }
     },
     "output_type": "display_data"
    }
   ],
   "source": [
    "# Importe o SparkSession do pyspark.sql\n",
    "from pyspark.sql import SparkSession\n",
    "\n",
    "# Crie uma sessão Spark\n",
    "spark = SparkSession.builder.appName(\"SalvarDataset\").getOrCreate()\n",
    "\n",
    "# Converta o DataFrame Pandas para um DataFrame Spark\n",
    "df_spark_1 = spark.createDataFrame(df_pergunta_01)\n",
    "df_spark_2 = spark.createDataFrame(df_pergunta_2)\n",
    "df_spark_3 = spark.createDataFrame(dataset_pergunta_3)\n",
    "df_spark_4 = spark.createDataFrame(dataset_pergunta_4)\n",
    "df_spark_5 = spark.createDataFrame(dataset_Pergunta_5)\n",
    "\n",
    "# Salve o DataFrame Spark como uma tabela no catálogo do Databricks\n",
    "df_spark_1.write.format(\"parquet\").saveAsTable(\"dataset_Pergunta_1\")\n",
    "df_spark_2.write.format(\"parquet\").saveAsTable(\"dataset_Pergunta_2\")\n",
    "df_spark_3.write.format(\"parquet\").saveAsTable(\"dataset_Pergunta_3\")\n",
    "df_spark_4.write.format(\"parquet\").saveAsTable(\"dataset_Pergunta_4\")\n",
    "df_spark_5.write.format(\"parquet\").saveAsTable(\"dataset_Pergunta_5\")\n"
   ]
  },
  {
   "cell_type": "markdown",
   "metadata": {
    "application/vnd.databricks.v1+cell": {
     "cellMetadata": {},
     "inputWidgets": {},
     "nuid": "57a1b359-e174-441f-9dc2-b8c41dc34210",
     "showTitle": false,
     "title": ""
    }
   },
   "source": [
    "![imagem](/files/tables/catalogo_criado.jpg)"
   ]
  },
  {
   "cell_type": "markdown",
   "metadata": {
    "application/vnd.databricks.v1+cell": {
     "cellMetadata": {},
     "inputWidgets": {},
     "nuid": "fbd5169b-32aa-4134-a954-68039404f5be",
     "showTitle": false,
     "title": ""
    }
   },
   "source": [
    "## 8.Autoavaliação "
   ]
  },
  {
   "cell_type": "markdown",
   "metadata": {
    "application/vnd.databricks.v1+cell": {
     "cellMetadata": {},
     "inputWidgets": {},
     "nuid": "10eafcc8-d87c-45e4-92b1-75e0ed882039",
     "showTitle": false,
     "title": ""
    }
   },
   "source": [
    "### 8.1.Qualidade dos Dados e Dificuldades Encontradas"
   ]
  },
  {
   "cell_type": "markdown",
   "metadata": {
    "application/vnd.databricks.v1+cell": {
     "cellMetadata": {},
     "inputWidgets": {},
     "nuid": "97d2ec4d-6bd5-4a32-8233-7144ce9a307f",
     "showTitle": false,
     "title": ""
    }
   },
   "source": [
    "\n",
    "Inicialmente foi testado a plataforma da AWS para realizar este projeto, porém, foi observado que para atingir os objetivos propostos nesse trabalho o valor oferecido de forma gratuita pela plataforma não seria o suficiente, dessa maneira, foi optado por realizar todo o trabalho no Microsoft Azure.\n",
    "\n",
    "Os dados extraídos do portal do ONS apresentam alta qualidade, porém, ao extraí-los foi observado que muitos atributos vinham com redundância, como por exemplo, duas colunas para informar a data de determinado registro, um com formato \"dd/mm/yyyy\" e outro com formato \"dd/mm/yyyy hh/mm\" além de algumas colunas que estavam totalmente nulas. \n",
    "\n",
    "Houve dificuldade para utilizar a ferramenta de catalogo do databricks para inserir um comentário que descrevese cada atributo, seria necessário uma permissão de usuário para realizar os comentários. A solução criada foi descrever os atributos no próprio notebook utiliando o Markdown (item 4.0)\n",
    "\n",
    "Ao analisar os dados no notebook criado no databricks, também foi observado que alguns datasets gerados no data factory apresentavam erros para visualização, algumas vezes sendo necessário redefinir novamente que determinado atributo era um \"float\" ao invés de uma \"string\", ou também, houve casos em que foi necessário  substituir valores em \",\" para \".\". Esses problemas foram resolvidos no próprio Data Factory ou utilizando as bibliotecas python no notebook gerado. \n",
    "\n",
    "Ao inserir os datasets no notebook criado no databricks, houve dificuldade na visualização dos dados, foi optado por alterar o formato de spark para a biblioteca pandas, onde diversos problemas foram resolvidos de forma mais simples.\n",
    "\n",
    "Uma proposta para um trabalho futuro seria a criação de um dataset único juntando todas as tabelas usadas como base para responder às perguntas feitas nesse projeto, o resultado seria um notebook mais resumido e mais objetivo."
   ]
  }
 ],
 "metadata": {
  "application/vnd.databricks.v1+notebook": {
   "dashboards": [],
   "language": "python",
   "notebookMetadata": {
    "mostRecentlyExecutedCommandWithImplicitDF": {
     "commandId": 3834358008919983,
     "dataframes": [
      "_sqldf"
     ]
    },
    "pythonIndentUnit": 4
   },
   "notebookName": "MVP_Sprint03_Engenharia_de_Dados",
   "widgets": {}
  }
 },
 "nbformat": 4,
 "nbformat_minor": 0
}
